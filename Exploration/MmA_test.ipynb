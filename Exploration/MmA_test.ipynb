{
 "cells": [
  {
   "cell_type": "code",
   "execution_count": 31,
   "metadata": {},
   "outputs": [],
   "source": [
    "import sys\n",
    "sys.path.append(\"../\")\n",
    "import pandas as pd \n",
    "import plotly.graph_objects as go \n",
    "import datetime as dt \n",
    "from plotting import CandlePlot "
   ]
  },
  {
   "cell_type": "code",
   "execution_count": 32,
   "metadata": {},
   "outputs": [],
   "source": [
    "from infrastructure.instrument_collection import instrumentCollection as ic\n"
   ]
  },
  {
   "cell_type": "code",
   "execution_count": 33,
   "metadata": {},
   "outputs": [],
   "source": [
    "pair =\"EUR_USD\" \n",
    "granularity = \"H4\"\n",
    "df = pd.read_pickle(f\"../data/{pair}_{granularity}.pkl\") \n",
    "MA_LIST = [10,20,50,100,200]"
   ]
  },
  {
   "cell_type": "code",
   "execution_count": 34,
   "metadata": {},
   "outputs": [],
   "source": [
    "df_ma = df[['time', 'mid_o', 'mid_h', 'mid_l', 'mid_c']].copy()"
   ]
  },
  {
   "cell_type": "code",
   "execution_count": 35,
   "metadata": {},
   "outputs": [
    {
     "data": {
      "text/html": [
       "<div>\n",
       "<style scoped>\n",
       "    .dataframe tbody tr th:only-of-type {\n",
       "        vertical-align: middle;\n",
       "    }\n",
       "\n",
       "    .dataframe tbody tr th {\n",
       "        vertical-align: top;\n",
       "    }\n",
       "\n",
       "    .dataframe thead th {\n",
       "        text-align: right;\n",
       "    }\n",
       "</style>\n",
       "<table border=\"1\" class=\"dataframe\">\n",
       "  <thead>\n",
       "    <tr style=\"text-align: right;\">\n",
       "      <th></th>\n",
       "      <th>time</th>\n",
       "      <th>mid_o</th>\n",
       "      <th>mid_h</th>\n",
       "      <th>mid_l</th>\n",
       "      <th>mid_c</th>\n",
       "    </tr>\n",
       "  </thead>\n",
       "  <tbody>\n",
       "    <tr>\n",
       "      <th>0</th>\n",
       "      <td>2022-07-17 21:00:00+00:00</td>\n",
       "      <td>1.00853</td>\n",
       "      <td>1.00989</td>\n",
       "      <td>1.00787</td>\n",
       "      <td>1.00916</td>\n",
       "    </tr>\n",
       "    <tr>\n",
       "      <th>1</th>\n",
       "      <td>2022-07-18 01:00:00+00:00</td>\n",
       "      <td>1.00917</td>\n",
       "      <td>1.01144</td>\n",
       "      <td>1.00870</td>\n",
       "      <td>1.00916</td>\n",
       "    </tr>\n",
       "    <tr>\n",
       "      <th>2</th>\n",
       "      <td>2022-07-18 05:00:00+00:00</td>\n",
       "      <td>1.00917</td>\n",
       "      <td>1.01494</td>\n",
       "      <td>1.00812</td>\n",
       "      <td>1.01306</td>\n",
       "    </tr>\n",
       "    <tr>\n",
       "      <th>3</th>\n",
       "      <td>2022-07-18 09:00:00+00:00</td>\n",
       "      <td>1.01306</td>\n",
       "      <td>1.01754</td>\n",
       "      <td>1.01194</td>\n",
       "      <td>1.01368</td>\n",
       "    </tr>\n",
       "    <tr>\n",
       "      <th>4</th>\n",
       "      <td>2022-07-18 13:00:00+00:00</td>\n",
       "      <td>1.01370</td>\n",
       "      <td>1.02014</td>\n",
       "      <td>1.01242</td>\n",
       "      <td>1.01670</td>\n",
       "    </tr>\n",
       "  </tbody>\n",
       "</table>\n",
       "</div>"
      ],
      "text/plain": [
       "                       time    mid_o    mid_h    mid_l    mid_c\n",
       "0 2022-07-17 21:00:00+00:00  1.00853  1.00989  1.00787  1.00916\n",
       "1 2022-07-18 01:00:00+00:00  1.00917  1.01144  1.00870  1.00916\n",
       "2 2022-07-18 05:00:00+00:00  1.00917  1.01494  1.00812  1.01306\n",
       "3 2022-07-18 09:00:00+00:00  1.01306  1.01754  1.01194  1.01368\n",
       "4 2022-07-18 13:00:00+00:00  1.01370  1.02014  1.01242  1.01670"
      ]
     },
     "execution_count": 35,
     "metadata": {},
     "output_type": "execute_result"
    }
   ],
   "source": [
    "df_ma.head()"
   ]
  },
  {
   "cell_type": "code",
   "execution_count": 36,
   "metadata": {},
   "outputs": [],
   "source": [
    "for ma in  MA_LIST:\n",
    "    df_ma[f'MA_{ma}'] = df_ma.mid_c.rolling(window=ma).mean()\n",
    "df_ma.dropna(inplace=True)\n",
    "df_ma.reset_index(inplace=True, drop=True)\n"
   ]
  },
  {
   "cell_type": "code",
   "execution_count": 37,
   "metadata": {},
   "outputs": [],
   "source": [
    "df_plot = df.copy()"
   ]
  },
  {
   "cell_type": "code",
   "execution_count": 38,
   "metadata": {},
   "outputs": [],
   "source": [
    "df_plot = df_ma.iloc[:500]"
   ]
  },
  {
   "cell_type": "code",
   "execution_count": 39,
   "metadata": {},
   "outputs": [],
   "source": [
    "traces = [f\"MA_{x}\" for x in MA_LIST]"
   ]
  },
  {
   "cell_type": "code",
   "execution_count": 40,
   "metadata": {},
   "outputs": [
    {
     "data": {
      "application/vnd.plotly.v1+json": {
       "config": {
        "plotlyServerURL": "https://plot.ly"
       },
       "data": [
        {
         "close": {
          "bdata": "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",
          "dtype": "f8"
         },
         "decreasing": {
          "fillcolor": "#CC2E3C",
          "line": {
           "color": "#FF3A4C"
          }
         },
         "high": {
          "bdata": "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",
          "dtype": "f8"
         },
         "increasing": {
          "fillcolor": "#24A06B",
          "line": {
           "color": "#2EC886"
          }
         },
         "line": {
          "width": 1
         },
         "low": {
          "bdata": "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",
          "dtype": "f8"
         },
         "opacity": 1,
         "open": {
          "bdata": "0hito6oJ8D8S91j60AXwP1fsL7snD/A/2IFzRpT27z+VDtb/OczvP6bVkLjH0u8/JLn8h/Tb7z8UeZJ0zeTvPwspP6n26e8/TkUqjC0E8D/zcW2oGOfvP9l8XBsqxu8/QrKACdy67z/fFcH/VrLvP/M8uDtrt+8//RNcrKjB7z+fjscMVMbvP/YjRWRYxe8/ERlW8Ubm7z8VUn5S7dPvPyFZwARu3e8/A30iT5Ku7z/aVUj5SbXvP78OnDOitO8/Z/LNNjem7z9/2T15WKjvPzHrxVBOtO8/f9k9eVio7z+1w1+TNervP/kP6bevA/A/Tu53KAr07z9kdavnpPfvP3U8ZqAy/u8/ctwpHaz/7z+fPCzUmubvP3ZsBOJ1/e8/Uiy3tBoS8D+SkbOwpx3wP3kB9tGpK/A/NbVsrS8S8D/ZX3ZPHhbwPwu1pnnHKfA/sDic+dUc8D9yio7k8h/wP+bLC7CPTvA/7pQO1v858D+X/5B++zrwP4rIsIo3MvA/umbyzTY38D9qwYu+gjTwP4/f2/RnP/A/Hv6arFEP8D/Jcad0sP7vP54MjpJX5+8/dLUV+8vu7z/qeMxAZfzvPw3gLZCg+O8/dTxmoDL+7z/LoUW28/3vPweZZOQs7O8/eXWOAdnr7z9nfjUHCObvP5nTZTGx+e8/pdqn4zED8D/DgZAsYALwP3Gsi9toAPA/pgpGJXUC8D/qeMxAZfzvPwhyUMJM2+8/lpUmpaDb7z/7P4f58gLwPzCeQUP/BPA/v/G1Z5YE8D+2SrA4nPnvPweZZOQs7O8/wyreyDzy7z+F61G4HgXwP+5fWWlSCvA/roGtEiwO8D+bWrbWFwnwP4czv5oDBPA/Y+5aQj7o7z9WDi2yne/vP7JjIxCv6+8/qIx/n3Hh7z9zLsVVZd/vP49wWvCir+8/8Nx7uOS47z9oy7kUV5XvP7QCQ1a3eu8/8PlhhPBo7z9rfZHQlnPvP7AgzVg0ne8/0CfyJOma7z8iT5KumXzvP0NWt3pOeu8/HY8ZqIx/7z+si9toAG/vP6BP5EnSNe8/uTZUjPM37z9xAz4/jBDvP2fV52or9u4/ObTIdr6f7j866X3ja8/uP8uhRbbz/e4//kgRGVbx7j/vA5DaxMnuPzliLT4FwO4/h/4JLlbU7j/Y0w5/TdbuP3iXi/hOzO4/Qgkzbf/K7j+bIOo+AKnuPxtkkpGzsO4/bxKDwMqh7j+rCaLuA5DuPzANw0fElO4/XqJ6a2Cr7j/OiNLe4AvvP9eGinH+Ju8//Z/DfHkB7z90DMhe7/7uP1qeB3dn7e4/OL72zJIA7z9jKCfaVUjvP5lk5Czsae8/N091yM1w7z/r4jYawFvvPygPC7Wmee8/EMzR4/c27z+kjSPW4lPvP9L7xteeWe8/IEHxY8xd7z/ja88sCVDvPxNhw9MrZe8/x53Swfo/7z+Kzce1oWLvP4yEtpxLce8/Ne84RUdy7z8PKJtyhXfvP0VkWMUbme8/NdJSeTvC7z9Ip658lufvP4V80LNZ9e8/6iEa3UHs7z+/Q1GgT+TvP768APvo1O8/uk4jLZW37z86XRYTm4/vPxmto6oJou8/6xwDste77z86kst/SL/vPzBkdavnpO8/+U7MejGU7z/nUlxV9l3vP2ufjscMVO8/u0T11sBW7z9oP1JEhlXvP1ovhnKiXe8/F7zoK0gz7z+xFp8CYDzvP0gzFk1nJ+8/fZHQlnMp7z+XqN4a2CrvP4zzN6EQAe8/n3HhQEgW7z8WhzO/mgPvPwUXK2owDe8/e9rhr8ka7z+62or9ZffuP1SM8zehEO8/mFEst7Qa7z+Orz2zJEDvP4xK6gQ0Ee8/PgXAeAYN7z9KDAIrhxbvP5M6AU2EDe8/ychZ2NMO7z94nKIjufzuP7NBJhk5C+8/vOgrSDMW7z9ZTGw+rg3vPxN+qZ83Fe8/AKlNnNzv7j+dRloqb0fvP7q9pDFaR+8/ww34/DBC7z+wPbMkQE3vP4hodAexM+8/SkG3lzRG7z9i83FtqBjvP8kfDDz3Hu8/cuFASBYw7z8qjC0EOSjvP+49XHLcKe8/DvPlBdhH7z9cPSe9b3zvP3eE04IXfe8/IO9VKxN+7z8lBoGVQ4vvP/mgZ7Pqc+8/KZZbWg2J7z+1iZP7HYrvP7RZ9bnaiu8/PL1SliGO7z+wcmiR7XzvP7SrkPKTau8/lialoNtL7z9VwaikTkDvP0xxVdl3Re8/yM1wAz4/7z98D5ccd0rvP3ZPHhZqTe8/ApoIG55e7z9Y/+cwX17vP+I7MevFUO8/v30dOGdE7z+Gj4gpkUTvPw1slWBxOO8/001iEFg57z/OGVHaG3zvP4eiQJ/Ik+8/aqSl8naE7z/6J7hYUYPvP9PZyeAoee8/csRafAqA7z8urYbEPZbvP0Q0uoPYme8/1A5/Tdao7z9b64uEtpzvPwiPNo5Yi+8/flLt0/GY7z/S4/c2/dnvP79DUaBP5O8/2zNLAtTU7z/tKqT8pNrvP6shcY+lD/A/i8OZX80B8D/IBz2bVR/wP6gY529CIfA/OZz51Rwg8D9b07zjFB3wP0Z8J2a9GPA/NC4cCMkC8D8fgNQmTu7vP4iFWtO84+8/9wFIbeLk7z/ByqFFtvPvP8R8eQH20e8/LWACt+7m7z/n49pQMc7vP3tOet/42u8/kdWtnpPe7z86QDBHj9/vP+LMr+YAwe8/oWez6nO17z/RV5BmLJrvP63AkNWtnu8/NSTusfSh7z/8jAsHQrLvP4xn0NA/we8/cqd0sP7P7z/K4Ch5dY7vP/+VlSaloO8/+tUcIJij7z/h7qzddqHvPzxrt11oru8/+1xtxf6y7z/BkNWtnpPvP10WE5uPa+8/6Nms+lxt7z9/pIgMq3jvP2/YtiizQe8/eQH20akr7z/+1HjpJjHvP73GLlG9Ne8/2T15WKg17z9wXwfOGVHvPyyazk4GR+8/GM+goX+C7z8na9RDNLrvPxNE3Qcgte8/gufewyXH7z8YsrrVc9LvP6MjufyH9O8/QQ5KmGn77z/USEvl7QjwP2XkLOxpB/A/L26jAbwF8D+xijcyj/zvP/2fw3x5AfA/VmXfFcH/7z/Az7hwICTwP48ZqIx/H/A/RDS6g9gZ8D+yaDo7GRzwP94f71UrE/A/lZo90AoM8D/QuHAgJAvwP2mM1lHVBPA/tqFinL8J8D+RCmMLQQ7wPzgQkgVM4O8/3xXB/1Yy8D/tZHCUvDrwP00QdR+AVPA/h6dXyjJE8D9EwCFUqVnwP5FEL6NYbvA/xyk6kst/8D8HX5hMFYzwP2FsIchBifA/g6Pk1TmG8D9CJhk5C3vwP3LEWnwKgPA/w4GQLGCC8D+2uTE9YYnwP7x5qkNuhvA/iXssfeiC8D+5GW7A54fwP/Utc7ospvA/wD46deWz8D/o3sMlx53wP61RD9HojvA/6bevA+eM8D9i26LMBpnwP80eaAWGrPA/jukJSzyg8D+TqYJRSZ3wPxsN4C2QoPA/QwQcQpWa8D9BvK5fsJvwP0xsPq4NlfA/jjulg/V/8D9zS6shcY/wP4Zyol2FlPA/LZW3I5yW8D9GlPYGX5jwP+o+AKlNnPA/TFRvDWyV8D/UYBqGj4jwP9o4Yi0+hfA/5KCEmbZ/8D8WGLK61XPwPz7o2az6XPA/1bK1vkho8D86WP/nMF/wP4dtizIbZPA/7YFWYMhq8D9kBirj32fwPwQhWcAEbvA/tJPBUfJq8D9iFW9kHnnwPwfwFkhQfPA/Vn2utmJ/8D+gGi/dJIbwP4XrUbgehfA/nKIjufyH8D/bp+MxA5XwPxZNZyeDo/A/BcWPMXet8D+oV8oyxLHwP89OBkfJq/A/r3d/vFet8D+BCdy6m6fwP3/ZPXlYqPA/1lbsL7un8D9jYvNxbajwPzdUjPM3ofA/RnwnZr2Y8D9Ke4MvTKbwPwouVtRgmvA/VwT/W8mO8D8Ab4EExY/wP9bFbTSAt/A/duCcEaW98D+BsilXeJfwP0F9y5wui/A/M23/ykqT8D9Yc4Bgjp7wP2jLuRRXlfA/ntLB+j+H8D8IjzaOWIvwP7a5MT1hifA/yuAoeXWO8D87jbRU3o7wP8LAc+/hkvA/idLe4AuT8D8bL90kBoHwPxBdUN8yp/A/H/RsVn2u8D+8lpAPerbwP00ychb2tPA/f4eiQJ/I8D/IDFTGv8/wP/VKWYY41vA/pu1fWWnS8D+8XMR3YtbwP37GhQMh2fA/6LzGLlG98D9IUPwYc9fwP12/YDds2/A/m6xRD9Ho8D90tRX7y+7wP74Ts14M5fA/D7kZbsDn8D/QRNjw9MrwP7ddaK7TyPA//pqsUQ/R8D+YhuEjYsrwPwpLPKBsyvA/w2SqYFTS8D9o6J/gYsXwP6xWJvxSv/A/i08BMJ7B8D9XCRaHM7/wPxcrajANw/A/ysNCrWne8D+jdVQ1QdTwP8f0hCUe0PA/y5wui4nN8D/KbJBJRs7wP9Fcp5GWyvA/TODW3TzV8D8e+YOB597wP05/9iNF5PA/Wp4Hd2ft8D/Oqs/VVuzwP6PMBplk5PA/6ZrJN9vc8D8BamrZWt/wP3x+GCE82vA/4PPDCOHR8D/BHD1+b9PwP4UlHlA25fA/Q/8EFyvq8D8mAWpq2drwP8+Du7N22/A/5NpQMc7f8D+ndLD+z+HwP3ReY5eo3vA/m1q21hcJ8T/PMSB7vfvwP/s/h/nyAvE/hzO/mgME8T9xrIvbaADxPzp15bM8D/E/8L+V7NgI8T8mHlA25QrxP55BQ/8EF/E/yJi7lpAP8T891SE3ww3xP8lxp3Sw/vA/l8rbEU4L8T9Mjjulg/XwP4zbaABvAfE/Zfz7jAsH8T8qxvmbUAjxPybHndLB+vA/wCFUqdkD8T8rhxbZzvfwPxrAWyBB8fA/Y0UNpmH48D9GtvP91PjwP5PjTulg/fA/Y0UNpmH48D8AAAAAAADxP5wzorQ3+PA/DhDM0eP38D9V3o5wWvDwP00VjErqBPE/QN6rVib88D8kfzDw3PvwP//PYb68APE/y6FFtvP98D8iN8MN+PzwP11txf6y+/A/4Sh5dY4B8T+DTDJyFvbwP5wzorQ3+PA/i8OZX80B8T+gGi/dJAbxPw034PPDCPE/Q1a3ek768D86r7FLVO/wP/iImBJJ9PA/uwopP6n28D/zyB8MPPfwP7ZKsDic+fA/foy5awn58D+uKvuuCP7wP4Yb8PlhBPE/7C+7Jw8L8T+x4emVsgzxPx8uOe6UDvE/Gy/dJAYB8T+F61G4HgXxPy0+BcB4BvE/Zfz7jAsH8T8prir7rgjxPw==",
          "dtype": "f8"
         },
         "type": "candlestick",
         "x": [
          "22-09-01 01:00",
          "22-09-01 05:00",
          "22-09-01 09:00",
          "22-09-01 13:00",
          "22-09-01 17:00",
          "22-09-01 21:00",
          "22-09-02 01:00",
          "22-09-02 05:00",
          "22-09-02 09:00",
          "22-09-02 13:00",
          "22-09-02 17:00",
          "22-09-04 21:00",
          "22-09-05 01:00",
          "22-09-05 05:00",
          "22-09-05 09:00",
          "22-09-05 13:00",
          "22-09-05 17:00",
          "22-09-05 21:00",
          "22-09-06 01:00",
          "22-09-06 05:00",
          "22-09-06 09:00",
          "22-09-06 13:00",
          "22-09-06 17:00",
          "22-09-06 21:00",
          "22-09-07 01:00",
          "22-09-07 05:00",
          "22-09-07 09:00",
          "22-09-07 13:00",
          "22-09-07 17:00",
          "22-09-07 21:00",
          "22-09-08 01:00",
          "22-09-08 05:00",
          "22-09-08 09:00",
          "22-09-08 13:00",
          "22-09-08 17:00",
          "22-09-08 21:00",
          "22-09-09 01:00",
          "22-09-09 05:00",
          "22-09-09 09:00",
          "22-09-09 13:00",
          "22-09-09 17:00",
          "22-09-11 21:00",
          "22-09-12 01:00",
          "22-09-12 05:00",
          "22-09-12 09:00",
          "22-09-12 13:00",
          "22-09-12 17:00",
          "22-09-12 21:00",
          "22-09-13 01:00",
          "22-09-13 05:00",
          "22-09-13 09:00",
          "22-09-13 13:00",
          "22-09-13 17:00",
          "22-09-13 21:00",
          "22-09-14 01:00",
          "22-09-14 05:00",
          "22-09-14 09:00",
          "22-09-14 13:00",
          "22-09-14 17:00",
          "22-09-14 21:00",
          "22-09-15 01:00",
          "22-09-15 05:00",
          "22-09-15 09:00",
          "22-09-15 13:00",
          "22-09-15 17:00",
          "22-09-15 21:00",
          "22-09-16 01:00",
          "22-09-16 05:00",
          "22-09-16 09:00",
          "22-09-16 13:00",
          "22-09-16 17:00",
          "22-09-18 21:00",
          "22-09-19 01:00",
          "22-09-19 05:00",
          "22-09-19 09:00",
          "22-09-19 13:00",
          "22-09-19 17:00",
          "22-09-19 21:00",
          "22-09-20 01:00",
          "22-09-20 05:00",
          "22-09-20 09:00",
          "22-09-20 13:00",
          "22-09-20 17:00",
          "22-09-20 21:00",
          "22-09-21 01:00",
          "22-09-21 05:00",
          "22-09-21 09:00",
          "22-09-21 13:00",
          "22-09-21 17:00",
          "22-09-21 21:00",
          "22-09-22 01:00",
          "22-09-22 05:00",
          "22-09-22 09:00",
          "22-09-22 13:00",
          "22-09-22 17:00",
          "22-09-22 21:00",
          "22-09-23 01:00",
          "22-09-23 05:00",
          "22-09-23 09:00",
          "22-09-23 13:00",
          "22-09-23 17:00",
          "22-09-25 21:00",
          "22-09-26 01:00",
          "22-09-26 05:00",
          "22-09-26 09:00",
          "22-09-26 13:00",
          "22-09-26 17:00",
          "22-09-26 21:00",
          "22-09-27 01:00",
          "22-09-27 05:00",
          "22-09-27 09:00",
          "22-09-27 13:00",
          "22-09-27 17:00",
          "22-09-27 21:00",
          "22-09-28 01:00",
          "22-09-28 05:00",
          "22-09-28 09:00",
          "22-09-28 13:00",
          "22-09-28 17:00",
          "22-09-28 21:00",
          "22-09-29 01:00",
          "22-09-29 05:00",
          "22-09-29 09:00",
          "22-09-29 13:00",
          "22-09-29 17:00",
          "22-09-29 21:00",
          "22-09-30 01:00",
          "22-09-30 05:00",
          "22-09-30 09:00",
          "22-09-30 13:00",
          "22-09-30 17:00",
          "22-10-02 21:00",
          "22-10-03 01:00",
          "22-10-03 05:00",
          "22-10-03 09:00",
          "22-10-03 13:00",
          "22-10-03 17:00",
          "22-10-03 21:00",
          "22-10-04 01:00",
          "22-10-04 05:00",
          "22-10-04 09:00",
          "22-10-04 13:00",
          "22-10-04 17:00",
          "22-10-04 21:00",
          "22-10-05 01:00",
          "22-10-05 05:00",
          "22-10-05 09:00",
          "22-10-05 13:00",
          "22-10-05 17:00",
          "22-10-05 21:00",
          "22-10-06 01:00",
          "22-10-06 05:00",
          "22-10-06 09:00",
          "22-10-06 13:00",
          "22-10-06 17:00",
          "22-10-06 21:00",
          "22-10-07 01:00",
          "22-10-07 05:00",
          "22-10-07 09:00",
          "22-10-07 13:00",
          "22-10-07 17:00",
          "22-10-09 21:00",
          "22-10-10 01:00",
          "22-10-10 05:00",
          "22-10-10 09:00",
          "22-10-10 13:00",
          "22-10-10 17:00",
          "22-10-10 21:00",
          "22-10-11 01:00",
          "22-10-11 05:00",
          "22-10-11 09:00",
          "22-10-11 13:00",
          "22-10-11 17:00",
          "22-10-11 21:00",
          "22-10-12 01:00",
          "22-10-12 05:00",
          "22-10-12 09:00",
          "22-10-12 13:00",
          "22-10-12 17:00",
          "22-10-12 21:00",
          "22-10-13 01:00",
          "22-10-13 05:00",
          "22-10-13 09:00",
          "22-10-13 13:00",
          "22-10-13 17:00",
          "22-10-13 21:00",
          "22-10-14 01:00",
          "22-10-14 05:00",
          "22-10-14 09:00",
          "22-10-14 13:00",
          "22-10-14 17:00",
          "22-10-16 21:00",
          "22-10-17 01:00",
          "22-10-17 05:00",
          "22-10-17 09:00",
          "22-10-17 13:00",
          "22-10-17 17:00",
          "22-10-17 21:00",
          "22-10-18 01:00",
          "22-10-18 05:00",
          "22-10-18 09:00",
          "22-10-18 13:00",
          "22-10-18 17:00",
          "22-10-18 21:00",
          "22-10-19 01:00",
          "22-10-19 05:00",
          "22-10-19 09:00",
          "22-10-19 13:00",
          "22-10-19 17:00",
          "22-10-19 21:00",
          "22-10-20 01:00",
          "22-10-20 05:00",
          "22-10-20 09:00",
          "22-10-20 13:00",
          "22-10-20 17:00",
          "22-10-20 21:00",
          "22-10-21 01:00",
          "22-10-21 05:00",
          "22-10-21 09:00",
          "22-10-21 13:00",
          "22-10-21 17:00",
          "22-10-23 21:00",
          "22-10-24 01:00",
          "22-10-24 05:00",
          "22-10-24 09:00",
          "22-10-24 13:00",
          "22-10-24 17:00",
          "22-10-24 21:00",
          "22-10-25 01:00",
          "22-10-25 05:00",
          "22-10-25 09:00",
          "22-10-25 13:00",
          "22-10-25 17:00",
          "22-10-25 21:00",
          "22-10-26 01:00",
          "22-10-26 05:00",
          "22-10-26 09:00",
          "22-10-26 13:00",
          "22-10-26 17:00",
          "22-10-26 21:00",
          "22-10-27 01:00",
          "22-10-27 05:00",
          "22-10-27 09:00",
          "22-10-27 13:00",
          "22-10-27 17:00",
          "22-10-27 21:00",
          "22-10-28 01:00",
          "22-10-28 05:00",
          "22-10-28 09:00",
          "22-10-28 13:00",
          "22-10-28 17:00",
          "22-10-30 21:00",
          "22-10-31 01:00",
          "22-10-31 05:00",
          "22-10-31 09:00",
          "22-10-31 13:00",
          "22-10-31 17:00",
          "22-10-31 21:00",
          "22-11-01 01:00",
          "22-11-01 05:00",
          "22-11-01 09:00",
          "22-11-01 13:00",
          "22-11-01 17:00",
          "22-11-01 21:00",
          "22-11-02 01:00",
          "22-11-02 05:00",
          "22-11-02 09:00",
          "22-11-02 13:00",
          "22-11-02 17:00",
          "22-11-02 21:00",
          "22-11-03 01:00",
          "22-11-03 05:00",
          "22-11-03 09:00",
          "22-11-03 13:00",
          "22-11-03 17:00",
          "22-11-03 21:00",
          "22-11-04 01:00",
          "22-11-04 05:00",
          "22-11-04 09:00",
          "22-11-04 13:00",
          "22-11-04 17:00",
          "22-11-06 22:00",
          "22-11-07 02:00",
          "22-11-07 06:00",
          "22-11-07 10:00",
          "22-11-07 14:00",
          "22-11-07 18:00",
          "22-11-07 22:00",
          "22-11-08 02:00",
          "22-11-08 06:00",
          "22-11-08 10:00",
          "22-11-08 14:00",
          "22-11-08 18:00",
          "22-11-08 22:00",
          "22-11-09 02:00",
          "22-11-09 06:00",
          "22-11-09 10:00",
          "22-11-09 14:00",
          "22-11-09 18:00",
          "22-11-09 22:00",
          "22-11-10 02:00",
          "22-11-10 06:00",
          "22-11-10 10:00",
          "22-11-10 14:00",
          "22-11-10 18:00",
          "22-11-10 22:00",
          "22-11-11 02:00",
          "22-11-11 06:00",
          "22-11-11 10:00",
          "22-11-11 14:00",
          "22-11-11 18:00",
          "22-11-13 22:00",
          "22-11-14 02:00",
          "22-11-14 06:00",
          "22-11-14 10:00",
          "22-11-14 14:00",
          "22-11-14 18:00",
          "22-11-14 22:00",
          "22-11-15 02:00",
          "22-11-15 06:00",
          "22-11-15 10:00",
          "22-11-15 14:00",
          "22-11-15 18:00",
          "22-11-15 22:00",
          "22-11-16 02:00",
          "22-11-16 06:00",
          "22-11-16 10:00",
          "22-11-16 14:00",
          "22-11-16 18:00",
          "22-11-16 22:00",
          "22-11-17 02:00",
          "22-11-17 06:00",
          "22-11-17 10:00",
          "22-11-17 14:00",
          "22-11-17 18:00",
          "22-11-17 22:00",
          "22-11-18 02:00",
          "22-11-18 06:00",
          "22-11-18 10:00",
          "22-11-18 14:00",
          "22-11-18 18:00",
          "22-11-20 22:00",
          "22-11-21 02:00",
          "22-11-21 06:00",
          "22-11-21 10:00",
          "22-11-21 14:00",
          "22-11-21 18:00",
          "22-11-21 22:00",
          "22-11-22 02:00",
          "22-11-22 06:00",
          "22-11-22 10:00",
          "22-11-22 14:00",
          "22-11-22 18:00",
          "22-11-22 22:00",
          "22-11-23 02:00",
          "22-11-23 06:00",
          "22-11-23 10:00",
          "22-11-23 14:00",
          "22-11-23 18:00",
          "22-11-23 22:00",
          "22-11-24 02:00",
          "22-11-24 06:00",
          "22-11-24 10:00",
          "22-11-24 14:00",
          "22-11-24 18:00",
          "22-11-24 22:00",
          "22-11-25 02:00",
          "22-11-25 06:00",
          "22-11-25 10:00",
          "22-11-25 14:00",
          "22-11-25 18:00",
          "22-11-27 22:00",
          "22-11-28 02:00",
          "22-11-28 06:00",
          "22-11-28 10:00",
          "22-11-28 14:00",
          "22-11-28 18:00",
          "22-11-28 22:00",
          "22-11-29 02:00",
          "22-11-29 06:00",
          "22-11-29 10:00",
          "22-11-29 14:00",
          "22-11-29 18:00",
          "22-11-29 22:00",
          "22-11-30 02:00",
          "22-11-30 06:00",
          "22-11-30 10:00",
          "22-11-30 14:00",
          "22-11-30 18:00",
          "22-11-30 22:00",
          "22-12-01 02:00",
          "22-12-01 06:00",
          "22-12-01 10:00",
          "22-12-01 14:00",
          "22-12-01 18:00",
          "22-12-01 22:00",
          "22-12-02 02:00",
          "22-12-02 06:00",
          "22-12-02 10:00",
          "22-12-02 14:00",
          "22-12-02 18:00",
          "22-12-04 22:00",
          "22-12-05 02:00",
          "22-12-05 06:00",
          "22-12-05 10:00",
          "22-12-05 14:00",
          "22-12-05 18:00",
          "22-12-05 22:00",
          "22-12-06 02:00",
          "22-12-06 06:00",
          "22-12-06 10:00",
          "22-12-06 14:00",
          "22-12-06 18:00",
          "22-12-06 22:00",
          "22-12-07 02:00",
          "22-12-07 06:00",
          "22-12-07 10:00",
          "22-12-07 14:00",
          "22-12-07 18:00",
          "22-12-07 22:00",
          "22-12-08 02:00",
          "22-12-08 06:00",
          "22-12-08 10:00",
          "22-12-08 14:00",
          "22-12-08 18:00",
          "22-12-08 22:00",
          "22-12-09 02:00",
          "22-12-09 06:00",
          "22-12-09 10:00",
          "22-12-09 14:00",
          "22-12-09 18:00",
          "22-12-11 22:00",
          "22-12-12 02:00",
          "22-12-12 06:00",
          "22-12-12 10:00",
          "22-12-12 14:00",
          "22-12-12 18:00",
          "22-12-12 22:00",
          "22-12-13 02:00",
          "22-12-13 06:00",
          "22-12-13 10:00",
          "22-12-13 14:00",
          "22-12-13 18:00",
          "22-12-13 22:00",
          "22-12-14 02:00",
          "22-12-14 06:00",
          "22-12-14 10:00",
          "22-12-14 14:00",
          "22-12-14 18:00",
          "22-12-14 22:00",
          "22-12-15 02:00",
          "22-12-15 06:00",
          "22-12-15 10:00",
          "22-12-15 14:00",
          "22-12-15 18:00",
          "22-12-15 22:00",
          "22-12-16 02:00",
          "22-12-16 06:00",
          "22-12-16 10:00",
          "22-12-16 14:00",
          "22-12-16 18:00",
          "22-12-18 22:00",
          "22-12-19 02:00",
          "22-12-19 06:00",
          "22-12-19 10:00",
          "22-12-19 14:00",
          "22-12-19 18:00",
          "22-12-19 22:00",
          "22-12-20 02:00",
          "22-12-20 06:00",
          "22-12-20 10:00",
          "22-12-20 14:00",
          "22-12-20 18:00",
          "22-12-20 22:00",
          "22-12-21 02:00",
          "22-12-21 06:00",
          "22-12-21 10:00",
          "22-12-21 14:00",
          "22-12-21 18:00",
          "22-12-21 22:00",
          "22-12-22 02:00",
          "22-12-22 06:00",
          "22-12-22 10:00",
          "22-12-22 14:00",
          "22-12-22 18:00",
          "22-12-22 22:00",
          "22-12-23 02:00",
          "22-12-23 06:00",
          "22-12-23 10:00",
          "22-12-23 14:00",
          "22-12-23 18:00",
          "22-12-26 22:00",
          "22-12-27 02:00",
          "22-12-27 06:00",
          "22-12-27 10:00",
          "22-12-27 14:00",
          "22-12-27 18:00",
          "22-12-27 22:00",
          "22-12-28 02:00",
          "22-12-28 06:00"
         ]
        }
       ],
       "layout": {
        "font": {
         "color": "#e1e1e1",
         "size": 8
        },
        "height": 400,
        "margin": {
         "b": 10,
         "l": 10,
         "r": 10,
         "t": 10
        },
        "paper_bgcolor": "#2c303c",
        "plot_bgcolor": "#2c303c",
        "template": {
         "data": {
          "bar": [
           {
            "error_x": {
             "color": "#2a3f5f"
            },
            "error_y": {
             "color": "#2a3f5f"
            },
            "marker": {
             "line": {
              "color": "#E5ECF6",
              "width": 0.5
             },
             "pattern": {
              "fillmode": "overlay",
              "size": 10,
              "solidity": 0.2
             }
            },
            "type": "bar"
           }
          ],
          "barpolar": [
           {
            "marker": {
             "line": {
              "color": "#E5ECF6",
              "width": 0.5
             },
             "pattern": {
              "fillmode": "overlay",
              "size": 10,
              "solidity": 0.2
             }
            },
            "type": "barpolar"
           }
          ],
          "carpet": [
           {
            "aaxis": {
             "endlinecolor": "#2a3f5f",
             "gridcolor": "white",
             "linecolor": "white",
             "minorgridcolor": "white",
             "startlinecolor": "#2a3f5f"
            },
            "baxis": {
             "endlinecolor": "#2a3f5f",
             "gridcolor": "white",
             "linecolor": "white",
             "minorgridcolor": "white",
             "startlinecolor": "#2a3f5f"
            },
            "type": "carpet"
           }
          ],
          "choropleth": [
           {
            "colorbar": {
             "outlinewidth": 0,
             "ticks": ""
            },
            "type": "choropleth"
           }
          ],
          "contour": [
           {
            "colorbar": {
             "outlinewidth": 0,
             "ticks": ""
            },
            "colorscale": [
             [
              0,
              "#0d0887"
             ],
             [
              0.1111111111111111,
              "#46039f"
             ],
             [
              0.2222222222222222,
              "#7201a8"
             ],
             [
              0.3333333333333333,
              "#9c179e"
             ],
             [
              0.4444444444444444,
              "#bd3786"
             ],
             [
              0.5555555555555556,
              "#d8576b"
             ],
             [
              0.6666666666666666,
              "#ed7953"
             ],
             [
              0.7777777777777778,
              "#fb9f3a"
             ],
             [
              0.8888888888888888,
              "#fdca26"
             ],
             [
              1,
              "#f0f921"
             ]
            ],
            "type": "contour"
           }
          ],
          "contourcarpet": [
           {
            "colorbar": {
             "outlinewidth": 0,
             "ticks": ""
            },
            "type": "contourcarpet"
           }
          ],
          "heatmap": [
           {
            "colorbar": {
             "outlinewidth": 0,
             "ticks": ""
            },
            "colorscale": [
             [
              0,
              "#0d0887"
             ],
             [
              0.1111111111111111,
              "#46039f"
             ],
             [
              0.2222222222222222,
              "#7201a8"
             ],
             [
              0.3333333333333333,
              "#9c179e"
             ],
             [
              0.4444444444444444,
              "#bd3786"
             ],
             [
              0.5555555555555556,
              "#d8576b"
             ],
             [
              0.6666666666666666,
              "#ed7953"
             ],
             [
              0.7777777777777778,
              "#fb9f3a"
             ],
             [
              0.8888888888888888,
              "#fdca26"
             ],
             [
              1,
              "#f0f921"
             ]
            ],
            "type": "heatmap"
           }
          ],
          "histogram": [
           {
            "marker": {
             "pattern": {
              "fillmode": "overlay",
              "size": 10,
              "solidity": 0.2
             }
            },
            "type": "histogram"
           }
          ],
          "histogram2d": [
           {
            "colorbar": {
             "outlinewidth": 0,
             "ticks": ""
            },
            "colorscale": [
             [
              0,
              "#0d0887"
             ],
             [
              0.1111111111111111,
              "#46039f"
             ],
             [
              0.2222222222222222,
              "#7201a8"
             ],
             [
              0.3333333333333333,
              "#9c179e"
             ],
             [
              0.4444444444444444,
              "#bd3786"
             ],
             [
              0.5555555555555556,
              "#d8576b"
             ],
             [
              0.6666666666666666,
              "#ed7953"
             ],
             [
              0.7777777777777778,
              "#fb9f3a"
             ],
             [
              0.8888888888888888,
              "#fdca26"
             ],
             [
              1,
              "#f0f921"
             ]
            ],
            "type": "histogram2d"
           }
          ],
          "histogram2dcontour": [
           {
            "colorbar": {
             "outlinewidth": 0,
             "ticks": ""
            },
            "colorscale": [
             [
              0,
              "#0d0887"
             ],
             [
              0.1111111111111111,
              "#46039f"
             ],
             [
              0.2222222222222222,
              "#7201a8"
             ],
             [
              0.3333333333333333,
              "#9c179e"
             ],
             [
              0.4444444444444444,
              "#bd3786"
             ],
             [
              0.5555555555555556,
              "#d8576b"
             ],
             [
              0.6666666666666666,
              "#ed7953"
             ],
             [
              0.7777777777777778,
              "#fb9f3a"
             ],
             [
              0.8888888888888888,
              "#fdca26"
             ],
             [
              1,
              "#f0f921"
             ]
            ],
            "type": "histogram2dcontour"
           }
          ],
          "mesh3d": [
           {
            "colorbar": {
             "outlinewidth": 0,
             "ticks": ""
            },
            "type": "mesh3d"
           }
          ],
          "parcoords": [
           {
            "line": {
             "colorbar": {
              "outlinewidth": 0,
              "ticks": ""
             }
            },
            "type": "parcoords"
           }
          ],
          "pie": [
           {
            "automargin": true,
            "type": "pie"
           }
          ],
          "scatter": [
           {
            "fillpattern": {
             "fillmode": "overlay",
             "size": 10,
             "solidity": 0.2
            },
            "type": "scatter"
           }
          ],
          "scatter3d": [
           {
            "line": {
             "colorbar": {
              "outlinewidth": 0,
              "ticks": ""
             }
            },
            "marker": {
             "colorbar": {
              "outlinewidth": 0,
              "ticks": ""
             }
            },
            "type": "scatter3d"
           }
          ],
          "scattercarpet": [
           {
            "marker": {
             "colorbar": {
              "outlinewidth": 0,
              "ticks": ""
             }
            },
            "type": "scattercarpet"
           }
          ],
          "scattergeo": [
           {
            "marker": {
             "colorbar": {
              "outlinewidth": 0,
              "ticks": ""
             }
            },
            "type": "scattergeo"
           }
          ],
          "scattergl": [
           {
            "marker": {
             "colorbar": {
              "outlinewidth": 0,
              "ticks": ""
             }
            },
            "type": "scattergl"
           }
          ],
          "scattermap": [
           {
            "marker": {
             "colorbar": {
              "outlinewidth": 0,
              "ticks": ""
             }
            },
            "type": "scattermap"
           }
          ],
          "scattermapbox": [
           {
            "marker": {
             "colorbar": {
              "outlinewidth": 0,
              "ticks": ""
             }
            },
            "type": "scattermapbox"
           }
          ],
          "scatterpolar": [
           {
            "marker": {
             "colorbar": {
              "outlinewidth": 0,
              "ticks": ""
             }
            },
            "type": "scatterpolar"
           }
          ],
          "scatterpolargl": [
           {
            "marker": {
             "colorbar": {
              "outlinewidth": 0,
              "ticks": ""
             }
            },
            "type": "scatterpolargl"
           }
          ],
          "scatterternary": [
           {
            "marker": {
             "colorbar": {
              "outlinewidth": 0,
              "ticks": ""
             }
            },
            "type": "scatterternary"
           }
          ],
          "surface": [
           {
            "colorbar": {
             "outlinewidth": 0,
             "ticks": ""
            },
            "colorscale": [
             [
              0,
              "#0d0887"
             ],
             [
              0.1111111111111111,
              "#46039f"
             ],
             [
              0.2222222222222222,
              "#7201a8"
             ],
             [
              0.3333333333333333,
              "#9c179e"
             ],
             [
              0.4444444444444444,
              "#bd3786"
             ],
             [
              0.5555555555555556,
              "#d8576b"
             ],
             [
              0.6666666666666666,
              "#ed7953"
             ],
             [
              0.7777777777777778,
              "#fb9f3a"
             ],
             [
              0.8888888888888888,
              "#fdca26"
             ],
             [
              1,
              "#f0f921"
             ]
            ],
            "type": "surface"
           }
          ],
          "table": [
           {
            "cells": {
             "fill": {
              "color": "#EBF0F8"
             },
             "line": {
              "color": "white"
             }
            },
            "header": {
             "fill": {
              "color": "#C8D4E3"
             },
             "line": {
              "color": "white"
             }
            },
            "type": "table"
           }
          ]
         },
         "layout": {
          "annotationdefaults": {
           "arrowcolor": "#2a3f5f",
           "arrowhead": 0,
           "arrowwidth": 1
          },
          "autotypenumbers": "strict",
          "coloraxis": {
           "colorbar": {
            "outlinewidth": 0,
            "ticks": ""
           }
          },
          "colorscale": {
           "diverging": [
            [
             0,
             "#8e0152"
            ],
            [
             0.1,
             "#c51b7d"
            ],
            [
             0.2,
             "#de77ae"
            ],
            [
             0.3,
             "#f1b6da"
            ],
            [
             0.4,
             "#fde0ef"
            ],
            [
             0.5,
             "#f7f7f7"
            ],
            [
             0.6,
             "#e6f5d0"
            ],
            [
             0.7,
             "#b8e186"
            ],
            [
             0.8,
             "#7fbc41"
            ],
            [
             0.9,
             "#4d9221"
            ],
            [
             1,
             "#276419"
            ]
           ],
           "sequential": [
            [
             0,
             "#0d0887"
            ],
            [
             0.1111111111111111,
             "#46039f"
            ],
            [
             0.2222222222222222,
             "#7201a8"
            ],
            [
             0.3333333333333333,
             "#9c179e"
            ],
            [
             0.4444444444444444,
             "#bd3786"
            ],
            [
             0.5555555555555556,
             "#d8576b"
            ],
            [
             0.6666666666666666,
             "#ed7953"
            ],
            [
             0.7777777777777778,
             "#fb9f3a"
            ],
            [
             0.8888888888888888,
             "#fdca26"
            ],
            [
             1,
             "#f0f921"
            ]
           ],
           "sequentialminus": [
            [
             0,
             "#0d0887"
            ],
            [
             0.1111111111111111,
             "#46039f"
            ],
            [
             0.2222222222222222,
             "#7201a8"
            ],
            [
             0.3333333333333333,
             "#9c179e"
            ],
            [
             0.4444444444444444,
             "#bd3786"
            ],
            [
             0.5555555555555556,
             "#d8576b"
            ],
            [
             0.6666666666666666,
             "#ed7953"
            ],
            [
             0.7777777777777778,
             "#fb9f3a"
            ],
            [
             0.8888888888888888,
             "#fdca26"
            ],
            [
             1,
             "#f0f921"
            ]
           ]
          },
          "colorway": [
           "#636efa",
           "#EF553B",
           "#00cc96",
           "#ab63fa",
           "#FFA15A",
           "#19d3f3",
           "#FF6692",
           "#B6E880",
           "#FF97FF",
           "#FECB52"
          ],
          "font": {
           "color": "#2a3f5f"
          },
          "geo": {
           "bgcolor": "white",
           "lakecolor": "white",
           "landcolor": "#E5ECF6",
           "showlakes": true,
           "showland": true,
           "subunitcolor": "white"
          },
          "hoverlabel": {
           "align": "left"
          },
          "hovermode": "closest",
          "mapbox": {
           "style": "light"
          },
          "paper_bgcolor": "white",
          "plot_bgcolor": "#E5ECF6",
          "polar": {
           "angularaxis": {
            "gridcolor": "white",
            "linecolor": "white",
            "ticks": ""
           },
           "bgcolor": "#E5ECF6",
           "radialaxis": {
            "gridcolor": "white",
            "linecolor": "white",
            "ticks": ""
           }
          },
          "scene": {
           "xaxis": {
            "backgroundcolor": "#E5ECF6",
            "gridcolor": "white",
            "gridwidth": 2,
            "linecolor": "white",
            "showbackground": true,
            "ticks": "",
            "zerolinecolor": "white"
           },
           "yaxis": {
            "backgroundcolor": "#E5ECF6",
            "gridcolor": "white",
            "gridwidth": 2,
            "linecolor": "white",
            "showbackground": true,
            "ticks": "",
            "zerolinecolor": "white"
           },
           "zaxis": {
            "backgroundcolor": "#E5ECF6",
            "gridcolor": "white",
            "gridwidth": 2,
            "linecolor": "white",
            "showbackground": true,
            "ticks": "",
            "zerolinecolor": "white"
           }
          },
          "shapedefaults": {
           "line": {
            "color": "#2a3f5f"
           }
          },
          "ternary": {
           "aaxis": {
            "gridcolor": "white",
            "linecolor": "white",
            "ticks": ""
           },
           "baxis": {
            "gridcolor": "white",
            "linecolor": "white",
            "ticks": ""
           },
           "bgcolor": "#E5ECF6",
           "caxis": {
            "gridcolor": "white",
            "linecolor": "white",
            "ticks": ""
           }
          },
          "title": {
           "x": 0.05
          },
          "xaxis": {
           "automargin": true,
           "gridcolor": "white",
           "linecolor": "white",
           "ticks": "",
           "title": {
            "standoff": 15
           },
           "zerolinecolor": "white",
           "zerolinewidth": 2
          },
          "yaxis": {
           "automargin": true,
           "gridcolor": "white",
           "linecolor": "white",
           "ticks": "",
           "title": {
            "standoff": 15
           },
           "zerolinecolor": "white",
           "zerolinewidth": 2
          }
         }
        },
        "width": 900,
        "xaxis": {
         "gridcolor": "#1F292F",
         "nticks": 5,
         "rangeslider": {
          "visible": false
         }
        },
        "yaxis": {
         "gridcolor": "#1f292f"
        }
       }
      }
     },
     "metadata": {},
     "output_type": "display_data"
    },
    {
     "data": {
      "application/vnd.plotly.v1+json": {
       "config": {
        "plotlyServerURL": "https://plot.ly"
       },
       "data": [
        {
         "close": {
          "bdata": "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",
          "dtype": "f8"
         },
         "decreasing": {
          "fillcolor": "#CC2E3C",
          "line": {
           "color": "#FF3A4C"
          }
         },
         "high": {
          "bdata": "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",
          "dtype": "f8"
         },
         "increasing": {
          "fillcolor": "#24A06B",
          "line": {
           "color": "#2EC886"
          }
         },
         "line": {
          "width": 1
         },
         "low": {
          "bdata": "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",
          "dtype": "f8"
         },
         "opacity": 1,
         "open": {
          "bdata": "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",
          "dtype": "f8"
         },
         "type": "candlestick",
         "x": [
          "22-09-01 01:00",
          "22-09-01 05:00",
          "22-09-01 09:00",
          "22-09-01 13:00",
          "22-09-01 17:00",
          "22-09-01 21:00",
          "22-09-02 01:00",
          "22-09-02 05:00",
          "22-09-02 09:00",
          "22-09-02 13:00",
          "22-09-02 17:00",
          "22-09-04 21:00",
          "22-09-05 01:00",
          "22-09-05 05:00",
          "22-09-05 09:00",
          "22-09-05 13:00",
          "22-09-05 17:00",
          "22-09-05 21:00",
          "22-09-06 01:00",
          "22-09-06 05:00",
          "22-09-06 09:00",
          "22-09-06 13:00",
          "22-09-06 17:00",
          "22-09-06 21:00",
          "22-09-07 01:00",
          "22-09-07 05:00",
          "22-09-07 09:00",
          "22-09-07 13:00",
          "22-09-07 17:00",
          "22-09-07 21:00",
          "22-09-08 01:00",
          "22-09-08 05:00",
          "22-09-08 09:00",
          "22-09-08 13:00",
          "22-09-08 17:00",
          "22-09-08 21:00",
          "22-09-09 01:00",
          "22-09-09 05:00",
          "22-09-09 09:00",
          "22-09-09 13:00",
          "22-09-09 17:00",
          "22-09-11 21:00",
          "22-09-12 01:00",
          "22-09-12 05:00",
          "22-09-12 09:00",
          "22-09-12 13:00",
          "22-09-12 17:00",
          "22-09-12 21:00",
          "22-09-13 01:00",
          "22-09-13 05:00",
          "22-09-13 09:00",
          "22-09-13 13:00",
          "22-09-13 17:00",
          "22-09-13 21:00",
          "22-09-14 01:00",
          "22-09-14 05:00",
          "22-09-14 09:00",
          "22-09-14 13:00",
          "22-09-14 17:00",
          "22-09-14 21:00",
          "22-09-15 01:00",
          "22-09-15 05:00",
          "22-09-15 09:00",
          "22-09-15 13:00",
          "22-09-15 17:00",
          "22-09-15 21:00",
          "22-09-16 01:00",
          "22-09-16 05:00",
          "22-09-16 09:00",
          "22-09-16 13:00",
          "22-09-16 17:00",
          "22-09-18 21:00",
          "22-09-19 01:00",
          "22-09-19 05:00",
          "22-09-19 09:00",
          "22-09-19 13:00",
          "22-09-19 17:00",
          "22-09-19 21:00",
          "22-09-20 01:00",
          "22-09-20 05:00",
          "22-09-20 09:00",
          "22-09-20 13:00",
          "22-09-20 17:00",
          "22-09-20 21:00",
          "22-09-21 01:00",
          "22-09-21 05:00",
          "22-09-21 09:00",
          "22-09-21 13:00",
          "22-09-21 17:00",
          "22-09-21 21:00",
          "22-09-22 01:00",
          "22-09-22 05:00",
          "22-09-22 09:00",
          "22-09-22 13:00",
          "22-09-22 17:00",
          "22-09-22 21:00",
          "22-09-23 01:00",
          "22-09-23 05:00",
          "22-09-23 09:00",
          "22-09-23 13:00",
          "22-09-23 17:00",
          "22-09-25 21:00",
          "22-09-26 01:00",
          "22-09-26 05:00",
          "22-09-26 09:00",
          "22-09-26 13:00",
          "22-09-26 17:00",
          "22-09-26 21:00",
          "22-09-27 01:00",
          "22-09-27 05:00",
          "22-09-27 09:00",
          "22-09-27 13:00",
          "22-09-27 17:00",
          "22-09-27 21:00",
          "22-09-28 01:00",
          "22-09-28 05:00",
          "22-09-28 09:00",
          "22-09-28 13:00",
          "22-09-28 17:00",
          "22-09-28 21:00",
          "22-09-29 01:00",
          "22-09-29 05:00",
          "22-09-29 09:00",
          "22-09-29 13:00",
          "22-09-29 17:00",
          "22-09-29 21:00",
          "22-09-30 01:00",
          "22-09-30 05:00",
          "22-09-30 09:00",
          "22-09-30 13:00",
          "22-09-30 17:00",
          "22-10-02 21:00",
          "22-10-03 01:00",
          "22-10-03 05:00",
          "22-10-03 09:00",
          "22-10-03 13:00",
          "22-10-03 17:00",
          "22-10-03 21:00",
          "22-10-04 01:00",
          "22-10-04 05:00",
          "22-10-04 09:00",
          "22-10-04 13:00",
          "22-10-04 17:00",
          "22-10-04 21:00",
          "22-10-05 01:00",
          "22-10-05 05:00",
          "22-10-05 09:00",
          "22-10-05 13:00",
          "22-10-05 17:00",
          "22-10-05 21:00",
          "22-10-06 01:00",
          "22-10-06 05:00",
          "22-10-06 09:00",
          "22-10-06 13:00",
          "22-10-06 17:00",
          "22-10-06 21:00",
          "22-10-07 01:00",
          "22-10-07 05:00",
          "22-10-07 09:00",
          "22-10-07 13:00",
          "22-10-07 17:00",
          "22-10-09 21:00",
          "22-10-10 01:00",
          "22-10-10 05:00",
          "22-10-10 09:00",
          "22-10-10 13:00",
          "22-10-10 17:00",
          "22-10-10 21:00",
          "22-10-11 01:00",
          "22-10-11 05:00",
          "22-10-11 09:00",
          "22-10-11 13:00",
          "22-10-11 17:00",
          "22-10-11 21:00",
          "22-10-12 01:00",
          "22-10-12 05:00",
          "22-10-12 09:00",
          "22-10-12 13:00",
          "22-10-12 17:00",
          "22-10-12 21:00",
          "22-10-13 01:00",
          "22-10-13 05:00",
          "22-10-13 09:00",
          "22-10-13 13:00",
          "22-10-13 17:00",
          "22-10-13 21:00",
          "22-10-14 01:00",
          "22-10-14 05:00",
          "22-10-14 09:00",
          "22-10-14 13:00",
          "22-10-14 17:00",
          "22-10-16 21:00",
          "22-10-17 01:00",
          "22-10-17 05:00",
          "22-10-17 09:00",
          "22-10-17 13:00",
          "22-10-17 17:00",
          "22-10-17 21:00",
          "22-10-18 01:00",
          "22-10-18 05:00",
          "22-10-18 09:00",
          "22-10-18 13:00",
          "22-10-18 17:00",
          "22-10-18 21:00",
          "22-10-19 01:00",
          "22-10-19 05:00",
          "22-10-19 09:00",
          "22-10-19 13:00",
          "22-10-19 17:00",
          "22-10-19 21:00",
          "22-10-20 01:00",
          "22-10-20 05:00",
          "22-10-20 09:00",
          "22-10-20 13:00",
          "22-10-20 17:00",
          "22-10-20 21:00",
          "22-10-21 01:00",
          "22-10-21 05:00",
          "22-10-21 09:00",
          "22-10-21 13:00",
          "22-10-21 17:00",
          "22-10-23 21:00",
          "22-10-24 01:00",
          "22-10-24 05:00",
          "22-10-24 09:00",
          "22-10-24 13:00",
          "22-10-24 17:00",
          "22-10-24 21:00",
          "22-10-25 01:00",
          "22-10-25 05:00",
          "22-10-25 09:00",
          "22-10-25 13:00",
          "22-10-25 17:00",
          "22-10-25 21:00",
          "22-10-26 01:00",
          "22-10-26 05:00",
          "22-10-26 09:00",
          "22-10-26 13:00",
          "22-10-26 17:00",
          "22-10-26 21:00",
          "22-10-27 01:00",
          "22-10-27 05:00",
          "22-10-27 09:00",
          "22-10-27 13:00",
          "22-10-27 17:00",
          "22-10-27 21:00",
          "22-10-28 01:00",
          "22-10-28 05:00",
          "22-10-28 09:00",
          "22-10-28 13:00",
          "22-10-28 17:00",
          "22-10-30 21:00",
          "22-10-31 01:00",
          "22-10-31 05:00",
          "22-10-31 09:00",
          "22-10-31 13:00",
          "22-10-31 17:00",
          "22-10-31 21:00",
          "22-11-01 01:00",
          "22-11-01 05:00",
          "22-11-01 09:00",
          "22-11-01 13:00",
          "22-11-01 17:00",
          "22-11-01 21:00",
          "22-11-02 01:00",
          "22-11-02 05:00",
          "22-11-02 09:00",
          "22-11-02 13:00",
          "22-11-02 17:00",
          "22-11-02 21:00",
          "22-11-03 01:00",
          "22-11-03 05:00",
          "22-11-03 09:00",
          "22-11-03 13:00",
          "22-11-03 17:00",
          "22-11-03 21:00",
          "22-11-04 01:00",
          "22-11-04 05:00",
          "22-11-04 09:00",
          "22-11-04 13:00",
          "22-11-04 17:00",
          "22-11-06 22:00",
          "22-11-07 02:00",
          "22-11-07 06:00",
          "22-11-07 10:00",
          "22-11-07 14:00",
          "22-11-07 18:00",
          "22-11-07 22:00",
          "22-11-08 02:00",
          "22-11-08 06:00",
          "22-11-08 10:00",
          "22-11-08 14:00",
          "22-11-08 18:00",
          "22-11-08 22:00",
          "22-11-09 02:00",
          "22-11-09 06:00",
          "22-11-09 10:00",
          "22-11-09 14:00",
          "22-11-09 18:00",
          "22-11-09 22:00",
          "22-11-10 02:00",
          "22-11-10 06:00",
          "22-11-10 10:00",
          "22-11-10 14:00",
          "22-11-10 18:00",
          "22-11-10 22:00",
          "22-11-11 02:00",
          "22-11-11 06:00",
          "22-11-11 10:00",
          "22-11-11 14:00",
          "22-11-11 18:00",
          "22-11-13 22:00",
          "22-11-14 02:00",
          "22-11-14 06:00",
          "22-11-14 10:00",
          "22-11-14 14:00",
          "22-11-14 18:00",
          "22-11-14 22:00",
          "22-11-15 02:00",
          "22-11-15 06:00",
          "22-11-15 10:00",
          "22-11-15 14:00",
          "22-11-15 18:00",
          "22-11-15 22:00",
          "22-11-16 02:00",
          "22-11-16 06:00",
          "22-11-16 10:00",
          "22-11-16 14:00",
          "22-11-16 18:00",
          "22-11-16 22:00",
          "22-11-17 02:00",
          "22-11-17 06:00",
          "22-11-17 10:00",
          "22-11-17 14:00",
          "22-11-17 18:00",
          "22-11-17 22:00",
          "22-11-18 02:00",
          "22-11-18 06:00",
          "22-11-18 10:00",
          "22-11-18 14:00",
          "22-11-18 18:00",
          "22-11-20 22:00",
          "22-11-21 02:00",
          "22-11-21 06:00",
          "22-11-21 10:00",
          "22-11-21 14:00",
          "22-11-21 18:00",
          "22-11-21 22:00",
          "22-11-22 02:00",
          "22-11-22 06:00",
          "22-11-22 10:00",
          "22-11-22 14:00",
          "22-11-22 18:00",
          "22-11-22 22:00",
          "22-11-23 02:00",
          "22-11-23 06:00",
          "22-11-23 10:00",
          "22-11-23 14:00",
          "22-11-23 18:00",
          "22-11-23 22:00",
          "22-11-24 02:00",
          "22-11-24 06:00",
          "22-11-24 10:00",
          "22-11-24 14:00",
          "22-11-24 18:00",
          "22-11-24 22:00",
          "22-11-25 02:00",
          "22-11-25 06:00",
          "22-11-25 10:00",
          "22-11-25 14:00",
          "22-11-25 18:00",
          "22-11-27 22:00",
          "22-11-28 02:00",
          "22-11-28 06:00",
          "22-11-28 10:00",
          "22-11-28 14:00",
          "22-11-28 18:00",
          "22-11-28 22:00",
          "22-11-29 02:00",
          "22-11-29 06:00",
          "22-11-29 10:00",
          "22-11-29 14:00",
          "22-11-29 18:00",
          "22-11-29 22:00",
          "22-11-30 02:00",
          "22-11-30 06:00",
          "22-11-30 10:00",
          "22-11-30 14:00",
          "22-11-30 18:00",
          "22-11-30 22:00",
          "22-12-01 02:00",
          "22-12-01 06:00",
          "22-12-01 10:00",
          "22-12-01 14:00",
          "22-12-01 18:00",
          "22-12-01 22:00",
          "22-12-02 02:00",
          "22-12-02 06:00",
          "22-12-02 10:00",
          "22-12-02 14:00",
          "22-12-02 18:00",
          "22-12-04 22:00",
          "22-12-05 02:00",
          "22-12-05 06:00",
          "22-12-05 10:00",
          "22-12-05 14:00",
          "22-12-05 18:00",
          "22-12-05 22:00",
          "22-12-06 02:00",
          "22-12-06 06:00",
          "22-12-06 10:00",
          "22-12-06 14:00",
          "22-12-06 18:00",
          "22-12-06 22:00",
          "22-12-07 02:00",
          "22-12-07 06:00",
          "22-12-07 10:00",
          "22-12-07 14:00",
          "22-12-07 18:00",
          "22-12-07 22:00",
          "22-12-08 02:00",
          "22-12-08 06:00",
          "22-12-08 10:00",
          "22-12-08 14:00",
          "22-12-08 18:00",
          "22-12-08 22:00",
          "22-12-09 02:00",
          "22-12-09 06:00",
          "22-12-09 10:00",
          "22-12-09 14:00",
          "22-12-09 18:00",
          "22-12-11 22:00",
          "22-12-12 02:00",
          "22-12-12 06:00",
          "22-12-12 10:00",
          "22-12-12 14:00",
          "22-12-12 18:00",
          "22-12-12 22:00",
          "22-12-13 02:00",
          "22-12-13 06:00",
          "22-12-13 10:00",
          "22-12-13 14:00",
          "22-12-13 18:00",
          "22-12-13 22:00",
          "22-12-14 02:00",
          "22-12-14 06:00",
          "22-12-14 10:00",
          "22-12-14 14:00",
          "22-12-14 18:00",
          "22-12-14 22:00",
          "22-12-15 02:00",
          "22-12-15 06:00",
          "22-12-15 10:00",
          "22-12-15 14:00",
          "22-12-15 18:00",
          "22-12-15 22:00",
          "22-12-16 02:00",
          "22-12-16 06:00",
          "22-12-16 10:00",
          "22-12-16 14:00",
          "22-12-16 18:00",
          "22-12-18 22:00",
          "22-12-19 02:00",
          "22-12-19 06:00",
          "22-12-19 10:00",
          "22-12-19 14:00",
          "22-12-19 18:00",
          "22-12-19 22:00",
          "22-12-20 02:00",
          "22-12-20 06:00",
          "22-12-20 10:00",
          "22-12-20 14:00",
          "22-12-20 18:00",
          "22-12-20 22:00",
          "22-12-21 02:00",
          "22-12-21 06:00",
          "22-12-21 10:00",
          "22-12-21 14:00",
          "22-12-21 18:00",
          "22-12-21 22:00",
          "22-12-22 02:00",
          "22-12-22 06:00",
          "22-12-22 10:00",
          "22-12-22 14:00",
          "22-12-22 18:00",
          "22-12-22 22:00",
          "22-12-23 02:00",
          "22-12-23 06:00",
          "22-12-23 10:00",
          "22-12-23 14:00",
          "22-12-23 18:00",
          "22-12-26 22:00",
          "22-12-27 02:00",
          "22-12-27 06:00",
          "22-12-27 10:00",
          "22-12-27 14:00",
          "22-12-27 18:00",
          "22-12-27 22:00",
          "22-12-28 02:00",
          "22-12-28 06:00"
         ]
        },
        {
         "line": {
          "shape": "spline",
          "width": 2
         },
         "name": "MA_10",
         "type": "scatter",
         "x": [
          "22-09-01 01:00",
          "22-09-01 05:00",
          "22-09-01 09:00",
          "22-09-01 13:00",
          "22-09-01 17:00",
          "22-09-01 21:00",
          "22-09-02 01:00",
          "22-09-02 05:00",
          "22-09-02 09:00",
          "22-09-02 13:00",
          "22-09-02 17:00",
          "22-09-04 21:00",
          "22-09-05 01:00",
          "22-09-05 05:00",
          "22-09-05 09:00",
          "22-09-05 13:00",
          "22-09-05 17:00",
          "22-09-05 21:00",
          "22-09-06 01:00",
          "22-09-06 05:00",
          "22-09-06 09:00",
          "22-09-06 13:00",
          "22-09-06 17:00",
          "22-09-06 21:00",
          "22-09-07 01:00",
          "22-09-07 05:00",
          "22-09-07 09:00",
          "22-09-07 13:00",
          "22-09-07 17:00",
          "22-09-07 21:00",
          "22-09-08 01:00",
          "22-09-08 05:00",
          "22-09-08 09:00",
          "22-09-08 13:00",
          "22-09-08 17:00",
          "22-09-08 21:00",
          "22-09-09 01:00",
          "22-09-09 05:00",
          "22-09-09 09:00",
          "22-09-09 13:00",
          "22-09-09 17:00",
          "22-09-11 21:00",
          "22-09-12 01:00",
          "22-09-12 05:00",
          "22-09-12 09:00",
          "22-09-12 13:00",
          "22-09-12 17:00",
          "22-09-12 21:00",
          "22-09-13 01:00",
          "22-09-13 05:00",
          "22-09-13 09:00",
          "22-09-13 13:00",
          "22-09-13 17:00",
          "22-09-13 21:00",
          "22-09-14 01:00",
          "22-09-14 05:00",
          "22-09-14 09:00",
          "22-09-14 13:00",
          "22-09-14 17:00",
          "22-09-14 21:00",
          "22-09-15 01:00",
          "22-09-15 05:00",
          "22-09-15 09:00",
          "22-09-15 13:00",
          "22-09-15 17:00",
          "22-09-15 21:00",
          "22-09-16 01:00",
          "22-09-16 05:00",
          "22-09-16 09:00",
          "22-09-16 13:00",
          "22-09-16 17:00",
          "22-09-18 21:00",
          "22-09-19 01:00",
          "22-09-19 05:00",
          "22-09-19 09:00",
          "22-09-19 13:00",
          "22-09-19 17:00",
          "22-09-19 21:00",
          "22-09-20 01:00",
          "22-09-20 05:00",
          "22-09-20 09:00",
          "22-09-20 13:00",
          "22-09-20 17:00",
          "22-09-20 21:00",
          "22-09-21 01:00",
          "22-09-21 05:00",
          "22-09-21 09:00",
          "22-09-21 13:00",
          "22-09-21 17:00",
          "22-09-21 21:00",
          "22-09-22 01:00",
          "22-09-22 05:00",
          "22-09-22 09:00",
          "22-09-22 13:00",
          "22-09-22 17:00",
          "22-09-22 21:00",
          "22-09-23 01:00",
          "22-09-23 05:00",
          "22-09-23 09:00",
          "22-09-23 13:00",
          "22-09-23 17:00",
          "22-09-25 21:00",
          "22-09-26 01:00",
          "22-09-26 05:00",
          "22-09-26 09:00",
          "22-09-26 13:00",
          "22-09-26 17:00",
          "22-09-26 21:00",
          "22-09-27 01:00",
          "22-09-27 05:00",
          "22-09-27 09:00",
          "22-09-27 13:00",
          "22-09-27 17:00",
          "22-09-27 21:00",
          "22-09-28 01:00",
          "22-09-28 05:00",
          "22-09-28 09:00",
          "22-09-28 13:00",
          "22-09-28 17:00",
          "22-09-28 21:00",
          "22-09-29 01:00",
          "22-09-29 05:00",
          "22-09-29 09:00",
          "22-09-29 13:00",
          "22-09-29 17:00",
          "22-09-29 21:00",
          "22-09-30 01:00",
          "22-09-30 05:00",
          "22-09-30 09:00",
          "22-09-30 13:00",
          "22-09-30 17:00",
          "22-10-02 21:00",
          "22-10-03 01:00",
          "22-10-03 05:00",
          "22-10-03 09:00",
          "22-10-03 13:00",
          "22-10-03 17:00",
          "22-10-03 21:00",
          "22-10-04 01:00",
          "22-10-04 05:00",
          "22-10-04 09:00",
          "22-10-04 13:00",
          "22-10-04 17:00",
          "22-10-04 21:00",
          "22-10-05 01:00",
          "22-10-05 05:00",
          "22-10-05 09:00",
          "22-10-05 13:00",
          "22-10-05 17:00",
          "22-10-05 21:00",
          "22-10-06 01:00",
          "22-10-06 05:00",
          "22-10-06 09:00",
          "22-10-06 13:00",
          "22-10-06 17:00",
          "22-10-06 21:00",
          "22-10-07 01:00",
          "22-10-07 05:00",
          "22-10-07 09:00",
          "22-10-07 13:00",
          "22-10-07 17:00",
          "22-10-09 21:00",
          "22-10-10 01:00",
          "22-10-10 05:00",
          "22-10-10 09:00",
          "22-10-10 13:00",
          "22-10-10 17:00",
          "22-10-10 21:00",
          "22-10-11 01:00",
          "22-10-11 05:00",
          "22-10-11 09:00",
          "22-10-11 13:00",
          "22-10-11 17:00",
          "22-10-11 21:00",
          "22-10-12 01:00",
          "22-10-12 05:00",
          "22-10-12 09:00",
          "22-10-12 13:00",
          "22-10-12 17:00",
          "22-10-12 21:00",
          "22-10-13 01:00",
          "22-10-13 05:00",
          "22-10-13 09:00",
          "22-10-13 13:00",
          "22-10-13 17:00",
          "22-10-13 21:00",
          "22-10-14 01:00",
          "22-10-14 05:00",
          "22-10-14 09:00",
          "22-10-14 13:00",
          "22-10-14 17:00",
          "22-10-16 21:00",
          "22-10-17 01:00",
          "22-10-17 05:00",
          "22-10-17 09:00",
          "22-10-17 13:00",
          "22-10-17 17:00",
          "22-10-17 21:00",
          "22-10-18 01:00",
          "22-10-18 05:00",
          "22-10-18 09:00",
          "22-10-18 13:00",
          "22-10-18 17:00",
          "22-10-18 21:00",
          "22-10-19 01:00",
          "22-10-19 05:00",
          "22-10-19 09:00",
          "22-10-19 13:00",
          "22-10-19 17:00",
          "22-10-19 21:00",
          "22-10-20 01:00",
          "22-10-20 05:00",
          "22-10-20 09:00",
          "22-10-20 13:00",
          "22-10-20 17:00",
          "22-10-20 21:00",
          "22-10-21 01:00",
          "22-10-21 05:00",
          "22-10-21 09:00",
          "22-10-21 13:00",
          "22-10-21 17:00",
          "22-10-23 21:00",
          "22-10-24 01:00",
          "22-10-24 05:00",
          "22-10-24 09:00",
          "22-10-24 13:00",
          "22-10-24 17:00",
          "22-10-24 21:00",
          "22-10-25 01:00",
          "22-10-25 05:00",
          "22-10-25 09:00",
          "22-10-25 13:00",
          "22-10-25 17:00",
          "22-10-25 21:00",
          "22-10-26 01:00",
          "22-10-26 05:00",
          "22-10-26 09:00",
          "22-10-26 13:00",
          "22-10-26 17:00",
          "22-10-26 21:00",
          "22-10-27 01:00",
          "22-10-27 05:00",
          "22-10-27 09:00",
          "22-10-27 13:00",
          "22-10-27 17:00",
          "22-10-27 21:00",
          "22-10-28 01:00",
          "22-10-28 05:00",
          "22-10-28 09:00",
          "22-10-28 13:00",
          "22-10-28 17:00",
          "22-10-30 21:00",
          "22-10-31 01:00",
          "22-10-31 05:00",
          "22-10-31 09:00",
          "22-10-31 13:00",
          "22-10-31 17:00",
          "22-10-31 21:00",
          "22-11-01 01:00",
          "22-11-01 05:00",
          "22-11-01 09:00",
          "22-11-01 13:00",
          "22-11-01 17:00",
          "22-11-01 21:00",
          "22-11-02 01:00",
          "22-11-02 05:00",
          "22-11-02 09:00",
          "22-11-02 13:00",
          "22-11-02 17:00",
          "22-11-02 21:00",
          "22-11-03 01:00",
          "22-11-03 05:00",
          "22-11-03 09:00",
          "22-11-03 13:00",
          "22-11-03 17:00",
          "22-11-03 21:00",
          "22-11-04 01:00",
          "22-11-04 05:00",
          "22-11-04 09:00",
          "22-11-04 13:00",
          "22-11-04 17:00",
          "22-11-06 22:00",
          "22-11-07 02:00",
          "22-11-07 06:00",
          "22-11-07 10:00",
          "22-11-07 14:00",
          "22-11-07 18:00",
          "22-11-07 22:00",
          "22-11-08 02:00",
          "22-11-08 06:00",
          "22-11-08 10:00",
          "22-11-08 14:00",
          "22-11-08 18:00",
          "22-11-08 22:00",
          "22-11-09 02:00",
          "22-11-09 06:00",
          "22-11-09 10:00",
          "22-11-09 14:00",
          "22-11-09 18:00",
          "22-11-09 22:00",
          "22-11-10 02:00",
          "22-11-10 06:00",
          "22-11-10 10:00",
          "22-11-10 14:00",
          "22-11-10 18:00",
          "22-11-10 22:00",
          "22-11-11 02:00",
          "22-11-11 06:00",
          "22-11-11 10:00",
          "22-11-11 14:00",
          "22-11-11 18:00",
          "22-11-13 22:00",
          "22-11-14 02:00",
          "22-11-14 06:00",
          "22-11-14 10:00",
          "22-11-14 14:00",
          "22-11-14 18:00",
          "22-11-14 22:00",
          "22-11-15 02:00",
          "22-11-15 06:00",
          "22-11-15 10:00",
          "22-11-15 14:00",
          "22-11-15 18:00",
          "22-11-15 22:00",
          "22-11-16 02:00",
          "22-11-16 06:00",
          "22-11-16 10:00",
          "22-11-16 14:00",
          "22-11-16 18:00",
          "22-11-16 22:00",
          "22-11-17 02:00",
          "22-11-17 06:00",
          "22-11-17 10:00",
          "22-11-17 14:00",
          "22-11-17 18:00",
          "22-11-17 22:00",
          "22-11-18 02:00",
          "22-11-18 06:00",
          "22-11-18 10:00",
          "22-11-18 14:00",
          "22-11-18 18:00",
          "22-11-20 22:00",
          "22-11-21 02:00",
          "22-11-21 06:00",
          "22-11-21 10:00",
          "22-11-21 14:00",
          "22-11-21 18:00",
          "22-11-21 22:00",
          "22-11-22 02:00",
          "22-11-22 06:00",
          "22-11-22 10:00",
          "22-11-22 14:00",
          "22-11-22 18:00",
          "22-11-22 22:00",
          "22-11-23 02:00",
          "22-11-23 06:00",
          "22-11-23 10:00",
          "22-11-23 14:00",
          "22-11-23 18:00",
          "22-11-23 22:00",
          "22-11-24 02:00",
          "22-11-24 06:00",
          "22-11-24 10:00",
          "22-11-24 14:00",
          "22-11-24 18:00",
          "22-11-24 22:00",
          "22-11-25 02:00",
          "22-11-25 06:00",
          "22-11-25 10:00",
          "22-11-25 14:00",
          "22-11-25 18:00",
          "22-11-27 22:00",
          "22-11-28 02:00",
          "22-11-28 06:00",
          "22-11-28 10:00",
          "22-11-28 14:00",
          "22-11-28 18:00",
          "22-11-28 22:00",
          "22-11-29 02:00",
          "22-11-29 06:00",
          "22-11-29 10:00",
          "22-11-29 14:00",
          "22-11-29 18:00",
          "22-11-29 22:00",
          "22-11-30 02:00",
          "22-11-30 06:00",
          "22-11-30 10:00",
          "22-11-30 14:00",
          "22-11-30 18:00",
          "22-11-30 22:00",
          "22-12-01 02:00",
          "22-12-01 06:00",
          "22-12-01 10:00",
          "22-12-01 14:00",
          "22-12-01 18:00",
          "22-12-01 22:00",
          "22-12-02 02:00",
          "22-12-02 06:00",
          "22-12-02 10:00",
          "22-12-02 14:00",
          "22-12-02 18:00",
          "22-12-04 22:00",
          "22-12-05 02:00",
          "22-12-05 06:00",
          "22-12-05 10:00",
          "22-12-05 14:00",
          "22-12-05 18:00",
          "22-12-05 22:00",
          "22-12-06 02:00",
          "22-12-06 06:00",
          "22-12-06 10:00",
          "22-12-06 14:00",
          "22-12-06 18:00",
          "22-12-06 22:00",
          "22-12-07 02:00",
          "22-12-07 06:00",
          "22-12-07 10:00",
          "22-12-07 14:00",
          "22-12-07 18:00",
          "22-12-07 22:00",
          "22-12-08 02:00",
          "22-12-08 06:00",
          "22-12-08 10:00",
          "22-12-08 14:00",
          "22-12-08 18:00",
          "22-12-08 22:00",
          "22-12-09 02:00",
          "22-12-09 06:00",
          "22-12-09 10:00",
          "22-12-09 14:00",
          "22-12-09 18:00",
          "22-12-11 22:00",
          "22-12-12 02:00",
          "22-12-12 06:00",
          "22-12-12 10:00",
          "22-12-12 14:00",
          "22-12-12 18:00",
          "22-12-12 22:00",
          "22-12-13 02:00",
          "22-12-13 06:00",
          "22-12-13 10:00",
          "22-12-13 14:00",
          "22-12-13 18:00",
          "22-12-13 22:00",
          "22-12-14 02:00",
          "22-12-14 06:00",
          "22-12-14 10:00",
          "22-12-14 14:00",
          "22-12-14 18:00",
          "22-12-14 22:00",
          "22-12-15 02:00",
          "22-12-15 06:00",
          "22-12-15 10:00",
          "22-12-15 14:00",
          "22-12-15 18:00",
          "22-12-15 22:00",
          "22-12-16 02:00",
          "22-12-16 06:00",
          "22-12-16 10:00",
          "22-12-16 14:00",
          "22-12-16 18:00",
          "22-12-18 22:00",
          "22-12-19 02:00",
          "22-12-19 06:00",
          "22-12-19 10:00",
          "22-12-19 14:00",
          "22-12-19 18:00",
          "22-12-19 22:00",
          "22-12-20 02:00",
          "22-12-20 06:00",
          "22-12-20 10:00",
          "22-12-20 14:00",
          "22-12-20 18:00",
          "22-12-20 22:00",
          "22-12-21 02:00",
          "22-12-21 06:00",
          "22-12-21 10:00",
          "22-12-21 14:00",
          "22-12-21 18:00",
          "22-12-21 22:00",
          "22-12-22 02:00",
          "22-12-22 06:00",
          "22-12-22 10:00",
          "22-12-22 14:00",
          "22-12-22 18:00",
          "22-12-22 22:00",
          "22-12-23 02:00",
          "22-12-23 06:00",
          "22-12-23 10:00",
          "22-12-23 14:00",
          "22-12-23 18:00",
          "22-12-26 22:00",
          "22-12-27 02:00",
          "22-12-27 06:00",
          "22-12-27 10:00",
          "22-12-27 14:00",
          "22-12-27 18:00",
          "22-12-27 22:00",
          "22-12-28 02:00",
          "22-12-28 06:00"
         ],
         "y": {
          "bdata": "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",
          "dtype": "f8"
         }
        },
        {
         "line": {
          "shape": "spline",
          "width": 2
         },
         "name": "MA_20",
         "type": "scatter",
         "x": [
          "22-09-01 01:00",
          "22-09-01 05:00",
          "22-09-01 09:00",
          "22-09-01 13:00",
          "22-09-01 17:00",
          "22-09-01 21:00",
          "22-09-02 01:00",
          "22-09-02 05:00",
          "22-09-02 09:00",
          "22-09-02 13:00",
          "22-09-02 17:00",
          "22-09-04 21:00",
          "22-09-05 01:00",
          "22-09-05 05:00",
          "22-09-05 09:00",
          "22-09-05 13:00",
          "22-09-05 17:00",
          "22-09-05 21:00",
          "22-09-06 01:00",
          "22-09-06 05:00",
          "22-09-06 09:00",
          "22-09-06 13:00",
          "22-09-06 17:00",
          "22-09-06 21:00",
          "22-09-07 01:00",
          "22-09-07 05:00",
          "22-09-07 09:00",
          "22-09-07 13:00",
          "22-09-07 17:00",
          "22-09-07 21:00",
          "22-09-08 01:00",
          "22-09-08 05:00",
          "22-09-08 09:00",
          "22-09-08 13:00",
          "22-09-08 17:00",
          "22-09-08 21:00",
          "22-09-09 01:00",
          "22-09-09 05:00",
          "22-09-09 09:00",
          "22-09-09 13:00",
          "22-09-09 17:00",
          "22-09-11 21:00",
          "22-09-12 01:00",
          "22-09-12 05:00",
          "22-09-12 09:00",
          "22-09-12 13:00",
          "22-09-12 17:00",
          "22-09-12 21:00",
          "22-09-13 01:00",
          "22-09-13 05:00",
          "22-09-13 09:00",
          "22-09-13 13:00",
          "22-09-13 17:00",
          "22-09-13 21:00",
          "22-09-14 01:00",
          "22-09-14 05:00",
          "22-09-14 09:00",
          "22-09-14 13:00",
          "22-09-14 17:00",
          "22-09-14 21:00",
          "22-09-15 01:00",
          "22-09-15 05:00",
          "22-09-15 09:00",
          "22-09-15 13:00",
          "22-09-15 17:00",
          "22-09-15 21:00",
          "22-09-16 01:00",
          "22-09-16 05:00",
          "22-09-16 09:00",
          "22-09-16 13:00",
          "22-09-16 17:00",
          "22-09-18 21:00",
          "22-09-19 01:00",
          "22-09-19 05:00",
          "22-09-19 09:00",
          "22-09-19 13:00",
          "22-09-19 17:00",
          "22-09-19 21:00",
          "22-09-20 01:00",
          "22-09-20 05:00",
          "22-09-20 09:00",
          "22-09-20 13:00",
          "22-09-20 17:00",
          "22-09-20 21:00",
          "22-09-21 01:00",
          "22-09-21 05:00",
          "22-09-21 09:00",
          "22-09-21 13:00",
          "22-09-21 17:00",
          "22-09-21 21:00",
          "22-09-22 01:00",
          "22-09-22 05:00",
          "22-09-22 09:00",
          "22-09-22 13:00",
          "22-09-22 17:00",
          "22-09-22 21:00",
          "22-09-23 01:00",
          "22-09-23 05:00",
          "22-09-23 09:00",
          "22-09-23 13:00",
          "22-09-23 17:00",
          "22-09-25 21:00",
          "22-09-26 01:00",
          "22-09-26 05:00",
          "22-09-26 09:00",
          "22-09-26 13:00",
          "22-09-26 17:00",
          "22-09-26 21:00",
          "22-09-27 01:00",
          "22-09-27 05:00",
          "22-09-27 09:00",
          "22-09-27 13:00",
          "22-09-27 17:00",
          "22-09-27 21:00",
          "22-09-28 01:00",
          "22-09-28 05:00",
          "22-09-28 09:00",
          "22-09-28 13:00",
          "22-09-28 17:00",
          "22-09-28 21:00",
          "22-09-29 01:00",
          "22-09-29 05:00",
          "22-09-29 09:00",
          "22-09-29 13:00",
          "22-09-29 17:00",
          "22-09-29 21:00",
          "22-09-30 01:00",
          "22-09-30 05:00",
          "22-09-30 09:00",
          "22-09-30 13:00",
          "22-09-30 17:00",
          "22-10-02 21:00",
          "22-10-03 01:00",
          "22-10-03 05:00",
          "22-10-03 09:00",
          "22-10-03 13:00",
          "22-10-03 17:00",
          "22-10-03 21:00",
          "22-10-04 01:00",
          "22-10-04 05:00",
          "22-10-04 09:00",
          "22-10-04 13:00",
          "22-10-04 17:00",
          "22-10-04 21:00",
          "22-10-05 01:00",
          "22-10-05 05:00",
          "22-10-05 09:00",
          "22-10-05 13:00",
          "22-10-05 17:00",
          "22-10-05 21:00",
          "22-10-06 01:00",
          "22-10-06 05:00",
          "22-10-06 09:00",
          "22-10-06 13:00",
          "22-10-06 17:00",
          "22-10-06 21:00",
          "22-10-07 01:00",
          "22-10-07 05:00",
          "22-10-07 09:00",
          "22-10-07 13:00",
          "22-10-07 17:00",
          "22-10-09 21:00",
          "22-10-10 01:00",
          "22-10-10 05:00",
          "22-10-10 09:00",
          "22-10-10 13:00",
          "22-10-10 17:00",
          "22-10-10 21:00",
          "22-10-11 01:00",
          "22-10-11 05:00",
          "22-10-11 09:00",
          "22-10-11 13:00",
          "22-10-11 17:00",
          "22-10-11 21:00",
          "22-10-12 01:00",
          "22-10-12 05:00",
          "22-10-12 09:00",
          "22-10-12 13:00",
          "22-10-12 17:00",
          "22-10-12 21:00",
          "22-10-13 01:00",
          "22-10-13 05:00",
          "22-10-13 09:00",
          "22-10-13 13:00",
          "22-10-13 17:00",
          "22-10-13 21:00",
          "22-10-14 01:00",
          "22-10-14 05:00",
          "22-10-14 09:00",
          "22-10-14 13:00",
          "22-10-14 17:00",
          "22-10-16 21:00",
          "22-10-17 01:00",
          "22-10-17 05:00",
          "22-10-17 09:00",
          "22-10-17 13:00",
          "22-10-17 17:00",
          "22-10-17 21:00",
          "22-10-18 01:00",
          "22-10-18 05:00",
          "22-10-18 09:00",
          "22-10-18 13:00",
          "22-10-18 17:00",
          "22-10-18 21:00",
          "22-10-19 01:00",
          "22-10-19 05:00",
          "22-10-19 09:00",
          "22-10-19 13:00",
          "22-10-19 17:00",
          "22-10-19 21:00",
          "22-10-20 01:00",
          "22-10-20 05:00",
          "22-10-20 09:00",
          "22-10-20 13:00",
          "22-10-20 17:00",
          "22-10-20 21:00",
          "22-10-21 01:00",
          "22-10-21 05:00",
          "22-10-21 09:00",
          "22-10-21 13:00",
          "22-10-21 17:00",
          "22-10-23 21:00",
          "22-10-24 01:00",
          "22-10-24 05:00",
          "22-10-24 09:00",
          "22-10-24 13:00",
          "22-10-24 17:00",
          "22-10-24 21:00",
          "22-10-25 01:00",
          "22-10-25 05:00",
          "22-10-25 09:00",
          "22-10-25 13:00",
          "22-10-25 17:00",
          "22-10-25 21:00",
          "22-10-26 01:00",
          "22-10-26 05:00",
          "22-10-26 09:00",
          "22-10-26 13:00",
          "22-10-26 17:00",
          "22-10-26 21:00",
          "22-10-27 01:00",
          "22-10-27 05:00",
          "22-10-27 09:00",
          "22-10-27 13:00",
          "22-10-27 17:00",
          "22-10-27 21:00",
          "22-10-28 01:00",
          "22-10-28 05:00",
          "22-10-28 09:00",
          "22-10-28 13:00",
          "22-10-28 17:00",
          "22-10-30 21:00",
          "22-10-31 01:00",
          "22-10-31 05:00",
          "22-10-31 09:00",
          "22-10-31 13:00",
          "22-10-31 17:00",
          "22-10-31 21:00",
          "22-11-01 01:00",
          "22-11-01 05:00",
          "22-11-01 09:00",
          "22-11-01 13:00",
          "22-11-01 17:00",
          "22-11-01 21:00",
          "22-11-02 01:00",
          "22-11-02 05:00",
          "22-11-02 09:00",
          "22-11-02 13:00",
          "22-11-02 17:00",
          "22-11-02 21:00",
          "22-11-03 01:00",
          "22-11-03 05:00",
          "22-11-03 09:00",
          "22-11-03 13:00",
          "22-11-03 17:00",
          "22-11-03 21:00",
          "22-11-04 01:00",
          "22-11-04 05:00",
          "22-11-04 09:00",
          "22-11-04 13:00",
          "22-11-04 17:00",
          "22-11-06 22:00",
          "22-11-07 02:00",
          "22-11-07 06:00",
          "22-11-07 10:00",
          "22-11-07 14:00",
          "22-11-07 18:00",
          "22-11-07 22:00",
          "22-11-08 02:00",
          "22-11-08 06:00",
          "22-11-08 10:00",
          "22-11-08 14:00",
          "22-11-08 18:00",
          "22-11-08 22:00",
          "22-11-09 02:00",
          "22-11-09 06:00",
          "22-11-09 10:00",
          "22-11-09 14:00",
          "22-11-09 18:00",
          "22-11-09 22:00",
          "22-11-10 02:00",
          "22-11-10 06:00",
          "22-11-10 10:00",
          "22-11-10 14:00",
          "22-11-10 18:00",
          "22-11-10 22:00",
          "22-11-11 02:00",
          "22-11-11 06:00",
          "22-11-11 10:00",
          "22-11-11 14:00",
          "22-11-11 18:00",
          "22-11-13 22:00",
          "22-11-14 02:00",
          "22-11-14 06:00",
          "22-11-14 10:00",
          "22-11-14 14:00",
          "22-11-14 18:00",
          "22-11-14 22:00",
          "22-11-15 02:00",
          "22-11-15 06:00",
          "22-11-15 10:00",
          "22-11-15 14:00",
          "22-11-15 18:00",
          "22-11-15 22:00",
          "22-11-16 02:00",
          "22-11-16 06:00",
          "22-11-16 10:00",
          "22-11-16 14:00",
          "22-11-16 18:00",
          "22-11-16 22:00",
          "22-11-17 02:00",
          "22-11-17 06:00",
          "22-11-17 10:00",
          "22-11-17 14:00",
          "22-11-17 18:00",
          "22-11-17 22:00",
          "22-11-18 02:00",
          "22-11-18 06:00",
          "22-11-18 10:00",
          "22-11-18 14:00",
          "22-11-18 18:00",
          "22-11-20 22:00",
          "22-11-21 02:00",
          "22-11-21 06:00",
          "22-11-21 10:00",
          "22-11-21 14:00",
          "22-11-21 18:00",
          "22-11-21 22:00",
          "22-11-22 02:00",
          "22-11-22 06:00",
          "22-11-22 10:00",
          "22-11-22 14:00",
          "22-11-22 18:00",
          "22-11-22 22:00",
          "22-11-23 02:00",
          "22-11-23 06:00",
          "22-11-23 10:00",
          "22-11-23 14:00",
          "22-11-23 18:00",
          "22-11-23 22:00",
          "22-11-24 02:00",
          "22-11-24 06:00",
          "22-11-24 10:00",
          "22-11-24 14:00",
          "22-11-24 18:00",
          "22-11-24 22:00",
          "22-11-25 02:00",
          "22-11-25 06:00",
          "22-11-25 10:00",
          "22-11-25 14:00",
          "22-11-25 18:00",
          "22-11-27 22:00",
          "22-11-28 02:00",
          "22-11-28 06:00",
          "22-11-28 10:00",
          "22-11-28 14:00",
          "22-11-28 18:00",
          "22-11-28 22:00",
          "22-11-29 02:00",
          "22-11-29 06:00",
          "22-11-29 10:00",
          "22-11-29 14:00",
          "22-11-29 18:00",
          "22-11-29 22:00",
          "22-11-30 02:00",
          "22-11-30 06:00",
          "22-11-30 10:00",
          "22-11-30 14:00",
          "22-11-30 18:00",
          "22-11-30 22:00",
          "22-12-01 02:00",
          "22-12-01 06:00",
          "22-12-01 10:00",
          "22-12-01 14:00",
          "22-12-01 18:00",
          "22-12-01 22:00",
          "22-12-02 02:00",
          "22-12-02 06:00",
          "22-12-02 10:00",
          "22-12-02 14:00",
          "22-12-02 18:00",
          "22-12-04 22:00",
          "22-12-05 02:00",
          "22-12-05 06:00",
          "22-12-05 10:00",
          "22-12-05 14:00",
          "22-12-05 18:00",
          "22-12-05 22:00",
          "22-12-06 02:00",
          "22-12-06 06:00",
          "22-12-06 10:00",
          "22-12-06 14:00",
          "22-12-06 18:00",
          "22-12-06 22:00",
          "22-12-07 02:00",
          "22-12-07 06:00",
          "22-12-07 10:00",
          "22-12-07 14:00",
          "22-12-07 18:00",
          "22-12-07 22:00",
          "22-12-08 02:00",
          "22-12-08 06:00",
          "22-12-08 10:00",
          "22-12-08 14:00",
          "22-12-08 18:00",
          "22-12-08 22:00",
          "22-12-09 02:00",
          "22-12-09 06:00",
          "22-12-09 10:00",
          "22-12-09 14:00",
          "22-12-09 18:00",
          "22-12-11 22:00",
          "22-12-12 02:00",
          "22-12-12 06:00",
          "22-12-12 10:00",
          "22-12-12 14:00",
          "22-12-12 18:00",
          "22-12-12 22:00",
          "22-12-13 02:00",
          "22-12-13 06:00",
          "22-12-13 10:00",
          "22-12-13 14:00",
          "22-12-13 18:00",
          "22-12-13 22:00",
          "22-12-14 02:00",
          "22-12-14 06:00",
          "22-12-14 10:00",
          "22-12-14 14:00",
          "22-12-14 18:00",
          "22-12-14 22:00",
          "22-12-15 02:00",
          "22-12-15 06:00",
          "22-12-15 10:00",
          "22-12-15 14:00",
          "22-12-15 18:00",
          "22-12-15 22:00",
          "22-12-16 02:00",
          "22-12-16 06:00",
          "22-12-16 10:00",
          "22-12-16 14:00",
          "22-12-16 18:00",
          "22-12-18 22:00",
          "22-12-19 02:00",
          "22-12-19 06:00",
          "22-12-19 10:00",
          "22-12-19 14:00",
          "22-12-19 18:00",
          "22-12-19 22:00",
          "22-12-20 02:00",
          "22-12-20 06:00",
          "22-12-20 10:00",
          "22-12-20 14:00",
          "22-12-20 18:00",
          "22-12-20 22:00",
          "22-12-21 02:00",
          "22-12-21 06:00",
          "22-12-21 10:00",
          "22-12-21 14:00",
          "22-12-21 18:00",
          "22-12-21 22:00",
          "22-12-22 02:00",
          "22-12-22 06:00",
          "22-12-22 10:00",
          "22-12-22 14:00",
          "22-12-22 18:00",
          "22-12-22 22:00",
          "22-12-23 02:00",
          "22-12-23 06:00",
          "22-12-23 10:00",
          "22-12-23 14:00",
          "22-12-23 18:00",
          "22-12-26 22:00",
          "22-12-27 02:00",
          "22-12-27 06:00",
          "22-12-27 10:00",
          "22-12-27 14:00",
          "22-12-27 18:00",
          "22-12-27 22:00",
          "22-12-28 02:00",
          "22-12-28 06:00"
         ],
         "y": {
          "bdata": "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",
          "dtype": "f8"
         }
        },
        {
         "line": {
          "shape": "spline",
          "width": 2
         },
         "name": "MA_50",
         "type": "scatter",
         "x": [
          "22-09-01 01:00",
          "22-09-01 05:00",
          "22-09-01 09:00",
          "22-09-01 13:00",
          "22-09-01 17:00",
          "22-09-01 21:00",
          "22-09-02 01:00",
          "22-09-02 05:00",
          "22-09-02 09:00",
          "22-09-02 13:00",
          "22-09-02 17:00",
          "22-09-04 21:00",
          "22-09-05 01:00",
          "22-09-05 05:00",
          "22-09-05 09:00",
          "22-09-05 13:00",
          "22-09-05 17:00",
          "22-09-05 21:00",
          "22-09-06 01:00",
          "22-09-06 05:00",
          "22-09-06 09:00",
          "22-09-06 13:00",
          "22-09-06 17:00",
          "22-09-06 21:00",
          "22-09-07 01:00",
          "22-09-07 05:00",
          "22-09-07 09:00",
          "22-09-07 13:00",
          "22-09-07 17:00",
          "22-09-07 21:00",
          "22-09-08 01:00",
          "22-09-08 05:00",
          "22-09-08 09:00",
          "22-09-08 13:00",
          "22-09-08 17:00",
          "22-09-08 21:00",
          "22-09-09 01:00",
          "22-09-09 05:00",
          "22-09-09 09:00",
          "22-09-09 13:00",
          "22-09-09 17:00",
          "22-09-11 21:00",
          "22-09-12 01:00",
          "22-09-12 05:00",
          "22-09-12 09:00",
          "22-09-12 13:00",
          "22-09-12 17:00",
          "22-09-12 21:00",
          "22-09-13 01:00",
          "22-09-13 05:00",
          "22-09-13 09:00",
          "22-09-13 13:00",
          "22-09-13 17:00",
          "22-09-13 21:00",
          "22-09-14 01:00",
          "22-09-14 05:00",
          "22-09-14 09:00",
          "22-09-14 13:00",
          "22-09-14 17:00",
          "22-09-14 21:00",
          "22-09-15 01:00",
          "22-09-15 05:00",
          "22-09-15 09:00",
          "22-09-15 13:00",
          "22-09-15 17:00",
          "22-09-15 21:00",
          "22-09-16 01:00",
          "22-09-16 05:00",
          "22-09-16 09:00",
          "22-09-16 13:00",
          "22-09-16 17:00",
          "22-09-18 21:00",
          "22-09-19 01:00",
          "22-09-19 05:00",
          "22-09-19 09:00",
          "22-09-19 13:00",
          "22-09-19 17:00",
          "22-09-19 21:00",
          "22-09-20 01:00",
          "22-09-20 05:00",
          "22-09-20 09:00",
          "22-09-20 13:00",
          "22-09-20 17:00",
          "22-09-20 21:00",
          "22-09-21 01:00",
          "22-09-21 05:00",
          "22-09-21 09:00",
          "22-09-21 13:00",
          "22-09-21 17:00",
          "22-09-21 21:00",
          "22-09-22 01:00",
          "22-09-22 05:00",
          "22-09-22 09:00",
          "22-09-22 13:00",
          "22-09-22 17:00",
          "22-09-22 21:00",
          "22-09-23 01:00",
          "22-09-23 05:00",
          "22-09-23 09:00",
          "22-09-23 13:00",
          "22-09-23 17:00",
          "22-09-25 21:00",
          "22-09-26 01:00",
          "22-09-26 05:00",
          "22-09-26 09:00",
          "22-09-26 13:00",
          "22-09-26 17:00",
          "22-09-26 21:00",
          "22-09-27 01:00",
          "22-09-27 05:00",
          "22-09-27 09:00",
          "22-09-27 13:00",
          "22-09-27 17:00",
          "22-09-27 21:00",
          "22-09-28 01:00",
          "22-09-28 05:00",
          "22-09-28 09:00",
          "22-09-28 13:00",
          "22-09-28 17:00",
          "22-09-28 21:00",
          "22-09-29 01:00",
          "22-09-29 05:00",
          "22-09-29 09:00",
          "22-09-29 13:00",
          "22-09-29 17:00",
          "22-09-29 21:00",
          "22-09-30 01:00",
          "22-09-30 05:00",
          "22-09-30 09:00",
          "22-09-30 13:00",
          "22-09-30 17:00",
          "22-10-02 21:00",
          "22-10-03 01:00",
          "22-10-03 05:00",
          "22-10-03 09:00",
          "22-10-03 13:00",
          "22-10-03 17:00",
          "22-10-03 21:00",
          "22-10-04 01:00",
          "22-10-04 05:00",
          "22-10-04 09:00",
          "22-10-04 13:00",
          "22-10-04 17:00",
          "22-10-04 21:00",
          "22-10-05 01:00",
          "22-10-05 05:00",
          "22-10-05 09:00",
          "22-10-05 13:00",
          "22-10-05 17:00",
          "22-10-05 21:00",
          "22-10-06 01:00",
          "22-10-06 05:00",
          "22-10-06 09:00",
          "22-10-06 13:00",
          "22-10-06 17:00",
          "22-10-06 21:00",
          "22-10-07 01:00",
          "22-10-07 05:00",
          "22-10-07 09:00",
          "22-10-07 13:00",
          "22-10-07 17:00",
          "22-10-09 21:00",
          "22-10-10 01:00",
          "22-10-10 05:00",
          "22-10-10 09:00",
          "22-10-10 13:00",
          "22-10-10 17:00",
          "22-10-10 21:00",
          "22-10-11 01:00",
          "22-10-11 05:00",
          "22-10-11 09:00",
          "22-10-11 13:00",
          "22-10-11 17:00",
          "22-10-11 21:00",
          "22-10-12 01:00",
          "22-10-12 05:00",
          "22-10-12 09:00",
          "22-10-12 13:00",
          "22-10-12 17:00",
          "22-10-12 21:00",
          "22-10-13 01:00",
          "22-10-13 05:00",
          "22-10-13 09:00",
          "22-10-13 13:00",
          "22-10-13 17:00",
          "22-10-13 21:00",
          "22-10-14 01:00",
          "22-10-14 05:00",
          "22-10-14 09:00",
          "22-10-14 13:00",
          "22-10-14 17:00",
          "22-10-16 21:00",
          "22-10-17 01:00",
          "22-10-17 05:00",
          "22-10-17 09:00",
          "22-10-17 13:00",
          "22-10-17 17:00",
          "22-10-17 21:00",
          "22-10-18 01:00",
          "22-10-18 05:00",
          "22-10-18 09:00",
          "22-10-18 13:00",
          "22-10-18 17:00",
          "22-10-18 21:00",
          "22-10-19 01:00",
          "22-10-19 05:00",
          "22-10-19 09:00",
          "22-10-19 13:00",
          "22-10-19 17:00",
          "22-10-19 21:00",
          "22-10-20 01:00",
          "22-10-20 05:00",
          "22-10-20 09:00",
          "22-10-20 13:00",
          "22-10-20 17:00",
          "22-10-20 21:00",
          "22-10-21 01:00",
          "22-10-21 05:00",
          "22-10-21 09:00",
          "22-10-21 13:00",
          "22-10-21 17:00",
          "22-10-23 21:00",
          "22-10-24 01:00",
          "22-10-24 05:00",
          "22-10-24 09:00",
          "22-10-24 13:00",
          "22-10-24 17:00",
          "22-10-24 21:00",
          "22-10-25 01:00",
          "22-10-25 05:00",
          "22-10-25 09:00",
          "22-10-25 13:00",
          "22-10-25 17:00",
          "22-10-25 21:00",
          "22-10-26 01:00",
          "22-10-26 05:00",
          "22-10-26 09:00",
          "22-10-26 13:00",
          "22-10-26 17:00",
          "22-10-26 21:00",
          "22-10-27 01:00",
          "22-10-27 05:00",
          "22-10-27 09:00",
          "22-10-27 13:00",
          "22-10-27 17:00",
          "22-10-27 21:00",
          "22-10-28 01:00",
          "22-10-28 05:00",
          "22-10-28 09:00",
          "22-10-28 13:00",
          "22-10-28 17:00",
          "22-10-30 21:00",
          "22-10-31 01:00",
          "22-10-31 05:00",
          "22-10-31 09:00",
          "22-10-31 13:00",
          "22-10-31 17:00",
          "22-10-31 21:00",
          "22-11-01 01:00",
          "22-11-01 05:00",
          "22-11-01 09:00",
          "22-11-01 13:00",
          "22-11-01 17:00",
          "22-11-01 21:00",
          "22-11-02 01:00",
          "22-11-02 05:00",
          "22-11-02 09:00",
          "22-11-02 13:00",
          "22-11-02 17:00",
          "22-11-02 21:00",
          "22-11-03 01:00",
          "22-11-03 05:00",
          "22-11-03 09:00",
          "22-11-03 13:00",
          "22-11-03 17:00",
          "22-11-03 21:00",
          "22-11-04 01:00",
          "22-11-04 05:00",
          "22-11-04 09:00",
          "22-11-04 13:00",
          "22-11-04 17:00",
          "22-11-06 22:00",
          "22-11-07 02:00",
          "22-11-07 06:00",
          "22-11-07 10:00",
          "22-11-07 14:00",
          "22-11-07 18:00",
          "22-11-07 22:00",
          "22-11-08 02:00",
          "22-11-08 06:00",
          "22-11-08 10:00",
          "22-11-08 14:00",
          "22-11-08 18:00",
          "22-11-08 22:00",
          "22-11-09 02:00",
          "22-11-09 06:00",
          "22-11-09 10:00",
          "22-11-09 14:00",
          "22-11-09 18:00",
          "22-11-09 22:00",
          "22-11-10 02:00",
          "22-11-10 06:00",
          "22-11-10 10:00",
          "22-11-10 14:00",
          "22-11-10 18:00",
          "22-11-10 22:00",
          "22-11-11 02:00",
          "22-11-11 06:00",
          "22-11-11 10:00",
          "22-11-11 14:00",
          "22-11-11 18:00",
          "22-11-13 22:00",
          "22-11-14 02:00",
          "22-11-14 06:00",
          "22-11-14 10:00",
          "22-11-14 14:00",
          "22-11-14 18:00",
          "22-11-14 22:00",
          "22-11-15 02:00",
          "22-11-15 06:00",
          "22-11-15 10:00",
          "22-11-15 14:00",
          "22-11-15 18:00",
          "22-11-15 22:00",
          "22-11-16 02:00",
          "22-11-16 06:00",
          "22-11-16 10:00",
          "22-11-16 14:00",
          "22-11-16 18:00",
          "22-11-16 22:00",
          "22-11-17 02:00",
          "22-11-17 06:00",
          "22-11-17 10:00",
          "22-11-17 14:00",
          "22-11-17 18:00",
          "22-11-17 22:00",
          "22-11-18 02:00",
          "22-11-18 06:00",
          "22-11-18 10:00",
          "22-11-18 14:00",
          "22-11-18 18:00",
          "22-11-20 22:00",
          "22-11-21 02:00",
          "22-11-21 06:00",
          "22-11-21 10:00",
          "22-11-21 14:00",
          "22-11-21 18:00",
          "22-11-21 22:00",
          "22-11-22 02:00",
          "22-11-22 06:00",
          "22-11-22 10:00",
          "22-11-22 14:00",
          "22-11-22 18:00",
          "22-11-22 22:00",
          "22-11-23 02:00",
          "22-11-23 06:00",
          "22-11-23 10:00",
          "22-11-23 14:00",
          "22-11-23 18:00",
          "22-11-23 22:00",
          "22-11-24 02:00",
          "22-11-24 06:00",
          "22-11-24 10:00",
          "22-11-24 14:00",
          "22-11-24 18:00",
          "22-11-24 22:00",
          "22-11-25 02:00",
          "22-11-25 06:00",
          "22-11-25 10:00",
          "22-11-25 14:00",
          "22-11-25 18:00",
          "22-11-27 22:00",
          "22-11-28 02:00",
          "22-11-28 06:00",
          "22-11-28 10:00",
          "22-11-28 14:00",
          "22-11-28 18:00",
          "22-11-28 22:00",
          "22-11-29 02:00",
          "22-11-29 06:00",
          "22-11-29 10:00",
          "22-11-29 14:00",
          "22-11-29 18:00",
          "22-11-29 22:00",
          "22-11-30 02:00",
          "22-11-30 06:00",
          "22-11-30 10:00",
          "22-11-30 14:00",
          "22-11-30 18:00",
          "22-11-30 22:00",
          "22-12-01 02:00",
          "22-12-01 06:00",
          "22-12-01 10:00",
          "22-12-01 14:00",
          "22-12-01 18:00",
          "22-12-01 22:00",
          "22-12-02 02:00",
          "22-12-02 06:00",
          "22-12-02 10:00",
          "22-12-02 14:00",
          "22-12-02 18:00",
          "22-12-04 22:00",
          "22-12-05 02:00",
          "22-12-05 06:00",
          "22-12-05 10:00",
          "22-12-05 14:00",
          "22-12-05 18:00",
          "22-12-05 22:00",
          "22-12-06 02:00",
          "22-12-06 06:00",
          "22-12-06 10:00",
          "22-12-06 14:00",
          "22-12-06 18:00",
          "22-12-06 22:00",
          "22-12-07 02:00",
          "22-12-07 06:00",
          "22-12-07 10:00",
          "22-12-07 14:00",
          "22-12-07 18:00",
          "22-12-07 22:00",
          "22-12-08 02:00",
          "22-12-08 06:00",
          "22-12-08 10:00",
          "22-12-08 14:00",
          "22-12-08 18:00",
          "22-12-08 22:00",
          "22-12-09 02:00",
          "22-12-09 06:00",
          "22-12-09 10:00",
          "22-12-09 14:00",
          "22-12-09 18:00",
          "22-12-11 22:00",
          "22-12-12 02:00",
          "22-12-12 06:00",
          "22-12-12 10:00",
          "22-12-12 14:00",
          "22-12-12 18:00",
          "22-12-12 22:00",
          "22-12-13 02:00",
          "22-12-13 06:00",
          "22-12-13 10:00",
          "22-12-13 14:00",
          "22-12-13 18:00",
          "22-12-13 22:00",
          "22-12-14 02:00",
          "22-12-14 06:00",
          "22-12-14 10:00",
          "22-12-14 14:00",
          "22-12-14 18:00",
          "22-12-14 22:00",
          "22-12-15 02:00",
          "22-12-15 06:00",
          "22-12-15 10:00",
          "22-12-15 14:00",
          "22-12-15 18:00",
          "22-12-15 22:00",
          "22-12-16 02:00",
          "22-12-16 06:00",
          "22-12-16 10:00",
          "22-12-16 14:00",
          "22-12-16 18:00",
          "22-12-18 22:00",
          "22-12-19 02:00",
          "22-12-19 06:00",
          "22-12-19 10:00",
          "22-12-19 14:00",
          "22-12-19 18:00",
          "22-12-19 22:00",
          "22-12-20 02:00",
          "22-12-20 06:00",
          "22-12-20 10:00",
          "22-12-20 14:00",
          "22-12-20 18:00",
          "22-12-20 22:00",
          "22-12-21 02:00",
          "22-12-21 06:00",
          "22-12-21 10:00",
          "22-12-21 14:00",
          "22-12-21 18:00",
          "22-12-21 22:00",
          "22-12-22 02:00",
          "22-12-22 06:00",
          "22-12-22 10:00",
          "22-12-22 14:00",
          "22-12-22 18:00",
          "22-12-22 22:00",
          "22-12-23 02:00",
          "22-12-23 06:00",
          "22-12-23 10:00",
          "22-12-23 14:00",
          "22-12-23 18:00",
          "22-12-26 22:00",
          "22-12-27 02:00",
          "22-12-27 06:00",
          "22-12-27 10:00",
          "22-12-27 14:00",
          "22-12-27 18:00",
          "22-12-27 22:00",
          "22-12-28 02:00",
          "22-12-28 06:00"
         ],
         "y": {
          "bdata": "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",
          "dtype": "f8"
         }
        },
        {
         "line": {
          "shape": "spline",
          "width": 2
         },
         "name": "MA_100",
         "type": "scatter",
         "x": [
          "22-09-01 01:00",
          "22-09-01 05:00",
          "22-09-01 09:00",
          "22-09-01 13:00",
          "22-09-01 17:00",
          "22-09-01 21:00",
          "22-09-02 01:00",
          "22-09-02 05:00",
          "22-09-02 09:00",
          "22-09-02 13:00",
          "22-09-02 17:00",
          "22-09-04 21:00",
          "22-09-05 01:00",
          "22-09-05 05:00",
          "22-09-05 09:00",
          "22-09-05 13:00",
          "22-09-05 17:00",
          "22-09-05 21:00",
          "22-09-06 01:00",
          "22-09-06 05:00",
          "22-09-06 09:00",
          "22-09-06 13:00",
          "22-09-06 17:00",
          "22-09-06 21:00",
          "22-09-07 01:00",
          "22-09-07 05:00",
          "22-09-07 09:00",
          "22-09-07 13:00",
          "22-09-07 17:00",
          "22-09-07 21:00",
          "22-09-08 01:00",
          "22-09-08 05:00",
          "22-09-08 09:00",
          "22-09-08 13:00",
          "22-09-08 17:00",
          "22-09-08 21:00",
          "22-09-09 01:00",
          "22-09-09 05:00",
          "22-09-09 09:00",
          "22-09-09 13:00",
          "22-09-09 17:00",
          "22-09-11 21:00",
          "22-09-12 01:00",
          "22-09-12 05:00",
          "22-09-12 09:00",
          "22-09-12 13:00",
          "22-09-12 17:00",
          "22-09-12 21:00",
          "22-09-13 01:00",
          "22-09-13 05:00",
          "22-09-13 09:00",
          "22-09-13 13:00",
          "22-09-13 17:00",
          "22-09-13 21:00",
          "22-09-14 01:00",
          "22-09-14 05:00",
          "22-09-14 09:00",
          "22-09-14 13:00",
          "22-09-14 17:00",
          "22-09-14 21:00",
          "22-09-15 01:00",
          "22-09-15 05:00",
          "22-09-15 09:00",
          "22-09-15 13:00",
          "22-09-15 17:00",
          "22-09-15 21:00",
          "22-09-16 01:00",
          "22-09-16 05:00",
          "22-09-16 09:00",
          "22-09-16 13:00",
          "22-09-16 17:00",
          "22-09-18 21:00",
          "22-09-19 01:00",
          "22-09-19 05:00",
          "22-09-19 09:00",
          "22-09-19 13:00",
          "22-09-19 17:00",
          "22-09-19 21:00",
          "22-09-20 01:00",
          "22-09-20 05:00",
          "22-09-20 09:00",
          "22-09-20 13:00",
          "22-09-20 17:00",
          "22-09-20 21:00",
          "22-09-21 01:00",
          "22-09-21 05:00",
          "22-09-21 09:00",
          "22-09-21 13:00",
          "22-09-21 17:00",
          "22-09-21 21:00",
          "22-09-22 01:00",
          "22-09-22 05:00",
          "22-09-22 09:00",
          "22-09-22 13:00",
          "22-09-22 17:00",
          "22-09-22 21:00",
          "22-09-23 01:00",
          "22-09-23 05:00",
          "22-09-23 09:00",
          "22-09-23 13:00",
          "22-09-23 17:00",
          "22-09-25 21:00",
          "22-09-26 01:00",
          "22-09-26 05:00",
          "22-09-26 09:00",
          "22-09-26 13:00",
          "22-09-26 17:00",
          "22-09-26 21:00",
          "22-09-27 01:00",
          "22-09-27 05:00",
          "22-09-27 09:00",
          "22-09-27 13:00",
          "22-09-27 17:00",
          "22-09-27 21:00",
          "22-09-28 01:00",
          "22-09-28 05:00",
          "22-09-28 09:00",
          "22-09-28 13:00",
          "22-09-28 17:00",
          "22-09-28 21:00",
          "22-09-29 01:00",
          "22-09-29 05:00",
          "22-09-29 09:00",
          "22-09-29 13:00",
          "22-09-29 17:00",
          "22-09-29 21:00",
          "22-09-30 01:00",
          "22-09-30 05:00",
          "22-09-30 09:00",
          "22-09-30 13:00",
          "22-09-30 17:00",
          "22-10-02 21:00",
          "22-10-03 01:00",
          "22-10-03 05:00",
          "22-10-03 09:00",
          "22-10-03 13:00",
          "22-10-03 17:00",
          "22-10-03 21:00",
          "22-10-04 01:00",
          "22-10-04 05:00",
          "22-10-04 09:00",
          "22-10-04 13:00",
          "22-10-04 17:00",
          "22-10-04 21:00",
          "22-10-05 01:00",
          "22-10-05 05:00",
          "22-10-05 09:00",
          "22-10-05 13:00",
          "22-10-05 17:00",
          "22-10-05 21:00",
          "22-10-06 01:00",
          "22-10-06 05:00",
          "22-10-06 09:00",
          "22-10-06 13:00",
          "22-10-06 17:00",
          "22-10-06 21:00",
          "22-10-07 01:00",
          "22-10-07 05:00",
          "22-10-07 09:00",
          "22-10-07 13:00",
          "22-10-07 17:00",
          "22-10-09 21:00",
          "22-10-10 01:00",
          "22-10-10 05:00",
          "22-10-10 09:00",
          "22-10-10 13:00",
          "22-10-10 17:00",
          "22-10-10 21:00",
          "22-10-11 01:00",
          "22-10-11 05:00",
          "22-10-11 09:00",
          "22-10-11 13:00",
          "22-10-11 17:00",
          "22-10-11 21:00",
          "22-10-12 01:00",
          "22-10-12 05:00",
          "22-10-12 09:00",
          "22-10-12 13:00",
          "22-10-12 17:00",
          "22-10-12 21:00",
          "22-10-13 01:00",
          "22-10-13 05:00",
          "22-10-13 09:00",
          "22-10-13 13:00",
          "22-10-13 17:00",
          "22-10-13 21:00",
          "22-10-14 01:00",
          "22-10-14 05:00",
          "22-10-14 09:00",
          "22-10-14 13:00",
          "22-10-14 17:00",
          "22-10-16 21:00",
          "22-10-17 01:00",
          "22-10-17 05:00",
          "22-10-17 09:00",
          "22-10-17 13:00",
          "22-10-17 17:00",
          "22-10-17 21:00",
          "22-10-18 01:00",
          "22-10-18 05:00",
          "22-10-18 09:00",
          "22-10-18 13:00",
          "22-10-18 17:00",
          "22-10-18 21:00",
          "22-10-19 01:00",
          "22-10-19 05:00",
          "22-10-19 09:00",
          "22-10-19 13:00",
          "22-10-19 17:00",
          "22-10-19 21:00",
          "22-10-20 01:00",
          "22-10-20 05:00",
          "22-10-20 09:00",
          "22-10-20 13:00",
          "22-10-20 17:00",
          "22-10-20 21:00",
          "22-10-21 01:00",
          "22-10-21 05:00",
          "22-10-21 09:00",
          "22-10-21 13:00",
          "22-10-21 17:00",
          "22-10-23 21:00",
          "22-10-24 01:00",
          "22-10-24 05:00",
          "22-10-24 09:00",
          "22-10-24 13:00",
          "22-10-24 17:00",
          "22-10-24 21:00",
          "22-10-25 01:00",
          "22-10-25 05:00",
          "22-10-25 09:00",
          "22-10-25 13:00",
          "22-10-25 17:00",
          "22-10-25 21:00",
          "22-10-26 01:00",
          "22-10-26 05:00",
          "22-10-26 09:00",
          "22-10-26 13:00",
          "22-10-26 17:00",
          "22-10-26 21:00",
          "22-10-27 01:00",
          "22-10-27 05:00",
          "22-10-27 09:00",
          "22-10-27 13:00",
          "22-10-27 17:00",
          "22-10-27 21:00",
          "22-10-28 01:00",
          "22-10-28 05:00",
          "22-10-28 09:00",
          "22-10-28 13:00",
          "22-10-28 17:00",
          "22-10-30 21:00",
          "22-10-31 01:00",
          "22-10-31 05:00",
          "22-10-31 09:00",
          "22-10-31 13:00",
          "22-10-31 17:00",
          "22-10-31 21:00",
          "22-11-01 01:00",
          "22-11-01 05:00",
          "22-11-01 09:00",
          "22-11-01 13:00",
          "22-11-01 17:00",
          "22-11-01 21:00",
          "22-11-02 01:00",
          "22-11-02 05:00",
          "22-11-02 09:00",
          "22-11-02 13:00",
          "22-11-02 17:00",
          "22-11-02 21:00",
          "22-11-03 01:00",
          "22-11-03 05:00",
          "22-11-03 09:00",
          "22-11-03 13:00",
          "22-11-03 17:00",
          "22-11-03 21:00",
          "22-11-04 01:00",
          "22-11-04 05:00",
          "22-11-04 09:00",
          "22-11-04 13:00",
          "22-11-04 17:00",
          "22-11-06 22:00",
          "22-11-07 02:00",
          "22-11-07 06:00",
          "22-11-07 10:00",
          "22-11-07 14:00",
          "22-11-07 18:00",
          "22-11-07 22:00",
          "22-11-08 02:00",
          "22-11-08 06:00",
          "22-11-08 10:00",
          "22-11-08 14:00",
          "22-11-08 18:00",
          "22-11-08 22:00",
          "22-11-09 02:00",
          "22-11-09 06:00",
          "22-11-09 10:00",
          "22-11-09 14:00",
          "22-11-09 18:00",
          "22-11-09 22:00",
          "22-11-10 02:00",
          "22-11-10 06:00",
          "22-11-10 10:00",
          "22-11-10 14:00",
          "22-11-10 18:00",
          "22-11-10 22:00",
          "22-11-11 02:00",
          "22-11-11 06:00",
          "22-11-11 10:00",
          "22-11-11 14:00",
          "22-11-11 18:00",
          "22-11-13 22:00",
          "22-11-14 02:00",
          "22-11-14 06:00",
          "22-11-14 10:00",
          "22-11-14 14:00",
          "22-11-14 18:00",
          "22-11-14 22:00",
          "22-11-15 02:00",
          "22-11-15 06:00",
          "22-11-15 10:00",
          "22-11-15 14:00",
          "22-11-15 18:00",
          "22-11-15 22:00",
          "22-11-16 02:00",
          "22-11-16 06:00",
          "22-11-16 10:00",
          "22-11-16 14:00",
          "22-11-16 18:00",
          "22-11-16 22:00",
          "22-11-17 02:00",
          "22-11-17 06:00",
          "22-11-17 10:00",
          "22-11-17 14:00",
          "22-11-17 18:00",
          "22-11-17 22:00",
          "22-11-18 02:00",
          "22-11-18 06:00",
          "22-11-18 10:00",
          "22-11-18 14:00",
          "22-11-18 18:00",
          "22-11-20 22:00",
          "22-11-21 02:00",
          "22-11-21 06:00",
          "22-11-21 10:00",
          "22-11-21 14:00",
          "22-11-21 18:00",
          "22-11-21 22:00",
          "22-11-22 02:00",
          "22-11-22 06:00",
          "22-11-22 10:00",
          "22-11-22 14:00",
          "22-11-22 18:00",
          "22-11-22 22:00",
          "22-11-23 02:00",
          "22-11-23 06:00",
          "22-11-23 10:00",
          "22-11-23 14:00",
          "22-11-23 18:00",
          "22-11-23 22:00",
          "22-11-24 02:00",
          "22-11-24 06:00",
          "22-11-24 10:00",
          "22-11-24 14:00",
          "22-11-24 18:00",
          "22-11-24 22:00",
          "22-11-25 02:00",
          "22-11-25 06:00",
          "22-11-25 10:00",
          "22-11-25 14:00",
          "22-11-25 18:00",
          "22-11-27 22:00",
          "22-11-28 02:00",
          "22-11-28 06:00",
          "22-11-28 10:00",
          "22-11-28 14:00",
          "22-11-28 18:00",
          "22-11-28 22:00",
          "22-11-29 02:00",
          "22-11-29 06:00",
          "22-11-29 10:00",
          "22-11-29 14:00",
          "22-11-29 18:00",
          "22-11-29 22:00",
          "22-11-30 02:00",
          "22-11-30 06:00",
          "22-11-30 10:00",
          "22-11-30 14:00",
          "22-11-30 18:00",
          "22-11-30 22:00",
          "22-12-01 02:00",
          "22-12-01 06:00",
          "22-12-01 10:00",
          "22-12-01 14:00",
          "22-12-01 18:00",
          "22-12-01 22:00",
          "22-12-02 02:00",
          "22-12-02 06:00",
          "22-12-02 10:00",
          "22-12-02 14:00",
          "22-12-02 18:00",
          "22-12-04 22:00",
          "22-12-05 02:00",
          "22-12-05 06:00",
          "22-12-05 10:00",
          "22-12-05 14:00",
          "22-12-05 18:00",
          "22-12-05 22:00",
          "22-12-06 02:00",
          "22-12-06 06:00",
          "22-12-06 10:00",
          "22-12-06 14:00",
          "22-12-06 18:00",
          "22-12-06 22:00",
          "22-12-07 02:00",
          "22-12-07 06:00",
          "22-12-07 10:00",
          "22-12-07 14:00",
          "22-12-07 18:00",
          "22-12-07 22:00",
          "22-12-08 02:00",
          "22-12-08 06:00",
          "22-12-08 10:00",
          "22-12-08 14:00",
          "22-12-08 18:00",
          "22-12-08 22:00",
          "22-12-09 02:00",
          "22-12-09 06:00",
          "22-12-09 10:00",
          "22-12-09 14:00",
          "22-12-09 18:00",
          "22-12-11 22:00",
          "22-12-12 02:00",
          "22-12-12 06:00",
          "22-12-12 10:00",
          "22-12-12 14:00",
          "22-12-12 18:00",
          "22-12-12 22:00",
          "22-12-13 02:00",
          "22-12-13 06:00",
          "22-12-13 10:00",
          "22-12-13 14:00",
          "22-12-13 18:00",
          "22-12-13 22:00",
          "22-12-14 02:00",
          "22-12-14 06:00",
          "22-12-14 10:00",
          "22-12-14 14:00",
          "22-12-14 18:00",
          "22-12-14 22:00",
          "22-12-15 02:00",
          "22-12-15 06:00",
          "22-12-15 10:00",
          "22-12-15 14:00",
          "22-12-15 18:00",
          "22-12-15 22:00",
          "22-12-16 02:00",
          "22-12-16 06:00",
          "22-12-16 10:00",
          "22-12-16 14:00",
          "22-12-16 18:00",
          "22-12-18 22:00",
          "22-12-19 02:00",
          "22-12-19 06:00",
          "22-12-19 10:00",
          "22-12-19 14:00",
          "22-12-19 18:00",
          "22-12-19 22:00",
          "22-12-20 02:00",
          "22-12-20 06:00",
          "22-12-20 10:00",
          "22-12-20 14:00",
          "22-12-20 18:00",
          "22-12-20 22:00",
          "22-12-21 02:00",
          "22-12-21 06:00",
          "22-12-21 10:00",
          "22-12-21 14:00",
          "22-12-21 18:00",
          "22-12-21 22:00",
          "22-12-22 02:00",
          "22-12-22 06:00",
          "22-12-22 10:00",
          "22-12-22 14:00",
          "22-12-22 18:00",
          "22-12-22 22:00",
          "22-12-23 02:00",
          "22-12-23 06:00",
          "22-12-23 10:00",
          "22-12-23 14:00",
          "22-12-23 18:00",
          "22-12-26 22:00",
          "22-12-27 02:00",
          "22-12-27 06:00",
          "22-12-27 10:00",
          "22-12-27 14:00",
          "22-12-27 18:00",
          "22-12-27 22:00",
          "22-12-28 02:00",
          "22-12-28 06:00"
         ],
         "y": {
          "bdata": "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",
          "dtype": "f8"
         }
        },
        {
         "line": {
          "shape": "spline",
          "width": 2
         },
         "name": "MA_200",
         "type": "scatter",
         "x": [
          "22-09-01 01:00",
          "22-09-01 05:00",
          "22-09-01 09:00",
          "22-09-01 13:00",
          "22-09-01 17:00",
          "22-09-01 21:00",
          "22-09-02 01:00",
          "22-09-02 05:00",
          "22-09-02 09:00",
          "22-09-02 13:00",
          "22-09-02 17:00",
          "22-09-04 21:00",
          "22-09-05 01:00",
          "22-09-05 05:00",
          "22-09-05 09:00",
          "22-09-05 13:00",
          "22-09-05 17:00",
          "22-09-05 21:00",
          "22-09-06 01:00",
          "22-09-06 05:00",
          "22-09-06 09:00",
          "22-09-06 13:00",
          "22-09-06 17:00",
          "22-09-06 21:00",
          "22-09-07 01:00",
          "22-09-07 05:00",
          "22-09-07 09:00",
          "22-09-07 13:00",
          "22-09-07 17:00",
          "22-09-07 21:00",
          "22-09-08 01:00",
          "22-09-08 05:00",
          "22-09-08 09:00",
          "22-09-08 13:00",
          "22-09-08 17:00",
          "22-09-08 21:00",
          "22-09-09 01:00",
          "22-09-09 05:00",
          "22-09-09 09:00",
          "22-09-09 13:00",
          "22-09-09 17:00",
          "22-09-11 21:00",
          "22-09-12 01:00",
          "22-09-12 05:00",
          "22-09-12 09:00",
          "22-09-12 13:00",
          "22-09-12 17:00",
          "22-09-12 21:00",
          "22-09-13 01:00",
          "22-09-13 05:00",
          "22-09-13 09:00",
          "22-09-13 13:00",
          "22-09-13 17:00",
          "22-09-13 21:00",
          "22-09-14 01:00",
          "22-09-14 05:00",
          "22-09-14 09:00",
          "22-09-14 13:00",
          "22-09-14 17:00",
          "22-09-14 21:00",
          "22-09-15 01:00",
          "22-09-15 05:00",
          "22-09-15 09:00",
          "22-09-15 13:00",
          "22-09-15 17:00",
          "22-09-15 21:00",
          "22-09-16 01:00",
          "22-09-16 05:00",
          "22-09-16 09:00",
          "22-09-16 13:00",
          "22-09-16 17:00",
          "22-09-18 21:00",
          "22-09-19 01:00",
          "22-09-19 05:00",
          "22-09-19 09:00",
          "22-09-19 13:00",
          "22-09-19 17:00",
          "22-09-19 21:00",
          "22-09-20 01:00",
          "22-09-20 05:00",
          "22-09-20 09:00",
          "22-09-20 13:00",
          "22-09-20 17:00",
          "22-09-20 21:00",
          "22-09-21 01:00",
          "22-09-21 05:00",
          "22-09-21 09:00",
          "22-09-21 13:00",
          "22-09-21 17:00",
          "22-09-21 21:00",
          "22-09-22 01:00",
          "22-09-22 05:00",
          "22-09-22 09:00",
          "22-09-22 13:00",
          "22-09-22 17:00",
          "22-09-22 21:00",
          "22-09-23 01:00",
          "22-09-23 05:00",
          "22-09-23 09:00",
          "22-09-23 13:00",
          "22-09-23 17:00",
          "22-09-25 21:00",
          "22-09-26 01:00",
          "22-09-26 05:00",
          "22-09-26 09:00",
          "22-09-26 13:00",
          "22-09-26 17:00",
          "22-09-26 21:00",
          "22-09-27 01:00",
          "22-09-27 05:00",
          "22-09-27 09:00",
          "22-09-27 13:00",
          "22-09-27 17:00",
          "22-09-27 21:00",
          "22-09-28 01:00",
          "22-09-28 05:00",
          "22-09-28 09:00",
          "22-09-28 13:00",
          "22-09-28 17:00",
          "22-09-28 21:00",
          "22-09-29 01:00",
          "22-09-29 05:00",
          "22-09-29 09:00",
          "22-09-29 13:00",
          "22-09-29 17:00",
          "22-09-29 21:00",
          "22-09-30 01:00",
          "22-09-30 05:00",
          "22-09-30 09:00",
          "22-09-30 13:00",
          "22-09-30 17:00",
          "22-10-02 21:00",
          "22-10-03 01:00",
          "22-10-03 05:00",
          "22-10-03 09:00",
          "22-10-03 13:00",
          "22-10-03 17:00",
          "22-10-03 21:00",
          "22-10-04 01:00",
          "22-10-04 05:00",
          "22-10-04 09:00",
          "22-10-04 13:00",
          "22-10-04 17:00",
          "22-10-04 21:00",
          "22-10-05 01:00",
          "22-10-05 05:00",
          "22-10-05 09:00",
          "22-10-05 13:00",
          "22-10-05 17:00",
          "22-10-05 21:00",
          "22-10-06 01:00",
          "22-10-06 05:00",
          "22-10-06 09:00",
          "22-10-06 13:00",
          "22-10-06 17:00",
          "22-10-06 21:00",
          "22-10-07 01:00",
          "22-10-07 05:00",
          "22-10-07 09:00",
          "22-10-07 13:00",
          "22-10-07 17:00",
          "22-10-09 21:00",
          "22-10-10 01:00",
          "22-10-10 05:00",
          "22-10-10 09:00",
          "22-10-10 13:00",
          "22-10-10 17:00",
          "22-10-10 21:00",
          "22-10-11 01:00",
          "22-10-11 05:00",
          "22-10-11 09:00",
          "22-10-11 13:00",
          "22-10-11 17:00",
          "22-10-11 21:00",
          "22-10-12 01:00",
          "22-10-12 05:00",
          "22-10-12 09:00",
          "22-10-12 13:00",
          "22-10-12 17:00",
          "22-10-12 21:00",
          "22-10-13 01:00",
          "22-10-13 05:00",
          "22-10-13 09:00",
          "22-10-13 13:00",
          "22-10-13 17:00",
          "22-10-13 21:00",
          "22-10-14 01:00",
          "22-10-14 05:00",
          "22-10-14 09:00",
          "22-10-14 13:00",
          "22-10-14 17:00",
          "22-10-16 21:00",
          "22-10-17 01:00",
          "22-10-17 05:00",
          "22-10-17 09:00",
          "22-10-17 13:00",
          "22-10-17 17:00",
          "22-10-17 21:00",
          "22-10-18 01:00",
          "22-10-18 05:00",
          "22-10-18 09:00",
          "22-10-18 13:00",
          "22-10-18 17:00",
          "22-10-18 21:00",
          "22-10-19 01:00",
          "22-10-19 05:00",
          "22-10-19 09:00",
          "22-10-19 13:00",
          "22-10-19 17:00",
          "22-10-19 21:00",
          "22-10-20 01:00",
          "22-10-20 05:00",
          "22-10-20 09:00",
          "22-10-20 13:00",
          "22-10-20 17:00",
          "22-10-20 21:00",
          "22-10-21 01:00",
          "22-10-21 05:00",
          "22-10-21 09:00",
          "22-10-21 13:00",
          "22-10-21 17:00",
          "22-10-23 21:00",
          "22-10-24 01:00",
          "22-10-24 05:00",
          "22-10-24 09:00",
          "22-10-24 13:00",
          "22-10-24 17:00",
          "22-10-24 21:00",
          "22-10-25 01:00",
          "22-10-25 05:00",
          "22-10-25 09:00",
          "22-10-25 13:00",
          "22-10-25 17:00",
          "22-10-25 21:00",
          "22-10-26 01:00",
          "22-10-26 05:00",
          "22-10-26 09:00",
          "22-10-26 13:00",
          "22-10-26 17:00",
          "22-10-26 21:00",
          "22-10-27 01:00",
          "22-10-27 05:00",
          "22-10-27 09:00",
          "22-10-27 13:00",
          "22-10-27 17:00",
          "22-10-27 21:00",
          "22-10-28 01:00",
          "22-10-28 05:00",
          "22-10-28 09:00",
          "22-10-28 13:00",
          "22-10-28 17:00",
          "22-10-30 21:00",
          "22-10-31 01:00",
          "22-10-31 05:00",
          "22-10-31 09:00",
          "22-10-31 13:00",
          "22-10-31 17:00",
          "22-10-31 21:00",
          "22-11-01 01:00",
          "22-11-01 05:00",
          "22-11-01 09:00",
          "22-11-01 13:00",
          "22-11-01 17:00",
          "22-11-01 21:00",
          "22-11-02 01:00",
          "22-11-02 05:00",
          "22-11-02 09:00",
          "22-11-02 13:00",
          "22-11-02 17:00",
          "22-11-02 21:00",
          "22-11-03 01:00",
          "22-11-03 05:00",
          "22-11-03 09:00",
          "22-11-03 13:00",
          "22-11-03 17:00",
          "22-11-03 21:00",
          "22-11-04 01:00",
          "22-11-04 05:00",
          "22-11-04 09:00",
          "22-11-04 13:00",
          "22-11-04 17:00",
          "22-11-06 22:00",
          "22-11-07 02:00",
          "22-11-07 06:00",
          "22-11-07 10:00",
          "22-11-07 14:00",
          "22-11-07 18:00",
          "22-11-07 22:00",
          "22-11-08 02:00",
          "22-11-08 06:00",
          "22-11-08 10:00",
          "22-11-08 14:00",
          "22-11-08 18:00",
          "22-11-08 22:00",
          "22-11-09 02:00",
          "22-11-09 06:00",
          "22-11-09 10:00",
          "22-11-09 14:00",
          "22-11-09 18:00",
          "22-11-09 22:00",
          "22-11-10 02:00",
          "22-11-10 06:00",
          "22-11-10 10:00",
          "22-11-10 14:00",
          "22-11-10 18:00",
          "22-11-10 22:00",
          "22-11-11 02:00",
          "22-11-11 06:00",
          "22-11-11 10:00",
          "22-11-11 14:00",
          "22-11-11 18:00",
          "22-11-13 22:00",
          "22-11-14 02:00",
          "22-11-14 06:00",
          "22-11-14 10:00",
          "22-11-14 14:00",
          "22-11-14 18:00",
          "22-11-14 22:00",
          "22-11-15 02:00",
          "22-11-15 06:00",
          "22-11-15 10:00",
          "22-11-15 14:00",
          "22-11-15 18:00",
          "22-11-15 22:00",
          "22-11-16 02:00",
          "22-11-16 06:00",
          "22-11-16 10:00",
          "22-11-16 14:00",
          "22-11-16 18:00",
          "22-11-16 22:00",
          "22-11-17 02:00",
          "22-11-17 06:00",
          "22-11-17 10:00",
          "22-11-17 14:00",
          "22-11-17 18:00",
          "22-11-17 22:00",
          "22-11-18 02:00",
          "22-11-18 06:00",
          "22-11-18 10:00",
          "22-11-18 14:00",
          "22-11-18 18:00",
          "22-11-20 22:00",
          "22-11-21 02:00",
          "22-11-21 06:00",
          "22-11-21 10:00",
          "22-11-21 14:00",
          "22-11-21 18:00",
          "22-11-21 22:00",
          "22-11-22 02:00",
          "22-11-22 06:00",
          "22-11-22 10:00",
          "22-11-22 14:00",
          "22-11-22 18:00",
          "22-11-22 22:00",
          "22-11-23 02:00",
          "22-11-23 06:00",
          "22-11-23 10:00",
          "22-11-23 14:00",
          "22-11-23 18:00",
          "22-11-23 22:00",
          "22-11-24 02:00",
          "22-11-24 06:00",
          "22-11-24 10:00",
          "22-11-24 14:00",
          "22-11-24 18:00",
          "22-11-24 22:00",
          "22-11-25 02:00",
          "22-11-25 06:00",
          "22-11-25 10:00",
          "22-11-25 14:00",
          "22-11-25 18:00",
          "22-11-27 22:00",
          "22-11-28 02:00",
          "22-11-28 06:00",
          "22-11-28 10:00",
          "22-11-28 14:00",
          "22-11-28 18:00",
          "22-11-28 22:00",
          "22-11-29 02:00",
          "22-11-29 06:00",
          "22-11-29 10:00",
          "22-11-29 14:00",
          "22-11-29 18:00",
          "22-11-29 22:00",
          "22-11-30 02:00",
          "22-11-30 06:00",
          "22-11-30 10:00",
          "22-11-30 14:00",
          "22-11-30 18:00",
          "22-11-30 22:00",
          "22-12-01 02:00",
          "22-12-01 06:00",
          "22-12-01 10:00",
          "22-12-01 14:00",
          "22-12-01 18:00",
          "22-12-01 22:00",
          "22-12-02 02:00",
          "22-12-02 06:00",
          "22-12-02 10:00",
          "22-12-02 14:00",
          "22-12-02 18:00",
          "22-12-04 22:00",
          "22-12-05 02:00",
          "22-12-05 06:00",
          "22-12-05 10:00",
          "22-12-05 14:00",
          "22-12-05 18:00",
          "22-12-05 22:00",
          "22-12-06 02:00",
          "22-12-06 06:00",
          "22-12-06 10:00",
          "22-12-06 14:00",
          "22-12-06 18:00",
          "22-12-06 22:00",
          "22-12-07 02:00",
          "22-12-07 06:00",
          "22-12-07 10:00",
          "22-12-07 14:00",
          "22-12-07 18:00",
          "22-12-07 22:00",
          "22-12-08 02:00",
          "22-12-08 06:00",
          "22-12-08 10:00",
          "22-12-08 14:00",
          "22-12-08 18:00",
          "22-12-08 22:00",
          "22-12-09 02:00",
          "22-12-09 06:00",
          "22-12-09 10:00",
          "22-12-09 14:00",
          "22-12-09 18:00",
          "22-12-11 22:00",
          "22-12-12 02:00",
          "22-12-12 06:00",
          "22-12-12 10:00",
          "22-12-12 14:00",
          "22-12-12 18:00",
          "22-12-12 22:00",
          "22-12-13 02:00",
          "22-12-13 06:00",
          "22-12-13 10:00",
          "22-12-13 14:00",
          "22-12-13 18:00",
          "22-12-13 22:00",
          "22-12-14 02:00",
          "22-12-14 06:00",
          "22-12-14 10:00",
          "22-12-14 14:00",
          "22-12-14 18:00",
          "22-12-14 22:00",
          "22-12-15 02:00",
          "22-12-15 06:00",
          "22-12-15 10:00",
          "22-12-15 14:00",
          "22-12-15 18:00",
          "22-12-15 22:00",
          "22-12-16 02:00",
          "22-12-16 06:00",
          "22-12-16 10:00",
          "22-12-16 14:00",
          "22-12-16 18:00",
          "22-12-18 22:00",
          "22-12-19 02:00",
          "22-12-19 06:00",
          "22-12-19 10:00",
          "22-12-19 14:00",
          "22-12-19 18:00",
          "22-12-19 22:00",
          "22-12-20 02:00",
          "22-12-20 06:00",
          "22-12-20 10:00",
          "22-12-20 14:00",
          "22-12-20 18:00",
          "22-12-20 22:00",
          "22-12-21 02:00",
          "22-12-21 06:00",
          "22-12-21 10:00",
          "22-12-21 14:00",
          "22-12-21 18:00",
          "22-12-21 22:00",
          "22-12-22 02:00",
          "22-12-22 06:00",
          "22-12-22 10:00",
          "22-12-22 14:00",
          "22-12-22 18:00",
          "22-12-22 22:00",
          "22-12-23 02:00",
          "22-12-23 06:00",
          "22-12-23 10:00",
          "22-12-23 14:00",
          "22-12-23 18:00",
          "22-12-26 22:00",
          "22-12-27 02:00",
          "22-12-27 06:00",
          "22-12-27 10:00",
          "22-12-27 14:00",
          "22-12-27 18:00",
          "22-12-27 22:00",
          "22-12-28 02:00",
          "22-12-28 06:00"
         ],
         "y": {
          "bdata": "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",
          "dtype": "f8"
         }
        }
       ],
       "layout": {
        "font": {
         "color": "#e1e1e1",
         "size": 8
        },
        "height": 400,
        "margin": {
         "b": 10,
         "l": 10,
         "r": 10,
         "t": 10
        },
        "paper_bgcolor": "#2c303c",
        "plot_bgcolor": "#2c303c",
        "template": {
         "data": {
          "bar": [
           {
            "error_x": {
             "color": "#2a3f5f"
            },
            "error_y": {
             "color": "#2a3f5f"
            },
            "marker": {
             "line": {
              "color": "#E5ECF6",
              "width": 0.5
             },
             "pattern": {
              "fillmode": "overlay",
              "size": 10,
              "solidity": 0.2
             }
            },
            "type": "bar"
           }
          ],
          "barpolar": [
           {
            "marker": {
             "line": {
              "color": "#E5ECF6",
              "width": 0.5
             },
             "pattern": {
              "fillmode": "overlay",
              "size": 10,
              "solidity": 0.2
             }
            },
            "type": "barpolar"
           }
          ],
          "carpet": [
           {
            "aaxis": {
             "endlinecolor": "#2a3f5f",
             "gridcolor": "white",
             "linecolor": "white",
             "minorgridcolor": "white",
             "startlinecolor": "#2a3f5f"
            },
            "baxis": {
             "endlinecolor": "#2a3f5f",
             "gridcolor": "white",
             "linecolor": "white",
             "minorgridcolor": "white",
             "startlinecolor": "#2a3f5f"
            },
            "type": "carpet"
           }
          ],
          "choropleth": [
           {
            "colorbar": {
             "outlinewidth": 0,
             "ticks": ""
            },
            "type": "choropleth"
           }
          ],
          "contour": [
           {
            "colorbar": {
             "outlinewidth": 0,
             "ticks": ""
            },
            "colorscale": [
             [
              0,
              "#0d0887"
             ],
             [
              0.1111111111111111,
              "#46039f"
             ],
             [
              0.2222222222222222,
              "#7201a8"
             ],
             [
              0.3333333333333333,
              "#9c179e"
             ],
             [
              0.4444444444444444,
              "#bd3786"
             ],
             [
              0.5555555555555556,
              "#d8576b"
             ],
             [
              0.6666666666666666,
              "#ed7953"
             ],
             [
              0.7777777777777778,
              "#fb9f3a"
             ],
             [
              0.8888888888888888,
              "#fdca26"
             ],
             [
              1,
              "#f0f921"
             ]
            ],
            "type": "contour"
           }
          ],
          "contourcarpet": [
           {
            "colorbar": {
             "outlinewidth": 0,
             "ticks": ""
            },
            "type": "contourcarpet"
           }
          ],
          "heatmap": [
           {
            "colorbar": {
             "outlinewidth": 0,
             "ticks": ""
            },
            "colorscale": [
             [
              0,
              "#0d0887"
             ],
             [
              0.1111111111111111,
              "#46039f"
             ],
             [
              0.2222222222222222,
              "#7201a8"
             ],
             [
              0.3333333333333333,
              "#9c179e"
             ],
             [
              0.4444444444444444,
              "#bd3786"
             ],
             [
              0.5555555555555556,
              "#d8576b"
             ],
             [
              0.6666666666666666,
              "#ed7953"
             ],
             [
              0.7777777777777778,
              "#fb9f3a"
             ],
             [
              0.8888888888888888,
              "#fdca26"
             ],
             [
              1,
              "#f0f921"
             ]
            ],
            "type": "heatmap"
           }
          ],
          "histogram": [
           {
            "marker": {
             "pattern": {
              "fillmode": "overlay",
              "size": 10,
              "solidity": 0.2
             }
            },
            "type": "histogram"
           }
          ],
          "histogram2d": [
           {
            "colorbar": {
             "outlinewidth": 0,
             "ticks": ""
            },
            "colorscale": [
             [
              0,
              "#0d0887"
             ],
             [
              0.1111111111111111,
              "#46039f"
             ],
             [
              0.2222222222222222,
              "#7201a8"
             ],
             [
              0.3333333333333333,
              "#9c179e"
             ],
             [
              0.4444444444444444,
              "#bd3786"
             ],
             [
              0.5555555555555556,
              "#d8576b"
             ],
             [
              0.6666666666666666,
              "#ed7953"
             ],
             [
              0.7777777777777778,
              "#fb9f3a"
             ],
             [
              0.8888888888888888,
              "#fdca26"
             ],
             [
              1,
              "#f0f921"
             ]
            ],
            "type": "histogram2d"
           }
          ],
          "histogram2dcontour": [
           {
            "colorbar": {
             "outlinewidth": 0,
             "ticks": ""
            },
            "colorscale": [
             [
              0,
              "#0d0887"
             ],
             [
              0.1111111111111111,
              "#46039f"
             ],
             [
              0.2222222222222222,
              "#7201a8"
             ],
             [
              0.3333333333333333,
              "#9c179e"
             ],
             [
              0.4444444444444444,
              "#bd3786"
             ],
             [
              0.5555555555555556,
              "#d8576b"
             ],
             [
              0.6666666666666666,
              "#ed7953"
             ],
             [
              0.7777777777777778,
              "#fb9f3a"
             ],
             [
              0.8888888888888888,
              "#fdca26"
             ],
             [
              1,
              "#f0f921"
             ]
            ],
            "type": "histogram2dcontour"
           }
          ],
          "mesh3d": [
           {
            "colorbar": {
             "outlinewidth": 0,
             "ticks": ""
            },
            "type": "mesh3d"
           }
          ],
          "parcoords": [
           {
            "line": {
             "colorbar": {
              "outlinewidth": 0,
              "ticks": ""
             }
            },
            "type": "parcoords"
           }
          ],
          "pie": [
           {
            "automargin": true,
            "type": "pie"
           }
          ],
          "scatter": [
           {
            "fillpattern": {
             "fillmode": "overlay",
             "size": 10,
             "solidity": 0.2
            },
            "type": "scatter"
           }
          ],
          "scatter3d": [
           {
            "line": {
             "colorbar": {
              "outlinewidth": 0,
              "ticks": ""
             }
            },
            "marker": {
             "colorbar": {
              "outlinewidth": 0,
              "ticks": ""
             }
            },
            "type": "scatter3d"
           }
          ],
          "scattercarpet": [
           {
            "marker": {
             "colorbar": {
              "outlinewidth": 0,
              "ticks": ""
             }
            },
            "type": "scattercarpet"
           }
          ],
          "scattergeo": [
           {
            "marker": {
             "colorbar": {
              "outlinewidth": 0,
              "ticks": ""
             }
            },
            "type": "scattergeo"
           }
          ],
          "scattergl": [
           {
            "marker": {
             "colorbar": {
              "outlinewidth": 0,
              "ticks": ""
             }
            },
            "type": "scattergl"
           }
          ],
          "scattermap": [
           {
            "marker": {
             "colorbar": {
              "outlinewidth": 0,
              "ticks": ""
             }
            },
            "type": "scattermap"
           }
          ],
          "scattermapbox": [
           {
            "marker": {
             "colorbar": {
              "outlinewidth": 0,
              "ticks": ""
             }
            },
            "type": "scattermapbox"
           }
          ],
          "scatterpolar": [
           {
            "marker": {
             "colorbar": {
              "outlinewidth": 0,
              "ticks": ""
             }
            },
            "type": "scatterpolar"
           }
          ],
          "scatterpolargl": [
           {
            "marker": {
             "colorbar": {
              "outlinewidth": 0,
              "ticks": ""
             }
            },
            "type": "scatterpolargl"
           }
          ],
          "scatterternary": [
           {
            "marker": {
             "colorbar": {
              "outlinewidth": 0,
              "ticks": ""
             }
            },
            "type": "scatterternary"
           }
          ],
          "surface": [
           {
            "colorbar": {
             "outlinewidth": 0,
             "ticks": ""
            },
            "colorscale": [
             [
              0,
              "#0d0887"
             ],
             [
              0.1111111111111111,
              "#46039f"
             ],
             [
              0.2222222222222222,
              "#7201a8"
             ],
             [
              0.3333333333333333,
              "#9c179e"
             ],
             [
              0.4444444444444444,
              "#bd3786"
             ],
             [
              0.5555555555555556,
              "#d8576b"
             ],
             [
              0.6666666666666666,
              "#ed7953"
             ],
             [
              0.7777777777777778,
              "#fb9f3a"
             ],
             [
              0.8888888888888888,
              "#fdca26"
             ],
             [
              1,
              "#f0f921"
             ]
            ],
            "type": "surface"
           }
          ],
          "table": [
           {
            "cells": {
             "fill": {
              "color": "#EBF0F8"
             },
             "line": {
              "color": "white"
             }
            },
            "header": {
             "fill": {
              "color": "#C8D4E3"
             },
             "line": {
              "color": "white"
             }
            },
            "type": "table"
           }
          ]
         },
         "layout": {
          "annotationdefaults": {
           "arrowcolor": "#2a3f5f",
           "arrowhead": 0,
           "arrowwidth": 1
          },
          "autotypenumbers": "strict",
          "coloraxis": {
           "colorbar": {
            "outlinewidth": 0,
            "ticks": ""
           }
          },
          "colorscale": {
           "diverging": [
            [
             0,
             "#8e0152"
            ],
            [
             0.1,
             "#c51b7d"
            ],
            [
             0.2,
             "#de77ae"
            ],
            [
             0.3,
             "#f1b6da"
            ],
            [
             0.4,
             "#fde0ef"
            ],
            [
             0.5,
             "#f7f7f7"
            ],
            [
             0.6,
             "#e6f5d0"
            ],
            [
             0.7,
             "#b8e186"
            ],
            [
             0.8,
             "#7fbc41"
            ],
            [
             0.9,
             "#4d9221"
            ],
            [
             1,
             "#276419"
            ]
           ],
           "sequential": [
            [
             0,
             "#0d0887"
            ],
            [
             0.1111111111111111,
             "#46039f"
            ],
            [
             0.2222222222222222,
             "#7201a8"
            ],
            [
             0.3333333333333333,
             "#9c179e"
            ],
            [
             0.4444444444444444,
             "#bd3786"
            ],
            [
             0.5555555555555556,
             "#d8576b"
            ],
            [
             0.6666666666666666,
             "#ed7953"
            ],
            [
             0.7777777777777778,
             "#fb9f3a"
            ],
            [
             0.8888888888888888,
             "#fdca26"
            ],
            [
             1,
             "#f0f921"
            ]
           ],
           "sequentialminus": [
            [
             0,
             "#0d0887"
            ],
            [
             0.1111111111111111,
             "#46039f"
            ],
            [
             0.2222222222222222,
             "#7201a8"
            ],
            [
             0.3333333333333333,
             "#9c179e"
            ],
            [
             0.4444444444444444,
             "#bd3786"
            ],
            [
             0.5555555555555556,
             "#d8576b"
            ],
            [
             0.6666666666666666,
             "#ed7953"
            ],
            [
             0.7777777777777778,
             "#fb9f3a"
            ],
            [
             0.8888888888888888,
             "#fdca26"
            ],
            [
             1,
             "#f0f921"
            ]
           ]
          },
          "colorway": [
           "#636efa",
           "#EF553B",
           "#00cc96",
           "#ab63fa",
           "#FFA15A",
           "#19d3f3",
           "#FF6692",
           "#B6E880",
           "#FF97FF",
           "#FECB52"
          ],
          "font": {
           "color": "#2a3f5f"
          },
          "geo": {
           "bgcolor": "white",
           "lakecolor": "white",
           "landcolor": "#E5ECF6",
           "showlakes": true,
           "showland": true,
           "subunitcolor": "white"
          },
          "hoverlabel": {
           "align": "left"
          },
          "hovermode": "closest",
          "mapbox": {
           "style": "light"
          },
          "paper_bgcolor": "white",
          "plot_bgcolor": "#E5ECF6",
          "polar": {
           "angularaxis": {
            "gridcolor": "white",
            "linecolor": "white",
            "ticks": ""
           },
           "bgcolor": "#E5ECF6",
           "radialaxis": {
            "gridcolor": "white",
            "linecolor": "white",
            "ticks": ""
           }
          },
          "scene": {
           "xaxis": {
            "backgroundcolor": "#E5ECF6",
            "gridcolor": "white",
            "gridwidth": 2,
            "linecolor": "white",
            "showbackground": true,
            "ticks": "",
            "zerolinecolor": "white"
           },
           "yaxis": {
            "backgroundcolor": "#E5ECF6",
            "gridcolor": "white",
            "gridwidth": 2,
            "linecolor": "white",
            "showbackground": true,
            "ticks": "",
            "zerolinecolor": "white"
           },
           "zaxis": {
            "backgroundcolor": "#E5ECF6",
            "gridcolor": "white",
            "gridwidth": 2,
            "linecolor": "white",
            "showbackground": true,
            "ticks": "",
            "zerolinecolor": "white"
           }
          },
          "shapedefaults": {
           "line": {
            "color": "#2a3f5f"
           }
          },
          "ternary": {
           "aaxis": {
            "gridcolor": "white",
            "linecolor": "white",
            "ticks": ""
           },
           "baxis": {
            "gridcolor": "white",
            "linecolor": "white",
            "ticks": ""
           },
           "bgcolor": "#E5ECF6",
           "caxis": {
            "gridcolor": "white",
            "linecolor": "white",
            "ticks": ""
           }
          },
          "title": {
           "x": 0.05
          },
          "xaxis": {
           "automargin": true,
           "gridcolor": "white",
           "linecolor": "white",
           "ticks": "",
           "title": {
            "standoff": 15
           },
           "zerolinecolor": "white",
           "zerolinewidth": 2
          },
          "yaxis": {
           "automargin": true,
           "gridcolor": "white",
           "linecolor": "white",
           "ticks": "",
           "title": {
            "standoff": 15
           },
           "zerolinecolor": "white",
           "zerolinewidth": 2
          }
         }
        },
        "width": 900,
        "xaxis": {
         "gridcolor": "#1F292F",
         "nticks": 5,
         "rangeslider": {
          "visible": false
         }
        },
        "yaxis": {
         "gridcolor": "#1f292f"
        }
       }
      }
     },
     "metadata": {},
     "output_type": "display_data"
    }
   ],
   "source": [
    "cp = CandlePlot(df_plot)\n",
    "cp.show_plot(line_traces=traces)\n",
    "\n",
    "\n"
   ]
  },
  {
   "cell_type": "code",
   "execution_count": 61,
   "metadata": {},
   "outputs": [],
   "source": [
    "MA_S = \"MA_50\"\n",
    "MA_L = \"MA_200\"\n",
    "BUY = 1\n",
    "SELL = -1\n",
    "NONE = 0"
   ]
  },
  {
   "cell_type": "code",
   "execution_count": 70,
   "metadata": {},
   "outputs": [],
   "source": [
    "df_an = df_ma[['time', 'mid_o', 'mid_h', 'mid_l', 'mid_c', MA_S, MA_L]].copy()"
   ]
  },
  {
   "cell_type": "code",
   "execution_count": 63,
   "metadata": {},
   "outputs": [
    {
     "data": {
      "text/html": [
       "<div>\n",
       "<style scoped>\n",
       "    .dataframe tbody tr th:only-of-type {\n",
       "        vertical-align: middle;\n",
       "    }\n",
       "\n",
       "    .dataframe tbody tr th {\n",
       "        vertical-align: top;\n",
       "    }\n",
       "\n",
       "    .dataframe thead th {\n",
       "        text-align: right;\n",
       "    }\n",
       "</style>\n",
       "<table border=\"1\" class=\"dataframe\">\n",
       "  <thead>\n",
       "    <tr style=\"text-align: right;\">\n",
       "      <th></th>\n",
       "      <th>time</th>\n",
       "      <th>mid_o</th>\n",
       "      <th>mid_h</th>\n",
       "      <th>mid_l</th>\n",
       "      <th>mid_c</th>\n",
       "      <th>MA_50</th>\n",
       "      <th>MA_200</th>\n",
       "    </tr>\n",
       "  </thead>\n",
       "  <tbody>\n",
       "    <tr>\n",
       "      <th>0</th>\n",
       "      <td>2022-09-01 01:00:00+00:00</td>\n",
       "      <td>1.00236</td>\n",
       "      <td>1.00320</td>\n",
       "      <td>1.00092</td>\n",
       "      <td>1.00144</td>\n",
       "      <td>0.998435</td>\n",
       "      <td>1.014479</td>\n",
       "    </tr>\n",
       "    <tr>\n",
       "      <th>1</th>\n",
       "      <td>2022-09-01 05:00:00+00:00</td>\n",
       "      <td>1.00142</td>\n",
       "      <td>1.00489</td>\n",
       "      <td>1.00078</td>\n",
       "      <td>1.00372</td>\n",
       "      <td>0.998457</td>\n",
       "      <td>1.014452</td>\n",
       "    </tr>\n",
       "    <tr>\n",
       "      <th>2</th>\n",
       "      <td>2022-09-01 09:00:00+00:00</td>\n",
       "      <td>1.00370</td>\n",
       "      <td>1.00469</td>\n",
       "      <td>0.99859</td>\n",
       "      <td>0.99884</td>\n",
       "      <td>0.998358</td>\n",
       "      <td>1.014400</td>\n",
       "    </tr>\n",
       "    <tr>\n",
       "      <th>3</th>\n",
       "      <td>2022-09-01 13:00:00+00:00</td>\n",
       "      <td>0.99885</td>\n",
       "      <td>0.99998</td>\n",
       "      <td>0.99108</td>\n",
       "      <td>0.99368</td>\n",
       "      <td>0.998204</td>\n",
       "      <td>1.014303</td>\n",
       "    </tr>\n",
       "    <tr>\n",
       "      <th>4</th>\n",
       "      <td>2022-09-01 17:00:00+00:00</td>\n",
       "      <td>0.99368</td>\n",
       "      <td>0.99602</td>\n",
       "      <td>0.99356</td>\n",
       "      <td>0.99470</td>\n",
       "      <td>0.998085</td>\n",
       "      <td>1.014208</td>\n",
       "    </tr>\n",
       "  </tbody>\n",
       "</table>\n",
       "</div>"
      ],
      "text/plain": [
       "                       time    mid_o    mid_h    mid_l    mid_c     MA_50  \\\n",
       "0 2022-09-01 01:00:00+00:00  1.00236  1.00320  1.00092  1.00144  0.998435   \n",
       "1 2022-09-01 05:00:00+00:00  1.00142  1.00489  1.00078  1.00372  0.998457   \n",
       "2 2022-09-01 09:00:00+00:00  1.00370  1.00469  0.99859  0.99884  0.998358   \n",
       "3 2022-09-01 13:00:00+00:00  0.99885  0.99998  0.99108  0.99368  0.998204   \n",
       "4 2022-09-01 17:00:00+00:00  0.99368  0.99602  0.99356  0.99470  0.998085   \n",
       "\n",
       "     MA_200  \n",
       "0  1.014479  \n",
       "1  1.014452  \n",
       "2  1.014400  \n",
       "3  1.014303  \n",
       "4  1.014208  "
      ]
     },
     "execution_count": 63,
     "metadata": {},
     "output_type": "execute_result"
    }
   ],
   "source": [
    "df_an.head()"
   ]
  },
  {
   "cell_type": "code",
   "execution_count": 71,
   "metadata": {},
   "outputs": [],
   "source": [
    "df_an['DELTA'] = df_an.MA_50 - df_an.MA_200\n",
    "df_an['DELTA_PREV'] = df_an.DELTA.shift(1)"
   ]
  },
  {
   "cell_type": "code",
   "execution_count": 72,
   "metadata": {},
   "outputs": [],
   "source": [
    "def is_trade(row):\n",
    "    if row.DELTA >= 0 and row.DELTA_PREV < 0:\n",
    "        return BUY\n",
    "    elif row.DELTA < 0 and row.DELTA_PREV >=0:\n",
    "        return SELL\n",
    "    return NONE"
   ]
  },
  {
   "cell_type": "code",
   "execution_count": 73,
   "metadata": {},
   "outputs": [],
   "source": [
    "df_an['TRADE'] = df_an.apply(is_trade, axis=1)"
   ]
  },
  {
   "cell_type": "code",
   "execution_count": 74,
   "metadata": {},
   "outputs": [],
   "source": [
    "df_trades = df_an[df_an.TRADE != NONE].copy()"
   ]
  },
  {
   "cell_type": "code",
   "execution_count": 75,
   "metadata": {},
   "outputs": [
    {
     "data": {
      "text/html": [
       "<div>\n",
       "<style scoped>\n",
       "    .dataframe tbody tr th:only-of-type {\n",
       "        vertical-align: middle;\n",
       "    }\n",
       "\n",
       "    .dataframe tbody tr th {\n",
       "        vertical-align: top;\n",
       "    }\n",
       "\n",
       "    .dataframe thead th {\n",
       "        text-align: right;\n",
       "    }\n",
       "</style>\n",
       "<table border=\"1\" class=\"dataframe\">\n",
       "  <thead>\n",
       "    <tr style=\"text-align: right;\">\n",
       "      <th></th>\n",
       "      <th>time</th>\n",
       "      <th>mid_o</th>\n",
       "      <th>mid_h</th>\n",
       "      <th>mid_l</th>\n",
       "      <th>mid_c</th>\n",
       "      <th>MA_50</th>\n",
       "      <th>MA_200</th>\n",
       "      <th>DELTA</th>\n",
       "      <th>DELTA_PREV</th>\n",
       "      <th>TRADE</th>\n",
       "    </tr>\n",
       "  </thead>\n",
       "  <tbody>\n",
       "    <tr>\n",
       "      <th>238</th>\n",
       "      <td>2022-10-26 17:00:00+00:00</td>\n",
       "      <td>1.00765</td>\n",
       "      <td>1.00888</td>\n",
       "      <td>1.00670</td>\n",
       "      <td>1.00852</td>\n",
       "      <td>0.984370</td>\n",
       "      <td>0.984238</td>\n",
       "      <td>0.000132</td>\n",
       "      <td>-0.000472</td>\n",
       "      <td>1</td>\n",
       "    </tr>\n",
       "    <tr>\n",
       "      <th>702</th>\n",
       "      <td>2023-02-14 02:00:00+00:00</td>\n",
       "      <td>1.07286</td>\n",
       "      <td>1.07400</td>\n",
       "      <td>1.07255</td>\n",
       "      <td>1.07384</td>\n",
       "      <td>1.077191</td>\n",
       "      <td>1.077214</td>\n",
       "      <td>-0.000023</td>\n",
       "      <td>0.000543</td>\n",
       "      <td>-1</td>\n",
       "    </tr>\n",
       "    <tr>\n",
       "      <th>856</th>\n",
       "      <td>2023-03-21 17:00:00+00:00</td>\n",
       "      <td>1.07680</td>\n",
       "      <td>1.07745</td>\n",
       "      <td>1.07564</td>\n",
       "      <td>1.07694</td>\n",
       "      <td>1.066944</td>\n",
       "      <td>1.066899</td>\n",
       "      <td>0.000045</td>\n",
       "      <td>-0.000433</td>\n",
       "      <td>1</td>\n",
       "    </tr>\n",
       "    <tr>\n",
       "      <th>1093</th>\n",
       "      <td>2023-05-16 05:00:00+00:00</td>\n",
       "      <td>1.08830</td>\n",
       "      <td>1.08978</td>\n",
       "      <td>1.08629</td>\n",
       "      <td>1.08914</td>\n",
       "      <td>1.096063</td>\n",
       "      <td>1.096156</td>\n",
       "      <td>-0.000093</td>\n",
       "      <td>0.000303</td>\n",
       "      <td>-1</td>\n",
       "    </tr>\n",
       "    <tr>\n",
       "      <th>1241</th>\n",
       "      <td>2023-06-19 21:00:00+00:00</td>\n",
       "      <td>1.09226</td>\n",
       "      <td>1.09264</td>\n",
       "      <td>1.09170</td>\n",
       "      <td>1.09204</td>\n",
       "      <td>1.082657</td>\n",
       "      <td>1.082548</td>\n",
       "      <td>0.000109</td>\n",
       "      <td>-0.000409</td>\n",
       "      <td>1</td>\n",
       "    </tr>\n",
       "  </tbody>\n",
       "</table>\n",
       "</div>"
      ],
      "text/plain": [
       "                          time    mid_o    mid_h    mid_l    mid_c     MA_50  \\\n",
       "238  2022-10-26 17:00:00+00:00  1.00765  1.00888  1.00670  1.00852  0.984370   \n",
       "702  2023-02-14 02:00:00+00:00  1.07286  1.07400  1.07255  1.07384  1.077191   \n",
       "856  2023-03-21 17:00:00+00:00  1.07680  1.07745  1.07564  1.07694  1.066944   \n",
       "1093 2023-05-16 05:00:00+00:00  1.08830  1.08978  1.08629  1.08914  1.096063   \n",
       "1241 2023-06-19 21:00:00+00:00  1.09226  1.09264  1.09170  1.09204  1.082657   \n",
       "\n",
       "        MA_200     DELTA  DELTA_PREV  TRADE  \n",
       "238   0.984238  0.000132   -0.000472      1  \n",
       "702   1.077214 -0.000023    0.000543     -1  \n",
       "856   1.066899  0.000045   -0.000433      1  \n",
       "1093  1.096156 -0.000093    0.000303     -1  \n",
       "1241  1.082548  0.000109   -0.000409      1  "
      ]
     },
     "execution_count": 75,
     "metadata": {},
     "output_type": "execute_result"
    }
   ],
   "source": [
    "df_trades.head()"
   ]
  },
  {
   "cell_type": "code",
   "execution_count": 76,
   "metadata": {},
   "outputs": [
    {
     "data": {
      "application/vnd.plotly.v1+json": {
       "config": {
        "plotlyServerURL": "https://plot.ly"
       },
       "data": [
        {
         "close": {
          "bdata": "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",
          "dtype": "f8"
         },
         "decreasing": {
          "fillcolor": "#CC2E3C",
          "line": {
           "color": "#FF3A4C"
          }
         },
         "high": {
          "bdata": "KNU+HY8Z7z8YPiKmRBLvP3hF8L+V7O4/QWX8+4wL7z+4AZ8fRgjvP+uoaoKo++4/5bM8D+7O7j+dhT3t8NfuP3WOAdnr3e4/bcX+snvy7j/Bc+/hkuPuP85THXIz3O4/mnecoiO57j/UZTGx+bjuPxTtKqT8pO4/dCmuKvuu7j9CsoAJ3LruP6nBNAwfEe8/FYxK6gQ07z/uPVxy3CnvP0PFOH8TCu8/cayL22gA7z/GFoIclDDvP9HLKJZbWu8/f03WqIdo7z//5zBfXoDvP4fEPZY+dO8/Ksb5m1CI7z+z0qQUdHvvP+xph78ma+8/8PlhhPBo7z8Wwf9WsmPvPzKP/MHAc+8/f6SIDKt47z/XEvJBz2bvP40LB0KygO8/+aBns+pz7z+z0qQUdHvvP29kHvmDge8/7fXuj/eq7z/t0/GYgcrvPwlQU8vW+u8/ctwpHaz/7z8rhxbZzvfvP0bOwp52+O8/XFX2XRH87z+bVZ+rrdjvP7a+SGjLue8/CD2bVZ+r7z9rYKsEi8PvP/mDgefew+8/a2CrBIvD7z+OQLyuX7DvP4QSZtr+le8/fO2ZJQFq7z9AGHjuPVzvP/W52or9Ze8/YHZPHhZq7z/aci7FVWXvPzCBW3fzVO8/ie/ErBdD7z+VSKKXUSzvP2dhTzv8Ne8/WfrQBfUt7z+Zgcr49xnvPzjzqzlAMO8/PSzUmuYd7z+wOJz51RzvPyRFZFjFG+8/H4XrUbge7z99kdCWcynvP4HPDyOER+8/cAhVavZA7z/wFkhQ/BjvP/T91HjpJu8/MEymCkYl7z+0yHa+nxrvP8GopE5AE+8/JXUCmggb7z9cA1slWBzvP4P6ljldFu8/Ek4LXvQV7z+E2JlC5zXvPyTRyyiWW+8/jC0EOShh7z+zzY3pCUvvP4idKXReY+8/fZbnwd1Z7z9FgT6RJ0nvP5V9VwT/W+8/FAX6RJ4k7z8yA5Xx7zPvP4UIOIQqNe8/KbNBJhk57z9WSPlJtU/vPxCv6xfshu8/S80eaAWG7z9l5CzsaYfvPzSdnQyOku8/DaZh+IiY7z95O8JpwYvvP9FXkGYsmu8/HLYtymyQ7z8rTUpBt5fvP3Drbp7qkO8/OdbFbTSA7z9ybagY52/vP1j/5zBfXu8/QiECDqFK7z8qOpLLf0jvP3GPpQ9dUO8/ZK93f7xX7z+Xi/hOzHrvP4zbaABvge8/PIidKXRe7z8z4Zf6eVPvP63ddqG5Tu8/ke18PzVe7z/u68A5I0rvP2sr9pfdk+8/FJZ4QNmU7z8gJAuYwK3vPxQ/xty1hO8/O420VN6O7z/PoKF/govvP9QOf03WqO8/5q4l5IOe7z+y17s/3qvvPwXdXtIYre8/rvAuF/Gd7z/uztptF5rvP+nxe5v+7O8/uoPYmULn7z+94xQdyeXvP451cRsN4O8/GCZTBaMS8D9PzHoxlBPwPzUMHxFTIvA/amrZWl8k8D+fyJOkaybwP9+mP/uRIvA/GJXUCWgi8D/v5qkOuRnwP26jAbwFEvA/6njMQGX87z8MWd3qOenvPwNgPIOG/u8/mwMEc/T47z8HmWTkLOzvPyuHFtnO9+8/L8A+OnXl7z9Qx2MGKuPvPzIge7374+8/qbwd4bTg7z+8XMR3YtbvPwnE6/oFu+8/e0ljtI6q7z+g4GJFDabvP00ychb2tO8/E/JBz2bV7z8T8kHPZtXvP18HzhlR2u8/GH0Facai7z9OC170FaTvP+c1donqre8/FqQZi6az7z9HcvkP6bfvP3ugFRiyuu8/zqrP1Vbs7z/ZmULnNXbvP+lg/Z/DfO8/KA8LtaZ57z9O0ZFc/kPvPyvB4nDmV+8/Pzp15bM87z/PvYdLjjvvP8I0DB8RU+8/KGGm7V9Z7z9nRGlv8IXvP1dgyOpWz+8/TWcng6Pk7z8UIuAQqtTvP12nkZbK2+8/+z+H+fIC8D/Jcad0sP7vPyYeUDblCvA/PL1SliEO8D+Uap+OxwzwPy0+BcB4BvA/MxZNZycD8D+HM7+aAwTwP2ba/pWVJvA/nYAmwoYn8D/7Bbth2yLwP6NYbmk1JPA/UFPL1voi8D8KLlbUYBrwP6SIDKt4I/A/IqZEEr0M8D+yEYjX9QvwP4+qJoi6D/A//fZ14JwR8D+oxks3iUHwP3mvWpnwS/A/CYofY+5a8D9NEHUfgFTwP12/YDdsW/A/AJF++zpw8D9pjNZR1YTwPz7t8NdkjfA/oblOIy2V8D+sOUAwR4/wPymWW1oNifA/HebLC7CP8D9E3QcgtYnwP+T3Nv3Zj/A/wsBz7+GS8D9/EwoRcIjwP/Cnxks3ifA/CFVq9kCr8D+h1jTvOMXwP7yuX7AbtvA/5X6HokCf8D/AeAYN/ZPwP8o329yYnvA/5x2n6Eiu8D8WpBmLprPwP36pnzcVqfA/9kVCW86l8D/61RwgmKPwP1vTvOMUnfA/2J5ZEqCm8D9IxJRIopfwP6d5xyk6kvA/D+7O2m2X8D9eY5eo3prwP6pgVFInoPA/w0fElEii8D8DJnDrbp7wP2MLQQ5KmPA/J07udyiK8D/UYBqGj4jwP8cpOpLLf/A/odtLGqN18D/w+WGE8GjwP0GfyJOka/A/veMUHcll8D8gmKPH723wPwQ5KGGmbfA/E7h1N0918D+BBMWPMXfwP7dif9k9efA/5wDBHD1+8D+IS447pYPwPw9/Tdaoh/A/O420VN6O8D/PoKF/govwP5OpglFJnfA/vFetTPil8D+R0JZzKa7wPw+cM6K0t/A/+RQA4xm08D/HRiBe16/wPzo7GRwlr/A/KCzxgLKp8D+Z2HxcG6rwP8dGIF7Xr/A/5dU5BmSv8D8G9S1zuqzwPyp0XmOXqPA/fXkB9tGp8D+TqYJRSZ3wPy/dJAaBlfA/7Eyh8xq78D+WPnRBfcvwP3bgnBGlvfA/m8k329yY8D9q+1dWmpTwP6gAGM+gofA/qTC2EOSg8D83VIzzN6HwP5vJN9vcmPA/BOeMKO2N8D/GUE60q5DwP2sr9pfdk/A/B7ZKsDic8D//lZUmpaDwP6RwPQrXo/A/j3Ba8KKv8D/WxW00gLfwP2Kh1jTvuPA/WVGDaRi+8D8YsrrVc9LwP9CzWfW52vA/0xOWeEDZ8D+wrDQpBd3wP9RDNLqD2PA/j6UPXVDf8D/Jk6RrJt/wP7Q8D+7O2vA/A7LXuz/e8D9eLuI7MevwP1YOLbKd7/A/dLUV+8vu8D/ByqFFtvPwP341Bwjm6PA/yCQjZ2HP8D8xmSoYldTwP1BwsaIG0/A/cHfWbrvQ8D9fB84ZUdrwPw0a+ie42PA/9gt2w7bF8D8YWwhyUMLwP9481SE3w/A/n47HDFTG8D9y/iYUIuDwP/7xXrUy4fA/uMzpspjY8D8z+WabG9PwP6uVCb/Uz/A/YTdsW5TZ8D/uWkI+6NnwP4GVQ4ts5/A/u5unOuTm8D8AqU2c3O/wP1XejnBa8PA//mDguffw8D9ivrwA++jwP74Ts14M5fA/iIVa07zj8D+TNeohGt3wP/eSxmgd1fA/D9HoDmLn8D94RfC/lezwP3b9gt2w7fA/zSN/MPDc8D834PPDCOHwP2w+rg0V4/A/2VpfJLTl8D86deWzPA/xP93vUBToE/E/Ece6uI0G8T+Eu7N22wXxP2hcOBCSBfE/HLYtymwQ8T8zbf/KShPxPxpuwOeHEfE/W+uLhLYc8T+Amlq21hfxP416iEZ3EPE/5j+k374O8T9SRIZVvBHxP+hNRSqMLfE/Ew8om3IF8T8MHxFTIgnxPwGHUKVmD/E/HebLC7AP8T/ZCMTr+gXxP5kqGJXUCfE/Pq4NFeP88D9GzsKedvjwP5dzKa4q+/A/kzoBTYQN8T/ACYUIOATxPxjPoKF/AvE/OL72zJIA8T9CJhk5C/vwP7NBJhk5C/E/hNOCF30F8T+46c9+pAjxPz3VITfDDfE/qDrkZrgB8T/EsS5uowHxP44j1uJTAPE/Eyf3OxQF8T+cilQYWwjxP091yM1wA/E/y6FFtvP98D81XrpJDALxP9IYraOqCfE/PL1SliEO8T9381SH3AzxP5PjTulg/fA/EEBqEyf38D+dY0D2evfwPwlQU8vW+vA/w4GQLGAC8T9s7BLVWwPxP/s/h/nyAvE/ATCeQUP/8D8Id2fttgvxPx8uOe6UDvE//fZ14JwR8T8YPiKmRBLxPzylg/V/DvE/W3wKgPEM8T+cilQYWwjxP7fRAN4CCfE/XKyowTQM8T8+7fDXZA3xP06c3O9QFPE/+N9KdmwE8T8TJ/c7FAXxP4hjXdxGA/E/dsO2RZkN8T9v05/9SBHxP15jl6jeGvE/ZCMQr+sX8T/8xteeWRLxPx3mywuwD/E/v2A3bFsU8T+u2F92Tx7xP6SIDKt4I/E/MZQT7Sok8T8YldQJaCLxP1X7dDxmIPE/AfbRqSsf8T/RP8HFihrxPw/uztptF/E/ahMn9zsU8T/V52or9hfxPxEebRyxFvE/izIbZJIR8T+28/3UeOnwP2k1JO6x9PA/Yr68APvo8D9FL6NYbunwP3ctIR/07PA/Mc7fhEIE8T/HKTqSy//wP4zbaABvAfE/QiYZOQv78D9RpWYPtALxP5KzsKcd/vA/xLEubqMB8T/jcOZXcwDxP39N1qiH6PA/HxFTIone8D+Z9WIoJ9rwP12nkZbK2/A/fa62Yn/Z8D+PpQ9dUN/wP6FKzR5oBfE/DAdCsoAJ8T+Iug9AahPxP4CaWrbWF/E/O/w1WaMe8T9diqvKvivxPysTfqmfN/E/220Xmus08T/Jdr6fGi/xP3CxogbTMPE/MgOV8e8z8T9SCrq9pDHxP/NUh9wMN/E/jSjtDb4w8T82qz5XWzHxP0vqBDQRNvE/EfxvJTs28T9MGqN1VDXxP3XIzXADPvE/XynLEMc68T9agSGrWz3xP5NX5xiQPfE/Bkzg1t088T+dnQyOklfxP12nkZbKW/E/3gIJih9j8T9Pr5RliGPxP8mrcwzIXvE/NZiG4SNi8T9bXyS05VzxP52dDI6SV/E/Sphp+1dW8T/aci7FVWXxP0oH6/8cZvE/46qy74pg8T+7RPXWwFbxP/ryAuyjU/E/by9pjNZR8T9oP1JEhlXxP9obfGEyVfE/nZ0MjpJX8T/l8h/Sb1/xP/kx5q4lZPE/ms5OBkdJ8T9KQbeXNEbxP51GWipvR/E/MNgN2xZl8T8VkWEVb2TxP10WE5uPa/E/nUZaKm9H8T8sms5OBkfxPyfaVUj5SfE/T0ATYcNT8T9IUPwYc1fxP8R8eQH2UfE/8tJNYhBY8T+ZDTLJyFnxP5kNMsnIWfE/Vp+rrdhf8T/Qm4pUGFvxP5et9UVCW/E/HcnlP6Rf8T+NtFTejnDxPxmQvd79cfE/XW3F/rJ78T9JLv8h/XbxP9cS8kHPZvE/aJYEqKll8T+afLPNjWnxP+/Jw0KtafE/AKlNnNxv8T8NcayL22jxP7N78rBQa/E/B5lk5Cxs8T+uu3mqQ27xP+C593DJcfE/E7h1N0918T/RItv5fmrxP7UaEvdYevE/R+aRPxh48T+Xi/hOzHrxP0SGVbyRefE/6WD9n8N88T/AstKkFHTxP51LcVXZd/E/WFaalIJu8T83T3XIzXDxPwaBlUOLbPE/zGJi83Ft8T8C8bp+wW7xPw6hSs0eaPE/hA1Pr5Rl8T/0iTxJumbxP9Wytb5IaPE/GHjuPVxy8T8u51JcVXbxP420VN6OcPE/46qy74pg8T+q1OyBVmDxPzkoYabtX/E/eQYN/RNc8T/hYkUNpmHxP2wm32xzY/E/9aEL6ltm8T8YCW05l2LxP2ZmZmZmZvE/zsKedvhr8T+/gjRj0XTxP7QCQ1a3evE/YJM16iGa8T8s1JrmHafxP04LXvQVpPE/beLkfoei8T8lXTP5ZpvxP0BNLVvri/E/tTLhl/p58T/2QCswZHXxP1X2XRH8b/E/BaipZWt98T/hQEgWMIHxP54kXTP5ZvE/by9pjNZR8T8QI4RHG0fxP0j5SbVPR/E/10y+2eZG8T+Nf59x4UDxPyeDo+TVOfE/PIOG/gku8T8486s5QDDxPzjzqzlAMPE/qZ83Fakw8T9jesISDyjxP2BZaVIKOvE/KuPfZ1w48T93oblOIy3xP5MYBFYOLfE/ndfYJao38T/ZPXlYqDXxP+ONzCN/MPE/Htydtdsu8T8MzXUaaSnxP+cdp+hILvE/l/+Qfvs68T/Brbt5qkPxP8CV7NgIRPE/+3Q8ZqAy8T9UUiegiTDxPwb1LXO6LPE/o68gzVg08T8zxLEubiPxPzY8vVKWIfE/SfQyiuUW8T+5cCAkCxjxPzSFzmvsEvE/tMh2vp8a8T/o9pLGaB3xP9LGEWvxKfE/XrpJDAIr8T92cRsN4C3xP8l2vp8aL/E/taZ5xyk68T8o8iTpmknxPwd8fhghPPE/qG+Z02Ux8T83ww34/DDxP8l2vp8aL/E/XrpJDAIr8T+VSKKXUSzxPyeloNtLGvE/XkvIBz0b8T8ZraOqCSLxP76fGi/dJPE/gPEMGvon8T/cRgN4CyTxPz5cctwpHfE/dhppqbwd8T/4Nv3ZjxTxPz8djxmoDPE/kNrEyf0O8T/y7zMuHAjxP5Xx7zMuHPE/Az4/jBAe8T8/jBAebRzxP87fhEIEHPE/cVrwoq8g8T96qkNuhhvxPwe2SrA4HPE/mpmZmZkZ8T/RV5BmLBrxP/g2/dmPFPE/mYHK+PcZ8T/8xteeWRLxPwM+P4wQHvE/kNrEyf0O8T8czvxqDhDxP+QPBp57D/E/cjPcgM8P8T/R6A5iZwrxPzylg/V/DvE/v/G1Z5YE8T/Jcad0sP7wPx13Sgfr//A/cHztmSUB8T88TtGRXP7wPyJPkq6Z/PA/EEBqEyf38D965A8GnvvwP2NFDaZh+PA/n5PeN7728D+jO4idKfTwP2iWBKip5fA/wXPv4ZLj8D+FJR5QNuXwP0w3iUFg5fA/hPV/DvPl8D87x4Ds9e7wP8uhRbbz/fA/s+pztRX78D8kfzDw3PvwPxO4dTdP9fA/VDVB1H0A8T8Xt9EA3gLxP5yKVBhbCPE/DeAtkKD48D+rWz0nve/wP9wpHaz/8/A/r7FLVG8N8T9eS8gHPRvxP/W+8bVnFvE/NIXOa+wS8T8yVTAqqRPxPyKOdXEbDfE/8u8zLhwI8T8Xt9EA3gLxP7K61XPS+/A/Kld4l4v48D/rqGqCqPvwP5ZDi2zn+/A/qDrkZrgB8T/gEKrU7AHxP/2H9NvXAfE/S+XtCKcF8T+hSs0eaAXxP+5fWWlSCvE/6J/gYkUN8T9ZTGw+rg3xPz+MEB5tHPE/8BZIUPwY8T9gkzXqIRrxP87fhEIEHPE/IxXGFoIc8T+Iug9AahPxP8nIWdjTDvE/lxx3Sgfr8D/d0mpI3OPwP3L+JhQi4PA/jUXT2cng8D9UVz7L8+DwP3qlLEMc6/A/b57qkJvh8D9tVn2utuLwP8Fz7+GS4/A/02pI3GPp8D9Zbmk1JO7wP3FV2XdF8PA/UWaDTDLy8D9Mjjulg/XwP75qZcIv9fA/DeAtkKD48D9HVRNE3QfxP5Axdy0hH/E/3QcgtYkT8T9V+3Q8ZiDxP3ZxGw3gLfE/y74rgv8t8T/9TShEwCHxP1Vq9kArMPE/+3Q8ZqAy8T8+y/Pg7izxP0gzFk1nJ/E/aTo7GRwl8T/ChqdXyjLxP8YWghyUMPE/bCHIQQkz8T/KplzhXS7xP57vp8ZLN/E/NpNvtrkx8T+xv+yePCzxP4GVQ4ts5/A/GGAfnbry8D+FlJ9U+/TwPxBAahMn9/A/FVeVfVcE8T8f14aKcf7wP//PYb68APE/5wDBHD3+8D8DeAskKP7wP2A8g4b+CfE/30+Nl24S8T+RCmMLQQ7xP6LRHcTOFPE/RnwnZr0Y8T8npaDbSxrxP7TIdr6fGvE/u7iNBvAW8T9Lk1LQ7SXxP+zdH+9VK/E/Q3OdRloq8T8oRMAhVCnxP51oVyHlJ/E/dEF9y5wu8T/FPZY+dEHxP6VmD7QCQ/E/BTQRNjw98T+SPxh47j3xPyBj7lpCPvE/qfbpeMxA8T8rajANw0fxP/J7m/7sR/E/hGQBE7h18T8LKT+p9mnxPzS/mgMEc/E/zemymNh88T/goSjQJ3LxP/mgZ7Pqc/E/5nlwd9Zu8T+dnQyOklfxP4OG/gkuVvE/glZgyOpW8T9rSNxj6UPxP+58PzVeOvE/X0GasWg68T9zaJHtfD/xP1qBIatbPfE/OEpenWNA8T9yUMJM2z/xP6G+ZU6XRfE/K2owDcNH8T87AU2EDU/xP1ZI+Um1T/E/L1G9NbBV8T8Jih9j7lrxPwqi7gOQWvE/lpUmpaBb8T+zJEBNLVvxPwdCsoAJXPE/8bp+wW5Y8T8w2A3bFmXxP4+NQLyuX/E/Xb9gN2xb8T9BSBYwgVvxP2N/2T15WPE/8SkAxjNo8T++amXCL3XxP7PSpBR0e/E/FhiyutVz8T/WOQZkr3fxPwk4hCo1e/E/2uGvyRp18T+QFJFhFW/xP+HRxhFrcfE/hj3t8Ndk8T8L0oxF01nxP8pUwaikTvE/eQYN/RNc8T9Ip658lmfxPyyf5Xlwd/E/3CkdrP9z8T/4cMlxp3TxP/5IERlWcfE/HF97ZkmA8T9Wfa62Yn/xP3R7SWO0jvE/fxMKEXCI8T/on+BiRY3xP170FaQZi/E/PzVeukmM8T9DrWnecYrxPwdfmEwVjPE/+HDJcad08T+FlJ9U+3TxP6yL22gAb/E/SP5g4Ll38T9/pIgMq3jxP1VNEHUfgPE/OgZkr3d/8T/t8NdkjXrxP9PB+j+HefE/8WjjiLV48T9EhlW8kXnxP7vyWZ4Hd/E/ogvqW+Z08T+7Cik/qXbxP6VrJt9sc/E/ucK7XMR38T8sn+V5cHfxP8mTpGsmX/E//dmPFJFh8T8rGJXUCWjxP7JjIxCva/E/MEeP39t08T/rqGqCqHvxP7GiBtMwfPE/8rBQa5p38T8HCObo8XvxP80Bgjl6fPE/jjulg/V/8T8v3SQGgZXxP5qZmZmZmfE/RDS6g9iZ8T/P91PjpZvxPyV1ApoIm/E/h/nyAuyj8T+r56T3ja/xP77e/fFetfE/w7ZFmQ2y8T+oV8oyxLHxP5ynOuRmuPE/KcsQx7q48T8OhGQBE7jxPyp0XmOXqPE/DHbDtkWZ8T9kIxCv65fxP4i6D0Bqk/E/KNU+HY+Z8T/6fmq8dJPxP5yiI7n8h/E/BaipZWt98T+xijcyj3zxP40LB0KygPE/GCZTBaOS8T8YJlMFo5LxP6+ZfLPNjfE/rDlAMEeP8T+mYfiImJLxP2xblNkgk/E/dZMYBFaO8T+Y+nlTkYrxPxqGj4gpkfE/JNbiUwCM8T8MHxFTIonxP+53KAr0ifE/G55eKcuQ8T/dByC1iZPxP0xUbw1slfE/WBzO/GqO8T+RCmMLQY7xPwK37uapjvE/IEYIjzaO8T+EKjV7oJXxP4LK+PcZl/E/guLHmLuW8T+5cCAkC5jxP/N2hNOCl/E/rwj+t5Kd8T9rgqj7AKTxP/CFyVTBqPE/kdCWcymu8T9pqbwd4bTxP6J/gosVtfE//+xHisiw8T8IPZtVn6vxPxrdQexMofE/5Pc2/dmP8T9vu9Bcp5HxP8PwETElkvE/ehnFckur8T+IgEOoUrPxPzgyj/zBwPE/JuSDns2q8T93oblOI63xP+Olm8QgsPE/pN++Dpyz8T9wmdNlMbHxP/iNrz2zpPE/2c73U+Ol8T+Z8Ev9vKnxP0gbR6zFp/E/RuuoaoKo8T9i26LMBpnxP3npJjEIrPE/LgQ5KGGm8T9rgqj7AKTxP48ZqIx/n/E/k6mCUUmd8T9IMxZNZ6fxP5xQiIBDqPE/cRsN4C2Q8T8aho+IKZHxP54pdF5jl/E/zse1oWKc8T/D8BExJZLxP9An8iTpmvE/Iv32deCc8T8ZraOqCaLxP2cKndfYpfE/W0I+6Nms8T/pfeNrz6zxP+AtkKD4sfE/OpLLf0i/8T/MRXwnZr3xP5NX5xiQvfE/5US7Cim/8T9d4V0u4rvxP6q3BrZKsPE/9BWkGYum8T+Egefew6XxPwclzLT9q/E/WipvRzit8T+7Jw8LtabxPw39E1ysqPE/SBtHrMWn8T9rgqj7AKTxP0ATYcPTq/E/j3Ba8KKv8T/mBdhHp67xP89OBkfJq/E/S6shcY+l8T+WCb/Uz5vxP50Rpb3Bl/E/C0YldQKa8T9Q5EnSNZPxP170FaQZi/E/dZMYBFaO8T8gRgiPNo7xP6rx0k1ikPE/URToE3mS8T9cGyrG+ZvxP7FQa5p3nPE/+n5qvHST8T/0piIVxpbxP5vJN9vcmPE/bosyG2SS8T+jkjoBTYTxP+cAwRw9fvE/CTiEKjV78T9h/Z/DfHnxP11txf6ye/E/kGtDxTh/8T+5wrtcxHfxP+RJ0jWTb/E/AoI5evxe8T8Cmggbnl7xP1IP0egOYvE/f03WqIdo8T93LSEf9GzxP34dOGdEafE/KxiV1Alo8T9hpu1fWWnxP3zVyoRfavE/q1s9J71v8T/CEg8om3LxP3ldv2A3bPE/hj3t8Ndk8T8TYcPTK2XxPxIxJZLoZfE/UfcBSG1i8T9/3lSkwljxP+5Cc51GWvE/z2vsEtVb8T9CeLRxxFrxP12/YDdsW/E/LSEf9GxW8T8dWmQ730/xP/YLdsO2RfE/zEV8J2Y98T9W8UbmkT/xP662Yn/ZPfE/THFV2XdF8T/9gt2wbVHxP23/ykqTUvE/pKXydoRT8T9SuB6F61HxP4cW2c73U/E/qB3+mqxR8T9NEHUfgFTxP6gd/pqsUfE/OKEQAYdQ8T/H9IQlHlDxP5T2Bl+YTPE/BaOSOgFN8T8oCvSJPEnxP70d4bTgRfE/clDCTNs/8T+TV+cYkD3xPxzTE5Z4QPE/9gt2w7ZF8T+An3HhQEjxP6HWNO84RfE/RPrt68A58T/ZJaq3BjbxP01KQbeXNPE/jSjtDb4w8T+QiCmRRC/xP1xy3CkdLPE/tB8pIsMq8T/tDb4wmSrxPzojSnuDL/E/N8MN+Pww8T9JumbyzTbxP93NUx1yM/E/zjY3pics8T+0HykiwyrxP8vW+iKhLfE/xhaCHJQw8T+4rwPnjCjxP0zD8BExJfE/vp8aL90k8T+COXr83ibxP2Eaho+IKfE/bvqzHyki8T+L4H8r2THxP8he7/54L/E/IlSp2QMt8T8hPNo4Yi3xP8zuycNCLfE/rthfdk8e8T+amZmZmRnxPxv1EI3uIPE/626e6pAb8T+SkbOwpx3xP3h6pSxDHPE/04cuqG8Z8T9Mw/ARMSXxP9RlMbH5OPE/XynLEMc68T+aX80BgjnxP3uIRncQO/E/ArwFEhQ/8T8gY+5aQj7xP3lYqDXNO/E/vodLjjsl8T+JQWDl0CLxP/+VlSalIPE/AK5kx0Yg8T+RYRVvZB7xP51oVyHlJ/E/S5NS0O0l8T+h+DHmriXxP0bT2cngKPE/QPuRIjIs8T9zuiwmNh/xP8tneR7cHfE/IeUn1T4d8T+qSIWxhSDxPzrMlxdgH/E/QKTfvg4c8T+5x9KHLijxP+XtCKcFL/E/G/UQje4g8T+JQWDl0CLxP/ilft5UJPE/XrpJDAIr8T+eB3dn7TbxP22oGOdvQvE/NuohGt1B8T9v2LYos0HxP4tPATCeQfE/NxrAWyBB8T+p3hrYKkHxPyGTjJyFPfE/3J212y408T9Oet/42jPxP+FFX0GaMfE/GqN1VDVB8T/Brbt5qkPxPyPzyB8MPPE/uAa2SrA48T+1pnnHKTrxP6n26XjMQPE/s82N6QlL8T+MvoI0Y1HxPzsBTYQNT/E/RGlv8IVJ8T+DL0ymCkbxP2e4AZ8fRvE/mrZ/ZaVJ8T++pDFaR1XxP1IP0egOYvE/GlHaG3xh8T/uWkI+6FnxP/MC7KNTV/E/glZgyOpW8T/w+WGE8GjxPzMWTWcng/E/g6Pk1TmG8T+9qUiFsYXxP2qkpfJ2hPE/CtejcD2K8T/ohxHCo43xP+rnTUUqjPE/+ie4WFGD8T8WhzO/moPxP6hSswdagfE/Uu3T8ZiB8T9bJVgcznzxPz/G3LWEfPE/tTLhl/p58T+z0qQUdHvxP5ijx+9tevE/pMLYQpCD8T+M8zehEIHxP7QCQ1a3evE/ZF3cRgN48T/vIHam0HnxPygn2lVIefE/A2A8g4Z+8T/N6bKY2HzxPzuNtFTejvE/vQD76NSV8T/YR6eufJbxP9b/OcyXl/E/Cf63kh2b8T/mriXkg57xP6G5TiMtlfE/fbPNjemJ8T9FDaZh+IjxPw9/Tdaoh/E/5ujxe5t+8T/JAiZw627xP2/1nPS+cfE/Vyb8Uj9v8T+jI7n8h3TxP/hwyXGndPE/vmplwi918T8pP6n26XjxPyk/qfbpePE/12mkpfJ28T+h20sao3XxP8lZ2NMOf/E/bRyxFp+C8T8gRgiPNo7xP6sJou4DkPE/tFn1udqK8T9DrWnecYrxP4FDqFKzh/E/mkLnNXaJ8T8nTu53KIrxP6bydoTTgvE/CmgibHh68T9jRQ2mYXjxP7sKKT+pdvE/tkqwOJx58T9S7dPxmIHxPzqvsUtUb/E/Su8bX3tm8T/1udqK/WXxPy140VeQZvE/EQGHUKVm8T+rWz0nvW/xP69Cyk+qffE/mbuWkA968T9n1edqK3bxP7mq7LsiePE/uarsuyJ48T8wR4/f23TxP+bo8XubfvE/LJ/leXB38T/XaaSl8nbxP7raiv1ld/E/Lc+Du7N28T9RZoNMMnLxPzKP/MHAc/E/AcEcPX5v8T93LSEf9GzxP5YEqKlla/E/+aBns+pz8T82H9eGinHxP6n7AKQ2cfE/pkQSvYxi8T8e4bTgRV/xP8vz4O6sXfE/vLN224Vm8T8b2CrB4nDxP0GfyJOka/E/r+sX7IZt8T/KGvUQjW7xPwLxun7BbvE/N091yM1w8T/LuRRXlX3xP8rgKHl1jvE/Arfu5qmO8T9324XmOo3xPyKOdXEbjfE/sylXeJeL8T8Ct+7mqY7xP59ZEqCmlvE/teBFX0Ga8T+wIM1YNJ3xP8RfkzXqofE/Tdu/stKk8T900vvG157xP0LsTKHzmvE/6PaSxmid8T/8HYoCfaLxP3/Bbti2qPE/RuuoaoKo8T9lGeJYF7fxP44G8BZI0PE/pb3BFybT8T+FzmvsEtXxP/QyiuWW1vE/j6UPXVDf8T8rMGR1q+fxP8jqVs9J7/E/SS7/If328T9I/mDguffxP8zR4/c2/fE/Q1a3ek768T88ZqAy/v3xPyEHJcy0/fE/QPZ698f78T9ftTLhl/rxP/PIHww89/E/j1N0JJf/8T/nGJC93v3xP3r83qY/+/E/H9eGinH+8T/m6PF7m/7xP20csRafAvI/JjYf14YK8j+4AZ8fRgjyPzxO0ZFc/vE/Kld4l4v48T8MyF7v/vjxP/GAsilX+PE/Jsed0sH68T95zEBl/PvxP6HbSxqj9fE/knTN5Jvt8T+kU1c+y/PxP51jQPZ69/E/91j60AX18T+KPEm6ZvLxPy1gArfu5vE/xsTm49rQ8T9uF5rrNNLxP09AE2HD0/E/okW28/3U8T+N7iB2ptDxP24Xmus00vE/5bM8D+7O8T/ja88sCdDxPzrpfeNrz/E/hJ7Nqs/V8T+fjscMVMbxP9z0Zz9SxPE/XMmOjUC88T/YDdsWZbbxP+xMofMau/E/BTQRNjy98T++3v3xXrXxP45Yi08BsPE/qrcGtkqw8T82qz5XW7HxP1aalIJur/E/RRK9jGK58T9bmfBL/bzxP5bnwd1Zu/E/2qz6XG3F8T91sP7PYb7xPwtjC0EOyvE/wkzbv7LS8T/0GrtE9dbxPxV0e0ljtPE/PSzUmuad8T+lSSno9pLxP2njiLX4lPE/2V92Tx6W8T+693DJcafxP5MYBFYOrfE/2c73U+Ol8T9oImx4eqXxP7+36c9+pPE/f9k9eVio8T+Z2HxcG6rxP3jRV5BmrPE/PBQF+kSe8T9eY5eo3prxP4QSZtr+lfE/YKsEi8OZ8T+lMVpHVZPxP6G5TiMtlfE/pBmLprOT8T8ZraOqCaLxP3hi1ouhnPE/J71vfO2Z8T+j6exkcJTxP3gLJCh+jPE/Ksb5m1CI8T/esG1RZoPxP9tQMc7fhPE/NUbrqGqC8T9kzF1LyIfxP9HoDmJnivE/K97IPPKH8T9l5CzsaYfxP32zzY3pifE/uOnPfqSI8T+byTfb3JjxPybkg57NqvE/RKM7iJ2p8T8ZraOqCaLxP+jewyXHnfE/8S4X8Z2Y8T+5cCAkC5jxPwMmcOtunvE/6N7DJced8T8HtkqwOJzxP59ZEqCmlvE/yk+qfTqe8T+jAbwFEpTxPyrG+ZtQiPE/Q8U4fxOK8T/sF+yGbYvxP1lMbD6ujfE/TGw+rg2V8T+j6exkcJTxPw/W/znMl/E/Lq2GxD2W8T82zTtO0ZHxPzANw0fElPE/v7fpz36k8T8x68VQTrTxPwYN/RNcrPE/rJDyk2qf8T8w9fOmIpXxP7hAguLHmPE/0CfyJOma8T9BvK5fsJvxP4nS3uALk/E/SG3i5H6H8T+e6pCb4YbxP4zbaABvgfE/trkxPWGJ8T9KtU/HY4bxP1Z9rrZif/E/BaipZWt98T+CHJQw03bxPw4QzNHjd/E/OzYC8bp+8T9QjZduEoPxPy5W1GAahvE/KCfaVUh58T+FlJ9U+3TxP9mZQuc1dvE/kIMSZtp+8T+uKvuuCH7xP9GRXP5DevE/N091yM1w8T9bzqW4qmzxP78rgv+tZPE/0PI8uDtr8T8O+PwwQnjxP2Rd3EYDePE/ZAYq499n8T/MYmLzcW3xPw==",
          "dtype": "f8"
         },
         "increasing": {
          "fillcolor": "#24A06B",
          "line": {
           "color": "#2EC886"
          }
         },
         "line": {
          "width": 1
         },
         "low": {
          "bdata": "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",
          "dtype": "f8"
         },
         "opacity": 1,
         "open": {
          "bdata": "cQM+P4wQ7z9n1edqK/buPzm0yHa+n+4/Oul942vP7j/LoUW28/3uP/5IERlW8e4/7wOQ2sTJ7j85Yi0+BcDuP4f+CS5W1O4/2NMOf03W7j94l4v4TszuP0IJM23/yu4/myDqPgCp7j8bZJKRs7DuP28Sg8DKoe4/qwmi7gOQ7j8wDcNHxJTuP16iemtgq+4/zojS3uAL7z/Xhopx/ibvP/2fw3x5Ae8/dAzIXu/+7j9angd3Z+3uPzi+9sySAO8/Yygn2lVI7z+ZZOQs7GnvPzdPdcjNcO8/6+I2GsBb7z8oDwu1pnnvPxDM0eP3Nu8/pI0j1uJT7z/S+8bXnlnvPyBB8WPMXe8/42vPLAlQ7z8TYcPTK2XvP8ed0sH6P+8/is3HtaFi7z+MhLacS3HvPzXvOEVHcu8/DyibcoV37z9FZFjFG5nvPzXSUnk7wu8/SKeufJbn7z+FfNCzWfXvP+ohGt1B7O8/v0NRoE/k7z++vAD76NTvP7pOIy2Vt+8/Ol0WE5uP7z8ZraOqCaLvP+scA7LXu+8/OpLLf0i/7z8wZHWr56TvP/lOzHoxlO8/51JcVfZd7z9rn47HDFTvP7tE9dbAVu8/aD9SRIZV7z9aL4Zyol3vPxe86CtIM+8/sRafAmA87z9IMxZNZyfvP32R0JZzKe8/l6jeGtgq7z+M8zehEAHvP59x4UBIFu8/Foczv5oD7z8FFytqMA3vP3va4a/JGu8/utqK/WX37j9UjPM3oRDvP5hRLLe0Gu8/jq89syRA7z+MSuoENBHvPz4FwHgGDe8/SgwCK4cW7z+TOgFNhA3vP8nIWdjTDu8/eJyiI7n87j+zQSYZOQvvP7zoK0gzFu8/WUxsPq4N7z8TfqmfNxXvPwCpTZzc7+4/nUZaKm9H7z+6vaQxWkfvP8MN+PwwQu8/sD2zJEBN7z+IaHQHsTPvP0pBt5c0Ru8/YvNxbagY7z/JHww89x7vP3LhQEgWMO8/KowtBDko7z/uPVxy3CnvPw7z5QXYR+8/XD0nvW987z93hNOCF33vPyDvVSsTfu8/JQaBlUOL7z/5oGez6nPvPymWW1oNie8/tYmT+x2K7z+0WfW52orvPzy9UpYhju8/sHJoke187z+0q5Dyk2rvP5YmpaDbS+8/VcGopE5A7z9McVXZd0XvP8jNcAM+P+8/fA+XHHdK7z92Tx4Wak3vPwKaCBueXu8/WP/nMF9e7z/iOzHrxVDvP799HThnRO8/ho+IKZFE7z8NbJVgcTjvP9NNYhBYOe8/zhlR2ht87z+HokCfyJPvP2qkpfJ2hO8/+ie4WFGD7z/T2cngKHnvP3LEWnwKgO8/Lq2GxD2W7z9ENLqD2JnvP9QOf03WqO8/W+uLhLac7z8IjzaOWIvvP35S7dPxmO8/0uP3Nv3Z7z+/Q1GgT+TvP9szSwLU1O8/7Sqk/KTa7z+rIXGPpQ/wP4vDmV/NAfA/yAc9m1Uf8D+oGOdvQiHwPzmc+dUcIPA/W9O84xQd8D9GfCdmvRjwPzQuHAjJAvA/H4DUJk7u7z+IhVrTvOPvP/cBSG3i5O8/wcqhRbbz7z/EfHkB9tHvPy1gArfu5u8/5+PaUDHO7z97Tnrf+NrvP5HVrZ6T3u8/OkAwR4/f7z/izK/mAMHvP6Fns+pzte8/0VeQZiya7z+twJDVrZ7vPzUk7rH0oe8//IwLB0Ky7z+MZ9DQP8HvP3KndLD+z+8/yuAoeXWO7z//lZUmpaDvP/rVHCCYo+8/4e6s3Xah7z88a7ddaK7vP/tcbcX+su8/wZDVrZ6T7z9dFhObj2vvP+jZrPpcbe8/f6SIDKt47z9v2LYos0HvP3kB9tGpK+8//tR46SYx7z+9xi5RvTXvP9k9eVioNe8/cF8HzhlR7z8sms5OBkfvPxjPoKF/gu8/J2vUQzS67z8TRN0HILXvP4Ln3sMlx+8/GLK61XPS7z+jI7n8h/TvP0EOSphp++8/1EhL5e0I8D9l5CzsaQfwPy9uowG8BfA/sYo3Mo/87z/9n8N8eQHwP1Zl3xXB/+8/wM+4cCAk8D+PGaiMfx/wP0Q0uoPYGfA/smg6Oxkc8D/eH+9VKxPwP5WaPdAKDPA/0LhwICQL8D9pjNZR1QTwP7ahYpy/CfA/kQpjC0EO8D84EJIFTODvP98Vwf9WMvA/7WRwlLw68D9NEHUfgFTwP4enV8oyRPA/RMAhVKlZ8D+RRC+jWG7wP8cpOpLLf/A/B1+YTBWM8D9hbCHIQYnwP4Oj5NU5hvA/QiYZOQt78D9yxFp8CoDwP8OBkCxggvA/trkxPWGJ8D+8eapDbobwP4l7LH3ogvA/uRluwOeH8D/1LXO6LKbwP8A+OnXls/A/6N7DJced8D+tUQ/R6I7wP+m3rwPnjPA/YtuizAaZ8D/NHmgFhqzwP47pCUs8oPA/k6mCUUmd8D8bDeAtkKDwP0MEHEKVmvA/QbyuX7Cb8D9MbD6uDZXwP447pYP1f/A/c0urIXGP8D+GcqJdhZTwPy2VtyOclvA/RpT2Bl+Y8D/qPgCpTZzwP0xUbw1slfA/1GAaho+I8D/aOGItPoXwP+SghJm2f/A/FhiyutVz8D8+6Nms+lzwP9Wytb5IaPA/Olj/5zBf8D+HbYsyG2TwP+2BVmDIavA/ZAYq499n8D8EIVnABG7wP7STwVHyavA/YhVvZB558D8H8BZIUHzwP1Z9rrZif/A/oBov3SSG8D+F61G4HoXwP5yiI7n8h/A/26fjMQOV8D8WTWcng6PwPwXFjzF3rfA/qFfKMsSx8D/PTgZHyavwP693f7xXrfA/gQncupun8D9/2T15WKjwP9ZW7C+7p/A/Y2LzcW2o8D83VIzzN6HwP0Z8J2a9mPA/SnuDL0ym8D8KLlbUYJrwP1cE/1vJjvA/AG+BBMWP8D/WxW00gLfwP3bgnBGlvfA/gbIpV3iX8D9BfcucLovwPzNt/8pKk/A/WHOAYI6e8D9oy7kUV5XwP57Swfo/h/A/CI82jliL8D+2uTE9YYnwP8rgKHl1jvA/O420VN6O8D/CwHPv4ZLwP4nS3uALk/A/Gy/dJAaB8D8QXVDfMqfwPx/0bFZ9rvA/vJaQD3q28D9NMnIW9rTwP3+HokCfyPA/yAxUxr/P8D/1SlmGONbwP6btX1lp0vA/vFzEd2LW8D9+xoUDIdnwP+i8xi5RvfA/SFD8GHPX8D9dv2A3bNvwP5usUQ/R6PA/dLUV+8vu8D++E7NeDOXwPw+5GW7A5/A/0ETY8PTK8D+3XWiu08jwP/6arFEP0fA/mIbhI2LK8D8KSzygbMrwP8NkqmBU0vA/aOif4GLF8D+sVib8Ur/wP4tPATCewfA/VwkWhzO/8D8XK2owDcPwP8rDQq1p3vA/o3VUNUHU8D/H9IQlHtDwP8ucLouJzfA/ymyQSUbO8D/RXKeRlsrwP0zg1t081fA/HvmDgefe8D9Of/YjReTwP1qeB3dn7fA/zqrP1Vbs8D+jzAaZZOTwP+mayTfb3PA/AWpq2Vrf8D98fhghPNrwP+Dzwwjh0fA/wRw9fm/T8D+FJR5QNuXwP0P/BBcr6vA/JgFqatna8D/Pg7uzdtvwP+TaUDHO3/A/p3Sw/s/h8D90XmOXqN7wP5tattYXCfE/zzEge7378D/7P4f58gLxP4czv5oDBPE/cayL22gA8T86deWzPA/xP/C/lezYCPE/Jh5QNuUK8T+eQUP/BBfxP8iYu5aQD/E/PdUhN8MN8T/Jcad0sP7wP5fK2xFOC/E/TI47pYP18D+M22gAbwHxP2X8+4wLB/E/Ksb5m1AI8T8mx53SwfrwP8AhVKnZA/E/K4cW2c738D8awFsgQfHwP2NFDaZh+PA/Rrbz/dT48D+T407pYP3wP2NFDaZh+PA/AAAAAAAA8T+cM6K0N/jwPw4QzNHj9/A/Vd6OcFrw8D9NFYxK6gTxP0Deq1Ym/PA/JH8w8Nz78D//z2G+vADxP8uhRbbz/fA/IjfDDfj88D9dbcX+svvwP+EoeXWOAfE/g0wychb28D+cM6K0N/jwP4vDmV/NAfE/oBov3SQG8T8NN+DzwwjxP0NWt3pO+vA/Oq+xS1Tv8D/4iJgSSfTwP7sKKT+p9vA/88gfDDz38D+2SrA4nPnwP36MuWsJ+fA/rir7rgj+8D+GG/D5YQTxP+wvuycPC/E/seHplbIM8T8fLjnulA7xPxsv3SQGAfE/hetRuB4F8T8tPgXAeAbxP2X8+4wLB/E/Ka4q+64I8T8wnkFD/wTxP7th26LMBvE/qDrkZrgB8T9CPujZrPrwPzeOWItPAfE/AAAAAAAA8T9381SH3AzxP5WCbi9pDPE/LGUZ4lgX8T+Q2sTJ/Q7xP8rgKHl1DvE/D5ccd0oH8T9crKjBNAzxP6eRlsrbEfE/iBHCo40j8T+twJDVrR7xP67wLhfxHfE/rvAuF/Ed8T/11sBWCRbxP9lfdk8eFvE/dHtJY7QO8T/FILByaBHxP5EKYwtBDvE/cjPcgM8P8T+q1OyBVuDwPxNJ9DKK5fA/AFKbOLnf8D8cmUf+YODwP/EpAMYz6PA/DFnd6jnp8D8KgPEMGvrwPwqA8Qwa+vA/1PGYgcr48D9IFjCBW/fwP8uhRbbz/fA/0ZFc/kP68D+syr4rgv/wP25uTE9Y4vA/DAIrhxbZ8D8T8kHPZtXwP7osJjYf1/A/bef7qfHS8D+rlQm/1M/wP5HtfD813vA/96+sNCkF8T+Cc0aU9gbxP+KvyRr1EPE/2o8UkWEV8T/6fmq8dBPxP/Bt+rMfKfE/+kSeJF0z8T+VYHE48yvxP69fsBu2LfE/xy5RvTUw8T/hRV9BmjHxP/LNNjemJ/E/I4RHG0cs8T/NBplk5CzxP89m1edqK/E/isiwijcy8T9y+Q/pty/xP1CqfToeM/E//aTap+Mx8T+E2JlC5zXxP+6UDtb/OfE/DWyVYHE48T996IL6ljnxP8AEbt3NU/E/CFqBIatb8T+WlSaloFvxPwKaCBueXvE/SWjLuRRX8T+bPdAKDFnxP75Nf/YjRfE/F4IclDBT8T9qh78ma1TxP93qOel9Y/E/46qy74pg8T+OBvAWSFDxP3UfgNQmTvE/sD2zJEBN8T//snvysFDxP63ddqG5TvE/+MJkqmBU8T9XeJeL+E7xP/CK4H8rWfE/cTjzqzlA8T+kNnFyv0PxP2e4AZ8fRvE/HhuBeF0/8T8VkWEVb2TxP1a3ek56X/E/Z7gBnx9G8T+kNnFyv0PxP/vL7snDQvE/+GuyRj1E8T9SuB6F61HxP11Q3zKnS/E/kX77OnBO8T9pb/CFyVTxP/QyiuWWVvE/oP1IERlW8T/4wmSqYFTxP5iG4SNiSvE/0vvG155Z8T/8qfHSTWLxP3XN5JttbvE/zGJi83Ft8T/ayeAoeXXxPwBSmzi5X/E/Uz9vKlJh8T8w2A3bFmXxP341BwjmaPE/gH106spn8T9x5ldzgGDxP21Wfa62YvE/mWTkLOxp8T/saYe/JmvxPz0P7s7abfE/q1s9J71v8T/Ughd9BWnxP4UlHlA2ZfE/OGdEaW9w8T8PKJtyhXfxP7iSHRuBePE/nDOitDd48T/JAiZw627xP+C593DJcfE/GCE82jhi8T8hyEEJM23xP7Ezhc5rbPE/EjElkuhl8T+ZZOQs7GnxP4wtBDkoYfE/pSxDHOti8T81mIbhI2LxP0sfuqC+ZfE/3dJqSNxj8T9TliGOdXHxP5ccd0oHa/E/Olj/5zBf8T+y9KEL6lvxPwFqatlaX/E/vHSTGARW8T+kjSPW4lPxP7HEA8qmXPE/3zKny2Ji8T9uhhvw+WHxP1fPSe8bX/E/TE9Y4gFl8T8NcayL22jxPxh47j1ccvE/a2XCL/Vz8T/3Hi457pTxP1dbsb/snvE/Ups4ud+h8T9FZFjFG5nxPxefAmA8g/E/+IiYEkl08T8U6BN5knTxP+epDrkZbvE/56kOuRlu8T8+rg0V43zxP52FPe3wV/E/GeJYF7dR8T+MZ9DQP0HxP8U9lj50QfE/2GSNeohG8T9D4h5LHzrxP7yWkA96NvE/wM+4cCAk8T+1T8djBirxPx2s/3OYL/E/HsTOFDov8T/67evAOSPxP82v5gDBHPE/gXhdv2A38T8qdF5jlyjxP9Pe4AuTKfE/6pWyDHEs8T9MGqN1VDXxP12Kq8q+K/E/Q3OdRloq8T8WNZiG4SPxP0bT2cngKPE/ITzaOGIt8T+bj2tDxTjxP8Gtu3mqQ/E/+3Q8ZqAy8T88a7ddaC7xP1xaDYl7LPE/mggbnl4p8T9vKlJhbCHxP3dKB+v/HPE/4X8r2bER8T9kIxCv6xfxP4xK6gQ0EfE/GD4ipkQS8T/3Bl+YTBXxP9cv2A3bFvE/9S1zuiwm8T8rpPyk2ifxPyb8Uj9vKvE/yqZc4V0u8T/WrZ6T3jfxPw+cM6K0N/E/mdh8XBsq8T8gDDz3Hi7xP+XtCKcFL/E/MGR1q+ck8T/T9q+sNCnxPw/W/znMF/E/xSCwcmgR8T+YaftXVhrxP1TjpZvEIPE/G/UQje4g8T9XW7G/7B7xP7zoK0gzFvE/JEVkWMUb8T9sQ8U4fxPxPyTusfShC/E/hNOCF30F8T/bUDHO3wTxP/RPcLGiBvE/2V92Tx4W8T/v5qkOuRnxP4Za07zjFPE/0CfyJOka8T+fceFASBbxPxEebRyxFvE/KQXdXtIY8T9i83FtqBjxP060q5DyE/E/wHgGDf0T8T+rIXGPpQ/xP+wX7IZtC/E/Arfu5qkO8T+ZKhiV1AnxP8wolltaDfE/IXam0HkN8T/3r6w0KQXxP0YldQKaCPE/N45Yi08B8T8qb0c4LfjwP+cYkL3e/fA/5dAi2/n+8D/8GHPXEvLwPyk/qfbp+PA/HSCYo8fv8D/ecYqO5PLwPy7nUlxV9vA/Tb7Z5sb08D+qQ26GG/DwP8KjjSPW4vA/48KBkCzg8D/GM2jon+DwP74Ts14M5fA/sKw0KQXd8D+ndLD+z+HwP3S1FfvL7vA/LudSXFX28D+cM6K0N/jwP8ai6exk8PA/j/zBwHPv8D9/vFetTPjwP/tXVpqUAvE/8piByvj38D8jEK/rF+zwP4/8wcBz7/A//TBCeLTx8D9l/PuMCwfxP6VJKej2EvE/cQM+P4wQ8T9uowG8BRLxP0KVmj3QCvE/u2HboswG8T/HKTqSy//wP6pDboYb8PA/IbByaJHt8D+FfNCzWfXwPygn2lVI+fA/08H6P4f58D/vIHam0PnwP+XQItv5/vA/AAAAAAAA8T83pics8QDxPxQ/xty1BPE/tqFinL8J8T+oOuRmuAHxP7IRiNf1C/E/YvNxbagY8T8TZtr+lRXxP5qxaDo7GfE/8UbmkT8Y8T+wyRr1EA3xP+m3rwPnDPE/KgDGM2jo8D9wzojS3uDwP6wcWmQ73/A/fa62Yn/Z8D9dv2A3bNvwP8vz4O6s3fA/HuG04EXf8D8AUps4ud/wPyFZwARu3fA/p1zhXS7i8D9NZyeDo+TwP14u4jsx6/A/6iEa3UHs8D8hsHJoke3wP91B7Eyh8/A/cVXZd0Xw8D9Zbmk1JO7wP8lxp3Sw/vA/p5GWytsR8T/zdoTTghfxP0jcY+lDF/E/oOBiRQ0m8T/9TShEwCHxP7AgzVg0HfE/Htydtdsu8T+Z2HxcGyrxP/QVpBmLJvE/q3gj88gf8T+MoZxoVyHxP1oqb0c4LfE/Zwqd19gl8T/KplzhXS7xPz/jwoGQLPE//tR46SYx8T8IPZtVnyvxP2sOEMzR4/A/PKBsyhXe8D9d/kP67evwP6jjMQOV8fA/ghyUMNP28D8JUFPL1vrwP3AlOzYC8fA/k+NO6WD98D9+dOrKZ/nwP8zR4/c2/fA/7ncoCvQJ8T/QuHAgJAvxPzi+9sySAPE/NuUK73IR8T9DHOviNhrxP7u4jQbwFvE//MbXnlkS8T+Q2sTJ/Q7xP3Fa8KKvIPE/8G36sx8p8T/Xhopx/ibxP0uTUtDtJfE/Mqzijcwj8T+XqN4a2CrxP6smiLoPQPE/JlMFo5I68T9fQZqxaDrxP19BmrFoOvE/l/+Qfvs68T/ItaFinD/xP1XBqKROQPE/ur2kMVpH8T/l8h/Sb1/xP7bbLjTXafE/UWaDTDJy8T9Uxr/PuHDxP0sfuqC+ZfE/5nlwd9Zu8T+hLedSXFXxPzCBW3fzVPE/vYxiuaVV8T9zaJHtfD/xP2whyEEJM/E/S+oENBE28T89CtejcD3xP/Ik6ZrJN/E/X0GasWg68T/ulA7W/znxPwZM4NbdPPE/FeP8TShE8T/129eBc0bxP1ioNc07TvE/Brth26JM8T94f7xXrUzxP9Zz0vvGV/E/RfC/lexY8T9gH5268lnxP9CbilQYW/E/gT6RJ0lX8T+iRbbz/VTxPz24O2u3XfE/wjQMHxFT8T+2hHzQs1nxPyzxgLIpV/E/8uocA7JX8T+D3bBtUWbxPzBHj9/bdPE/ppvEILBy8T+lg/V/DnPxP7vyWZ4Hd/E/GZC93v1x8T+yS1RvDWzxP10WE5uPa/E/h22LMhtk8T8NGvonuFjxP5PGaB1VTfE/ou4DkNpE8T9hTzv8NVnxP6ZEEr2MYvE/6znpfeNr8T8YeO49XHLxP8VyS6shcfE/AwmKH2Nu8T/ysFBrmnfxPz4/jBAebfE/pMLYQpCD8T+Eu7N224XxPwwHQrKAifE/ukkMAiuH8T/aIJOMnIXxPw5Pr5RliPE/Oq+xS1Rv8T817zhFR3LxP1luaTUkbvE/dv2C3bBt8T/GounsZHDxP8xiYvNxbfE/dCSX/5B+8T+2SrA4nHnxP4EExY8xd/E/SkbOwp528T/XaaSl8nbxP27dzVMdcvE/v4I0Y9F08T/9MEJ4tHHxP27dzVMdcvE/kBSRYRVv8T+9UpYhjnXxPyTRyyiWW/E/ejarPldb8T/FA8qmXGHxP/NZngd3Z/E/KLhYUYNp8T+laybfbHPxP6HbSxqjdfE/AJF++zpw8T+EZAETuHXxP0ImGTkLe/E/Ja/OMSB78T9DVrd6TnrxP5fiqrLvivE/1edqK/aX8T+EEmba/pXxP0MEHEKVmvE/vRjKiXaV8T9zol2FlJ/xPyAkC5jArfE/cclxp3Sw8T8ibHh6pazxPzkLe9rhr/E/9Zz0vvG18T+L4H8r2bHxP0gbR6zFp/E/OC140VeQ8T+hoX+Ci5XxP5Hyk2qfjvE/iLoPQGqT8T8lBoGVQ4vxP2YUyy2thvE/2sngKHl18T97FK5H4XrxP0ImGTkLe/E/5KCEmbZ/8T8ZVvFG5pHxP7oxPWGJh/E/IXam0HmN8T88vVKWIY7xP1EU6BN5kvE/seHplbKM8T9IbeLkfofxP4XrUbgehfE/JO6x9KGL8T+e0sH6P4fxP7kZbsDnh/E/YoTwaOOI8T8gXtcv2I3xP6rx0k1ikPE/znADPj+M8T94CyQofozxPz7t8NdkjfE/mkLnNXaJ8T8plltaDYnxP02EDU+vlPE//iYUIuCQ8T8v3SQGgZXxP/N2hNOCl/E/b7vQXKeR8T/MlxdgH53xP8IXJlMFo/E/D0WBPpGn8T9cWg2Je6zxP4vgfyvZsfE/A30iT5Ku8T9gArfu5qnxP/+VlSaloPE/seHplbKM8T8Dz72HS47xP8ZQTrSrkPE/GVbxRuaR8T9CW86luKrxP49wWvCir/E/tTf4wmSq8T9eukkMAqvxPwYN/RNcrPE/PGu3XWiu8T9XsmMjEK/xPzvkZrgBn/E/zJcXYB+d8T+kcD0K16PxP2SSkbOwp/E/5X6HokCf8T/11sBWCZbxPzNt/8pKk/E/SnuDL0ym8T+Lcf4mFKLxP1wbKsb5m/E/QKTfvg6c8T/YR6eufJbxP7sPQGoTp/E/BkfJq3OM8T87jbRU3o7xP+KvyRr1kPE/M23/ykqT8T91q+ek943xP4Fbd/NUh/E/mpmZmZmZ8T96whIPKJvxP+IeSx+6oPE/beLkfoei8T8oLPGAsqnxP+9VKxN+qfE/W0I+6Nms8T82k2+2ubHxP0ZCW86luPE/JTs2AvG68T9Ei2zn+6nxP1q77UJznfE/wOeHEcKj8T900vvG157xPxY1mIbho/E/QlvOpbiq8T++h0uOO6XxP+T3Nv3Zj/E/EHUfgNSm8T8z3IDPD6PxP/rVHCCYo/E/QSswZHWr8T/xnZj1YqjxP9QOf03WqPE/MGR1q+ek8T8J/reSHZvxPy/dJAaBlfE/vjCZKhiV8T9w626e6pDxP2l0B7EzhfE/ntLB+j+H8T9DrWnecYrxP7DJGvUQjfE/PL1SliGO8T/2fw7z5YXxPwtGJXUCmvE/IXam0HmN8T8ZVvFG5pHxP59ZEqCmlvE/VtRgGoaP8T/qeMxAZXzxPyDvVSsTfvE/Xp1jQPZ68T+eew+XHHfxP2H9n8N8efE/s9KkFHR78T+8IvjfSnbxP9DyPLg7a/E/zSN/MPBc8T/nOo20VF7xP3am0HmNXfE/GlHaG3xh8T+IhVrTvGPxP9XKhF/qZ/E/uVM6WP9n8T9K7xtfe2bxPwxZ3eo5afE/78nDQq1p8T9bttYXCW3xP7cLzXUaafE/3gIJih9j8T/E6/oFu2HxP9uizAaZZPE/p1zhXS5i8T+kpfJ2hFPxP+ELk6mCUfE/t7QaEvdY8T8OMsnIWVjxPyl5dY4BWfE/2ht8YTJV8T8fuqC+ZU7xP0/pYP2fQ/E/1H0AUps48T96cHfWbjvxP+nUlc/yPPE/DVTGv8848T9tkElGzkLxP0RRoE/kSfE/HEKVmj1Q8T/tuyL430rxP/2C3bBtUfE/5ZttbkxP8T95r1qZ8EvxP3K/Q1GgT/E/sp3vp8ZL8T8Gu2HbokzxP7FtUWaDTPE/ea9amfBL8T/wMy4cCEnxP9RlMbH5OPE/taZ5xyk68T9cyY6NQDzxP7EWnwJgPPE/VvFG5pE/8T/K/Q5FgT7xP4jX9Qt2Q/E/vcYuUb018T+k374OnDPxP/pEniRdM/E/BvUtc7os8T9jesISDyjxP/Utc7osJvE/FjWYhuEj8T9hGoaPiCnxP9P2r6w0KfE/yXa+nxov8T95AfbRqSvxP45Yi08BMPE/EHUfgNQm8T8rpPyk2ifxP/T91HjpJvE/6E1FKowt8T+4rwPnjCjxP2lSCrq9JPE/a4Ko+wAk8T+IEcKjjSPxP03zjlN0JPE/i3H+JhQi8T9U46WbxCDxP4DxDBr6J/E/LNSa5h0n8T/tDb4wmSrxP3ehuU4jLfE/WaMeotEd8T+Q2sTJ/Q7xP0n0MorlFvE/hNOCF30F8T9GfCdmvRjxP346HjNQGfE/ZVOu8C4X8T9+Oh4zUBnxP4tx/iYUIvE/nu+nxks38T+37uapDjnxPyv7rgj+N/E/Y7ml1ZA48T8iq1s9Jz3xP6c/+5EiMvE/bcoV3uUi8T9Rg2kYPiLxPwe2SrA4HPE/H4XrUbge8T8+XHLcKR3xP2ebG9MTFvE/pIgMq3gj8T+hEAGHUCXxP0urIXGPJfE/1SZO7nco8T906spneR7xP4nqrYGtEvE/mYHK+PcZ8T+yaDo7GRzxP8kfDDz3HvE/e9rhr8ka8T95knTN5BvxPzBMpgpGJfE/zt+EQgQc8T+RYRVvZB7xPzUMHxFTIvE/wf9WsmMj8T9EozuInSnxPxkcJa/OMfE/4bTgRV9B8T9TkQpjC0HxP8aFAyFZQPE/BBxClZo98T+bj2tDxTjxPydr1EM0OvE/GOyGbYsy8T+mD11Q3zLxPzarPldbMfE/VpqUgm4v8T+RD3o2qz7xP5lH/mDgOfE/3/3xXrUy8T8uc7osJjbxP4F4Xb9gN/E/xoUDIVlA8T+YbhKDwErxPz1hiQeUTfE/f4eiQJ9I8T/ZlCu8y0XxP8Gtu3mqQ/E/FhObj2tD8T8qOpLLf0jxP2qHvyZrVPE/Uz9vKlJh8T9pb/CFyVTxP/MC7KNTV/E/zeSbbW5M8T/3ksZoHVXxP6d0sP7PYfE/GM+goX+C8T+m8naE04LxP+AQqtTsgfE/xvmbUIiA8T++wRcmU4XxP/aX3ZOHhfE/dCSX/5B+8T/gEKrU7IHxP8cpOpLLf/E/Akht4uR+8T/pYP2fw3zxP+zAOSNKe/E/ZY16iEZ38T/SqSuf5XnxP7d6TnrfePE/vCL430p28T/HEWvxKYDxP7iSHRuBePE/EFg5tMh28T9IFjCBW3fxP/PIHww8d/E/SBYwgVt38T9enWNA9nrxP3sUrkfhevE/IXam0HmN8T8VxhaCHJTxPxSWeEDZlPE/o+nsZHCU8T+C4seYu5bxP26LMhtkkvE/18BWCRaH8T/UYBqGj4jxP57Swfo/h/E/dTxmoDJ+8T9dp5GWylvxP3qNXaJ6a/E/X0ax3NJq8T8AkX77OnDxP8L6P4f5cvE/i2zn+6lx8T8FUfcBSG3xP7nCu1zEd/E/h8Q9lj508T9PBkfJq3PxP9+JWS+GcvE/YM0Bgjl68T9wlLw6x4DxP13cRgN4i/E/m3KFd7mI8T+2uTE9YYnxP7pJDAIrh/E/MbYQ5KCE8T8uVtRgGobxP+uQm+EGfPE/aR1VTRB18T+8IvjfSnbxP/q4NlSMc/E/e737471q8T8tz4O7s3bxP/D5YYTwaPE/vyuC/61k8T/8qfHSTWLxP9pyLsVVZfE/MQisHFpk8T+fzarP1VbxPx04Z0Rpb/E/Dvj8MEJ48T9MpgpGJXXxP4yEtpxLcfE/ucK7XMR38T8J4dHGEWvxP2pN845TdPE/gQTFjzF38T8vF/GdmHXxP7+CNGPRdPE/qRPQRNhw8T/meXB31m7xP42chT3tcPE/dc3km21u8T9FL6NYbmnxP14u4jsxa/E/9Ik8Sbpm8T8kKH6MuWvxP3XN5JttbvE/xjNo6J9g8T86WP/nMF/xP+viNhrAW/E/KGGm7V9Z8T9uhhvw+WHxP0oH6/8cZvE/oYSZtn9l8T95Xb9gN2zxP9Ei2/l+avE/W7bWFwlt8T9Ip658lmfxP9rJ4Ch5dfE/WTSdnQyO8T9hVFInoInxP5fiqrLvivE/vHmqQ26G8T/QuHAgJIvxP4czv5oDhPE/oblOIy2V8T+14EVfQZrxP1wDWyVYnPE/GcVyS6uh8T8JFoczv5rxP8PwETElkvE/CRaHM7+a8T+zmNh8XJvxPxrdQexMofE/1SZO7neo8T9Ra5p3nKLxP4z4Tsx6sfE/jzaOWIvP8T/ja88sCdDxPzUpBd1e0vE/3pOHhVrT8T+zDHGsi9vxP6UUdHtJ4/E/IJijx+/t8T/gufdwyfHxP6IL6lvm9PE/YhVvZB758T9/vFetTPjxP4NMMnIW9vE/QPZ698f78T+Z02UxsfnxPxKgppat9fE/uwopP6n28T9CJhk5C/vxPwqA8Qwa+vE/foy5awn58T8n9zsUBfrxP3icoiO5/PE/cJS8OscA8j97FK5H4frxPyR/MPDc+/E/xFp8CoDx8T8RcAhVavbxP0j+YOC59/E/3BFOC1708T/U8ZiByvjxP8ISDyib8vE/R3cQO1Po8T+yYyMQr+vxP8L6P4f58vE/ak3zjlP08T+si9toAO/xP05/9iNF5PE/sW1RZoPM8T8CK4cW2c7xP+Dzwwjh0fE/iV5GsdzS8T91H4DUJs7xP3UfgNQmzvE/lQ7W/znM8T/n+6nx0s3xPwIrhxbZzvE/e/fHe9XK8T+CqPsApLbxP3bgnBGlvfE/0O0ljdG68T8VdHtJY7TxP/fMkgA1tfE/StI1k2+28T+GONbFbbTxP1oSoKaWrfE/CW05l+Kq8T8exM4UOq/xPwYN/RNcrPE/r3d/vFet8T/UfQBSm7jxP4TwaOOItfE/LUMc6+K28T8IrBxaZLvxP7DmAMEcvfE/4syv5gDB8T/CTNu/stLxP25pNSTusfE/vQD76NSV8T/HaB1VTZDxPxpuwOeHkfE/rWnecYqO8T8MHxFTIonxPz1EozuInfE/h/nyAuyj8T82PL1SlqHxPxh9BWnGovE/QKTfvg6c8T/WVuwvu6fxP76HS447pfE/IxXGFoKc8T/yXrUy4ZfxP74wmSoYlfE/9u6P96qV8T8e/pqsUY/xP9aQuMfSh/E/PL1SliGO8T+J6q2BrZLxP7lwICQLmPE/hUIEHEKV8T9sW5TZIJPxPymWW1oNifE/Ew8om3KF8T/Fyf0ORYHxP6lqgqj7gPE/7ginBS968T8mx53SwXrxP+OItfgUgPE/ntLB+j+H8T9s7BLVW4PxP4Fbd/NUh/E/2jhiLT6F8T/hQEgWMIHxPxSWeEDZlPE/nYAmwoan8T9U46WbxKDxP+jewyXHnfE/gIKLFTWY8T9zY3rCEo/xP/JetTLhl/E/tvgUAOOZ8T9C7Eyh85rxP59x4UBIlvE/SgwCK4eW8T+kGYums5PxP240gLdAgvE/hhvw+WGE8T/Y2CWqt4bxP0c9RKM7iPE/B1+YTBWM8T80hc5r7JLxP+BnXDgQkvE/OBWpMLaQ8T/j32dcOJDxP8sQx7q4jfE/jErqBDSR8T/FjzF3LaHxP+0NvjCZqvE/O+RmuAGf8T8YPiKmRJLxPzANw0fElPE/wZDVrZ6T8T/v/nivWpnxP3gLJCh+jPE/a9RDNLqD8T+8eapDbobxP8cpOpLLf/E/c/T4vU1/8T+IS447pYPxPzS/mgMEc/E/lSu8y0V88T+CHJQw03bxP08GR8mrc/E/2/l+arx08T+xogbTMHzxP0SGVbyRefE/8piByvh38T8ydy0hH3TxP8RCrWnecfE/9RCN7iB28T/OGVHaG3zxP8RafAqAcfE/s3vysFBr8T9bzqW4qmzxP05/9iNFZPE/3dJqSNxj8T+EDU+vlGXxP95Zu+1Cc/E/KzBkdatn8T/5SbVPx2PxPw==",
          "dtype": "f8"
         },
         "type": "candlestick",
         "x": [
          "22-09-23 17:00",
          "22-09-25 21:00",
          "22-09-26 01:00",
          "22-09-26 05:00",
          "22-09-26 09:00",
          "22-09-26 13:00",
          "22-09-26 17:00",
          "22-09-26 21:00",
          "22-09-27 01:00",
          "22-09-27 05:00",
          "22-09-27 09:00",
          "22-09-27 13:00",
          "22-09-27 17:00",
          "22-09-27 21:00",
          "22-09-28 01:00",
          "22-09-28 05:00",
          "22-09-28 09:00",
          "22-09-28 13:00",
          "22-09-28 17:00",
          "22-09-28 21:00",
          "22-09-29 01:00",
          "22-09-29 05:00",
          "22-09-29 09:00",
          "22-09-29 13:00",
          "22-09-29 17:00",
          "22-09-29 21:00",
          "22-09-30 01:00",
          "22-09-30 05:00",
          "22-09-30 09:00",
          "22-09-30 13:00",
          "22-09-30 17:00",
          "22-10-02 21:00",
          "22-10-03 01:00",
          "22-10-03 05:00",
          "22-10-03 09:00",
          "22-10-03 13:00",
          "22-10-03 17:00",
          "22-10-03 21:00",
          "22-10-04 01:00",
          "22-10-04 05:00",
          "22-10-04 09:00",
          "22-10-04 13:00",
          "22-10-04 17:00",
          "22-10-04 21:00",
          "22-10-05 01:00",
          "22-10-05 05:00",
          "22-10-05 09:00",
          "22-10-05 13:00",
          "22-10-05 17:00",
          "22-10-05 21:00",
          "22-10-06 01:00",
          "22-10-06 05:00",
          "22-10-06 09:00",
          "22-10-06 13:00",
          "22-10-06 17:00",
          "22-10-06 21:00",
          "22-10-07 01:00",
          "22-10-07 05:00",
          "22-10-07 09:00",
          "22-10-07 13:00",
          "22-10-07 17:00",
          "22-10-09 21:00",
          "22-10-10 01:00",
          "22-10-10 05:00",
          "22-10-10 09:00",
          "22-10-10 13:00",
          "22-10-10 17:00",
          "22-10-10 21:00",
          "22-10-11 01:00",
          "22-10-11 05:00",
          "22-10-11 09:00",
          "22-10-11 13:00",
          "22-10-11 17:00",
          "22-10-11 21:00",
          "22-10-12 01:00",
          "22-10-12 05:00",
          "22-10-12 09:00",
          "22-10-12 13:00",
          "22-10-12 17:00",
          "22-10-12 21:00",
          "22-10-13 01:00",
          "22-10-13 05:00",
          "22-10-13 09:00",
          "22-10-13 13:00",
          "22-10-13 17:00",
          "22-10-13 21:00",
          "22-10-14 01:00",
          "22-10-14 05:00",
          "22-10-14 09:00",
          "22-10-14 13:00",
          "22-10-14 17:00",
          "22-10-16 21:00",
          "22-10-17 01:00",
          "22-10-17 05:00",
          "22-10-17 09:00",
          "22-10-17 13:00",
          "22-10-17 17:00",
          "22-10-17 21:00",
          "22-10-18 01:00",
          "22-10-18 05:00",
          "22-10-18 09:00",
          "22-10-18 13:00",
          "22-10-18 17:00",
          "22-10-18 21:00",
          "22-10-19 01:00",
          "22-10-19 05:00",
          "22-10-19 09:00",
          "22-10-19 13:00",
          "22-10-19 17:00",
          "22-10-19 21:00",
          "22-10-20 01:00",
          "22-10-20 05:00",
          "22-10-20 09:00",
          "22-10-20 13:00",
          "22-10-20 17:00",
          "22-10-20 21:00",
          "22-10-21 01:00",
          "22-10-21 05:00",
          "22-10-21 09:00",
          "22-10-21 13:00",
          "22-10-21 17:00",
          "22-10-23 21:00",
          "22-10-24 01:00",
          "22-10-24 05:00",
          "22-10-24 09:00",
          "22-10-24 13:00",
          "22-10-24 17:00",
          "22-10-24 21:00",
          "22-10-25 01:00",
          "22-10-25 05:00",
          "22-10-25 09:00",
          "22-10-25 13:00",
          "22-10-25 17:00",
          "22-10-25 21:00",
          "22-10-26 01:00",
          "22-10-26 05:00",
          "22-10-26 09:00",
          "22-10-26 13:00",
          "22-10-26 17:00",
          "22-10-26 21:00",
          "22-10-27 01:00",
          "22-10-27 05:00",
          "22-10-27 09:00",
          "22-10-27 13:00",
          "22-10-27 17:00",
          "22-10-27 21:00",
          "22-10-28 01:00",
          "22-10-28 05:00",
          "22-10-28 09:00",
          "22-10-28 13:00",
          "22-10-28 17:00",
          "22-10-30 21:00",
          "22-10-31 01:00",
          "22-10-31 05:00",
          "22-10-31 09:00",
          "22-10-31 13:00",
          "22-10-31 17:00",
          "22-10-31 21:00",
          "22-11-01 01:00",
          "22-11-01 05:00",
          "22-11-01 09:00",
          "22-11-01 13:00",
          "22-11-01 17:00",
          "22-11-01 21:00",
          "22-11-02 01:00",
          "22-11-02 05:00",
          "22-11-02 09:00",
          "22-11-02 13:00",
          "22-11-02 17:00",
          "22-11-02 21:00",
          "22-11-03 01:00",
          "22-11-03 05:00",
          "22-11-03 09:00",
          "22-11-03 13:00",
          "22-11-03 17:00",
          "22-11-03 21:00",
          "22-11-04 01:00",
          "22-11-04 05:00",
          "22-11-04 09:00",
          "22-11-04 13:00",
          "22-11-04 17:00",
          "22-11-06 22:00",
          "22-11-07 02:00",
          "22-11-07 06:00",
          "22-11-07 10:00",
          "22-11-07 14:00",
          "22-11-07 18:00",
          "22-11-07 22:00",
          "22-11-08 02:00",
          "22-11-08 06:00",
          "22-11-08 10:00",
          "22-11-08 14:00",
          "22-11-08 18:00",
          "22-11-08 22:00",
          "22-11-09 02:00",
          "22-11-09 06:00",
          "22-11-09 10:00",
          "22-11-09 14:00",
          "22-11-09 18:00",
          "22-11-09 22:00",
          "22-11-10 02:00",
          "22-11-10 06:00",
          "22-11-10 10:00",
          "22-11-10 14:00",
          "22-11-10 18:00",
          "22-11-10 22:00",
          "22-11-11 02:00",
          "22-11-11 06:00",
          "22-11-11 10:00",
          "22-11-11 14:00",
          "22-11-11 18:00",
          "22-11-13 22:00",
          "22-11-14 02:00",
          "22-11-14 06:00",
          "22-11-14 10:00",
          "22-11-14 14:00",
          "22-11-14 18:00",
          "22-11-14 22:00",
          "22-11-15 02:00",
          "22-11-15 06:00",
          "22-11-15 10:00",
          "22-11-15 14:00",
          "22-11-15 18:00",
          "22-11-15 22:00",
          "22-11-16 02:00",
          "22-11-16 06:00",
          "22-11-16 10:00",
          "22-11-16 14:00",
          "22-11-16 18:00",
          "22-11-16 22:00",
          "22-11-17 02:00",
          "22-11-17 06:00",
          "22-11-17 10:00",
          "22-11-17 14:00",
          "22-11-17 18:00",
          "22-11-17 22:00",
          "22-11-18 02:00",
          "22-11-18 06:00",
          "22-11-18 10:00",
          "22-11-18 14:00",
          "22-11-18 18:00",
          "22-11-20 22:00",
          "22-11-21 02:00",
          "22-11-21 06:00",
          "22-11-21 10:00",
          "22-11-21 14:00",
          "22-11-21 18:00",
          "22-11-21 22:00",
          "22-11-22 02:00",
          "22-11-22 06:00",
          "22-11-22 10:00",
          "22-11-22 14:00",
          "22-11-22 18:00",
          "22-11-22 22:00",
          "22-11-23 02:00",
          "22-11-23 06:00",
          "22-11-23 10:00",
          "22-11-23 14:00",
          "22-11-23 18:00",
          "22-11-23 22:00",
          "22-11-24 02:00",
          "22-11-24 06:00",
          "22-11-24 10:00",
          "22-11-24 14:00",
          "22-11-24 18:00",
          "22-11-24 22:00",
          "22-11-25 02:00",
          "22-11-25 06:00",
          "22-11-25 10:00",
          "22-11-25 14:00",
          "22-11-25 18:00",
          "22-11-27 22:00",
          "22-11-28 02:00",
          "22-11-28 06:00",
          "22-11-28 10:00",
          "22-11-28 14:00",
          "22-11-28 18:00",
          "22-11-28 22:00",
          "22-11-29 02:00",
          "22-11-29 06:00",
          "22-11-29 10:00",
          "22-11-29 14:00",
          "22-11-29 18:00",
          "22-11-29 22:00",
          "22-11-30 02:00",
          "22-11-30 06:00",
          "22-11-30 10:00",
          "22-11-30 14:00",
          "22-11-30 18:00",
          "22-11-30 22:00",
          "22-12-01 02:00",
          "22-12-01 06:00",
          "22-12-01 10:00",
          "22-12-01 14:00",
          "22-12-01 18:00",
          "22-12-01 22:00",
          "22-12-02 02:00",
          "22-12-02 06:00",
          "22-12-02 10:00",
          "22-12-02 14:00",
          "22-12-02 18:00",
          "22-12-04 22:00",
          "22-12-05 02:00",
          "22-12-05 06:00",
          "22-12-05 10:00",
          "22-12-05 14:00",
          "22-12-05 18:00",
          "22-12-05 22:00",
          "22-12-06 02:00",
          "22-12-06 06:00",
          "22-12-06 10:00",
          "22-12-06 14:00",
          "22-12-06 18:00",
          "22-12-06 22:00",
          "22-12-07 02:00",
          "22-12-07 06:00",
          "22-12-07 10:00",
          "22-12-07 14:00",
          "22-12-07 18:00",
          "22-12-07 22:00",
          "22-12-08 02:00",
          "22-12-08 06:00",
          "22-12-08 10:00",
          "22-12-08 14:00",
          "22-12-08 18:00",
          "22-12-08 22:00",
          "22-12-09 02:00",
          "22-12-09 06:00",
          "22-12-09 10:00",
          "22-12-09 14:00",
          "22-12-09 18:00",
          "22-12-11 22:00",
          "22-12-12 02:00",
          "22-12-12 06:00",
          "22-12-12 10:00",
          "22-12-12 14:00",
          "22-12-12 18:00",
          "22-12-12 22:00",
          "22-12-13 02:00",
          "22-12-13 06:00",
          "22-12-13 10:00",
          "22-12-13 14:00",
          "22-12-13 18:00",
          "22-12-13 22:00",
          "22-12-14 02:00",
          "22-12-14 06:00",
          "22-12-14 10:00",
          "22-12-14 14:00",
          "22-12-14 18:00",
          "22-12-14 22:00",
          "22-12-15 02:00",
          "22-12-15 06:00",
          "22-12-15 10:00",
          "22-12-15 14:00",
          "22-12-15 18:00",
          "22-12-15 22:00",
          "22-12-16 02:00",
          "22-12-16 06:00",
          "22-12-16 10:00",
          "22-12-16 14:00",
          "22-12-16 18:00",
          "22-12-18 22:00",
          "22-12-19 02:00",
          "22-12-19 06:00",
          "22-12-19 10:00",
          "22-12-19 14:00",
          "22-12-19 18:00",
          "22-12-19 22:00",
          "22-12-20 02:00",
          "22-12-20 06:00",
          "22-12-20 10:00",
          "22-12-20 14:00",
          "22-12-20 18:00",
          "22-12-20 22:00",
          "22-12-21 02:00",
          "22-12-21 06:00",
          "22-12-21 10:00",
          "22-12-21 14:00",
          "22-12-21 18:00",
          "22-12-21 22:00",
          "22-12-22 02:00",
          "22-12-22 06:00",
          "22-12-22 10:00",
          "22-12-22 14:00",
          "22-12-22 18:00",
          "22-12-22 22:00",
          "22-12-23 02:00",
          "22-12-23 06:00",
          "22-12-23 10:00",
          "22-12-23 14:00",
          "22-12-23 18:00",
          "22-12-26 22:00",
          "22-12-27 02:00",
          "22-12-27 06:00",
          "22-12-27 10:00",
          "22-12-27 14:00",
          "22-12-27 18:00",
          "22-12-27 22:00",
          "22-12-28 02:00",
          "22-12-28 06:00",
          "22-12-28 10:00",
          "22-12-28 14:00",
          "22-12-28 18:00",
          "22-12-28 22:00",
          "22-12-29 02:00",
          "22-12-29 06:00",
          "22-12-29 10:00",
          "22-12-29 14:00",
          "22-12-29 18:00",
          "22-12-29 22:00",
          "22-12-30 02:00",
          "22-12-30 06:00",
          "22-12-30 10:00",
          "22-12-30 14:00",
          "22-12-30 18:00",
          "23-01-01 22:00",
          "23-01-02 02:00",
          "23-01-02 06:00",
          "23-01-02 10:00",
          "23-01-02 14:00",
          "23-01-02 18:00",
          "23-01-02 22:00",
          "23-01-03 02:00",
          "23-01-03 06:00",
          "23-01-03 10:00",
          "23-01-03 14:00",
          "23-01-03 18:00",
          "23-01-03 22:00",
          "23-01-04 02:00",
          "23-01-04 06:00",
          "23-01-04 10:00",
          "23-01-04 14:00",
          "23-01-04 18:00",
          "23-01-04 22:00",
          "23-01-05 02:00",
          "23-01-05 06:00",
          "23-01-05 10:00",
          "23-01-05 14:00",
          "23-01-05 18:00",
          "23-01-05 22:00",
          "23-01-06 02:00",
          "23-01-06 06:00",
          "23-01-06 10:00",
          "23-01-06 14:00",
          "23-01-06 18:00",
          "23-01-08 22:00",
          "23-01-09 02:00",
          "23-01-09 06:00",
          "23-01-09 10:00",
          "23-01-09 14:00",
          "23-01-09 18:00",
          "23-01-09 22:00",
          "23-01-10 02:00",
          "23-01-10 06:00",
          "23-01-10 10:00",
          "23-01-10 14:00",
          "23-01-10 18:00",
          "23-01-10 22:00",
          "23-01-11 02:00",
          "23-01-11 06:00",
          "23-01-11 10:00",
          "23-01-11 14:00",
          "23-01-11 18:00",
          "23-01-11 22:00",
          "23-01-12 02:00",
          "23-01-12 06:00",
          "23-01-12 10:00",
          "23-01-12 14:00",
          "23-01-12 18:00",
          "23-01-12 22:00",
          "23-01-13 02:00",
          "23-01-13 06:00",
          "23-01-13 10:00",
          "23-01-13 14:00",
          "23-01-13 18:00",
          "23-01-15 22:00",
          "23-01-16 02:00",
          "23-01-16 06:00",
          "23-01-16 10:00",
          "23-01-16 14:00",
          "23-01-16 18:00",
          "23-01-16 22:00",
          "23-01-17 02:00",
          "23-01-17 06:00",
          "23-01-17 10:00",
          "23-01-17 14:00",
          "23-01-17 18:00",
          "23-01-17 22:00",
          "23-01-18 02:00",
          "23-01-18 06:00",
          "23-01-18 10:00",
          "23-01-18 14:00",
          "23-01-18 18:00",
          "23-01-18 22:00",
          "23-01-19 02:00",
          "23-01-19 06:00",
          "23-01-19 10:00",
          "23-01-19 14:00",
          "23-01-19 18:00",
          "23-01-19 22:00",
          "23-01-20 02:00",
          "23-01-20 06:00",
          "23-01-20 10:00",
          "23-01-20 14:00",
          "23-01-20 18:00",
          "23-01-22 22:00",
          "23-01-23 02:00",
          "23-01-23 06:00",
          "23-01-23 10:00",
          "23-01-23 14:00",
          "23-01-23 18:00",
          "23-01-23 22:00",
          "23-01-24 02:00",
          "23-01-24 06:00",
          "23-01-24 10:00",
          "23-01-24 14:00",
          "23-01-24 18:00",
          "23-01-24 22:00",
          "23-01-25 02:00",
          "23-01-25 06:00",
          "23-01-25 10:00",
          "23-01-25 14:00",
          "23-01-25 18:00",
          "23-01-25 22:00",
          "23-01-26 02:00",
          "23-01-26 06:00",
          "23-01-26 10:00",
          "23-01-26 14:00",
          "23-01-26 18:00",
          "23-01-26 22:00",
          "23-01-27 02:00",
          "23-01-27 06:00",
          "23-01-27 10:00",
          "23-01-27 14:00",
          "23-01-27 18:00",
          "23-01-29 22:00",
          "23-01-30 02:00",
          "23-01-30 06:00",
          "23-01-30 10:00",
          "23-01-30 14:00",
          "23-01-30 18:00",
          "23-01-30 22:00",
          "23-01-31 02:00",
          "23-01-31 06:00",
          "23-01-31 10:00",
          "23-01-31 14:00",
          "23-01-31 18:00",
          "23-01-31 22:00",
          "23-02-01 02:00",
          "23-02-01 06:00",
          "23-02-01 10:00",
          "23-02-01 14:00",
          "23-02-01 18:00",
          "23-02-01 22:00",
          "23-02-02 02:00",
          "23-02-02 06:00",
          "23-02-02 10:00",
          "23-02-02 14:00",
          "23-02-02 18:00",
          "23-02-02 22:00",
          "23-02-03 02:00",
          "23-02-03 06:00",
          "23-02-03 10:00",
          "23-02-03 14:00",
          "23-02-03 18:00",
          "23-02-05 22:00",
          "23-02-06 02:00",
          "23-02-06 06:00",
          "23-02-06 10:00",
          "23-02-06 14:00",
          "23-02-06 18:00",
          "23-02-06 22:00",
          "23-02-07 02:00",
          "23-02-07 06:00",
          "23-02-07 10:00",
          "23-02-07 14:00",
          "23-02-07 18:00",
          "23-02-07 22:00",
          "23-02-08 02:00",
          "23-02-08 06:00",
          "23-02-08 10:00",
          "23-02-08 14:00",
          "23-02-08 18:00",
          "23-02-08 22:00",
          "23-02-09 02:00",
          "23-02-09 06:00",
          "23-02-09 10:00",
          "23-02-09 14:00",
          "23-02-09 18:00",
          "23-02-09 22:00",
          "23-02-10 02:00",
          "23-02-10 06:00",
          "23-02-10 10:00",
          "23-02-10 14:00",
          "23-02-10 18:00",
          "23-02-12 22:00",
          "23-02-13 02:00",
          "23-02-13 06:00",
          "23-02-13 10:00",
          "23-02-13 14:00",
          "23-02-13 18:00",
          "23-02-13 22:00",
          "23-02-14 02:00",
          "23-02-14 06:00",
          "23-02-14 10:00",
          "23-02-14 14:00",
          "23-02-14 18:00",
          "23-02-14 22:00",
          "23-02-15 02:00",
          "23-02-15 06:00",
          "23-02-15 10:00",
          "23-02-15 14:00",
          "23-02-15 18:00",
          "23-02-15 22:00",
          "23-02-16 02:00",
          "23-02-16 06:00",
          "23-02-16 10:00",
          "23-02-16 14:00",
          "23-02-16 18:00",
          "23-02-16 22:00",
          "23-02-17 02:00",
          "23-02-17 06:00",
          "23-02-17 10:00",
          "23-02-17 14:00",
          "23-02-17 18:00",
          "23-02-19 22:00",
          "23-02-20 02:00",
          "23-02-20 06:00",
          "23-02-20 10:00",
          "23-02-20 14:00",
          "23-02-20 18:00",
          "23-02-20 22:00",
          "23-02-21 02:00",
          "23-02-21 06:00",
          "23-02-21 10:00",
          "23-02-21 14:00",
          "23-02-21 18:00",
          "23-02-21 22:00",
          "23-02-22 02:00",
          "23-02-22 06:00",
          "23-02-22 10:00",
          "23-02-22 14:00",
          "23-02-22 18:00",
          "23-02-22 22:00",
          "23-02-23 02:00",
          "23-02-23 06:00",
          "23-02-23 10:00",
          "23-02-23 14:00",
          "23-02-23 18:00",
          "23-02-23 22:00",
          "23-02-24 02:00",
          "23-02-24 06:00",
          "23-02-24 10:00",
          "23-02-24 14:00",
          "23-02-24 18:00",
          "23-02-26 22:00",
          "23-02-27 02:00",
          "23-02-27 06:00",
          "23-02-27 10:00",
          "23-02-27 14:00",
          "23-02-27 18:00",
          "23-02-27 22:00",
          "23-02-28 02:00",
          "23-02-28 06:00",
          "23-02-28 10:00",
          "23-02-28 14:00",
          "23-02-28 18:00",
          "23-02-28 22:00",
          "23-03-01 02:00",
          "23-03-01 06:00",
          "23-03-01 10:00",
          "23-03-01 14:00",
          "23-03-01 18:00",
          "23-03-01 22:00",
          "23-03-02 02:00",
          "23-03-02 06:00",
          "23-03-02 10:00",
          "23-03-02 14:00",
          "23-03-02 18:00",
          "23-03-02 22:00",
          "23-03-03 02:00",
          "23-03-03 06:00",
          "23-03-03 10:00",
          "23-03-03 14:00",
          "23-03-03 18:00",
          "23-03-05 22:00",
          "23-03-06 02:00",
          "23-03-06 06:00",
          "23-03-06 10:00",
          "23-03-06 14:00",
          "23-03-06 18:00",
          "23-03-06 22:00",
          "23-03-07 02:00",
          "23-03-07 06:00",
          "23-03-07 10:00",
          "23-03-07 14:00",
          "23-03-07 18:00",
          "23-03-07 22:00",
          "23-03-08 02:00",
          "23-03-08 06:00",
          "23-03-08 10:00",
          "23-03-08 14:00",
          "23-03-08 18:00",
          "23-03-08 22:00",
          "23-03-09 02:00",
          "23-03-09 06:00",
          "23-03-09 10:00",
          "23-03-09 14:00",
          "23-03-09 18:00",
          "23-03-09 22:00",
          "23-03-10 02:00",
          "23-03-10 06:00",
          "23-03-10 10:00",
          "23-03-10 14:00",
          "23-03-10 18:00",
          "23-03-12 21:00",
          "23-03-13 01:00",
          "23-03-13 05:00",
          "23-03-13 09:00",
          "23-03-13 13:00",
          "23-03-13 17:00",
          "23-03-13 21:00",
          "23-03-14 01:00",
          "23-03-14 05:00",
          "23-03-14 09:00",
          "23-03-14 13:00",
          "23-03-14 17:00",
          "23-03-14 21:00",
          "23-03-15 01:00",
          "23-03-15 05:00",
          "23-03-15 09:00",
          "23-03-15 13:00",
          "23-03-15 17:00",
          "23-03-15 21:00",
          "23-03-16 01:00",
          "23-03-16 05:00",
          "23-03-16 09:00",
          "23-03-16 13:00",
          "23-03-16 17:00",
          "23-03-16 21:00",
          "23-03-17 01:00",
          "23-03-17 05:00",
          "23-03-17 09:00",
          "23-03-17 13:00",
          "23-03-17 17:00",
          "23-03-19 21:00",
          "23-03-20 01:00",
          "23-03-20 05:00",
          "23-03-20 09:00",
          "23-03-20 13:00",
          "23-03-20 17:00",
          "23-03-20 21:00",
          "23-03-21 01:00",
          "23-03-21 05:00",
          "23-03-21 09:00",
          "23-03-21 13:00",
          "23-03-21 17:00",
          "23-03-21 21:00",
          "23-03-22 01:00",
          "23-03-22 05:00",
          "23-03-22 09:00",
          "23-03-22 13:00",
          "23-03-22 17:00",
          "23-03-22 21:00",
          "23-03-23 01:00",
          "23-03-23 05:00",
          "23-03-23 09:00",
          "23-03-23 13:00",
          "23-03-23 17:00",
          "23-03-23 21:00",
          "23-03-24 01:00",
          "23-03-24 05:00",
          "23-03-24 09:00",
          "23-03-24 13:00",
          "23-03-24 17:00",
          "23-03-26 21:00",
          "23-03-27 01:00",
          "23-03-27 05:00",
          "23-03-27 09:00",
          "23-03-27 13:00",
          "23-03-27 17:00",
          "23-03-27 21:00",
          "23-03-28 01:00",
          "23-03-28 05:00",
          "23-03-28 09:00",
          "23-03-28 13:00",
          "23-03-28 17:00",
          "23-03-28 21:00",
          "23-03-29 01:00",
          "23-03-29 05:00",
          "23-03-29 09:00",
          "23-03-29 13:00",
          "23-03-29 17:00",
          "23-03-29 21:00",
          "23-03-30 01:00",
          "23-03-30 05:00",
          "23-03-30 09:00",
          "23-03-30 13:00",
          "23-03-30 17:00",
          "23-03-30 21:00",
          "23-03-31 01:00",
          "23-03-31 05:00",
          "23-03-31 09:00",
          "23-03-31 13:00",
          "23-03-31 17:00",
          "23-04-02 21:00",
          "23-04-03 01:00",
          "23-04-03 05:00",
          "23-04-03 09:00",
          "23-04-03 13:00",
          "23-04-03 17:00",
          "23-04-03 21:00",
          "23-04-04 01:00",
          "23-04-04 05:00",
          "23-04-04 09:00",
          "23-04-04 13:00",
          "23-04-04 17:00",
          "23-04-04 21:00",
          "23-04-05 01:00",
          "23-04-05 05:00",
          "23-04-05 09:00",
          "23-04-05 13:00",
          "23-04-05 17:00",
          "23-04-05 21:00",
          "23-04-06 01:00",
          "23-04-06 05:00",
          "23-04-06 09:00",
          "23-04-06 13:00",
          "23-04-06 17:00",
          "23-04-06 21:00",
          "23-04-07 01:00",
          "23-04-07 05:00",
          "23-04-07 09:00",
          "23-04-07 13:00",
          "23-04-07 17:00",
          "23-04-09 21:00",
          "23-04-10 01:00",
          "23-04-10 05:00",
          "23-04-10 09:00",
          "23-04-10 13:00",
          "23-04-10 17:00",
          "23-04-10 21:00",
          "23-04-11 01:00",
          "23-04-11 05:00",
          "23-04-11 09:00",
          "23-04-11 13:00",
          "23-04-11 17:00",
          "23-04-11 21:00",
          "23-04-12 01:00",
          "23-04-12 05:00",
          "23-04-12 09:00",
          "23-04-12 13:00",
          "23-04-12 17:00",
          "23-04-12 21:00",
          "23-04-13 01:00",
          "23-04-13 05:00",
          "23-04-13 09:00",
          "23-04-13 13:00",
          "23-04-13 17:00",
          "23-04-13 21:00",
          "23-04-14 01:00",
          "23-04-14 05:00",
          "23-04-14 09:00",
          "23-04-14 13:00",
          "23-04-14 17:00",
          "23-04-16 21:00",
          "23-04-17 01:00",
          "23-04-17 05:00",
          "23-04-17 09:00",
          "23-04-17 13:00",
          "23-04-17 17:00",
          "23-04-17 21:00",
          "23-04-18 01:00",
          "23-04-18 05:00",
          "23-04-18 09:00",
          "23-04-18 13:00",
          "23-04-18 17:00",
          "23-04-18 21:00",
          "23-04-19 01:00",
          "23-04-19 05:00",
          "23-04-19 09:00",
          "23-04-19 13:00",
          "23-04-19 17:00",
          "23-04-19 21:00",
          "23-04-20 01:00",
          "23-04-20 05:00",
          "23-04-20 09:00",
          "23-04-20 13:00",
          "23-04-20 17:00",
          "23-04-20 21:00",
          "23-04-21 01:00",
          "23-04-21 05:00",
          "23-04-21 09:00",
          "23-04-21 13:00",
          "23-04-21 17:00",
          "23-04-23 21:00",
          "23-04-24 01:00",
          "23-04-24 05:00",
          "23-04-24 09:00",
          "23-04-24 13:00",
          "23-04-24 17:00",
          "23-04-24 21:00",
          "23-04-25 01:00",
          "23-04-25 05:00",
          "23-04-25 09:00",
          "23-04-25 13:00",
          "23-04-25 17:00",
          "23-04-25 21:00",
          "23-04-26 01:00",
          "23-04-26 05:00",
          "23-04-26 09:00",
          "23-04-26 13:00",
          "23-04-26 17:00",
          "23-04-26 21:00",
          "23-04-27 01:00",
          "23-04-27 05:00",
          "23-04-27 09:00",
          "23-04-27 13:00",
          "23-04-27 17:00",
          "23-04-27 21:00",
          "23-04-28 01:00",
          "23-04-28 05:00",
          "23-04-28 09:00",
          "23-04-28 13:00",
          "23-04-28 17:00",
          "23-04-30 21:00",
          "23-05-01 01:00",
          "23-05-01 05:00",
          "23-05-01 09:00",
          "23-05-01 13:00",
          "23-05-01 17:00",
          "23-05-01 21:00",
          "23-05-02 01:00",
          "23-05-02 05:00",
          "23-05-02 09:00",
          "23-05-02 13:00",
          "23-05-02 17:00",
          "23-05-02 21:00",
          "23-05-03 01:00",
          "23-05-03 05:00",
          "23-05-03 09:00",
          "23-05-03 13:00",
          "23-05-03 17:00",
          "23-05-03 21:00",
          "23-05-04 01:00",
          "23-05-04 05:00",
          "23-05-04 09:00",
          "23-05-04 13:00",
          "23-05-04 17:00",
          "23-05-04 21:00",
          "23-05-05 01:00",
          "23-05-05 05:00",
          "23-05-05 09:00",
          "23-05-05 13:00",
          "23-05-05 17:00",
          "23-05-07 21:00",
          "23-05-08 01:00",
          "23-05-08 05:00",
          "23-05-08 09:00",
          "23-05-08 13:00",
          "23-05-08 17:00",
          "23-05-08 21:00",
          "23-05-09 01:00",
          "23-05-09 05:00",
          "23-05-09 09:00",
          "23-05-09 13:00",
          "23-05-09 17:00",
          "23-05-09 21:00",
          "23-05-10 01:00",
          "23-05-10 05:00",
          "23-05-10 09:00",
          "23-05-10 13:00",
          "23-05-10 17:00",
          "23-05-10 21:00",
          "23-05-11 01:00",
          "23-05-11 05:00",
          "23-05-11 09:00",
          "23-05-11 13:00",
          "23-05-11 17:00",
          "23-05-11 21:00",
          "23-05-12 01:00",
          "23-05-12 05:00",
          "23-05-12 09:00",
          "23-05-12 13:00",
          "23-05-12 17:00",
          "23-05-14 21:00",
          "23-05-15 01:00",
          "23-05-15 05:00",
          "23-05-15 09:00",
          "23-05-15 13:00",
          "23-05-15 17:00",
          "23-05-15 21:00",
          "23-05-16 01:00",
          "23-05-16 05:00",
          "23-05-16 09:00",
          "23-05-16 13:00",
          "23-05-16 17:00",
          "23-05-16 21:00",
          "23-05-17 01:00",
          "23-05-17 05:00",
          "23-05-17 09:00",
          "23-05-17 13:00",
          "23-05-17 17:00",
          "23-05-17 21:00",
          "23-05-18 01:00",
          "23-05-18 05:00",
          "23-05-18 09:00",
          "23-05-18 13:00",
          "23-05-18 17:00",
          "23-05-18 21:00",
          "23-05-19 01:00",
          "23-05-19 05:00",
          "23-05-19 09:00",
          "23-05-19 13:00",
          "23-05-19 17:00",
          "23-05-21 21:00",
          "23-05-22 01:00",
          "23-05-22 05:00",
          "23-05-22 09:00",
          "23-05-22 13:00",
          "23-05-22 17:00",
          "23-05-22 21:00",
          "23-05-23 01:00",
          "23-05-23 05:00",
          "23-05-23 09:00",
          "23-05-23 13:00",
          "23-05-23 17:00",
          "23-05-23 21:00",
          "23-05-24 01:00",
          "23-05-24 05:00",
          "23-05-24 09:00",
          "23-05-24 13:00",
          "23-05-24 17:00",
          "23-05-24 21:00",
          "23-05-25 01:00",
          "23-05-25 05:00",
          "23-05-25 09:00",
          "23-05-25 13:00",
          "23-05-25 17:00",
          "23-05-25 21:00",
          "23-05-26 01:00",
          "23-05-26 05:00",
          "23-05-26 09:00",
          "23-05-26 13:00",
          "23-05-26 17:00",
          "23-05-28 21:00",
          "23-05-29 01:00",
          "23-05-29 05:00",
          "23-05-29 09:00",
          "23-05-29 13:00",
          "23-05-29 17:00",
          "23-05-29 21:00",
          "23-05-30 01:00",
          "23-05-30 05:00",
          "23-05-30 09:00",
          "23-05-30 13:00",
          "23-05-30 17:00",
          "23-05-30 21:00",
          "23-05-31 01:00",
          "23-05-31 05:00",
          "23-05-31 09:00",
          "23-05-31 13:00",
          "23-05-31 17:00",
          "23-05-31 21:00",
          "23-06-01 01:00",
          "23-06-01 05:00",
          "23-06-01 09:00",
          "23-06-01 13:00",
          "23-06-01 17:00",
          "23-06-01 21:00",
          "23-06-02 01:00",
          "23-06-02 05:00",
          "23-06-02 09:00",
          "23-06-02 13:00",
          "23-06-02 17:00",
          "23-06-04 21:00",
          "23-06-05 01:00",
          "23-06-05 05:00",
          "23-06-05 09:00",
          "23-06-05 13:00",
          "23-06-05 17:00",
          "23-06-05 21:00",
          "23-06-06 01:00",
          "23-06-06 05:00",
          "23-06-06 09:00",
          "23-06-06 13:00",
          "23-06-06 17:00",
          "23-06-06 21:00",
          "23-06-07 01:00",
          "23-06-07 05:00",
          "23-06-07 09:00",
          "23-06-07 13:00",
          "23-06-07 17:00",
          "23-06-07 21:00",
          "23-06-08 01:00",
          "23-06-08 05:00",
          "23-06-08 09:00",
          "23-06-08 13:00",
          "23-06-08 17:00",
          "23-06-08 21:00",
          "23-06-09 01:00",
          "23-06-09 05:00",
          "23-06-09 09:00",
          "23-06-09 13:00",
          "23-06-09 17:00",
          "23-06-11 21:00",
          "23-06-12 01:00",
          "23-06-12 05:00",
          "23-06-12 09:00",
          "23-06-12 13:00",
          "23-06-12 17:00",
          "23-06-12 21:00",
          "23-06-13 01:00",
          "23-06-13 05:00",
          "23-06-13 09:00",
          "23-06-13 13:00",
          "23-06-13 17:00",
          "23-06-13 21:00",
          "23-06-14 01:00",
          "23-06-14 05:00",
          "23-06-14 09:00",
          "23-06-14 13:00",
          "23-06-14 17:00",
          "23-06-14 21:00",
          "23-06-15 01:00",
          "23-06-15 05:00",
          "23-06-15 09:00",
          "23-06-15 13:00",
          "23-06-15 17:00",
          "23-06-15 21:00",
          "23-06-16 01:00",
          "23-06-16 05:00",
          "23-06-16 09:00",
          "23-06-16 13:00",
          "23-06-16 17:00",
          "23-06-18 21:00",
          "23-06-19 01:00",
          "23-06-19 05:00",
          "23-06-19 09:00",
          "23-06-19 13:00",
          "23-06-19 17:00",
          "23-06-19 21:00",
          "23-06-20 01:00",
          "23-06-20 05:00",
          "23-06-20 09:00",
          "23-06-20 13:00",
          "23-06-20 17:00",
          "23-06-20 21:00",
          "23-06-21 01:00",
          "23-06-21 05:00",
          "23-06-21 09:00",
          "23-06-21 13:00",
          "23-06-21 17:00",
          "23-06-21 21:00",
          "23-06-22 01:00",
          "23-06-22 05:00",
          "23-06-22 09:00",
          "23-06-22 13:00",
          "23-06-22 17:00",
          "23-06-22 21:00",
          "23-06-23 01:00",
          "23-06-23 05:00",
          "23-06-23 09:00",
          "23-06-23 13:00",
          "23-06-23 17:00",
          "23-06-25 21:00",
          "23-06-26 01:00",
          "23-06-26 05:00",
          "23-06-26 09:00",
          "23-06-26 13:00",
          "23-06-26 17:00",
          "23-06-26 21:00",
          "23-06-27 01:00",
          "23-06-27 05:00",
          "23-06-27 09:00",
          "23-06-27 13:00",
          "23-06-27 17:00",
          "23-06-27 21:00",
          "23-06-28 01:00",
          "23-06-28 05:00",
          "23-06-28 09:00",
          "23-06-28 13:00",
          "23-06-28 17:00",
          "23-06-28 21:00",
          "23-06-29 01:00",
          "23-06-29 05:00",
          "23-06-29 09:00",
          "23-06-29 13:00",
          "23-06-29 17:00",
          "23-06-29 21:00",
          "23-06-30 01:00",
          "23-06-30 05:00",
          "23-06-30 09:00",
          "23-06-30 13:00",
          "23-06-30 17:00",
          "23-07-02 21:00",
          "23-07-03 01:00",
          "23-07-03 05:00",
          "23-07-03 09:00",
          "23-07-03 13:00",
          "23-07-03 17:00",
          "23-07-03 21:00",
          "23-07-04 01:00",
          "23-07-04 05:00",
          "23-07-04 09:00",
          "23-07-04 13:00",
          "23-07-04 17:00",
          "23-07-04 21:00",
          "23-07-05 01:00",
          "23-07-05 05:00",
          "23-07-05 09:00",
          "23-07-05 13:00",
          "23-07-05 17:00",
          "23-07-05 21:00",
          "23-07-06 01:00",
          "23-07-06 05:00",
          "23-07-06 09:00",
          "23-07-06 13:00",
          "23-07-06 17:00",
          "23-07-06 21:00",
          "23-07-07 01:00",
          "23-07-07 05:00",
          "23-07-07 09:00",
          "23-07-07 13:00",
          "23-07-07 17:00",
          "23-07-09 21:00",
          "23-07-10 01:00",
          "23-07-10 05:00",
          "23-07-10 09:00",
          "23-07-10 13:00",
          "23-07-10 17:00",
          "23-07-10 21:00",
          "23-07-11 01:00",
          "23-07-11 05:00",
          "23-07-11 09:00",
          "23-07-11 13:00",
          "23-07-11 17:00",
          "23-07-11 21:00",
          "23-07-12 01:00",
          "23-07-12 05:00",
          "23-07-12 09:00",
          "23-07-12 13:00",
          "23-07-12 17:00",
          "23-07-12 21:00",
          "23-07-13 01:00",
          "23-07-13 05:00",
          "23-07-13 09:00",
          "23-07-13 13:00",
          "23-07-13 17:00",
          "23-07-13 21:00",
          "23-07-14 01:00",
          "23-07-14 05:00",
          "23-07-14 09:00",
          "23-07-14 13:00",
          "23-07-14 17:00",
          "23-07-16 21:00",
          "23-07-17 01:00",
          "23-07-17 05:00",
          "23-07-17 09:00",
          "23-07-17 13:00",
          "23-07-17 17:00",
          "23-07-17 21:00",
          "23-07-18 01:00",
          "23-07-18 05:00",
          "23-07-18 09:00",
          "23-07-18 13:00",
          "23-07-18 17:00",
          "23-07-18 21:00",
          "23-07-19 01:00",
          "23-07-19 05:00",
          "23-07-19 09:00",
          "23-07-19 13:00",
          "23-07-19 17:00",
          "23-07-19 21:00",
          "23-07-20 01:00",
          "23-07-20 05:00",
          "23-07-20 09:00",
          "23-07-20 13:00",
          "23-07-20 17:00",
          "23-07-20 21:00",
          "23-07-21 01:00",
          "23-07-21 05:00",
          "23-07-21 09:00",
          "23-07-21 13:00",
          "23-07-21 17:00",
          "23-07-23 21:00",
          "23-07-24 01:00",
          "23-07-24 05:00",
          "23-07-24 09:00",
          "23-07-24 13:00",
          "23-07-24 17:00",
          "23-07-24 21:00",
          "23-07-25 01:00",
          "23-07-25 05:00",
          "23-07-25 09:00",
          "23-07-25 13:00",
          "23-07-25 17:00",
          "23-07-25 21:00",
          "23-07-26 01:00",
          "23-07-26 05:00",
          "23-07-26 09:00",
          "23-07-26 13:00",
          "23-07-26 17:00",
          "23-07-26 21:00",
          "23-07-27 01:00",
          "23-07-27 05:00",
          "23-07-27 09:00",
          "23-07-27 13:00",
          "23-07-27 17:00",
          "23-07-27 21:00",
          "23-07-28 01:00",
          "23-07-28 05:00",
          "23-07-28 09:00",
          "23-07-28 13:00",
          "23-07-28 17:00",
          "23-07-30 21:00",
          "23-07-31 01:00",
          "23-07-31 05:00",
          "23-07-31 09:00",
          "23-07-31 13:00",
          "23-07-31 17:00",
          "23-07-31 21:00",
          "23-08-01 01:00",
          "23-08-01 05:00",
          "23-08-01 09:00",
          "23-08-01 13:00",
          "23-08-01 17:00",
          "23-08-01 21:00",
          "23-08-02 01:00",
          "23-08-02 05:00",
          "23-08-02 09:00",
          "23-08-02 13:00",
          "23-08-02 17:00",
          "23-08-02 21:00",
          "23-08-03 01:00",
          "23-08-03 05:00",
          "23-08-03 09:00",
          "23-08-03 13:00",
          "23-08-03 17:00",
          "23-08-03 21:00",
          "23-08-04 01:00",
          "23-08-04 05:00",
          "23-08-04 09:00",
          "23-08-04 13:00",
          "23-08-04 17:00",
          "23-08-06 21:00",
          "23-08-07 01:00",
          "23-08-07 05:00",
          "23-08-07 09:00",
          "23-08-07 13:00",
          "23-08-07 17:00",
          "23-08-07 21:00",
          "23-08-08 01:00",
          "23-08-08 05:00",
          "23-08-08 09:00",
          "23-08-08 13:00",
          "23-08-08 17:00",
          "23-08-08 21:00",
          "23-08-09 01:00",
          "23-08-09 05:00",
          "23-08-09 09:00",
          "23-08-09 13:00",
          "23-08-09 17:00",
          "23-08-09 21:00",
          "23-08-10 01:00",
          "23-08-10 05:00",
          "23-08-10 09:00",
          "23-08-10 13:00",
          "23-08-10 17:00",
          "23-08-10 21:00",
          "23-08-11 01:00",
          "23-08-11 05:00",
          "23-08-11 09:00",
          "23-08-11 13:00",
          "23-08-11 17:00",
          "23-08-13 21:00",
          "23-08-14 01:00",
          "23-08-14 05:00",
          "23-08-14 09:00",
          "23-08-14 13:00",
          "23-08-14 17:00",
          "23-08-14 21:00",
          "23-08-15 01:00",
          "23-08-15 05:00",
          "23-08-15 09:00",
          "23-08-15 13:00",
          "23-08-15 17:00",
          "23-08-15 21:00",
          "23-08-16 01:00",
          "23-08-16 05:00",
          "23-08-16 09:00",
          "23-08-16 13:00",
          "23-08-16 17:00",
          "23-08-16 21:00",
          "23-08-17 01:00",
          "23-08-17 05:00",
          "23-08-17 09:00",
          "23-08-17 13:00",
          "23-08-17 17:00",
          "23-08-17 21:00"
         ]
        }
       ],
       "layout": {
        "font": {
         "color": "#e1e1e1",
         "size": 8
        },
        "height": 400,
        "margin": {
         "b": 10,
         "l": 10,
         "r": 10,
         "t": 10
        },
        "paper_bgcolor": "#2c303c",
        "plot_bgcolor": "#2c303c",
        "template": {
         "data": {
          "bar": [
           {
            "error_x": {
             "color": "#2a3f5f"
            },
            "error_y": {
             "color": "#2a3f5f"
            },
            "marker": {
             "line": {
              "color": "#E5ECF6",
              "width": 0.5
             },
             "pattern": {
              "fillmode": "overlay",
              "size": 10,
              "solidity": 0.2
             }
            },
            "type": "bar"
           }
          ],
          "barpolar": [
           {
            "marker": {
             "line": {
              "color": "#E5ECF6",
              "width": 0.5
             },
             "pattern": {
              "fillmode": "overlay",
              "size": 10,
              "solidity": 0.2
             }
            },
            "type": "barpolar"
           }
          ],
          "carpet": [
           {
            "aaxis": {
             "endlinecolor": "#2a3f5f",
             "gridcolor": "white",
             "linecolor": "white",
             "minorgridcolor": "white",
             "startlinecolor": "#2a3f5f"
            },
            "baxis": {
             "endlinecolor": "#2a3f5f",
             "gridcolor": "white",
             "linecolor": "white",
             "minorgridcolor": "white",
             "startlinecolor": "#2a3f5f"
            },
            "type": "carpet"
           }
          ],
          "choropleth": [
           {
            "colorbar": {
             "outlinewidth": 0,
             "ticks": ""
            },
            "type": "choropleth"
           }
          ],
          "contour": [
           {
            "colorbar": {
             "outlinewidth": 0,
             "ticks": ""
            },
            "colorscale": [
             [
              0,
              "#0d0887"
             ],
             [
              0.1111111111111111,
              "#46039f"
             ],
             [
              0.2222222222222222,
              "#7201a8"
             ],
             [
              0.3333333333333333,
              "#9c179e"
             ],
             [
              0.4444444444444444,
              "#bd3786"
             ],
             [
              0.5555555555555556,
              "#d8576b"
             ],
             [
              0.6666666666666666,
              "#ed7953"
             ],
             [
              0.7777777777777778,
              "#fb9f3a"
             ],
             [
              0.8888888888888888,
              "#fdca26"
             ],
             [
              1,
              "#f0f921"
             ]
            ],
            "type": "contour"
           }
          ],
          "contourcarpet": [
           {
            "colorbar": {
             "outlinewidth": 0,
             "ticks": ""
            },
            "type": "contourcarpet"
           }
          ],
          "heatmap": [
           {
            "colorbar": {
             "outlinewidth": 0,
             "ticks": ""
            },
            "colorscale": [
             [
              0,
              "#0d0887"
             ],
             [
              0.1111111111111111,
              "#46039f"
             ],
             [
              0.2222222222222222,
              "#7201a8"
             ],
             [
              0.3333333333333333,
              "#9c179e"
             ],
             [
              0.4444444444444444,
              "#bd3786"
             ],
             [
              0.5555555555555556,
              "#d8576b"
             ],
             [
              0.6666666666666666,
              "#ed7953"
             ],
             [
              0.7777777777777778,
              "#fb9f3a"
             ],
             [
              0.8888888888888888,
              "#fdca26"
             ],
             [
              1,
              "#f0f921"
             ]
            ],
            "type": "heatmap"
           }
          ],
          "histogram": [
           {
            "marker": {
             "pattern": {
              "fillmode": "overlay",
              "size": 10,
              "solidity": 0.2
             }
            },
            "type": "histogram"
           }
          ],
          "histogram2d": [
           {
            "colorbar": {
             "outlinewidth": 0,
             "ticks": ""
            },
            "colorscale": [
             [
              0,
              "#0d0887"
             ],
             [
              0.1111111111111111,
              "#46039f"
             ],
             [
              0.2222222222222222,
              "#7201a8"
             ],
             [
              0.3333333333333333,
              "#9c179e"
             ],
             [
              0.4444444444444444,
              "#bd3786"
             ],
             [
              0.5555555555555556,
              "#d8576b"
             ],
             [
              0.6666666666666666,
              "#ed7953"
             ],
             [
              0.7777777777777778,
              "#fb9f3a"
             ],
             [
              0.8888888888888888,
              "#fdca26"
             ],
             [
              1,
              "#f0f921"
             ]
            ],
            "type": "histogram2d"
           }
          ],
          "histogram2dcontour": [
           {
            "colorbar": {
             "outlinewidth": 0,
             "ticks": ""
            },
            "colorscale": [
             [
              0,
              "#0d0887"
             ],
             [
              0.1111111111111111,
              "#46039f"
             ],
             [
              0.2222222222222222,
              "#7201a8"
             ],
             [
              0.3333333333333333,
              "#9c179e"
             ],
             [
              0.4444444444444444,
              "#bd3786"
             ],
             [
              0.5555555555555556,
              "#d8576b"
             ],
             [
              0.6666666666666666,
              "#ed7953"
             ],
             [
              0.7777777777777778,
              "#fb9f3a"
             ],
             [
              0.8888888888888888,
              "#fdca26"
             ],
             [
              1,
              "#f0f921"
             ]
            ],
            "type": "histogram2dcontour"
           }
          ],
          "mesh3d": [
           {
            "colorbar": {
             "outlinewidth": 0,
             "ticks": ""
            },
            "type": "mesh3d"
           }
          ],
          "parcoords": [
           {
            "line": {
             "colorbar": {
              "outlinewidth": 0,
              "ticks": ""
             }
            },
            "type": "parcoords"
           }
          ],
          "pie": [
           {
            "automargin": true,
            "type": "pie"
           }
          ],
          "scatter": [
           {
            "fillpattern": {
             "fillmode": "overlay",
             "size": 10,
             "solidity": 0.2
            },
            "type": "scatter"
           }
          ],
          "scatter3d": [
           {
            "line": {
             "colorbar": {
              "outlinewidth": 0,
              "ticks": ""
             }
            },
            "marker": {
             "colorbar": {
              "outlinewidth": 0,
              "ticks": ""
             }
            },
            "type": "scatter3d"
           }
          ],
          "scattercarpet": [
           {
            "marker": {
             "colorbar": {
              "outlinewidth": 0,
              "ticks": ""
             }
            },
            "type": "scattercarpet"
           }
          ],
          "scattergeo": [
           {
            "marker": {
             "colorbar": {
              "outlinewidth": 0,
              "ticks": ""
             }
            },
            "type": "scattergeo"
           }
          ],
          "scattergl": [
           {
            "marker": {
             "colorbar": {
              "outlinewidth": 0,
              "ticks": ""
             }
            },
            "type": "scattergl"
           }
          ],
          "scattermap": [
           {
            "marker": {
             "colorbar": {
              "outlinewidth": 0,
              "ticks": ""
             }
            },
            "type": "scattermap"
           }
          ],
          "scattermapbox": [
           {
            "marker": {
             "colorbar": {
              "outlinewidth": 0,
              "ticks": ""
             }
            },
            "type": "scattermapbox"
           }
          ],
          "scatterpolar": [
           {
            "marker": {
             "colorbar": {
              "outlinewidth": 0,
              "ticks": ""
             }
            },
            "type": "scatterpolar"
           }
          ],
          "scatterpolargl": [
           {
            "marker": {
             "colorbar": {
              "outlinewidth": 0,
              "ticks": ""
             }
            },
            "type": "scatterpolargl"
           }
          ],
          "scatterternary": [
           {
            "marker": {
             "colorbar": {
              "outlinewidth": 0,
              "ticks": ""
             }
            },
            "type": "scatterternary"
           }
          ],
          "surface": [
           {
            "colorbar": {
             "outlinewidth": 0,
             "ticks": ""
            },
            "colorscale": [
             [
              0,
              "#0d0887"
             ],
             [
              0.1111111111111111,
              "#46039f"
             ],
             [
              0.2222222222222222,
              "#7201a8"
             ],
             [
              0.3333333333333333,
              "#9c179e"
             ],
             [
              0.4444444444444444,
              "#bd3786"
             ],
             [
              0.5555555555555556,
              "#d8576b"
             ],
             [
              0.6666666666666666,
              "#ed7953"
             ],
             [
              0.7777777777777778,
              "#fb9f3a"
             ],
             [
              0.8888888888888888,
              "#fdca26"
             ],
             [
              1,
              "#f0f921"
             ]
            ],
            "type": "surface"
           }
          ],
          "table": [
           {
            "cells": {
             "fill": {
              "color": "#EBF0F8"
             },
             "line": {
              "color": "white"
             }
            },
            "header": {
             "fill": {
              "color": "#C8D4E3"
             },
             "line": {
              "color": "white"
             }
            },
            "type": "table"
           }
          ]
         },
         "layout": {
          "annotationdefaults": {
           "arrowcolor": "#2a3f5f",
           "arrowhead": 0,
           "arrowwidth": 1
          },
          "autotypenumbers": "strict",
          "coloraxis": {
           "colorbar": {
            "outlinewidth": 0,
            "ticks": ""
           }
          },
          "colorscale": {
           "diverging": [
            [
             0,
             "#8e0152"
            ],
            [
             0.1,
             "#c51b7d"
            ],
            [
             0.2,
             "#de77ae"
            ],
            [
             0.3,
             "#f1b6da"
            ],
            [
             0.4,
             "#fde0ef"
            ],
            [
             0.5,
             "#f7f7f7"
            ],
            [
             0.6,
             "#e6f5d0"
            ],
            [
             0.7,
             "#b8e186"
            ],
            [
             0.8,
             "#7fbc41"
            ],
            [
             0.9,
             "#4d9221"
            ],
            [
             1,
             "#276419"
            ]
           ],
           "sequential": [
            [
             0,
             "#0d0887"
            ],
            [
             0.1111111111111111,
             "#46039f"
            ],
            [
             0.2222222222222222,
             "#7201a8"
            ],
            [
             0.3333333333333333,
             "#9c179e"
            ],
            [
             0.4444444444444444,
             "#bd3786"
            ],
            [
             0.5555555555555556,
             "#d8576b"
            ],
            [
             0.6666666666666666,
             "#ed7953"
            ],
            [
             0.7777777777777778,
             "#fb9f3a"
            ],
            [
             0.8888888888888888,
             "#fdca26"
            ],
            [
             1,
             "#f0f921"
            ]
           ],
           "sequentialminus": [
            [
             0,
             "#0d0887"
            ],
            [
             0.1111111111111111,
             "#46039f"
            ],
            [
             0.2222222222222222,
             "#7201a8"
            ],
            [
             0.3333333333333333,
             "#9c179e"
            ],
            [
             0.4444444444444444,
             "#bd3786"
            ],
            [
             0.5555555555555556,
             "#d8576b"
            ],
            [
             0.6666666666666666,
             "#ed7953"
            ],
            [
             0.7777777777777778,
             "#fb9f3a"
            ],
            [
             0.8888888888888888,
             "#fdca26"
            ],
            [
             1,
             "#f0f921"
            ]
           ]
          },
          "colorway": [
           "#636efa",
           "#EF553B",
           "#00cc96",
           "#ab63fa",
           "#FFA15A",
           "#19d3f3",
           "#FF6692",
           "#B6E880",
           "#FF97FF",
           "#FECB52"
          ],
          "font": {
           "color": "#2a3f5f"
          },
          "geo": {
           "bgcolor": "white",
           "lakecolor": "white",
           "landcolor": "#E5ECF6",
           "showlakes": true,
           "showland": true,
           "subunitcolor": "white"
          },
          "hoverlabel": {
           "align": "left"
          },
          "hovermode": "closest",
          "mapbox": {
           "style": "light"
          },
          "paper_bgcolor": "white",
          "plot_bgcolor": "#E5ECF6",
          "polar": {
           "angularaxis": {
            "gridcolor": "white",
            "linecolor": "white",
            "ticks": ""
           },
           "bgcolor": "#E5ECF6",
           "radialaxis": {
            "gridcolor": "white",
            "linecolor": "white",
            "ticks": ""
           }
          },
          "scene": {
           "xaxis": {
            "backgroundcolor": "#E5ECF6",
            "gridcolor": "white",
            "gridwidth": 2,
            "linecolor": "white",
            "showbackground": true,
            "ticks": "",
            "zerolinecolor": "white"
           },
           "yaxis": {
            "backgroundcolor": "#E5ECF6",
            "gridcolor": "white",
            "gridwidth": 2,
            "linecolor": "white",
            "showbackground": true,
            "ticks": "",
            "zerolinecolor": "white"
           },
           "zaxis": {
            "backgroundcolor": "#E5ECF6",
            "gridcolor": "white",
            "gridwidth": 2,
            "linecolor": "white",
            "showbackground": true,
            "ticks": "",
            "zerolinecolor": "white"
           }
          },
          "shapedefaults": {
           "line": {
            "color": "#2a3f5f"
           }
          },
          "ternary": {
           "aaxis": {
            "gridcolor": "white",
            "linecolor": "white",
            "ticks": ""
           },
           "baxis": {
            "gridcolor": "white",
            "linecolor": "white",
            "ticks": ""
           },
           "bgcolor": "#E5ECF6",
           "caxis": {
            "gridcolor": "white",
            "linecolor": "white",
            "ticks": ""
           }
          },
          "title": {
           "x": 0.05
          },
          "xaxis": {
           "automargin": true,
           "gridcolor": "white",
           "linecolor": "white",
           "ticks": "",
           "title": {
            "standoff": 15
           },
           "zerolinecolor": "white",
           "zerolinewidth": 2
          },
          "yaxis": {
           "automargin": true,
           "gridcolor": "white",
           "linecolor": "white",
           "ticks": "",
           "title": {
            "standoff": 15
           },
           "zerolinecolor": "white",
           "zerolinewidth": 2
          }
         }
        },
        "width": 900,
        "xaxis": {
         "gridcolor": "#1F292F",
         "nticks": 5,
         "rangeslider": {
          "visible": false
         }
        },
        "yaxis": {
         "gridcolor": "#1f292f"
        }
       }
      }
     },
     "metadata": {},
     "output_type": "display_data"
    },
    {
     "data": {
      "application/vnd.plotly.v1+json": {
       "config": {
        "plotlyServerURL": "https://plot.ly"
       },
       "data": [
        {
         "close": {
          "bdata": "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",
          "dtype": "f8"
         },
         "decreasing": {
          "fillcolor": "#CC2E3C",
          "line": {
           "color": "#FF3A4C"
          }
         },
         "high": {
          "bdata": "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",
          "dtype": "f8"
         },
         "increasing": {
          "fillcolor": "#24A06B",
          "line": {
           "color": "#2EC886"
          }
         },
         "line": {
          "width": 1
         },
         "low": {
          "bdata": "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",
          "dtype": "f8"
         },
         "opacity": 1,
         "open": {
          "bdata": "cQM+P4wQ7z9n1edqK/buPzm0yHa+n+4/Oul942vP7j/LoUW28/3uP/5IERlW8e4/7wOQ2sTJ7j85Yi0+BcDuP4f+CS5W1O4/2NMOf03W7j94l4v4TszuP0IJM23/yu4/myDqPgCp7j8bZJKRs7DuP28Sg8DKoe4/qwmi7gOQ7j8wDcNHxJTuP16iemtgq+4/zojS3uAL7z/Xhopx/ibvP/2fw3x5Ae8/dAzIXu/+7j9angd3Z+3uPzi+9sySAO8/Yygn2lVI7z+ZZOQs7GnvPzdPdcjNcO8/6+I2GsBb7z8oDwu1pnnvPxDM0eP3Nu8/pI0j1uJT7z/S+8bXnlnvPyBB8WPMXe8/42vPLAlQ7z8TYcPTK2XvP8ed0sH6P+8/is3HtaFi7z+MhLacS3HvPzXvOEVHcu8/DyibcoV37z9FZFjFG5nvPzXSUnk7wu8/SKeufJbn7z+FfNCzWfXvP+ohGt1B7O8/v0NRoE/k7z++vAD76NTvP7pOIy2Vt+8/Ol0WE5uP7z8ZraOqCaLvP+scA7LXu+8/OpLLf0i/7z8wZHWr56TvP/lOzHoxlO8/51JcVfZd7z9rn47HDFTvP7tE9dbAVu8/aD9SRIZV7z9aL4Zyol3vPxe86CtIM+8/sRafAmA87z9IMxZNZyfvP32R0JZzKe8/l6jeGtgq7z+M8zehEAHvP59x4UBIFu8/Foczv5oD7z8FFytqMA3vP3va4a/JGu8/utqK/WX37j9UjPM3oRDvP5hRLLe0Gu8/jq89syRA7z+MSuoENBHvPz4FwHgGDe8/SgwCK4cW7z+TOgFNhA3vP8nIWdjTDu8/eJyiI7n87j+zQSYZOQvvP7zoK0gzFu8/WUxsPq4N7z8TfqmfNxXvPwCpTZzc7+4/nUZaKm9H7z+6vaQxWkfvP8MN+PwwQu8/sD2zJEBN7z+IaHQHsTPvP0pBt5c0Ru8/YvNxbagY7z/JHww89x7vP3LhQEgWMO8/KowtBDko7z/uPVxy3CnvPw7z5QXYR+8/XD0nvW987z93hNOCF33vPyDvVSsTfu8/JQaBlUOL7z/5oGez6nPvPymWW1oNie8/tYmT+x2K7z+0WfW52orvPzy9UpYhju8/sHJoke187z+0q5Dyk2rvP5YmpaDbS+8/VcGopE5A7z9McVXZd0XvP8jNcAM+P+8/fA+XHHdK7z92Tx4Wak3vPwKaCBueXu8/WP/nMF9e7z/iOzHrxVDvP799HThnRO8/ho+IKZFE7z8NbJVgcTjvP9NNYhBYOe8/zhlR2ht87z+HokCfyJPvP2qkpfJ2hO8/+ie4WFGD7z/T2cngKHnvP3LEWnwKgO8/Lq2GxD2W7z9ENLqD2JnvP9QOf03WqO8/W+uLhLac7z8IjzaOWIvvP35S7dPxmO8/0uP3Nv3Z7z+/Q1GgT+TvP9szSwLU1O8/7Sqk/KTa7z+rIXGPpQ/wP4vDmV/NAfA/yAc9m1Uf8D+oGOdvQiHwPzmc+dUcIPA/W9O84xQd8D9GfCdmvRjwPzQuHAjJAvA/H4DUJk7u7z+IhVrTvOPvP/cBSG3i5O8/wcqhRbbz7z/EfHkB9tHvPy1gArfu5u8/5+PaUDHO7z97Tnrf+NrvP5HVrZ6T3u8/OkAwR4/f7z/izK/mAMHvP6Fns+pzte8/0VeQZiya7z+twJDVrZ7vPzUk7rH0oe8//IwLB0Ky7z+MZ9DQP8HvP3KndLD+z+8/yuAoeXWO7z//lZUmpaDvP/rVHCCYo+8/4e6s3Xah7z88a7ddaK7vP/tcbcX+su8/wZDVrZ6T7z9dFhObj2vvP+jZrPpcbe8/f6SIDKt47z9v2LYos0HvP3kB9tGpK+8//tR46SYx7z+9xi5RvTXvP9k9eVioNe8/cF8HzhlR7z8sms5OBkfvPxjPoKF/gu8/J2vUQzS67z8TRN0HILXvP4Ln3sMlx+8/GLK61XPS7z+jI7n8h/TvP0EOSphp++8/1EhL5e0I8D9l5CzsaQfwPy9uowG8BfA/sYo3Mo/87z/9n8N8eQHwP1Zl3xXB/+8/wM+4cCAk8D+PGaiMfx/wP0Q0uoPYGfA/smg6Oxkc8D/eH+9VKxPwP5WaPdAKDPA/0LhwICQL8D9pjNZR1QTwP7ahYpy/CfA/kQpjC0EO8D84EJIFTODvP98Vwf9WMvA/7WRwlLw68D9NEHUfgFTwP4enV8oyRPA/RMAhVKlZ8D+RRC+jWG7wP8cpOpLLf/A/B1+YTBWM8D9hbCHIQYnwP4Oj5NU5hvA/QiYZOQt78D9yxFp8CoDwP8OBkCxggvA/trkxPWGJ8D+8eapDbobwP4l7LH3ogvA/uRluwOeH8D/1LXO6LKbwP8A+OnXls/A/6N7DJced8D+tUQ/R6I7wP+m3rwPnjPA/YtuizAaZ8D/NHmgFhqzwP47pCUs8oPA/k6mCUUmd8D8bDeAtkKDwP0MEHEKVmvA/QbyuX7Cb8D9MbD6uDZXwP447pYP1f/A/c0urIXGP8D+GcqJdhZTwPy2VtyOclvA/RpT2Bl+Y8D/qPgCpTZzwP0xUbw1slfA/1GAaho+I8D/aOGItPoXwP+SghJm2f/A/FhiyutVz8D8+6Nms+lzwP9Wytb5IaPA/Olj/5zBf8D+HbYsyG2TwP+2BVmDIavA/ZAYq499n8D8EIVnABG7wP7STwVHyavA/YhVvZB558D8H8BZIUHzwP1Z9rrZif/A/oBov3SSG8D+F61G4HoXwP5yiI7n8h/A/26fjMQOV8D8WTWcng6PwPwXFjzF3rfA/qFfKMsSx8D/PTgZHyavwP693f7xXrfA/gQncupun8D9/2T15WKjwP9ZW7C+7p/A/Y2LzcW2o8D83VIzzN6HwP0Z8J2a9mPA/SnuDL0ym8D8KLlbUYJrwP1cE/1vJjvA/AG+BBMWP8D/WxW00gLfwP3bgnBGlvfA/gbIpV3iX8D9BfcucLovwPzNt/8pKk/A/WHOAYI6e8D9oy7kUV5XwP57Swfo/h/A/CI82jliL8D+2uTE9YYnwP8rgKHl1jvA/O420VN6O8D/CwHPv4ZLwP4nS3uALk/A/Gy/dJAaB8D8QXVDfMqfwPx/0bFZ9rvA/vJaQD3q28D9NMnIW9rTwP3+HokCfyPA/yAxUxr/P8D/1SlmGONbwP6btX1lp0vA/vFzEd2LW8D9+xoUDIdnwP+i8xi5RvfA/SFD8GHPX8D9dv2A3bNvwP5usUQ/R6PA/dLUV+8vu8D++E7NeDOXwPw+5GW7A5/A/0ETY8PTK8D+3XWiu08jwP/6arFEP0fA/mIbhI2LK8D8KSzygbMrwP8NkqmBU0vA/aOif4GLF8D+sVib8Ur/wP4tPATCewfA/VwkWhzO/8D8XK2owDcPwP8rDQq1p3vA/o3VUNUHU8D/H9IQlHtDwP8ucLouJzfA/ymyQSUbO8D/RXKeRlsrwP0zg1t081fA/HvmDgefe8D9Of/YjReTwP1qeB3dn7fA/zqrP1Vbs8D+jzAaZZOTwP+mayTfb3PA/AWpq2Vrf8D98fhghPNrwP+Dzwwjh0fA/wRw9fm/T8D+FJR5QNuXwP0P/BBcr6vA/JgFqatna8D/Pg7uzdtvwP+TaUDHO3/A/p3Sw/s/h8D90XmOXqN7wP5tattYXCfE/zzEge7378D/7P4f58gLxP4czv5oDBPE/cayL22gA8T86deWzPA/xP/C/lezYCPE/Jh5QNuUK8T+eQUP/BBfxP8iYu5aQD/E/PdUhN8MN8T/Jcad0sP7wP5fK2xFOC/E/TI47pYP18D+M22gAbwHxP2X8+4wLB/E/Ksb5m1AI8T8mx53SwfrwP8AhVKnZA/E/K4cW2c738D8awFsgQfHwP2NFDaZh+PA/Rrbz/dT48D+T407pYP3wP2NFDaZh+PA/AAAAAAAA8T+cM6K0N/jwPw4QzNHj9/A/Vd6OcFrw8D9NFYxK6gTxP0Deq1Ym/PA/JH8w8Nz78D//z2G+vADxP8uhRbbz/fA/IjfDDfj88D9dbcX+svvwP+EoeXWOAfE/g0wychb28D+cM6K0N/jwP4vDmV/NAfE/oBov3SQG8T8NN+DzwwjxP0NWt3pO+vA/Oq+xS1Tv8D/4iJgSSfTwP7sKKT+p9vA/88gfDDz38D+2SrA4nPnwP36MuWsJ+fA/rir7rgj+8D+GG/D5YQTxP+wvuycPC/E/seHplbIM8T8fLjnulA7xPxsv3SQGAfE/hetRuB4F8T8tPgXAeAbxP2X8+4wLB/E/Ka4q+64I8T8wnkFD/wTxP7th26LMBvE/qDrkZrgB8T9CPujZrPrwPzeOWItPAfE/AAAAAAAA8T9381SH3AzxP5WCbi9pDPE/LGUZ4lgX8T+Q2sTJ/Q7xP8rgKHl1DvE/D5ccd0oH8T9crKjBNAzxP6eRlsrbEfE/iBHCo40j8T+twJDVrR7xP67wLhfxHfE/rvAuF/Ed8T/11sBWCRbxP9lfdk8eFvE/dHtJY7QO8T/FILByaBHxP5EKYwtBDvE/cjPcgM8P8T+q1OyBVuDwPxNJ9DKK5fA/AFKbOLnf8D8cmUf+YODwP/EpAMYz6PA/DFnd6jnp8D8KgPEMGvrwPwqA8Qwa+vA/1PGYgcr48D9IFjCBW/fwP8uhRbbz/fA/0ZFc/kP68D+syr4rgv/wP25uTE9Y4vA/DAIrhxbZ8D8T8kHPZtXwP7osJjYf1/A/bef7qfHS8D+rlQm/1M/wP5HtfD813vA/96+sNCkF8T+Cc0aU9gbxP+KvyRr1EPE/2o8UkWEV8T/6fmq8dBPxP/Bt+rMfKfE/+kSeJF0z8T+VYHE48yvxP69fsBu2LfE/xy5RvTUw8T/hRV9BmjHxP/LNNjemJ/E/I4RHG0cs8T/NBplk5CzxP89m1edqK/E/isiwijcy8T9y+Q/pty/xP1CqfToeM/E//aTap+Mx8T+E2JlC5zXxP+6UDtb/OfE/DWyVYHE48T996IL6ljnxP8AEbt3NU/E/CFqBIatb8T+WlSaloFvxPwKaCBueXvE/SWjLuRRX8T+bPdAKDFnxP75Nf/YjRfE/F4IclDBT8T9qh78ma1TxP93qOel9Y/E/46qy74pg8T+OBvAWSFDxP3UfgNQmTvE/sD2zJEBN8T//snvysFDxP63ddqG5TvE/+MJkqmBU8T9XeJeL+E7xP/CK4H8rWfE/cTjzqzlA8T+kNnFyv0PxP2e4AZ8fRvE/HhuBeF0/8T8VkWEVb2TxP1a3ek56X/E/Z7gBnx9G8T+kNnFyv0PxP/vL7snDQvE/+GuyRj1E8T9SuB6F61HxP11Q3zKnS/E/kX77OnBO8T9pb/CFyVTxP/QyiuWWVvE/oP1IERlW8T/4wmSqYFTxP5iG4SNiSvE/0vvG155Z8T/8qfHSTWLxP3XN5JttbvE/zGJi83Ft8T/ayeAoeXXxPwBSmzi5X/E/Uz9vKlJh8T8w2A3bFmXxP341BwjmaPE/gH106spn8T9x5ldzgGDxP21Wfa62YvE/mWTkLOxp8T/saYe/JmvxPz0P7s7abfE/q1s9J71v8T/Ughd9BWnxP4UlHlA2ZfE/OGdEaW9w8T8PKJtyhXfxP7iSHRuBePE/nDOitDd48T/JAiZw627xP+C593DJcfE/GCE82jhi8T8hyEEJM23xP7Ezhc5rbPE/EjElkuhl8T+ZZOQs7GnxP4wtBDkoYfE/pSxDHOti8T81mIbhI2LxP0sfuqC+ZfE/3dJqSNxj8T9TliGOdXHxP5ccd0oHa/E/Olj/5zBf8T+y9KEL6lvxPwFqatlaX/E/vHSTGARW8T+kjSPW4lPxP7HEA8qmXPE/3zKny2Ji8T9uhhvw+WHxP1fPSe8bX/E/TE9Y4gFl8T8NcayL22jxPxh47j1ccvE/a2XCL/Vz8T/3Hi457pTxP1dbsb/snvE/Ups4ud+h8T9FZFjFG5nxPxefAmA8g/E/+IiYEkl08T8U6BN5knTxP+epDrkZbvE/56kOuRlu8T8+rg0V43zxP52FPe3wV/E/GeJYF7dR8T+MZ9DQP0HxP8U9lj50QfE/2GSNeohG8T9D4h5LHzrxP7yWkA96NvE/wM+4cCAk8T+1T8djBirxPx2s/3OYL/E/HsTOFDov8T/67evAOSPxP82v5gDBHPE/gXhdv2A38T8qdF5jlyjxP9Pe4AuTKfE/6pWyDHEs8T9MGqN1VDXxP12Kq8q+K/E/Q3OdRloq8T8WNZiG4SPxP0bT2cngKPE/ITzaOGIt8T+bj2tDxTjxP8Gtu3mqQ/E/+3Q8ZqAy8T88a7ddaC7xP1xaDYl7LPE/mggbnl4p8T9vKlJhbCHxP3dKB+v/HPE/4X8r2bER8T9kIxCv6xfxP4xK6gQ0EfE/GD4ipkQS8T/3Bl+YTBXxP9cv2A3bFvE/9S1zuiwm8T8rpPyk2ifxPyb8Uj9vKvE/yqZc4V0u8T/WrZ6T3jfxPw+cM6K0N/E/mdh8XBsq8T8gDDz3Hi7xP+XtCKcFL/E/MGR1q+ck8T/T9q+sNCnxPw/W/znMF/E/xSCwcmgR8T+YaftXVhrxP1TjpZvEIPE/G/UQje4g8T9XW7G/7B7xP7zoK0gzFvE/JEVkWMUb8T9sQ8U4fxPxPyTusfShC/E/hNOCF30F8T/bUDHO3wTxP/RPcLGiBvE/2V92Tx4W8T/v5qkOuRnxP4Za07zjFPE/0CfyJOka8T+fceFASBbxPxEebRyxFvE/KQXdXtIY8T9i83FtqBjxP060q5DyE/E/wHgGDf0T8T+rIXGPpQ/xP+wX7IZtC/E/Arfu5qkO8T+ZKhiV1AnxP8wolltaDfE/IXam0HkN8T/3r6w0KQXxP0YldQKaCPE/N45Yi08B8T8qb0c4LfjwP+cYkL3e/fA/5dAi2/n+8D/8GHPXEvLwPyk/qfbp+PA/HSCYo8fv8D/ecYqO5PLwPy7nUlxV9vA/Tb7Z5sb08D+qQ26GG/DwP8KjjSPW4vA/48KBkCzg8D/GM2jon+DwP74Ts14M5fA/sKw0KQXd8D+ndLD+z+HwP3S1FfvL7vA/LudSXFX28D+cM6K0N/jwP8ai6exk8PA/j/zBwHPv8D9/vFetTPjwP/tXVpqUAvE/8piByvj38D8jEK/rF+zwP4/8wcBz7/A//TBCeLTx8D9l/PuMCwfxP6VJKej2EvE/cQM+P4wQ8T9uowG8BRLxP0KVmj3QCvE/u2HboswG8T/HKTqSy//wP6pDboYb8PA/IbByaJHt8D+FfNCzWfXwPygn2lVI+fA/08H6P4f58D/vIHam0PnwP+XQItv5/vA/AAAAAAAA8T83pics8QDxPxQ/xty1BPE/tqFinL8J8T+oOuRmuAHxP7IRiNf1C/E/YvNxbagY8T8TZtr+lRXxP5qxaDo7GfE/8UbmkT8Y8T+wyRr1EA3xP+m3rwPnDPE/KgDGM2jo8D9wzojS3uDwP6wcWmQ73/A/fa62Yn/Z8D9dv2A3bNvwP8vz4O6s3fA/HuG04EXf8D8AUps4ud/wPyFZwARu3fA/p1zhXS7i8D9NZyeDo+TwP14u4jsx6/A/6iEa3UHs8D8hsHJoke3wP91B7Eyh8/A/cVXZd0Xw8D9Zbmk1JO7wP8lxp3Sw/vA/p5GWytsR8T/zdoTTghfxP0jcY+lDF/E/oOBiRQ0m8T/9TShEwCHxP7AgzVg0HfE/Htydtdsu8T+Z2HxcGyrxP/QVpBmLJvE/q3gj88gf8T+MoZxoVyHxP1oqb0c4LfE/Zwqd19gl8T/KplzhXS7xPz/jwoGQLPE//tR46SYx8T8IPZtVnyvxP2sOEMzR4/A/PKBsyhXe8D9d/kP67evwP6jjMQOV8fA/ghyUMNP28D8JUFPL1vrwP3AlOzYC8fA/k+NO6WD98D9+dOrKZ/nwP8zR4/c2/fA/7ncoCvQJ8T/QuHAgJAvxPzi+9sySAPE/NuUK73IR8T9DHOviNhrxP7u4jQbwFvE//MbXnlkS8T+Q2sTJ/Q7xP3Fa8KKvIPE/8G36sx8p8T/Xhopx/ibxP0uTUtDtJfE/Mqzijcwj8T+XqN4a2CrxP6smiLoPQPE/JlMFo5I68T9fQZqxaDrxP19BmrFoOvE/l/+Qfvs68T/ItaFinD/xP1XBqKROQPE/ur2kMVpH8T/l8h/Sb1/xP7bbLjTXafE/UWaDTDJy8T9Uxr/PuHDxP0sfuqC+ZfE/5nlwd9Zu8T+hLedSXFXxPzCBW3fzVPE/vYxiuaVV8T9zaJHtfD/xP2whyEEJM/E/S+oENBE28T89CtejcD3xP/Ik6ZrJN/E/X0GasWg68T/ulA7W/znxPwZM4NbdPPE/FeP8TShE8T/129eBc0bxP1ioNc07TvE/Brth26JM8T94f7xXrUzxP9Zz0vvGV/E/RfC/lexY8T9gH5268lnxP9CbilQYW/E/gT6RJ0lX8T+iRbbz/VTxPz24O2u3XfE/wjQMHxFT8T+2hHzQs1nxPyzxgLIpV/E/8uocA7JX8T+D3bBtUWbxPzBHj9/bdPE/ppvEILBy8T+lg/V/DnPxP7vyWZ4Hd/E/GZC93v1x8T+yS1RvDWzxP10WE5uPa/E/h22LMhtk8T8NGvonuFjxP5PGaB1VTfE/ou4DkNpE8T9hTzv8NVnxP6ZEEr2MYvE/6znpfeNr8T8YeO49XHLxP8VyS6shcfE/AwmKH2Nu8T/ysFBrmnfxPz4/jBAebfE/pMLYQpCD8T+Eu7N224XxPwwHQrKAifE/ukkMAiuH8T/aIJOMnIXxPw5Pr5RliPE/Oq+xS1Rv8T817zhFR3LxP1luaTUkbvE/dv2C3bBt8T/GounsZHDxP8xiYvNxbfE/dCSX/5B+8T+2SrA4nHnxP4EExY8xd/E/SkbOwp528T/XaaSl8nbxP27dzVMdcvE/v4I0Y9F08T/9MEJ4tHHxP27dzVMdcvE/kBSRYRVv8T+9UpYhjnXxPyTRyyiWW/E/ejarPldb8T/FA8qmXGHxP/NZngd3Z/E/KLhYUYNp8T+laybfbHPxP6HbSxqjdfE/AJF++zpw8T+EZAETuHXxP0ImGTkLe/E/Ja/OMSB78T9DVrd6TnrxP5fiqrLvivE/1edqK/aX8T+EEmba/pXxP0MEHEKVmvE/vRjKiXaV8T9zol2FlJ/xPyAkC5jArfE/cclxp3Sw8T8ibHh6pazxPzkLe9rhr/E/9Zz0vvG18T+L4H8r2bHxP0gbR6zFp/E/OC140VeQ8T+hoX+Ci5XxP5Hyk2qfjvE/iLoPQGqT8T8lBoGVQ4vxP2YUyy2thvE/2sngKHl18T97FK5H4XrxP0ImGTkLe/E/5KCEmbZ/8T8ZVvFG5pHxP7oxPWGJh/E/IXam0HmN8T88vVKWIY7xP1EU6BN5kvE/seHplbKM8T9IbeLkfofxP4XrUbgehfE/JO6x9KGL8T+e0sH6P4fxP7kZbsDnh/E/YoTwaOOI8T8gXtcv2I3xP6rx0k1ikPE/znADPj+M8T94CyQofozxPz7t8NdkjfE/mkLnNXaJ8T8plltaDYnxP02EDU+vlPE//iYUIuCQ8T8v3SQGgZXxP/N2hNOCl/E/b7vQXKeR8T/MlxdgH53xP8IXJlMFo/E/D0WBPpGn8T9cWg2Je6zxP4vgfyvZsfE/A30iT5Ku8T9gArfu5qnxP/+VlSaloPE/seHplbKM8T8Dz72HS47xP8ZQTrSrkPE/GVbxRuaR8T9CW86luKrxP49wWvCir/E/tTf4wmSq8T9eukkMAqvxPwYN/RNcrPE/PGu3XWiu8T9XsmMjEK/xPzvkZrgBn/E/zJcXYB+d8T+kcD0K16PxP2SSkbOwp/E/5X6HokCf8T/11sBWCZbxPzNt/8pKk/E/SnuDL0ym8T+Lcf4mFKLxP1wbKsb5m/E/QKTfvg6c8T/YR6eufJbxP7sPQGoTp/E/BkfJq3OM8T87jbRU3o7xP+KvyRr1kPE/M23/ykqT8T91q+ek943xP4Fbd/NUh/E/mpmZmZmZ8T96whIPKJvxP+IeSx+6oPE/beLkfoei8T8oLPGAsqnxP+9VKxN+qfE/W0I+6Nms8T82k2+2ubHxP0ZCW86luPE/JTs2AvG68T9Ei2zn+6nxP1q77UJznfE/wOeHEcKj8T900vvG157xPxY1mIbho/E/QlvOpbiq8T++h0uOO6XxP+T3Nv3Zj/E/EHUfgNSm8T8z3IDPD6PxP/rVHCCYo/E/QSswZHWr8T/xnZj1YqjxP9QOf03WqPE/MGR1q+ek8T8J/reSHZvxPy/dJAaBlfE/vjCZKhiV8T9w626e6pDxP2l0B7EzhfE/ntLB+j+H8T9DrWnecYrxP7DJGvUQjfE/PL1SliGO8T/2fw7z5YXxPwtGJXUCmvE/IXam0HmN8T8ZVvFG5pHxP59ZEqCmlvE/VtRgGoaP8T/qeMxAZXzxPyDvVSsTfvE/Xp1jQPZ68T+eew+XHHfxP2H9n8N8efE/s9KkFHR78T+8IvjfSnbxP9DyPLg7a/E/zSN/MPBc8T/nOo20VF7xP3am0HmNXfE/GlHaG3xh8T+IhVrTvGPxP9XKhF/qZ/E/uVM6WP9n8T9K7xtfe2bxPwxZ3eo5afE/78nDQq1p8T9bttYXCW3xP7cLzXUaafE/3gIJih9j8T/E6/oFu2HxP9uizAaZZPE/p1zhXS5i8T+kpfJ2hFPxP+ELk6mCUfE/t7QaEvdY8T8OMsnIWVjxPyl5dY4BWfE/2ht8YTJV8T8fuqC+ZU7xP0/pYP2fQ/E/1H0AUps48T96cHfWbjvxP+nUlc/yPPE/DVTGv8848T9tkElGzkLxP0RRoE/kSfE/HEKVmj1Q8T/tuyL430rxP/2C3bBtUfE/5ZttbkxP8T95r1qZ8EvxP3K/Q1GgT/E/sp3vp8ZL8T8Gu2HbokzxP7FtUWaDTPE/ea9amfBL8T/wMy4cCEnxP9RlMbH5OPE/taZ5xyk68T9cyY6NQDzxP7EWnwJgPPE/VvFG5pE/8T/K/Q5FgT7xP4jX9Qt2Q/E/vcYuUb018T+k374OnDPxP/pEniRdM/E/BvUtc7os8T9jesISDyjxP/Utc7osJvE/FjWYhuEj8T9hGoaPiCnxP9P2r6w0KfE/yXa+nxov8T95AfbRqSvxP45Yi08BMPE/EHUfgNQm8T8rpPyk2ifxP/T91HjpJvE/6E1FKowt8T+4rwPnjCjxP2lSCrq9JPE/a4Ko+wAk8T+IEcKjjSPxP03zjlN0JPE/i3H+JhQi8T9U46WbxCDxP4DxDBr6J/E/LNSa5h0n8T/tDb4wmSrxP3ehuU4jLfE/WaMeotEd8T+Q2sTJ/Q7xP0n0MorlFvE/hNOCF30F8T9GfCdmvRjxP346HjNQGfE/ZVOu8C4X8T9+Oh4zUBnxP4tx/iYUIvE/nu+nxks38T+37uapDjnxPyv7rgj+N/E/Y7ml1ZA48T8iq1s9Jz3xP6c/+5EiMvE/bcoV3uUi8T9Rg2kYPiLxPwe2SrA4HPE/H4XrUbge8T8+XHLcKR3xP2ebG9MTFvE/pIgMq3gj8T+hEAGHUCXxP0urIXGPJfE/1SZO7nco8T906spneR7xP4nqrYGtEvE/mYHK+PcZ8T+yaDo7GRzxP8kfDDz3HvE/e9rhr8ka8T95knTN5BvxPzBMpgpGJfE/zt+EQgQc8T+RYRVvZB7xPzUMHxFTIvE/wf9WsmMj8T9EozuInSnxPxkcJa/OMfE/4bTgRV9B8T9TkQpjC0HxP8aFAyFZQPE/BBxClZo98T+bj2tDxTjxPydr1EM0OvE/GOyGbYsy8T+mD11Q3zLxPzarPldbMfE/VpqUgm4v8T+RD3o2qz7xP5lH/mDgOfE/3/3xXrUy8T8uc7osJjbxP4F4Xb9gN/E/xoUDIVlA8T+YbhKDwErxPz1hiQeUTfE/f4eiQJ9I8T/ZlCu8y0XxP8Gtu3mqQ/E/FhObj2tD8T8qOpLLf0jxP2qHvyZrVPE/Uz9vKlJh8T9pb/CFyVTxP/MC7KNTV/E/zeSbbW5M8T/3ksZoHVXxP6d0sP7PYfE/GM+goX+C8T+m8naE04LxP+AQqtTsgfE/xvmbUIiA8T++wRcmU4XxP/aX3ZOHhfE/dCSX/5B+8T/gEKrU7IHxP8cpOpLLf/E/Akht4uR+8T/pYP2fw3zxP+zAOSNKe/E/ZY16iEZ38T/SqSuf5XnxP7d6TnrfePE/vCL430p28T/HEWvxKYDxP7iSHRuBePE/EFg5tMh28T9IFjCBW3fxP/PIHww8d/E/SBYwgVt38T9enWNA9nrxP3sUrkfhevE/IXam0HmN8T8VxhaCHJTxPxSWeEDZlPE/o+nsZHCU8T+C4seYu5bxP26LMhtkkvE/18BWCRaH8T/UYBqGj4jxP57Swfo/h/E/dTxmoDJ+8T9dp5GWylvxP3qNXaJ6a/E/X0ax3NJq8T8AkX77OnDxP8L6P4f5cvE/i2zn+6lx8T8FUfcBSG3xP7nCu1zEd/E/h8Q9lj508T9PBkfJq3PxP9+JWS+GcvE/YM0Bgjl68T9wlLw6x4DxP13cRgN4i/E/m3KFd7mI8T+2uTE9YYnxP7pJDAIrh/E/MbYQ5KCE8T8uVtRgGobxP+uQm+EGfPE/aR1VTRB18T+8IvjfSnbxP/q4NlSMc/E/e737471q8T8tz4O7s3bxP/D5YYTwaPE/vyuC/61k8T/8qfHSTWLxP9pyLsVVZfE/MQisHFpk8T+fzarP1VbxPx04Z0Rpb/E/Dvj8MEJ48T9MpgpGJXXxP4yEtpxLcfE/ucK7XMR38T8J4dHGEWvxP2pN845TdPE/gQTFjzF38T8vF/GdmHXxP7+CNGPRdPE/qRPQRNhw8T/meXB31m7xP42chT3tcPE/dc3km21u8T9FL6NYbmnxP14u4jsxa/E/9Ik8Sbpm8T8kKH6MuWvxP3XN5JttbvE/xjNo6J9g8T86WP/nMF/xP+viNhrAW/E/KGGm7V9Z8T9uhhvw+WHxP0oH6/8cZvE/oYSZtn9l8T95Xb9gN2zxP9Ei2/l+avE/W7bWFwlt8T9Ip658lmfxP9rJ4Ch5dfE/WTSdnQyO8T9hVFInoInxP5fiqrLvivE/vHmqQ26G8T/QuHAgJIvxP4czv5oDhPE/oblOIy2V8T+14EVfQZrxP1wDWyVYnPE/GcVyS6uh8T8JFoczv5rxP8PwETElkvE/CRaHM7+a8T+zmNh8XJvxPxrdQexMofE/1SZO7neo8T9Ra5p3nKLxP4z4Tsx6sfE/jzaOWIvP8T/ja88sCdDxPzUpBd1e0vE/3pOHhVrT8T+zDHGsi9vxP6UUdHtJ4/E/IJijx+/t8T/gufdwyfHxP6IL6lvm9PE/YhVvZB758T9/vFetTPjxP4NMMnIW9vE/QPZ698f78T+Z02UxsfnxPxKgppat9fE/uwopP6n28T9CJhk5C/vxPwqA8Qwa+vE/foy5awn58T8n9zsUBfrxP3icoiO5/PE/cJS8OscA8j97FK5H4frxPyR/MPDc+/E/xFp8CoDx8T8RcAhVavbxP0j+YOC59/E/3BFOC1708T/U8ZiByvjxP8ISDyib8vE/R3cQO1Po8T+yYyMQr+vxP8L6P4f58vE/ak3zjlP08T+si9toAO/xP05/9iNF5PE/sW1RZoPM8T8CK4cW2c7xP+Dzwwjh0fE/iV5GsdzS8T91H4DUJs7xP3UfgNQmzvE/lQ7W/znM8T/n+6nx0s3xPwIrhxbZzvE/e/fHe9XK8T+CqPsApLbxP3bgnBGlvfE/0O0ljdG68T8VdHtJY7TxP/fMkgA1tfE/StI1k2+28T+GONbFbbTxP1oSoKaWrfE/CW05l+Kq8T8exM4UOq/xPwYN/RNcrPE/r3d/vFet8T/UfQBSm7jxP4TwaOOItfE/LUMc6+K28T8IrBxaZLvxP7DmAMEcvfE/4syv5gDB8T/CTNu/stLxP25pNSTusfE/vQD76NSV8T/HaB1VTZDxPxpuwOeHkfE/rWnecYqO8T8MHxFTIonxPz1EozuInfE/h/nyAuyj8T82PL1SlqHxPxh9BWnGovE/QKTfvg6c8T/WVuwvu6fxP76HS447pfE/IxXGFoKc8T/yXrUy4ZfxP74wmSoYlfE/9u6P96qV8T8e/pqsUY/xP9aQuMfSh/E/PL1SliGO8T+J6q2BrZLxP7lwICQLmPE/hUIEHEKV8T9sW5TZIJPxPymWW1oNifE/Ew8om3KF8T/Fyf0ORYHxP6lqgqj7gPE/7ginBS968T8mx53SwXrxP+OItfgUgPE/ntLB+j+H8T9s7BLVW4PxP4Fbd/NUh/E/2jhiLT6F8T/hQEgWMIHxPxSWeEDZlPE/nYAmwoan8T9U46WbxKDxP+jewyXHnfE/gIKLFTWY8T9zY3rCEo/xP/JetTLhl/E/tvgUAOOZ8T9C7Eyh85rxP59x4UBIlvE/SgwCK4eW8T+kGYums5PxP240gLdAgvE/hhvw+WGE8T/Y2CWqt4bxP0c9RKM7iPE/B1+YTBWM8T80hc5r7JLxP+BnXDgQkvE/OBWpMLaQ8T/j32dcOJDxP8sQx7q4jfE/jErqBDSR8T/FjzF3LaHxP+0NvjCZqvE/O+RmuAGf8T8YPiKmRJLxPzANw0fElPE/wZDVrZ6T8T/v/nivWpnxP3gLJCh+jPE/a9RDNLqD8T+8eapDbobxP8cpOpLLf/E/c/T4vU1/8T+IS447pYPxPzS/mgMEc/E/lSu8y0V88T+CHJQw03bxP08GR8mrc/E/2/l+arx08T+xogbTMHzxP0SGVbyRefE/8piByvh38T8ydy0hH3TxP8RCrWnecfE/9RCN7iB28T/OGVHaG3zxP8RafAqAcfE/s3vysFBr8T9bzqW4qmzxP05/9iNFZPE/3dJqSNxj8T+EDU+vlGXxP95Zu+1Cc/E/KzBkdatn8T/5SbVPx2PxPw==",
          "dtype": "f8"
         },
         "type": "candlestick",
         "x": [
          "22-09-23 17:00",
          "22-09-25 21:00",
          "22-09-26 01:00",
          "22-09-26 05:00",
          "22-09-26 09:00",
          "22-09-26 13:00",
          "22-09-26 17:00",
          "22-09-26 21:00",
          "22-09-27 01:00",
          "22-09-27 05:00",
          "22-09-27 09:00",
          "22-09-27 13:00",
          "22-09-27 17:00",
          "22-09-27 21:00",
          "22-09-28 01:00",
          "22-09-28 05:00",
          "22-09-28 09:00",
          "22-09-28 13:00",
          "22-09-28 17:00",
          "22-09-28 21:00",
          "22-09-29 01:00",
          "22-09-29 05:00",
          "22-09-29 09:00",
          "22-09-29 13:00",
          "22-09-29 17:00",
          "22-09-29 21:00",
          "22-09-30 01:00",
          "22-09-30 05:00",
          "22-09-30 09:00",
          "22-09-30 13:00",
          "22-09-30 17:00",
          "22-10-02 21:00",
          "22-10-03 01:00",
          "22-10-03 05:00",
          "22-10-03 09:00",
          "22-10-03 13:00",
          "22-10-03 17:00",
          "22-10-03 21:00",
          "22-10-04 01:00",
          "22-10-04 05:00",
          "22-10-04 09:00",
          "22-10-04 13:00",
          "22-10-04 17:00",
          "22-10-04 21:00",
          "22-10-05 01:00",
          "22-10-05 05:00",
          "22-10-05 09:00",
          "22-10-05 13:00",
          "22-10-05 17:00",
          "22-10-05 21:00",
          "22-10-06 01:00",
          "22-10-06 05:00",
          "22-10-06 09:00",
          "22-10-06 13:00",
          "22-10-06 17:00",
          "22-10-06 21:00",
          "22-10-07 01:00",
          "22-10-07 05:00",
          "22-10-07 09:00",
          "22-10-07 13:00",
          "22-10-07 17:00",
          "22-10-09 21:00",
          "22-10-10 01:00",
          "22-10-10 05:00",
          "22-10-10 09:00",
          "22-10-10 13:00",
          "22-10-10 17:00",
          "22-10-10 21:00",
          "22-10-11 01:00",
          "22-10-11 05:00",
          "22-10-11 09:00",
          "22-10-11 13:00",
          "22-10-11 17:00",
          "22-10-11 21:00",
          "22-10-12 01:00",
          "22-10-12 05:00",
          "22-10-12 09:00",
          "22-10-12 13:00",
          "22-10-12 17:00",
          "22-10-12 21:00",
          "22-10-13 01:00",
          "22-10-13 05:00",
          "22-10-13 09:00",
          "22-10-13 13:00",
          "22-10-13 17:00",
          "22-10-13 21:00",
          "22-10-14 01:00",
          "22-10-14 05:00",
          "22-10-14 09:00",
          "22-10-14 13:00",
          "22-10-14 17:00",
          "22-10-16 21:00",
          "22-10-17 01:00",
          "22-10-17 05:00",
          "22-10-17 09:00",
          "22-10-17 13:00",
          "22-10-17 17:00",
          "22-10-17 21:00",
          "22-10-18 01:00",
          "22-10-18 05:00",
          "22-10-18 09:00",
          "22-10-18 13:00",
          "22-10-18 17:00",
          "22-10-18 21:00",
          "22-10-19 01:00",
          "22-10-19 05:00",
          "22-10-19 09:00",
          "22-10-19 13:00",
          "22-10-19 17:00",
          "22-10-19 21:00",
          "22-10-20 01:00",
          "22-10-20 05:00",
          "22-10-20 09:00",
          "22-10-20 13:00",
          "22-10-20 17:00",
          "22-10-20 21:00",
          "22-10-21 01:00",
          "22-10-21 05:00",
          "22-10-21 09:00",
          "22-10-21 13:00",
          "22-10-21 17:00",
          "22-10-23 21:00",
          "22-10-24 01:00",
          "22-10-24 05:00",
          "22-10-24 09:00",
          "22-10-24 13:00",
          "22-10-24 17:00",
          "22-10-24 21:00",
          "22-10-25 01:00",
          "22-10-25 05:00",
          "22-10-25 09:00",
          "22-10-25 13:00",
          "22-10-25 17:00",
          "22-10-25 21:00",
          "22-10-26 01:00",
          "22-10-26 05:00",
          "22-10-26 09:00",
          "22-10-26 13:00",
          "22-10-26 17:00",
          "22-10-26 21:00",
          "22-10-27 01:00",
          "22-10-27 05:00",
          "22-10-27 09:00",
          "22-10-27 13:00",
          "22-10-27 17:00",
          "22-10-27 21:00",
          "22-10-28 01:00",
          "22-10-28 05:00",
          "22-10-28 09:00",
          "22-10-28 13:00",
          "22-10-28 17:00",
          "22-10-30 21:00",
          "22-10-31 01:00",
          "22-10-31 05:00",
          "22-10-31 09:00",
          "22-10-31 13:00",
          "22-10-31 17:00",
          "22-10-31 21:00",
          "22-11-01 01:00",
          "22-11-01 05:00",
          "22-11-01 09:00",
          "22-11-01 13:00",
          "22-11-01 17:00",
          "22-11-01 21:00",
          "22-11-02 01:00",
          "22-11-02 05:00",
          "22-11-02 09:00",
          "22-11-02 13:00",
          "22-11-02 17:00",
          "22-11-02 21:00",
          "22-11-03 01:00",
          "22-11-03 05:00",
          "22-11-03 09:00",
          "22-11-03 13:00",
          "22-11-03 17:00",
          "22-11-03 21:00",
          "22-11-04 01:00",
          "22-11-04 05:00",
          "22-11-04 09:00",
          "22-11-04 13:00",
          "22-11-04 17:00",
          "22-11-06 22:00",
          "22-11-07 02:00",
          "22-11-07 06:00",
          "22-11-07 10:00",
          "22-11-07 14:00",
          "22-11-07 18:00",
          "22-11-07 22:00",
          "22-11-08 02:00",
          "22-11-08 06:00",
          "22-11-08 10:00",
          "22-11-08 14:00",
          "22-11-08 18:00",
          "22-11-08 22:00",
          "22-11-09 02:00",
          "22-11-09 06:00",
          "22-11-09 10:00",
          "22-11-09 14:00",
          "22-11-09 18:00",
          "22-11-09 22:00",
          "22-11-10 02:00",
          "22-11-10 06:00",
          "22-11-10 10:00",
          "22-11-10 14:00",
          "22-11-10 18:00",
          "22-11-10 22:00",
          "22-11-11 02:00",
          "22-11-11 06:00",
          "22-11-11 10:00",
          "22-11-11 14:00",
          "22-11-11 18:00",
          "22-11-13 22:00",
          "22-11-14 02:00",
          "22-11-14 06:00",
          "22-11-14 10:00",
          "22-11-14 14:00",
          "22-11-14 18:00",
          "22-11-14 22:00",
          "22-11-15 02:00",
          "22-11-15 06:00",
          "22-11-15 10:00",
          "22-11-15 14:00",
          "22-11-15 18:00",
          "22-11-15 22:00",
          "22-11-16 02:00",
          "22-11-16 06:00",
          "22-11-16 10:00",
          "22-11-16 14:00",
          "22-11-16 18:00",
          "22-11-16 22:00",
          "22-11-17 02:00",
          "22-11-17 06:00",
          "22-11-17 10:00",
          "22-11-17 14:00",
          "22-11-17 18:00",
          "22-11-17 22:00",
          "22-11-18 02:00",
          "22-11-18 06:00",
          "22-11-18 10:00",
          "22-11-18 14:00",
          "22-11-18 18:00",
          "22-11-20 22:00",
          "22-11-21 02:00",
          "22-11-21 06:00",
          "22-11-21 10:00",
          "22-11-21 14:00",
          "22-11-21 18:00",
          "22-11-21 22:00",
          "22-11-22 02:00",
          "22-11-22 06:00",
          "22-11-22 10:00",
          "22-11-22 14:00",
          "22-11-22 18:00",
          "22-11-22 22:00",
          "22-11-23 02:00",
          "22-11-23 06:00",
          "22-11-23 10:00",
          "22-11-23 14:00",
          "22-11-23 18:00",
          "22-11-23 22:00",
          "22-11-24 02:00",
          "22-11-24 06:00",
          "22-11-24 10:00",
          "22-11-24 14:00",
          "22-11-24 18:00",
          "22-11-24 22:00",
          "22-11-25 02:00",
          "22-11-25 06:00",
          "22-11-25 10:00",
          "22-11-25 14:00",
          "22-11-25 18:00",
          "22-11-27 22:00",
          "22-11-28 02:00",
          "22-11-28 06:00",
          "22-11-28 10:00",
          "22-11-28 14:00",
          "22-11-28 18:00",
          "22-11-28 22:00",
          "22-11-29 02:00",
          "22-11-29 06:00",
          "22-11-29 10:00",
          "22-11-29 14:00",
          "22-11-29 18:00",
          "22-11-29 22:00",
          "22-11-30 02:00",
          "22-11-30 06:00",
          "22-11-30 10:00",
          "22-11-30 14:00",
          "22-11-30 18:00",
          "22-11-30 22:00",
          "22-12-01 02:00",
          "22-12-01 06:00",
          "22-12-01 10:00",
          "22-12-01 14:00",
          "22-12-01 18:00",
          "22-12-01 22:00",
          "22-12-02 02:00",
          "22-12-02 06:00",
          "22-12-02 10:00",
          "22-12-02 14:00",
          "22-12-02 18:00",
          "22-12-04 22:00",
          "22-12-05 02:00",
          "22-12-05 06:00",
          "22-12-05 10:00",
          "22-12-05 14:00",
          "22-12-05 18:00",
          "22-12-05 22:00",
          "22-12-06 02:00",
          "22-12-06 06:00",
          "22-12-06 10:00",
          "22-12-06 14:00",
          "22-12-06 18:00",
          "22-12-06 22:00",
          "22-12-07 02:00",
          "22-12-07 06:00",
          "22-12-07 10:00",
          "22-12-07 14:00",
          "22-12-07 18:00",
          "22-12-07 22:00",
          "22-12-08 02:00",
          "22-12-08 06:00",
          "22-12-08 10:00",
          "22-12-08 14:00",
          "22-12-08 18:00",
          "22-12-08 22:00",
          "22-12-09 02:00",
          "22-12-09 06:00",
          "22-12-09 10:00",
          "22-12-09 14:00",
          "22-12-09 18:00",
          "22-12-11 22:00",
          "22-12-12 02:00",
          "22-12-12 06:00",
          "22-12-12 10:00",
          "22-12-12 14:00",
          "22-12-12 18:00",
          "22-12-12 22:00",
          "22-12-13 02:00",
          "22-12-13 06:00",
          "22-12-13 10:00",
          "22-12-13 14:00",
          "22-12-13 18:00",
          "22-12-13 22:00",
          "22-12-14 02:00",
          "22-12-14 06:00",
          "22-12-14 10:00",
          "22-12-14 14:00",
          "22-12-14 18:00",
          "22-12-14 22:00",
          "22-12-15 02:00",
          "22-12-15 06:00",
          "22-12-15 10:00",
          "22-12-15 14:00",
          "22-12-15 18:00",
          "22-12-15 22:00",
          "22-12-16 02:00",
          "22-12-16 06:00",
          "22-12-16 10:00",
          "22-12-16 14:00",
          "22-12-16 18:00",
          "22-12-18 22:00",
          "22-12-19 02:00",
          "22-12-19 06:00",
          "22-12-19 10:00",
          "22-12-19 14:00",
          "22-12-19 18:00",
          "22-12-19 22:00",
          "22-12-20 02:00",
          "22-12-20 06:00",
          "22-12-20 10:00",
          "22-12-20 14:00",
          "22-12-20 18:00",
          "22-12-20 22:00",
          "22-12-21 02:00",
          "22-12-21 06:00",
          "22-12-21 10:00",
          "22-12-21 14:00",
          "22-12-21 18:00",
          "22-12-21 22:00",
          "22-12-22 02:00",
          "22-12-22 06:00",
          "22-12-22 10:00",
          "22-12-22 14:00",
          "22-12-22 18:00",
          "22-12-22 22:00",
          "22-12-23 02:00",
          "22-12-23 06:00",
          "22-12-23 10:00",
          "22-12-23 14:00",
          "22-12-23 18:00",
          "22-12-26 22:00",
          "22-12-27 02:00",
          "22-12-27 06:00",
          "22-12-27 10:00",
          "22-12-27 14:00",
          "22-12-27 18:00",
          "22-12-27 22:00",
          "22-12-28 02:00",
          "22-12-28 06:00",
          "22-12-28 10:00",
          "22-12-28 14:00",
          "22-12-28 18:00",
          "22-12-28 22:00",
          "22-12-29 02:00",
          "22-12-29 06:00",
          "22-12-29 10:00",
          "22-12-29 14:00",
          "22-12-29 18:00",
          "22-12-29 22:00",
          "22-12-30 02:00",
          "22-12-30 06:00",
          "22-12-30 10:00",
          "22-12-30 14:00",
          "22-12-30 18:00",
          "23-01-01 22:00",
          "23-01-02 02:00",
          "23-01-02 06:00",
          "23-01-02 10:00",
          "23-01-02 14:00",
          "23-01-02 18:00",
          "23-01-02 22:00",
          "23-01-03 02:00",
          "23-01-03 06:00",
          "23-01-03 10:00",
          "23-01-03 14:00",
          "23-01-03 18:00",
          "23-01-03 22:00",
          "23-01-04 02:00",
          "23-01-04 06:00",
          "23-01-04 10:00",
          "23-01-04 14:00",
          "23-01-04 18:00",
          "23-01-04 22:00",
          "23-01-05 02:00",
          "23-01-05 06:00",
          "23-01-05 10:00",
          "23-01-05 14:00",
          "23-01-05 18:00",
          "23-01-05 22:00",
          "23-01-06 02:00",
          "23-01-06 06:00",
          "23-01-06 10:00",
          "23-01-06 14:00",
          "23-01-06 18:00",
          "23-01-08 22:00",
          "23-01-09 02:00",
          "23-01-09 06:00",
          "23-01-09 10:00",
          "23-01-09 14:00",
          "23-01-09 18:00",
          "23-01-09 22:00",
          "23-01-10 02:00",
          "23-01-10 06:00",
          "23-01-10 10:00",
          "23-01-10 14:00",
          "23-01-10 18:00",
          "23-01-10 22:00",
          "23-01-11 02:00",
          "23-01-11 06:00",
          "23-01-11 10:00",
          "23-01-11 14:00",
          "23-01-11 18:00",
          "23-01-11 22:00",
          "23-01-12 02:00",
          "23-01-12 06:00",
          "23-01-12 10:00",
          "23-01-12 14:00",
          "23-01-12 18:00",
          "23-01-12 22:00",
          "23-01-13 02:00",
          "23-01-13 06:00",
          "23-01-13 10:00",
          "23-01-13 14:00",
          "23-01-13 18:00",
          "23-01-15 22:00",
          "23-01-16 02:00",
          "23-01-16 06:00",
          "23-01-16 10:00",
          "23-01-16 14:00",
          "23-01-16 18:00",
          "23-01-16 22:00",
          "23-01-17 02:00",
          "23-01-17 06:00",
          "23-01-17 10:00",
          "23-01-17 14:00",
          "23-01-17 18:00",
          "23-01-17 22:00",
          "23-01-18 02:00",
          "23-01-18 06:00",
          "23-01-18 10:00",
          "23-01-18 14:00",
          "23-01-18 18:00",
          "23-01-18 22:00",
          "23-01-19 02:00",
          "23-01-19 06:00",
          "23-01-19 10:00",
          "23-01-19 14:00",
          "23-01-19 18:00",
          "23-01-19 22:00",
          "23-01-20 02:00",
          "23-01-20 06:00",
          "23-01-20 10:00",
          "23-01-20 14:00",
          "23-01-20 18:00",
          "23-01-22 22:00",
          "23-01-23 02:00",
          "23-01-23 06:00",
          "23-01-23 10:00",
          "23-01-23 14:00",
          "23-01-23 18:00",
          "23-01-23 22:00",
          "23-01-24 02:00",
          "23-01-24 06:00",
          "23-01-24 10:00",
          "23-01-24 14:00",
          "23-01-24 18:00",
          "23-01-24 22:00",
          "23-01-25 02:00",
          "23-01-25 06:00",
          "23-01-25 10:00",
          "23-01-25 14:00",
          "23-01-25 18:00",
          "23-01-25 22:00",
          "23-01-26 02:00",
          "23-01-26 06:00",
          "23-01-26 10:00",
          "23-01-26 14:00",
          "23-01-26 18:00",
          "23-01-26 22:00",
          "23-01-27 02:00",
          "23-01-27 06:00",
          "23-01-27 10:00",
          "23-01-27 14:00",
          "23-01-27 18:00",
          "23-01-29 22:00",
          "23-01-30 02:00",
          "23-01-30 06:00",
          "23-01-30 10:00",
          "23-01-30 14:00",
          "23-01-30 18:00",
          "23-01-30 22:00",
          "23-01-31 02:00",
          "23-01-31 06:00",
          "23-01-31 10:00",
          "23-01-31 14:00",
          "23-01-31 18:00",
          "23-01-31 22:00",
          "23-02-01 02:00",
          "23-02-01 06:00",
          "23-02-01 10:00",
          "23-02-01 14:00",
          "23-02-01 18:00",
          "23-02-01 22:00",
          "23-02-02 02:00",
          "23-02-02 06:00",
          "23-02-02 10:00",
          "23-02-02 14:00",
          "23-02-02 18:00",
          "23-02-02 22:00",
          "23-02-03 02:00",
          "23-02-03 06:00",
          "23-02-03 10:00",
          "23-02-03 14:00",
          "23-02-03 18:00",
          "23-02-05 22:00",
          "23-02-06 02:00",
          "23-02-06 06:00",
          "23-02-06 10:00",
          "23-02-06 14:00",
          "23-02-06 18:00",
          "23-02-06 22:00",
          "23-02-07 02:00",
          "23-02-07 06:00",
          "23-02-07 10:00",
          "23-02-07 14:00",
          "23-02-07 18:00",
          "23-02-07 22:00",
          "23-02-08 02:00",
          "23-02-08 06:00",
          "23-02-08 10:00",
          "23-02-08 14:00",
          "23-02-08 18:00",
          "23-02-08 22:00",
          "23-02-09 02:00",
          "23-02-09 06:00",
          "23-02-09 10:00",
          "23-02-09 14:00",
          "23-02-09 18:00",
          "23-02-09 22:00",
          "23-02-10 02:00",
          "23-02-10 06:00",
          "23-02-10 10:00",
          "23-02-10 14:00",
          "23-02-10 18:00",
          "23-02-12 22:00",
          "23-02-13 02:00",
          "23-02-13 06:00",
          "23-02-13 10:00",
          "23-02-13 14:00",
          "23-02-13 18:00",
          "23-02-13 22:00",
          "23-02-14 02:00",
          "23-02-14 06:00",
          "23-02-14 10:00",
          "23-02-14 14:00",
          "23-02-14 18:00",
          "23-02-14 22:00",
          "23-02-15 02:00",
          "23-02-15 06:00",
          "23-02-15 10:00",
          "23-02-15 14:00",
          "23-02-15 18:00",
          "23-02-15 22:00",
          "23-02-16 02:00",
          "23-02-16 06:00",
          "23-02-16 10:00",
          "23-02-16 14:00",
          "23-02-16 18:00",
          "23-02-16 22:00",
          "23-02-17 02:00",
          "23-02-17 06:00",
          "23-02-17 10:00",
          "23-02-17 14:00",
          "23-02-17 18:00",
          "23-02-19 22:00",
          "23-02-20 02:00",
          "23-02-20 06:00",
          "23-02-20 10:00",
          "23-02-20 14:00",
          "23-02-20 18:00",
          "23-02-20 22:00",
          "23-02-21 02:00",
          "23-02-21 06:00",
          "23-02-21 10:00",
          "23-02-21 14:00",
          "23-02-21 18:00",
          "23-02-21 22:00",
          "23-02-22 02:00",
          "23-02-22 06:00",
          "23-02-22 10:00",
          "23-02-22 14:00",
          "23-02-22 18:00",
          "23-02-22 22:00",
          "23-02-23 02:00",
          "23-02-23 06:00",
          "23-02-23 10:00",
          "23-02-23 14:00",
          "23-02-23 18:00",
          "23-02-23 22:00",
          "23-02-24 02:00",
          "23-02-24 06:00",
          "23-02-24 10:00",
          "23-02-24 14:00",
          "23-02-24 18:00",
          "23-02-26 22:00",
          "23-02-27 02:00",
          "23-02-27 06:00",
          "23-02-27 10:00",
          "23-02-27 14:00",
          "23-02-27 18:00",
          "23-02-27 22:00",
          "23-02-28 02:00",
          "23-02-28 06:00",
          "23-02-28 10:00",
          "23-02-28 14:00",
          "23-02-28 18:00",
          "23-02-28 22:00",
          "23-03-01 02:00",
          "23-03-01 06:00",
          "23-03-01 10:00",
          "23-03-01 14:00",
          "23-03-01 18:00",
          "23-03-01 22:00",
          "23-03-02 02:00",
          "23-03-02 06:00",
          "23-03-02 10:00",
          "23-03-02 14:00",
          "23-03-02 18:00",
          "23-03-02 22:00",
          "23-03-03 02:00",
          "23-03-03 06:00",
          "23-03-03 10:00",
          "23-03-03 14:00",
          "23-03-03 18:00",
          "23-03-05 22:00",
          "23-03-06 02:00",
          "23-03-06 06:00",
          "23-03-06 10:00",
          "23-03-06 14:00",
          "23-03-06 18:00",
          "23-03-06 22:00",
          "23-03-07 02:00",
          "23-03-07 06:00",
          "23-03-07 10:00",
          "23-03-07 14:00",
          "23-03-07 18:00",
          "23-03-07 22:00",
          "23-03-08 02:00",
          "23-03-08 06:00",
          "23-03-08 10:00",
          "23-03-08 14:00",
          "23-03-08 18:00",
          "23-03-08 22:00",
          "23-03-09 02:00",
          "23-03-09 06:00",
          "23-03-09 10:00",
          "23-03-09 14:00",
          "23-03-09 18:00",
          "23-03-09 22:00",
          "23-03-10 02:00",
          "23-03-10 06:00",
          "23-03-10 10:00",
          "23-03-10 14:00",
          "23-03-10 18:00",
          "23-03-12 21:00",
          "23-03-13 01:00",
          "23-03-13 05:00",
          "23-03-13 09:00",
          "23-03-13 13:00",
          "23-03-13 17:00",
          "23-03-13 21:00",
          "23-03-14 01:00",
          "23-03-14 05:00",
          "23-03-14 09:00",
          "23-03-14 13:00",
          "23-03-14 17:00",
          "23-03-14 21:00",
          "23-03-15 01:00",
          "23-03-15 05:00",
          "23-03-15 09:00",
          "23-03-15 13:00",
          "23-03-15 17:00",
          "23-03-15 21:00",
          "23-03-16 01:00",
          "23-03-16 05:00",
          "23-03-16 09:00",
          "23-03-16 13:00",
          "23-03-16 17:00",
          "23-03-16 21:00",
          "23-03-17 01:00",
          "23-03-17 05:00",
          "23-03-17 09:00",
          "23-03-17 13:00",
          "23-03-17 17:00",
          "23-03-19 21:00",
          "23-03-20 01:00",
          "23-03-20 05:00",
          "23-03-20 09:00",
          "23-03-20 13:00",
          "23-03-20 17:00",
          "23-03-20 21:00",
          "23-03-21 01:00",
          "23-03-21 05:00",
          "23-03-21 09:00",
          "23-03-21 13:00",
          "23-03-21 17:00",
          "23-03-21 21:00",
          "23-03-22 01:00",
          "23-03-22 05:00",
          "23-03-22 09:00",
          "23-03-22 13:00",
          "23-03-22 17:00",
          "23-03-22 21:00",
          "23-03-23 01:00",
          "23-03-23 05:00",
          "23-03-23 09:00",
          "23-03-23 13:00",
          "23-03-23 17:00",
          "23-03-23 21:00",
          "23-03-24 01:00",
          "23-03-24 05:00",
          "23-03-24 09:00",
          "23-03-24 13:00",
          "23-03-24 17:00",
          "23-03-26 21:00",
          "23-03-27 01:00",
          "23-03-27 05:00",
          "23-03-27 09:00",
          "23-03-27 13:00",
          "23-03-27 17:00",
          "23-03-27 21:00",
          "23-03-28 01:00",
          "23-03-28 05:00",
          "23-03-28 09:00",
          "23-03-28 13:00",
          "23-03-28 17:00",
          "23-03-28 21:00",
          "23-03-29 01:00",
          "23-03-29 05:00",
          "23-03-29 09:00",
          "23-03-29 13:00",
          "23-03-29 17:00",
          "23-03-29 21:00",
          "23-03-30 01:00",
          "23-03-30 05:00",
          "23-03-30 09:00",
          "23-03-30 13:00",
          "23-03-30 17:00",
          "23-03-30 21:00",
          "23-03-31 01:00",
          "23-03-31 05:00",
          "23-03-31 09:00",
          "23-03-31 13:00",
          "23-03-31 17:00",
          "23-04-02 21:00",
          "23-04-03 01:00",
          "23-04-03 05:00",
          "23-04-03 09:00",
          "23-04-03 13:00",
          "23-04-03 17:00",
          "23-04-03 21:00",
          "23-04-04 01:00",
          "23-04-04 05:00",
          "23-04-04 09:00",
          "23-04-04 13:00",
          "23-04-04 17:00",
          "23-04-04 21:00",
          "23-04-05 01:00",
          "23-04-05 05:00",
          "23-04-05 09:00",
          "23-04-05 13:00",
          "23-04-05 17:00",
          "23-04-05 21:00",
          "23-04-06 01:00",
          "23-04-06 05:00",
          "23-04-06 09:00",
          "23-04-06 13:00",
          "23-04-06 17:00",
          "23-04-06 21:00",
          "23-04-07 01:00",
          "23-04-07 05:00",
          "23-04-07 09:00",
          "23-04-07 13:00",
          "23-04-07 17:00",
          "23-04-09 21:00",
          "23-04-10 01:00",
          "23-04-10 05:00",
          "23-04-10 09:00",
          "23-04-10 13:00",
          "23-04-10 17:00",
          "23-04-10 21:00",
          "23-04-11 01:00",
          "23-04-11 05:00",
          "23-04-11 09:00",
          "23-04-11 13:00",
          "23-04-11 17:00",
          "23-04-11 21:00",
          "23-04-12 01:00",
          "23-04-12 05:00",
          "23-04-12 09:00",
          "23-04-12 13:00",
          "23-04-12 17:00",
          "23-04-12 21:00",
          "23-04-13 01:00",
          "23-04-13 05:00",
          "23-04-13 09:00",
          "23-04-13 13:00",
          "23-04-13 17:00",
          "23-04-13 21:00",
          "23-04-14 01:00",
          "23-04-14 05:00",
          "23-04-14 09:00",
          "23-04-14 13:00",
          "23-04-14 17:00",
          "23-04-16 21:00",
          "23-04-17 01:00",
          "23-04-17 05:00",
          "23-04-17 09:00",
          "23-04-17 13:00",
          "23-04-17 17:00",
          "23-04-17 21:00",
          "23-04-18 01:00",
          "23-04-18 05:00",
          "23-04-18 09:00",
          "23-04-18 13:00",
          "23-04-18 17:00",
          "23-04-18 21:00",
          "23-04-19 01:00",
          "23-04-19 05:00",
          "23-04-19 09:00",
          "23-04-19 13:00",
          "23-04-19 17:00",
          "23-04-19 21:00",
          "23-04-20 01:00",
          "23-04-20 05:00",
          "23-04-20 09:00",
          "23-04-20 13:00",
          "23-04-20 17:00",
          "23-04-20 21:00",
          "23-04-21 01:00",
          "23-04-21 05:00",
          "23-04-21 09:00",
          "23-04-21 13:00",
          "23-04-21 17:00",
          "23-04-23 21:00",
          "23-04-24 01:00",
          "23-04-24 05:00",
          "23-04-24 09:00",
          "23-04-24 13:00",
          "23-04-24 17:00",
          "23-04-24 21:00",
          "23-04-25 01:00",
          "23-04-25 05:00",
          "23-04-25 09:00",
          "23-04-25 13:00",
          "23-04-25 17:00",
          "23-04-25 21:00",
          "23-04-26 01:00",
          "23-04-26 05:00",
          "23-04-26 09:00",
          "23-04-26 13:00",
          "23-04-26 17:00",
          "23-04-26 21:00",
          "23-04-27 01:00",
          "23-04-27 05:00",
          "23-04-27 09:00",
          "23-04-27 13:00",
          "23-04-27 17:00",
          "23-04-27 21:00",
          "23-04-28 01:00",
          "23-04-28 05:00",
          "23-04-28 09:00",
          "23-04-28 13:00",
          "23-04-28 17:00",
          "23-04-30 21:00",
          "23-05-01 01:00",
          "23-05-01 05:00",
          "23-05-01 09:00",
          "23-05-01 13:00",
          "23-05-01 17:00",
          "23-05-01 21:00",
          "23-05-02 01:00",
          "23-05-02 05:00",
          "23-05-02 09:00",
          "23-05-02 13:00",
          "23-05-02 17:00",
          "23-05-02 21:00",
          "23-05-03 01:00",
          "23-05-03 05:00",
          "23-05-03 09:00",
          "23-05-03 13:00",
          "23-05-03 17:00",
          "23-05-03 21:00",
          "23-05-04 01:00",
          "23-05-04 05:00",
          "23-05-04 09:00",
          "23-05-04 13:00",
          "23-05-04 17:00",
          "23-05-04 21:00",
          "23-05-05 01:00",
          "23-05-05 05:00",
          "23-05-05 09:00",
          "23-05-05 13:00",
          "23-05-05 17:00",
          "23-05-07 21:00",
          "23-05-08 01:00",
          "23-05-08 05:00",
          "23-05-08 09:00",
          "23-05-08 13:00",
          "23-05-08 17:00",
          "23-05-08 21:00",
          "23-05-09 01:00",
          "23-05-09 05:00",
          "23-05-09 09:00",
          "23-05-09 13:00",
          "23-05-09 17:00",
          "23-05-09 21:00",
          "23-05-10 01:00",
          "23-05-10 05:00",
          "23-05-10 09:00",
          "23-05-10 13:00",
          "23-05-10 17:00",
          "23-05-10 21:00",
          "23-05-11 01:00",
          "23-05-11 05:00",
          "23-05-11 09:00",
          "23-05-11 13:00",
          "23-05-11 17:00",
          "23-05-11 21:00",
          "23-05-12 01:00",
          "23-05-12 05:00",
          "23-05-12 09:00",
          "23-05-12 13:00",
          "23-05-12 17:00",
          "23-05-14 21:00",
          "23-05-15 01:00",
          "23-05-15 05:00",
          "23-05-15 09:00",
          "23-05-15 13:00",
          "23-05-15 17:00",
          "23-05-15 21:00",
          "23-05-16 01:00",
          "23-05-16 05:00",
          "23-05-16 09:00",
          "23-05-16 13:00",
          "23-05-16 17:00",
          "23-05-16 21:00",
          "23-05-17 01:00",
          "23-05-17 05:00",
          "23-05-17 09:00",
          "23-05-17 13:00",
          "23-05-17 17:00",
          "23-05-17 21:00",
          "23-05-18 01:00",
          "23-05-18 05:00",
          "23-05-18 09:00",
          "23-05-18 13:00",
          "23-05-18 17:00",
          "23-05-18 21:00",
          "23-05-19 01:00",
          "23-05-19 05:00",
          "23-05-19 09:00",
          "23-05-19 13:00",
          "23-05-19 17:00",
          "23-05-21 21:00",
          "23-05-22 01:00",
          "23-05-22 05:00",
          "23-05-22 09:00",
          "23-05-22 13:00",
          "23-05-22 17:00",
          "23-05-22 21:00",
          "23-05-23 01:00",
          "23-05-23 05:00",
          "23-05-23 09:00",
          "23-05-23 13:00",
          "23-05-23 17:00",
          "23-05-23 21:00",
          "23-05-24 01:00",
          "23-05-24 05:00",
          "23-05-24 09:00",
          "23-05-24 13:00",
          "23-05-24 17:00",
          "23-05-24 21:00",
          "23-05-25 01:00",
          "23-05-25 05:00",
          "23-05-25 09:00",
          "23-05-25 13:00",
          "23-05-25 17:00",
          "23-05-25 21:00",
          "23-05-26 01:00",
          "23-05-26 05:00",
          "23-05-26 09:00",
          "23-05-26 13:00",
          "23-05-26 17:00",
          "23-05-28 21:00",
          "23-05-29 01:00",
          "23-05-29 05:00",
          "23-05-29 09:00",
          "23-05-29 13:00",
          "23-05-29 17:00",
          "23-05-29 21:00",
          "23-05-30 01:00",
          "23-05-30 05:00",
          "23-05-30 09:00",
          "23-05-30 13:00",
          "23-05-30 17:00",
          "23-05-30 21:00",
          "23-05-31 01:00",
          "23-05-31 05:00",
          "23-05-31 09:00",
          "23-05-31 13:00",
          "23-05-31 17:00",
          "23-05-31 21:00",
          "23-06-01 01:00",
          "23-06-01 05:00",
          "23-06-01 09:00",
          "23-06-01 13:00",
          "23-06-01 17:00",
          "23-06-01 21:00",
          "23-06-02 01:00",
          "23-06-02 05:00",
          "23-06-02 09:00",
          "23-06-02 13:00",
          "23-06-02 17:00",
          "23-06-04 21:00",
          "23-06-05 01:00",
          "23-06-05 05:00",
          "23-06-05 09:00",
          "23-06-05 13:00",
          "23-06-05 17:00",
          "23-06-05 21:00",
          "23-06-06 01:00",
          "23-06-06 05:00",
          "23-06-06 09:00",
          "23-06-06 13:00",
          "23-06-06 17:00",
          "23-06-06 21:00",
          "23-06-07 01:00",
          "23-06-07 05:00",
          "23-06-07 09:00",
          "23-06-07 13:00",
          "23-06-07 17:00",
          "23-06-07 21:00",
          "23-06-08 01:00",
          "23-06-08 05:00",
          "23-06-08 09:00",
          "23-06-08 13:00",
          "23-06-08 17:00",
          "23-06-08 21:00",
          "23-06-09 01:00",
          "23-06-09 05:00",
          "23-06-09 09:00",
          "23-06-09 13:00",
          "23-06-09 17:00",
          "23-06-11 21:00",
          "23-06-12 01:00",
          "23-06-12 05:00",
          "23-06-12 09:00",
          "23-06-12 13:00",
          "23-06-12 17:00",
          "23-06-12 21:00",
          "23-06-13 01:00",
          "23-06-13 05:00",
          "23-06-13 09:00",
          "23-06-13 13:00",
          "23-06-13 17:00",
          "23-06-13 21:00",
          "23-06-14 01:00",
          "23-06-14 05:00",
          "23-06-14 09:00",
          "23-06-14 13:00",
          "23-06-14 17:00",
          "23-06-14 21:00",
          "23-06-15 01:00",
          "23-06-15 05:00",
          "23-06-15 09:00",
          "23-06-15 13:00",
          "23-06-15 17:00",
          "23-06-15 21:00",
          "23-06-16 01:00",
          "23-06-16 05:00",
          "23-06-16 09:00",
          "23-06-16 13:00",
          "23-06-16 17:00",
          "23-06-18 21:00",
          "23-06-19 01:00",
          "23-06-19 05:00",
          "23-06-19 09:00",
          "23-06-19 13:00",
          "23-06-19 17:00",
          "23-06-19 21:00",
          "23-06-20 01:00",
          "23-06-20 05:00",
          "23-06-20 09:00",
          "23-06-20 13:00",
          "23-06-20 17:00",
          "23-06-20 21:00",
          "23-06-21 01:00",
          "23-06-21 05:00",
          "23-06-21 09:00",
          "23-06-21 13:00",
          "23-06-21 17:00",
          "23-06-21 21:00",
          "23-06-22 01:00",
          "23-06-22 05:00",
          "23-06-22 09:00",
          "23-06-22 13:00",
          "23-06-22 17:00",
          "23-06-22 21:00",
          "23-06-23 01:00",
          "23-06-23 05:00",
          "23-06-23 09:00",
          "23-06-23 13:00",
          "23-06-23 17:00",
          "23-06-25 21:00",
          "23-06-26 01:00",
          "23-06-26 05:00",
          "23-06-26 09:00",
          "23-06-26 13:00",
          "23-06-26 17:00",
          "23-06-26 21:00",
          "23-06-27 01:00",
          "23-06-27 05:00",
          "23-06-27 09:00",
          "23-06-27 13:00",
          "23-06-27 17:00",
          "23-06-27 21:00",
          "23-06-28 01:00",
          "23-06-28 05:00",
          "23-06-28 09:00",
          "23-06-28 13:00",
          "23-06-28 17:00",
          "23-06-28 21:00",
          "23-06-29 01:00",
          "23-06-29 05:00",
          "23-06-29 09:00",
          "23-06-29 13:00",
          "23-06-29 17:00",
          "23-06-29 21:00",
          "23-06-30 01:00",
          "23-06-30 05:00",
          "23-06-30 09:00",
          "23-06-30 13:00",
          "23-06-30 17:00",
          "23-07-02 21:00",
          "23-07-03 01:00",
          "23-07-03 05:00",
          "23-07-03 09:00",
          "23-07-03 13:00",
          "23-07-03 17:00",
          "23-07-03 21:00",
          "23-07-04 01:00",
          "23-07-04 05:00",
          "23-07-04 09:00",
          "23-07-04 13:00",
          "23-07-04 17:00",
          "23-07-04 21:00",
          "23-07-05 01:00",
          "23-07-05 05:00",
          "23-07-05 09:00",
          "23-07-05 13:00",
          "23-07-05 17:00",
          "23-07-05 21:00",
          "23-07-06 01:00",
          "23-07-06 05:00",
          "23-07-06 09:00",
          "23-07-06 13:00",
          "23-07-06 17:00",
          "23-07-06 21:00",
          "23-07-07 01:00",
          "23-07-07 05:00",
          "23-07-07 09:00",
          "23-07-07 13:00",
          "23-07-07 17:00",
          "23-07-09 21:00",
          "23-07-10 01:00",
          "23-07-10 05:00",
          "23-07-10 09:00",
          "23-07-10 13:00",
          "23-07-10 17:00",
          "23-07-10 21:00",
          "23-07-11 01:00",
          "23-07-11 05:00",
          "23-07-11 09:00",
          "23-07-11 13:00",
          "23-07-11 17:00",
          "23-07-11 21:00",
          "23-07-12 01:00",
          "23-07-12 05:00",
          "23-07-12 09:00",
          "23-07-12 13:00",
          "23-07-12 17:00",
          "23-07-12 21:00",
          "23-07-13 01:00",
          "23-07-13 05:00",
          "23-07-13 09:00",
          "23-07-13 13:00",
          "23-07-13 17:00",
          "23-07-13 21:00",
          "23-07-14 01:00",
          "23-07-14 05:00",
          "23-07-14 09:00",
          "23-07-14 13:00",
          "23-07-14 17:00",
          "23-07-16 21:00",
          "23-07-17 01:00",
          "23-07-17 05:00",
          "23-07-17 09:00",
          "23-07-17 13:00",
          "23-07-17 17:00",
          "23-07-17 21:00",
          "23-07-18 01:00",
          "23-07-18 05:00",
          "23-07-18 09:00",
          "23-07-18 13:00",
          "23-07-18 17:00",
          "23-07-18 21:00",
          "23-07-19 01:00",
          "23-07-19 05:00",
          "23-07-19 09:00",
          "23-07-19 13:00",
          "23-07-19 17:00",
          "23-07-19 21:00",
          "23-07-20 01:00",
          "23-07-20 05:00",
          "23-07-20 09:00",
          "23-07-20 13:00",
          "23-07-20 17:00",
          "23-07-20 21:00",
          "23-07-21 01:00",
          "23-07-21 05:00",
          "23-07-21 09:00",
          "23-07-21 13:00",
          "23-07-21 17:00",
          "23-07-23 21:00",
          "23-07-24 01:00",
          "23-07-24 05:00",
          "23-07-24 09:00",
          "23-07-24 13:00",
          "23-07-24 17:00",
          "23-07-24 21:00",
          "23-07-25 01:00",
          "23-07-25 05:00",
          "23-07-25 09:00",
          "23-07-25 13:00",
          "23-07-25 17:00",
          "23-07-25 21:00",
          "23-07-26 01:00",
          "23-07-26 05:00",
          "23-07-26 09:00",
          "23-07-26 13:00",
          "23-07-26 17:00",
          "23-07-26 21:00",
          "23-07-27 01:00",
          "23-07-27 05:00",
          "23-07-27 09:00",
          "23-07-27 13:00",
          "23-07-27 17:00",
          "23-07-27 21:00",
          "23-07-28 01:00",
          "23-07-28 05:00",
          "23-07-28 09:00",
          "23-07-28 13:00",
          "23-07-28 17:00",
          "23-07-30 21:00",
          "23-07-31 01:00",
          "23-07-31 05:00",
          "23-07-31 09:00",
          "23-07-31 13:00",
          "23-07-31 17:00",
          "23-07-31 21:00",
          "23-08-01 01:00",
          "23-08-01 05:00",
          "23-08-01 09:00",
          "23-08-01 13:00",
          "23-08-01 17:00",
          "23-08-01 21:00",
          "23-08-02 01:00",
          "23-08-02 05:00",
          "23-08-02 09:00",
          "23-08-02 13:00",
          "23-08-02 17:00",
          "23-08-02 21:00",
          "23-08-03 01:00",
          "23-08-03 05:00",
          "23-08-03 09:00",
          "23-08-03 13:00",
          "23-08-03 17:00",
          "23-08-03 21:00",
          "23-08-04 01:00",
          "23-08-04 05:00",
          "23-08-04 09:00",
          "23-08-04 13:00",
          "23-08-04 17:00",
          "23-08-06 21:00",
          "23-08-07 01:00",
          "23-08-07 05:00",
          "23-08-07 09:00",
          "23-08-07 13:00",
          "23-08-07 17:00",
          "23-08-07 21:00",
          "23-08-08 01:00",
          "23-08-08 05:00",
          "23-08-08 09:00",
          "23-08-08 13:00",
          "23-08-08 17:00",
          "23-08-08 21:00",
          "23-08-09 01:00",
          "23-08-09 05:00",
          "23-08-09 09:00",
          "23-08-09 13:00",
          "23-08-09 17:00",
          "23-08-09 21:00",
          "23-08-10 01:00",
          "23-08-10 05:00",
          "23-08-10 09:00",
          "23-08-10 13:00",
          "23-08-10 17:00",
          "23-08-10 21:00",
          "23-08-11 01:00",
          "23-08-11 05:00",
          "23-08-11 09:00",
          "23-08-11 13:00",
          "23-08-11 17:00",
          "23-08-13 21:00",
          "23-08-14 01:00",
          "23-08-14 05:00",
          "23-08-14 09:00",
          "23-08-14 13:00",
          "23-08-14 17:00",
          "23-08-14 21:00",
          "23-08-15 01:00",
          "23-08-15 05:00",
          "23-08-15 09:00",
          "23-08-15 13:00",
          "23-08-15 17:00",
          "23-08-15 21:00",
          "23-08-16 01:00",
          "23-08-16 05:00",
          "23-08-16 09:00",
          "23-08-16 13:00",
          "23-08-16 17:00",
          "23-08-16 21:00",
          "23-08-17 01:00",
          "23-08-17 05:00",
          "23-08-17 09:00",
          "23-08-17 13:00",
          "23-08-17 17:00",
          "23-08-17 21:00"
         ]
        },
        {
         "line": {
          "shape": "spline",
          "width": 2
         },
         "name": "MA_50",
         "type": "scatter",
         "x": [
          "22-09-23 17:00",
          "22-09-25 21:00",
          "22-09-26 01:00",
          "22-09-26 05:00",
          "22-09-26 09:00",
          "22-09-26 13:00",
          "22-09-26 17:00",
          "22-09-26 21:00",
          "22-09-27 01:00",
          "22-09-27 05:00",
          "22-09-27 09:00",
          "22-09-27 13:00",
          "22-09-27 17:00",
          "22-09-27 21:00",
          "22-09-28 01:00",
          "22-09-28 05:00",
          "22-09-28 09:00",
          "22-09-28 13:00",
          "22-09-28 17:00",
          "22-09-28 21:00",
          "22-09-29 01:00",
          "22-09-29 05:00",
          "22-09-29 09:00",
          "22-09-29 13:00",
          "22-09-29 17:00",
          "22-09-29 21:00",
          "22-09-30 01:00",
          "22-09-30 05:00",
          "22-09-30 09:00",
          "22-09-30 13:00",
          "22-09-30 17:00",
          "22-10-02 21:00",
          "22-10-03 01:00",
          "22-10-03 05:00",
          "22-10-03 09:00",
          "22-10-03 13:00",
          "22-10-03 17:00",
          "22-10-03 21:00",
          "22-10-04 01:00",
          "22-10-04 05:00",
          "22-10-04 09:00",
          "22-10-04 13:00",
          "22-10-04 17:00",
          "22-10-04 21:00",
          "22-10-05 01:00",
          "22-10-05 05:00",
          "22-10-05 09:00",
          "22-10-05 13:00",
          "22-10-05 17:00",
          "22-10-05 21:00",
          "22-10-06 01:00",
          "22-10-06 05:00",
          "22-10-06 09:00",
          "22-10-06 13:00",
          "22-10-06 17:00",
          "22-10-06 21:00",
          "22-10-07 01:00",
          "22-10-07 05:00",
          "22-10-07 09:00",
          "22-10-07 13:00",
          "22-10-07 17:00",
          "22-10-09 21:00",
          "22-10-10 01:00",
          "22-10-10 05:00",
          "22-10-10 09:00",
          "22-10-10 13:00",
          "22-10-10 17:00",
          "22-10-10 21:00",
          "22-10-11 01:00",
          "22-10-11 05:00",
          "22-10-11 09:00",
          "22-10-11 13:00",
          "22-10-11 17:00",
          "22-10-11 21:00",
          "22-10-12 01:00",
          "22-10-12 05:00",
          "22-10-12 09:00",
          "22-10-12 13:00",
          "22-10-12 17:00",
          "22-10-12 21:00",
          "22-10-13 01:00",
          "22-10-13 05:00",
          "22-10-13 09:00",
          "22-10-13 13:00",
          "22-10-13 17:00",
          "22-10-13 21:00",
          "22-10-14 01:00",
          "22-10-14 05:00",
          "22-10-14 09:00",
          "22-10-14 13:00",
          "22-10-14 17:00",
          "22-10-16 21:00",
          "22-10-17 01:00",
          "22-10-17 05:00",
          "22-10-17 09:00",
          "22-10-17 13:00",
          "22-10-17 17:00",
          "22-10-17 21:00",
          "22-10-18 01:00",
          "22-10-18 05:00",
          "22-10-18 09:00",
          "22-10-18 13:00",
          "22-10-18 17:00",
          "22-10-18 21:00",
          "22-10-19 01:00",
          "22-10-19 05:00",
          "22-10-19 09:00",
          "22-10-19 13:00",
          "22-10-19 17:00",
          "22-10-19 21:00",
          "22-10-20 01:00",
          "22-10-20 05:00",
          "22-10-20 09:00",
          "22-10-20 13:00",
          "22-10-20 17:00",
          "22-10-20 21:00",
          "22-10-21 01:00",
          "22-10-21 05:00",
          "22-10-21 09:00",
          "22-10-21 13:00",
          "22-10-21 17:00",
          "22-10-23 21:00",
          "22-10-24 01:00",
          "22-10-24 05:00",
          "22-10-24 09:00",
          "22-10-24 13:00",
          "22-10-24 17:00",
          "22-10-24 21:00",
          "22-10-25 01:00",
          "22-10-25 05:00",
          "22-10-25 09:00",
          "22-10-25 13:00",
          "22-10-25 17:00",
          "22-10-25 21:00",
          "22-10-26 01:00",
          "22-10-26 05:00",
          "22-10-26 09:00",
          "22-10-26 13:00",
          "22-10-26 17:00",
          "22-10-26 21:00",
          "22-10-27 01:00",
          "22-10-27 05:00",
          "22-10-27 09:00",
          "22-10-27 13:00",
          "22-10-27 17:00",
          "22-10-27 21:00",
          "22-10-28 01:00",
          "22-10-28 05:00",
          "22-10-28 09:00",
          "22-10-28 13:00",
          "22-10-28 17:00",
          "22-10-30 21:00",
          "22-10-31 01:00",
          "22-10-31 05:00",
          "22-10-31 09:00",
          "22-10-31 13:00",
          "22-10-31 17:00",
          "22-10-31 21:00",
          "22-11-01 01:00",
          "22-11-01 05:00",
          "22-11-01 09:00",
          "22-11-01 13:00",
          "22-11-01 17:00",
          "22-11-01 21:00",
          "22-11-02 01:00",
          "22-11-02 05:00",
          "22-11-02 09:00",
          "22-11-02 13:00",
          "22-11-02 17:00",
          "22-11-02 21:00",
          "22-11-03 01:00",
          "22-11-03 05:00",
          "22-11-03 09:00",
          "22-11-03 13:00",
          "22-11-03 17:00",
          "22-11-03 21:00",
          "22-11-04 01:00",
          "22-11-04 05:00",
          "22-11-04 09:00",
          "22-11-04 13:00",
          "22-11-04 17:00",
          "22-11-06 22:00",
          "22-11-07 02:00",
          "22-11-07 06:00",
          "22-11-07 10:00",
          "22-11-07 14:00",
          "22-11-07 18:00",
          "22-11-07 22:00",
          "22-11-08 02:00",
          "22-11-08 06:00",
          "22-11-08 10:00",
          "22-11-08 14:00",
          "22-11-08 18:00",
          "22-11-08 22:00",
          "22-11-09 02:00",
          "22-11-09 06:00",
          "22-11-09 10:00",
          "22-11-09 14:00",
          "22-11-09 18:00",
          "22-11-09 22:00",
          "22-11-10 02:00",
          "22-11-10 06:00",
          "22-11-10 10:00",
          "22-11-10 14:00",
          "22-11-10 18:00",
          "22-11-10 22:00",
          "22-11-11 02:00",
          "22-11-11 06:00",
          "22-11-11 10:00",
          "22-11-11 14:00",
          "22-11-11 18:00",
          "22-11-13 22:00",
          "22-11-14 02:00",
          "22-11-14 06:00",
          "22-11-14 10:00",
          "22-11-14 14:00",
          "22-11-14 18:00",
          "22-11-14 22:00",
          "22-11-15 02:00",
          "22-11-15 06:00",
          "22-11-15 10:00",
          "22-11-15 14:00",
          "22-11-15 18:00",
          "22-11-15 22:00",
          "22-11-16 02:00",
          "22-11-16 06:00",
          "22-11-16 10:00",
          "22-11-16 14:00",
          "22-11-16 18:00",
          "22-11-16 22:00",
          "22-11-17 02:00",
          "22-11-17 06:00",
          "22-11-17 10:00",
          "22-11-17 14:00",
          "22-11-17 18:00",
          "22-11-17 22:00",
          "22-11-18 02:00",
          "22-11-18 06:00",
          "22-11-18 10:00",
          "22-11-18 14:00",
          "22-11-18 18:00",
          "22-11-20 22:00",
          "22-11-21 02:00",
          "22-11-21 06:00",
          "22-11-21 10:00",
          "22-11-21 14:00",
          "22-11-21 18:00",
          "22-11-21 22:00",
          "22-11-22 02:00",
          "22-11-22 06:00",
          "22-11-22 10:00",
          "22-11-22 14:00",
          "22-11-22 18:00",
          "22-11-22 22:00",
          "22-11-23 02:00",
          "22-11-23 06:00",
          "22-11-23 10:00",
          "22-11-23 14:00",
          "22-11-23 18:00",
          "22-11-23 22:00",
          "22-11-24 02:00",
          "22-11-24 06:00",
          "22-11-24 10:00",
          "22-11-24 14:00",
          "22-11-24 18:00",
          "22-11-24 22:00",
          "22-11-25 02:00",
          "22-11-25 06:00",
          "22-11-25 10:00",
          "22-11-25 14:00",
          "22-11-25 18:00",
          "22-11-27 22:00",
          "22-11-28 02:00",
          "22-11-28 06:00",
          "22-11-28 10:00",
          "22-11-28 14:00",
          "22-11-28 18:00",
          "22-11-28 22:00",
          "22-11-29 02:00",
          "22-11-29 06:00",
          "22-11-29 10:00",
          "22-11-29 14:00",
          "22-11-29 18:00",
          "22-11-29 22:00",
          "22-11-30 02:00",
          "22-11-30 06:00",
          "22-11-30 10:00",
          "22-11-30 14:00",
          "22-11-30 18:00",
          "22-11-30 22:00",
          "22-12-01 02:00",
          "22-12-01 06:00",
          "22-12-01 10:00",
          "22-12-01 14:00",
          "22-12-01 18:00",
          "22-12-01 22:00",
          "22-12-02 02:00",
          "22-12-02 06:00",
          "22-12-02 10:00",
          "22-12-02 14:00",
          "22-12-02 18:00",
          "22-12-04 22:00",
          "22-12-05 02:00",
          "22-12-05 06:00",
          "22-12-05 10:00",
          "22-12-05 14:00",
          "22-12-05 18:00",
          "22-12-05 22:00",
          "22-12-06 02:00",
          "22-12-06 06:00",
          "22-12-06 10:00",
          "22-12-06 14:00",
          "22-12-06 18:00",
          "22-12-06 22:00",
          "22-12-07 02:00",
          "22-12-07 06:00",
          "22-12-07 10:00",
          "22-12-07 14:00",
          "22-12-07 18:00",
          "22-12-07 22:00",
          "22-12-08 02:00",
          "22-12-08 06:00",
          "22-12-08 10:00",
          "22-12-08 14:00",
          "22-12-08 18:00",
          "22-12-08 22:00",
          "22-12-09 02:00",
          "22-12-09 06:00",
          "22-12-09 10:00",
          "22-12-09 14:00",
          "22-12-09 18:00",
          "22-12-11 22:00",
          "22-12-12 02:00",
          "22-12-12 06:00",
          "22-12-12 10:00",
          "22-12-12 14:00",
          "22-12-12 18:00",
          "22-12-12 22:00",
          "22-12-13 02:00",
          "22-12-13 06:00",
          "22-12-13 10:00",
          "22-12-13 14:00",
          "22-12-13 18:00",
          "22-12-13 22:00",
          "22-12-14 02:00",
          "22-12-14 06:00",
          "22-12-14 10:00",
          "22-12-14 14:00",
          "22-12-14 18:00",
          "22-12-14 22:00",
          "22-12-15 02:00",
          "22-12-15 06:00",
          "22-12-15 10:00",
          "22-12-15 14:00",
          "22-12-15 18:00",
          "22-12-15 22:00",
          "22-12-16 02:00",
          "22-12-16 06:00",
          "22-12-16 10:00",
          "22-12-16 14:00",
          "22-12-16 18:00",
          "22-12-18 22:00",
          "22-12-19 02:00",
          "22-12-19 06:00",
          "22-12-19 10:00",
          "22-12-19 14:00",
          "22-12-19 18:00",
          "22-12-19 22:00",
          "22-12-20 02:00",
          "22-12-20 06:00",
          "22-12-20 10:00",
          "22-12-20 14:00",
          "22-12-20 18:00",
          "22-12-20 22:00",
          "22-12-21 02:00",
          "22-12-21 06:00",
          "22-12-21 10:00",
          "22-12-21 14:00",
          "22-12-21 18:00",
          "22-12-21 22:00",
          "22-12-22 02:00",
          "22-12-22 06:00",
          "22-12-22 10:00",
          "22-12-22 14:00",
          "22-12-22 18:00",
          "22-12-22 22:00",
          "22-12-23 02:00",
          "22-12-23 06:00",
          "22-12-23 10:00",
          "22-12-23 14:00",
          "22-12-23 18:00",
          "22-12-26 22:00",
          "22-12-27 02:00",
          "22-12-27 06:00",
          "22-12-27 10:00",
          "22-12-27 14:00",
          "22-12-27 18:00",
          "22-12-27 22:00",
          "22-12-28 02:00",
          "22-12-28 06:00",
          "22-12-28 10:00",
          "22-12-28 14:00",
          "22-12-28 18:00",
          "22-12-28 22:00",
          "22-12-29 02:00",
          "22-12-29 06:00",
          "22-12-29 10:00",
          "22-12-29 14:00",
          "22-12-29 18:00",
          "22-12-29 22:00",
          "22-12-30 02:00",
          "22-12-30 06:00",
          "22-12-30 10:00",
          "22-12-30 14:00",
          "22-12-30 18:00",
          "23-01-01 22:00",
          "23-01-02 02:00",
          "23-01-02 06:00",
          "23-01-02 10:00",
          "23-01-02 14:00",
          "23-01-02 18:00",
          "23-01-02 22:00",
          "23-01-03 02:00",
          "23-01-03 06:00",
          "23-01-03 10:00",
          "23-01-03 14:00",
          "23-01-03 18:00",
          "23-01-03 22:00",
          "23-01-04 02:00",
          "23-01-04 06:00",
          "23-01-04 10:00",
          "23-01-04 14:00",
          "23-01-04 18:00",
          "23-01-04 22:00",
          "23-01-05 02:00",
          "23-01-05 06:00",
          "23-01-05 10:00",
          "23-01-05 14:00",
          "23-01-05 18:00",
          "23-01-05 22:00",
          "23-01-06 02:00",
          "23-01-06 06:00",
          "23-01-06 10:00",
          "23-01-06 14:00",
          "23-01-06 18:00",
          "23-01-08 22:00",
          "23-01-09 02:00",
          "23-01-09 06:00",
          "23-01-09 10:00",
          "23-01-09 14:00",
          "23-01-09 18:00",
          "23-01-09 22:00",
          "23-01-10 02:00",
          "23-01-10 06:00",
          "23-01-10 10:00",
          "23-01-10 14:00",
          "23-01-10 18:00",
          "23-01-10 22:00",
          "23-01-11 02:00",
          "23-01-11 06:00",
          "23-01-11 10:00",
          "23-01-11 14:00",
          "23-01-11 18:00",
          "23-01-11 22:00",
          "23-01-12 02:00",
          "23-01-12 06:00",
          "23-01-12 10:00",
          "23-01-12 14:00",
          "23-01-12 18:00",
          "23-01-12 22:00",
          "23-01-13 02:00",
          "23-01-13 06:00",
          "23-01-13 10:00",
          "23-01-13 14:00",
          "23-01-13 18:00",
          "23-01-15 22:00",
          "23-01-16 02:00",
          "23-01-16 06:00",
          "23-01-16 10:00",
          "23-01-16 14:00",
          "23-01-16 18:00",
          "23-01-16 22:00",
          "23-01-17 02:00",
          "23-01-17 06:00",
          "23-01-17 10:00",
          "23-01-17 14:00",
          "23-01-17 18:00",
          "23-01-17 22:00",
          "23-01-18 02:00",
          "23-01-18 06:00",
          "23-01-18 10:00",
          "23-01-18 14:00",
          "23-01-18 18:00",
          "23-01-18 22:00",
          "23-01-19 02:00",
          "23-01-19 06:00",
          "23-01-19 10:00",
          "23-01-19 14:00",
          "23-01-19 18:00",
          "23-01-19 22:00",
          "23-01-20 02:00",
          "23-01-20 06:00",
          "23-01-20 10:00",
          "23-01-20 14:00",
          "23-01-20 18:00",
          "23-01-22 22:00",
          "23-01-23 02:00",
          "23-01-23 06:00",
          "23-01-23 10:00",
          "23-01-23 14:00",
          "23-01-23 18:00",
          "23-01-23 22:00",
          "23-01-24 02:00",
          "23-01-24 06:00",
          "23-01-24 10:00",
          "23-01-24 14:00",
          "23-01-24 18:00",
          "23-01-24 22:00",
          "23-01-25 02:00",
          "23-01-25 06:00",
          "23-01-25 10:00",
          "23-01-25 14:00",
          "23-01-25 18:00",
          "23-01-25 22:00",
          "23-01-26 02:00",
          "23-01-26 06:00",
          "23-01-26 10:00",
          "23-01-26 14:00",
          "23-01-26 18:00",
          "23-01-26 22:00",
          "23-01-27 02:00",
          "23-01-27 06:00",
          "23-01-27 10:00",
          "23-01-27 14:00",
          "23-01-27 18:00",
          "23-01-29 22:00",
          "23-01-30 02:00",
          "23-01-30 06:00",
          "23-01-30 10:00",
          "23-01-30 14:00",
          "23-01-30 18:00",
          "23-01-30 22:00",
          "23-01-31 02:00",
          "23-01-31 06:00",
          "23-01-31 10:00",
          "23-01-31 14:00",
          "23-01-31 18:00",
          "23-01-31 22:00",
          "23-02-01 02:00",
          "23-02-01 06:00",
          "23-02-01 10:00",
          "23-02-01 14:00",
          "23-02-01 18:00",
          "23-02-01 22:00",
          "23-02-02 02:00",
          "23-02-02 06:00",
          "23-02-02 10:00",
          "23-02-02 14:00",
          "23-02-02 18:00",
          "23-02-02 22:00",
          "23-02-03 02:00",
          "23-02-03 06:00",
          "23-02-03 10:00",
          "23-02-03 14:00",
          "23-02-03 18:00",
          "23-02-05 22:00",
          "23-02-06 02:00",
          "23-02-06 06:00",
          "23-02-06 10:00",
          "23-02-06 14:00",
          "23-02-06 18:00",
          "23-02-06 22:00",
          "23-02-07 02:00",
          "23-02-07 06:00",
          "23-02-07 10:00",
          "23-02-07 14:00",
          "23-02-07 18:00",
          "23-02-07 22:00",
          "23-02-08 02:00",
          "23-02-08 06:00",
          "23-02-08 10:00",
          "23-02-08 14:00",
          "23-02-08 18:00",
          "23-02-08 22:00",
          "23-02-09 02:00",
          "23-02-09 06:00",
          "23-02-09 10:00",
          "23-02-09 14:00",
          "23-02-09 18:00",
          "23-02-09 22:00",
          "23-02-10 02:00",
          "23-02-10 06:00",
          "23-02-10 10:00",
          "23-02-10 14:00",
          "23-02-10 18:00",
          "23-02-12 22:00",
          "23-02-13 02:00",
          "23-02-13 06:00",
          "23-02-13 10:00",
          "23-02-13 14:00",
          "23-02-13 18:00",
          "23-02-13 22:00",
          "23-02-14 02:00",
          "23-02-14 06:00",
          "23-02-14 10:00",
          "23-02-14 14:00",
          "23-02-14 18:00",
          "23-02-14 22:00",
          "23-02-15 02:00",
          "23-02-15 06:00",
          "23-02-15 10:00",
          "23-02-15 14:00",
          "23-02-15 18:00",
          "23-02-15 22:00",
          "23-02-16 02:00",
          "23-02-16 06:00",
          "23-02-16 10:00",
          "23-02-16 14:00",
          "23-02-16 18:00",
          "23-02-16 22:00",
          "23-02-17 02:00",
          "23-02-17 06:00",
          "23-02-17 10:00",
          "23-02-17 14:00",
          "23-02-17 18:00",
          "23-02-19 22:00",
          "23-02-20 02:00",
          "23-02-20 06:00",
          "23-02-20 10:00",
          "23-02-20 14:00",
          "23-02-20 18:00",
          "23-02-20 22:00",
          "23-02-21 02:00",
          "23-02-21 06:00",
          "23-02-21 10:00",
          "23-02-21 14:00",
          "23-02-21 18:00",
          "23-02-21 22:00",
          "23-02-22 02:00",
          "23-02-22 06:00",
          "23-02-22 10:00",
          "23-02-22 14:00",
          "23-02-22 18:00",
          "23-02-22 22:00",
          "23-02-23 02:00",
          "23-02-23 06:00",
          "23-02-23 10:00",
          "23-02-23 14:00",
          "23-02-23 18:00",
          "23-02-23 22:00",
          "23-02-24 02:00",
          "23-02-24 06:00",
          "23-02-24 10:00",
          "23-02-24 14:00",
          "23-02-24 18:00",
          "23-02-26 22:00",
          "23-02-27 02:00",
          "23-02-27 06:00",
          "23-02-27 10:00",
          "23-02-27 14:00",
          "23-02-27 18:00",
          "23-02-27 22:00",
          "23-02-28 02:00",
          "23-02-28 06:00",
          "23-02-28 10:00",
          "23-02-28 14:00",
          "23-02-28 18:00",
          "23-02-28 22:00",
          "23-03-01 02:00",
          "23-03-01 06:00",
          "23-03-01 10:00",
          "23-03-01 14:00",
          "23-03-01 18:00",
          "23-03-01 22:00",
          "23-03-02 02:00",
          "23-03-02 06:00",
          "23-03-02 10:00",
          "23-03-02 14:00",
          "23-03-02 18:00",
          "23-03-02 22:00",
          "23-03-03 02:00",
          "23-03-03 06:00",
          "23-03-03 10:00",
          "23-03-03 14:00",
          "23-03-03 18:00",
          "23-03-05 22:00",
          "23-03-06 02:00",
          "23-03-06 06:00",
          "23-03-06 10:00",
          "23-03-06 14:00",
          "23-03-06 18:00",
          "23-03-06 22:00",
          "23-03-07 02:00",
          "23-03-07 06:00",
          "23-03-07 10:00",
          "23-03-07 14:00",
          "23-03-07 18:00",
          "23-03-07 22:00",
          "23-03-08 02:00",
          "23-03-08 06:00",
          "23-03-08 10:00",
          "23-03-08 14:00",
          "23-03-08 18:00",
          "23-03-08 22:00",
          "23-03-09 02:00",
          "23-03-09 06:00",
          "23-03-09 10:00",
          "23-03-09 14:00",
          "23-03-09 18:00",
          "23-03-09 22:00",
          "23-03-10 02:00",
          "23-03-10 06:00",
          "23-03-10 10:00",
          "23-03-10 14:00",
          "23-03-10 18:00",
          "23-03-12 21:00",
          "23-03-13 01:00",
          "23-03-13 05:00",
          "23-03-13 09:00",
          "23-03-13 13:00",
          "23-03-13 17:00",
          "23-03-13 21:00",
          "23-03-14 01:00",
          "23-03-14 05:00",
          "23-03-14 09:00",
          "23-03-14 13:00",
          "23-03-14 17:00",
          "23-03-14 21:00",
          "23-03-15 01:00",
          "23-03-15 05:00",
          "23-03-15 09:00",
          "23-03-15 13:00",
          "23-03-15 17:00",
          "23-03-15 21:00",
          "23-03-16 01:00",
          "23-03-16 05:00",
          "23-03-16 09:00",
          "23-03-16 13:00",
          "23-03-16 17:00",
          "23-03-16 21:00",
          "23-03-17 01:00",
          "23-03-17 05:00",
          "23-03-17 09:00",
          "23-03-17 13:00",
          "23-03-17 17:00",
          "23-03-19 21:00",
          "23-03-20 01:00",
          "23-03-20 05:00",
          "23-03-20 09:00",
          "23-03-20 13:00",
          "23-03-20 17:00",
          "23-03-20 21:00",
          "23-03-21 01:00",
          "23-03-21 05:00",
          "23-03-21 09:00",
          "23-03-21 13:00",
          "23-03-21 17:00",
          "23-03-21 21:00",
          "23-03-22 01:00",
          "23-03-22 05:00",
          "23-03-22 09:00",
          "23-03-22 13:00",
          "23-03-22 17:00",
          "23-03-22 21:00",
          "23-03-23 01:00",
          "23-03-23 05:00",
          "23-03-23 09:00",
          "23-03-23 13:00",
          "23-03-23 17:00",
          "23-03-23 21:00",
          "23-03-24 01:00",
          "23-03-24 05:00",
          "23-03-24 09:00",
          "23-03-24 13:00",
          "23-03-24 17:00",
          "23-03-26 21:00",
          "23-03-27 01:00",
          "23-03-27 05:00",
          "23-03-27 09:00",
          "23-03-27 13:00",
          "23-03-27 17:00",
          "23-03-27 21:00",
          "23-03-28 01:00",
          "23-03-28 05:00",
          "23-03-28 09:00",
          "23-03-28 13:00",
          "23-03-28 17:00",
          "23-03-28 21:00",
          "23-03-29 01:00",
          "23-03-29 05:00",
          "23-03-29 09:00",
          "23-03-29 13:00",
          "23-03-29 17:00",
          "23-03-29 21:00",
          "23-03-30 01:00",
          "23-03-30 05:00",
          "23-03-30 09:00",
          "23-03-30 13:00",
          "23-03-30 17:00",
          "23-03-30 21:00",
          "23-03-31 01:00",
          "23-03-31 05:00",
          "23-03-31 09:00",
          "23-03-31 13:00",
          "23-03-31 17:00",
          "23-04-02 21:00",
          "23-04-03 01:00",
          "23-04-03 05:00",
          "23-04-03 09:00",
          "23-04-03 13:00",
          "23-04-03 17:00",
          "23-04-03 21:00",
          "23-04-04 01:00",
          "23-04-04 05:00",
          "23-04-04 09:00",
          "23-04-04 13:00",
          "23-04-04 17:00",
          "23-04-04 21:00",
          "23-04-05 01:00",
          "23-04-05 05:00",
          "23-04-05 09:00",
          "23-04-05 13:00",
          "23-04-05 17:00",
          "23-04-05 21:00",
          "23-04-06 01:00",
          "23-04-06 05:00",
          "23-04-06 09:00",
          "23-04-06 13:00",
          "23-04-06 17:00",
          "23-04-06 21:00",
          "23-04-07 01:00",
          "23-04-07 05:00",
          "23-04-07 09:00",
          "23-04-07 13:00",
          "23-04-07 17:00",
          "23-04-09 21:00",
          "23-04-10 01:00",
          "23-04-10 05:00",
          "23-04-10 09:00",
          "23-04-10 13:00",
          "23-04-10 17:00",
          "23-04-10 21:00",
          "23-04-11 01:00",
          "23-04-11 05:00",
          "23-04-11 09:00",
          "23-04-11 13:00",
          "23-04-11 17:00",
          "23-04-11 21:00",
          "23-04-12 01:00",
          "23-04-12 05:00",
          "23-04-12 09:00",
          "23-04-12 13:00",
          "23-04-12 17:00",
          "23-04-12 21:00",
          "23-04-13 01:00",
          "23-04-13 05:00",
          "23-04-13 09:00",
          "23-04-13 13:00",
          "23-04-13 17:00",
          "23-04-13 21:00",
          "23-04-14 01:00",
          "23-04-14 05:00",
          "23-04-14 09:00",
          "23-04-14 13:00",
          "23-04-14 17:00",
          "23-04-16 21:00",
          "23-04-17 01:00",
          "23-04-17 05:00",
          "23-04-17 09:00",
          "23-04-17 13:00",
          "23-04-17 17:00",
          "23-04-17 21:00",
          "23-04-18 01:00",
          "23-04-18 05:00",
          "23-04-18 09:00",
          "23-04-18 13:00",
          "23-04-18 17:00",
          "23-04-18 21:00",
          "23-04-19 01:00",
          "23-04-19 05:00",
          "23-04-19 09:00",
          "23-04-19 13:00",
          "23-04-19 17:00",
          "23-04-19 21:00",
          "23-04-20 01:00",
          "23-04-20 05:00",
          "23-04-20 09:00",
          "23-04-20 13:00",
          "23-04-20 17:00",
          "23-04-20 21:00",
          "23-04-21 01:00",
          "23-04-21 05:00",
          "23-04-21 09:00",
          "23-04-21 13:00",
          "23-04-21 17:00",
          "23-04-23 21:00",
          "23-04-24 01:00",
          "23-04-24 05:00",
          "23-04-24 09:00",
          "23-04-24 13:00",
          "23-04-24 17:00",
          "23-04-24 21:00",
          "23-04-25 01:00",
          "23-04-25 05:00",
          "23-04-25 09:00",
          "23-04-25 13:00",
          "23-04-25 17:00",
          "23-04-25 21:00",
          "23-04-26 01:00",
          "23-04-26 05:00",
          "23-04-26 09:00",
          "23-04-26 13:00",
          "23-04-26 17:00",
          "23-04-26 21:00",
          "23-04-27 01:00",
          "23-04-27 05:00",
          "23-04-27 09:00",
          "23-04-27 13:00",
          "23-04-27 17:00",
          "23-04-27 21:00",
          "23-04-28 01:00",
          "23-04-28 05:00",
          "23-04-28 09:00",
          "23-04-28 13:00",
          "23-04-28 17:00",
          "23-04-30 21:00",
          "23-05-01 01:00",
          "23-05-01 05:00",
          "23-05-01 09:00",
          "23-05-01 13:00",
          "23-05-01 17:00",
          "23-05-01 21:00",
          "23-05-02 01:00",
          "23-05-02 05:00",
          "23-05-02 09:00",
          "23-05-02 13:00",
          "23-05-02 17:00",
          "23-05-02 21:00",
          "23-05-03 01:00",
          "23-05-03 05:00",
          "23-05-03 09:00",
          "23-05-03 13:00",
          "23-05-03 17:00",
          "23-05-03 21:00",
          "23-05-04 01:00",
          "23-05-04 05:00",
          "23-05-04 09:00",
          "23-05-04 13:00",
          "23-05-04 17:00",
          "23-05-04 21:00",
          "23-05-05 01:00",
          "23-05-05 05:00",
          "23-05-05 09:00",
          "23-05-05 13:00",
          "23-05-05 17:00",
          "23-05-07 21:00",
          "23-05-08 01:00",
          "23-05-08 05:00",
          "23-05-08 09:00",
          "23-05-08 13:00",
          "23-05-08 17:00",
          "23-05-08 21:00",
          "23-05-09 01:00",
          "23-05-09 05:00",
          "23-05-09 09:00",
          "23-05-09 13:00",
          "23-05-09 17:00",
          "23-05-09 21:00",
          "23-05-10 01:00",
          "23-05-10 05:00",
          "23-05-10 09:00",
          "23-05-10 13:00",
          "23-05-10 17:00",
          "23-05-10 21:00",
          "23-05-11 01:00",
          "23-05-11 05:00",
          "23-05-11 09:00",
          "23-05-11 13:00",
          "23-05-11 17:00",
          "23-05-11 21:00",
          "23-05-12 01:00",
          "23-05-12 05:00",
          "23-05-12 09:00",
          "23-05-12 13:00",
          "23-05-12 17:00",
          "23-05-14 21:00",
          "23-05-15 01:00",
          "23-05-15 05:00",
          "23-05-15 09:00",
          "23-05-15 13:00",
          "23-05-15 17:00",
          "23-05-15 21:00",
          "23-05-16 01:00",
          "23-05-16 05:00",
          "23-05-16 09:00",
          "23-05-16 13:00",
          "23-05-16 17:00",
          "23-05-16 21:00",
          "23-05-17 01:00",
          "23-05-17 05:00",
          "23-05-17 09:00",
          "23-05-17 13:00",
          "23-05-17 17:00",
          "23-05-17 21:00",
          "23-05-18 01:00",
          "23-05-18 05:00",
          "23-05-18 09:00",
          "23-05-18 13:00",
          "23-05-18 17:00",
          "23-05-18 21:00",
          "23-05-19 01:00",
          "23-05-19 05:00",
          "23-05-19 09:00",
          "23-05-19 13:00",
          "23-05-19 17:00",
          "23-05-21 21:00",
          "23-05-22 01:00",
          "23-05-22 05:00",
          "23-05-22 09:00",
          "23-05-22 13:00",
          "23-05-22 17:00",
          "23-05-22 21:00",
          "23-05-23 01:00",
          "23-05-23 05:00",
          "23-05-23 09:00",
          "23-05-23 13:00",
          "23-05-23 17:00",
          "23-05-23 21:00",
          "23-05-24 01:00",
          "23-05-24 05:00",
          "23-05-24 09:00",
          "23-05-24 13:00",
          "23-05-24 17:00",
          "23-05-24 21:00",
          "23-05-25 01:00",
          "23-05-25 05:00",
          "23-05-25 09:00",
          "23-05-25 13:00",
          "23-05-25 17:00",
          "23-05-25 21:00",
          "23-05-26 01:00",
          "23-05-26 05:00",
          "23-05-26 09:00",
          "23-05-26 13:00",
          "23-05-26 17:00",
          "23-05-28 21:00",
          "23-05-29 01:00",
          "23-05-29 05:00",
          "23-05-29 09:00",
          "23-05-29 13:00",
          "23-05-29 17:00",
          "23-05-29 21:00",
          "23-05-30 01:00",
          "23-05-30 05:00",
          "23-05-30 09:00",
          "23-05-30 13:00",
          "23-05-30 17:00",
          "23-05-30 21:00",
          "23-05-31 01:00",
          "23-05-31 05:00",
          "23-05-31 09:00",
          "23-05-31 13:00",
          "23-05-31 17:00",
          "23-05-31 21:00",
          "23-06-01 01:00",
          "23-06-01 05:00",
          "23-06-01 09:00",
          "23-06-01 13:00",
          "23-06-01 17:00",
          "23-06-01 21:00",
          "23-06-02 01:00",
          "23-06-02 05:00",
          "23-06-02 09:00",
          "23-06-02 13:00",
          "23-06-02 17:00",
          "23-06-04 21:00",
          "23-06-05 01:00",
          "23-06-05 05:00",
          "23-06-05 09:00",
          "23-06-05 13:00",
          "23-06-05 17:00",
          "23-06-05 21:00",
          "23-06-06 01:00",
          "23-06-06 05:00",
          "23-06-06 09:00",
          "23-06-06 13:00",
          "23-06-06 17:00",
          "23-06-06 21:00",
          "23-06-07 01:00",
          "23-06-07 05:00",
          "23-06-07 09:00",
          "23-06-07 13:00",
          "23-06-07 17:00",
          "23-06-07 21:00",
          "23-06-08 01:00",
          "23-06-08 05:00",
          "23-06-08 09:00",
          "23-06-08 13:00",
          "23-06-08 17:00",
          "23-06-08 21:00",
          "23-06-09 01:00",
          "23-06-09 05:00",
          "23-06-09 09:00",
          "23-06-09 13:00",
          "23-06-09 17:00",
          "23-06-11 21:00",
          "23-06-12 01:00",
          "23-06-12 05:00",
          "23-06-12 09:00",
          "23-06-12 13:00",
          "23-06-12 17:00",
          "23-06-12 21:00",
          "23-06-13 01:00",
          "23-06-13 05:00",
          "23-06-13 09:00",
          "23-06-13 13:00",
          "23-06-13 17:00",
          "23-06-13 21:00",
          "23-06-14 01:00",
          "23-06-14 05:00",
          "23-06-14 09:00",
          "23-06-14 13:00",
          "23-06-14 17:00",
          "23-06-14 21:00",
          "23-06-15 01:00",
          "23-06-15 05:00",
          "23-06-15 09:00",
          "23-06-15 13:00",
          "23-06-15 17:00",
          "23-06-15 21:00",
          "23-06-16 01:00",
          "23-06-16 05:00",
          "23-06-16 09:00",
          "23-06-16 13:00",
          "23-06-16 17:00",
          "23-06-18 21:00",
          "23-06-19 01:00",
          "23-06-19 05:00",
          "23-06-19 09:00",
          "23-06-19 13:00",
          "23-06-19 17:00",
          "23-06-19 21:00",
          "23-06-20 01:00",
          "23-06-20 05:00",
          "23-06-20 09:00",
          "23-06-20 13:00",
          "23-06-20 17:00",
          "23-06-20 21:00",
          "23-06-21 01:00",
          "23-06-21 05:00",
          "23-06-21 09:00",
          "23-06-21 13:00",
          "23-06-21 17:00",
          "23-06-21 21:00",
          "23-06-22 01:00",
          "23-06-22 05:00",
          "23-06-22 09:00",
          "23-06-22 13:00",
          "23-06-22 17:00",
          "23-06-22 21:00",
          "23-06-23 01:00",
          "23-06-23 05:00",
          "23-06-23 09:00",
          "23-06-23 13:00",
          "23-06-23 17:00",
          "23-06-25 21:00",
          "23-06-26 01:00",
          "23-06-26 05:00",
          "23-06-26 09:00",
          "23-06-26 13:00",
          "23-06-26 17:00",
          "23-06-26 21:00",
          "23-06-27 01:00",
          "23-06-27 05:00",
          "23-06-27 09:00",
          "23-06-27 13:00",
          "23-06-27 17:00",
          "23-06-27 21:00",
          "23-06-28 01:00",
          "23-06-28 05:00",
          "23-06-28 09:00",
          "23-06-28 13:00",
          "23-06-28 17:00",
          "23-06-28 21:00",
          "23-06-29 01:00",
          "23-06-29 05:00",
          "23-06-29 09:00",
          "23-06-29 13:00",
          "23-06-29 17:00",
          "23-06-29 21:00",
          "23-06-30 01:00",
          "23-06-30 05:00",
          "23-06-30 09:00",
          "23-06-30 13:00",
          "23-06-30 17:00",
          "23-07-02 21:00",
          "23-07-03 01:00",
          "23-07-03 05:00",
          "23-07-03 09:00",
          "23-07-03 13:00",
          "23-07-03 17:00",
          "23-07-03 21:00",
          "23-07-04 01:00",
          "23-07-04 05:00",
          "23-07-04 09:00",
          "23-07-04 13:00",
          "23-07-04 17:00",
          "23-07-04 21:00",
          "23-07-05 01:00",
          "23-07-05 05:00",
          "23-07-05 09:00",
          "23-07-05 13:00",
          "23-07-05 17:00",
          "23-07-05 21:00",
          "23-07-06 01:00",
          "23-07-06 05:00",
          "23-07-06 09:00",
          "23-07-06 13:00",
          "23-07-06 17:00",
          "23-07-06 21:00",
          "23-07-07 01:00",
          "23-07-07 05:00",
          "23-07-07 09:00",
          "23-07-07 13:00",
          "23-07-07 17:00",
          "23-07-09 21:00",
          "23-07-10 01:00",
          "23-07-10 05:00",
          "23-07-10 09:00",
          "23-07-10 13:00",
          "23-07-10 17:00",
          "23-07-10 21:00",
          "23-07-11 01:00",
          "23-07-11 05:00",
          "23-07-11 09:00",
          "23-07-11 13:00",
          "23-07-11 17:00",
          "23-07-11 21:00",
          "23-07-12 01:00",
          "23-07-12 05:00",
          "23-07-12 09:00",
          "23-07-12 13:00",
          "23-07-12 17:00",
          "23-07-12 21:00",
          "23-07-13 01:00",
          "23-07-13 05:00",
          "23-07-13 09:00",
          "23-07-13 13:00",
          "23-07-13 17:00",
          "23-07-13 21:00",
          "23-07-14 01:00",
          "23-07-14 05:00",
          "23-07-14 09:00",
          "23-07-14 13:00",
          "23-07-14 17:00",
          "23-07-16 21:00",
          "23-07-17 01:00",
          "23-07-17 05:00",
          "23-07-17 09:00",
          "23-07-17 13:00",
          "23-07-17 17:00",
          "23-07-17 21:00",
          "23-07-18 01:00",
          "23-07-18 05:00",
          "23-07-18 09:00",
          "23-07-18 13:00",
          "23-07-18 17:00",
          "23-07-18 21:00",
          "23-07-19 01:00",
          "23-07-19 05:00",
          "23-07-19 09:00",
          "23-07-19 13:00",
          "23-07-19 17:00",
          "23-07-19 21:00",
          "23-07-20 01:00",
          "23-07-20 05:00",
          "23-07-20 09:00",
          "23-07-20 13:00",
          "23-07-20 17:00",
          "23-07-20 21:00",
          "23-07-21 01:00",
          "23-07-21 05:00",
          "23-07-21 09:00",
          "23-07-21 13:00",
          "23-07-21 17:00",
          "23-07-23 21:00",
          "23-07-24 01:00",
          "23-07-24 05:00",
          "23-07-24 09:00",
          "23-07-24 13:00",
          "23-07-24 17:00",
          "23-07-24 21:00",
          "23-07-25 01:00",
          "23-07-25 05:00",
          "23-07-25 09:00",
          "23-07-25 13:00",
          "23-07-25 17:00",
          "23-07-25 21:00",
          "23-07-26 01:00",
          "23-07-26 05:00",
          "23-07-26 09:00",
          "23-07-26 13:00",
          "23-07-26 17:00",
          "23-07-26 21:00",
          "23-07-27 01:00",
          "23-07-27 05:00",
          "23-07-27 09:00",
          "23-07-27 13:00",
          "23-07-27 17:00",
          "23-07-27 21:00",
          "23-07-28 01:00",
          "23-07-28 05:00",
          "23-07-28 09:00",
          "23-07-28 13:00",
          "23-07-28 17:00",
          "23-07-30 21:00",
          "23-07-31 01:00",
          "23-07-31 05:00",
          "23-07-31 09:00",
          "23-07-31 13:00",
          "23-07-31 17:00",
          "23-07-31 21:00",
          "23-08-01 01:00",
          "23-08-01 05:00",
          "23-08-01 09:00",
          "23-08-01 13:00",
          "23-08-01 17:00",
          "23-08-01 21:00",
          "23-08-02 01:00",
          "23-08-02 05:00",
          "23-08-02 09:00",
          "23-08-02 13:00",
          "23-08-02 17:00",
          "23-08-02 21:00",
          "23-08-03 01:00",
          "23-08-03 05:00",
          "23-08-03 09:00",
          "23-08-03 13:00",
          "23-08-03 17:00",
          "23-08-03 21:00",
          "23-08-04 01:00",
          "23-08-04 05:00",
          "23-08-04 09:00",
          "23-08-04 13:00",
          "23-08-04 17:00",
          "23-08-06 21:00",
          "23-08-07 01:00",
          "23-08-07 05:00",
          "23-08-07 09:00",
          "23-08-07 13:00",
          "23-08-07 17:00",
          "23-08-07 21:00",
          "23-08-08 01:00",
          "23-08-08 05:00",
          "23-08-08 09:00",
          "23-08-08 13:00",
          "23-08-08 17:00",
          "23-08-08 21:00",
          "23-08-09 01:00",
          "23-08-09 05:00",
          "23-08-09 09:00",
          "23-08-09 13:00",
          "23-08-09 17:00",
          "23-08-09 21:00",
          "23-08-10 01:00",
          "23-08-10 05:00",
          "23-08-10 09:00",
          "23-08-10 13:00",
          "23-08-10 17:00",
          "23-08-10 21:00",
          "23-08-11 01:00",
          "23-08-11 05:00",
          "23-08-11 09:00",
          "23-08-11 13:00",
          "23-08-11 17:00",
          "23-08-13 21:00",
          "23-08-14 01:00",
          "23-08-14 05:00",
          "23-08-14 09:00",
          "23-08-14 13:00",
          "23-08-14 17:00",
          "23-08-14 21:00",
          "23-08-15 01:00",
          "23-08-15 05:00",
          "23-08-15 09:00",
          "23-08-15 13:00",
          "23-08-15 17:00",
          "23-08-15 21:00",
          "23-08-16 01:00",
          "23-08-16 05:00",
          "23-08-16 09:00",
          "23-08-16 13:00",
          "23-08-16 17:00",
          "23-08-16 21:00",
          "23-08-17 01:00",
          "23-08-17 05:00",
          "23-08-17 09:00",
          "23-08-17 13:00",
          "23-08-17 17:00",
          "23-08-17 21:00"
         ],
         "y": {
          "bdata": "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",
          "dtype": "f8"
         }
        },
        {
         "line": {
          "shape": "spline",
          "width": 2
         },
         "name": "MA_200",
         "type": "scatter",
         "x": [
          "22-09-23 17:00",
          "22-09-25 21:00",
          "22-09-26 01:00",
          "22-09-26 05:00",
          "22-09-26 09:00",
          "22-09-26 13:00",
          "22-09-26 17:00",
          "22-09-26 21:00",
          "22-09-27 01:00",
          "22-09-27 05:00",
          "22-09-27 09:00",
          "22-09-27 13:00",
          "22-09-27 17:00",
          "22-09-27 21:00",
          "22-09-28 01:00",
          "22-09-28 05:00",
          "22-09-28 09:00",
          "22-09-28 13:00",
          "22-09-28 17:00",
          "22-09-28 21:00",
          "22-09-29 01:00",
          "22-09-29 05:00",
          "22-09-29 09:00",
          "22-09-29 13:00",
          "22-09-29 17:00",
          "22-09-29 21:00",
          "22-09-30 01:00",
          "22-09-30 05:00",
          "22-09-30 09:00",
          "22-09-30 13:00",
          "22-09-30 17:00",
          "22-10-02 21:00",
          "22-10-03 01:00",
          "22-10-03 05:00",
          "22-10-03 09:00",
          "22-10-03 13:00",
          "22-10-03 17:00",
          "22-10-03 21:00",
          "22-10-04 01:00",
          "22-10-04 05:00",
          "22-10-04 09:00",
          "22-10-04 13:00",
          "22-10-04 17:00",
          "22-10-04 21:00",
          "22-10-05 01:00",
          "22-10-05 05:00",
          "22-10-05 09:00",
          "22-10-05 13:00",
          "22-10-05 17:00",
          "22-10-05 21:00",
          "22-10-06 01:00",
          "22-10-06 05:00",
          "22-10-06 09:00",
          "22-10-06 13:00",
          "22-10-06 17:00",
          "22-10-06 21:00",
          "22-10-07 01:00",
          "22-10-07 05:00",
          "22-10-07 09:00",
          "22-10-07 13:00",
          "22-10-07 17:00",
          "22-10-09 21:00",
          "22-10-10 01:00",
          "22-10-10 05:00",
          "22-10-10 09:00",
          "22-10-10 13:00",
          "22-10-10 17:00",
          "22-10-10 21:00",
          "22-10-11 01:00",
          "22-10-11 05:00",
          "22-10-11 09:00",
          "22-10-11 13:00",
          "22-10-11 17:00",
          "22-10-11 21:00",
          "22-10-12 01:00",
          "22-10-12 05:00",
          "22-10-12 09:00",
          "22-10-12 13:00",
          "22-10-12 17:00",
          "22-10-12 21:00",
          "22-10-13 01:00",
          "22-10-13 05:00",
          "22-10-13 09:00",
          "22-10-13 13:00",
          "22-10-13 17:00",
          "22-10-13 21:00",
          "22-10-14 01:00",
          "22-10-14 05:00",
          "22-10-14 09:00",
          "22-10-14 13:00",
          "22-10-14 17:00",
          "22-10-16 21:00",
          "22-10-17 01:00",
          "22-10-17 05:00",
          "22-10-17 09:00",
          "22-10-17 13:00",
          "22-10-17 17:00",
          "22-10-17 21:00",
          "22-10-18 01:00",
          "22-10-18 05:00",
          "22-10-18 09:00",
          "22-10-18 13:00",
          "22-10-18 17:00",
          "22-10-18 21:00",
          "22-10-19 01:00",
          "22-10-19 05:00",
          "22-10-19 09:00",
          "22-10-19 13:00",
          "22-10-19 17:00",
          "22-10-19 21:00",
          "22-10-20 01:00",
          "22-10-20 05:00",
          "22-10-20 09:00",
          "22-10-20 13:00",
          "22-10-20 17:00",
          "22-10-20 21:00",
          "22-10-21 01:00",
          "22-10-21 05:00",
          "22-10-21 09:00",
          "22-10-21 13:00",
          "22-10-21 17:00",
          "22-10-23 21:00",
          "22-10-24 01:00",
          "22-10-24 05:00",
          "22-10-24 09:00",
          "22-10-24 13:00",
          "22-10-24 17:00",
          "22-10-24 21:00",
          "22-10-25 01:00",
          "22-10-25 05:00",
          "22-10-25 09:00",
          "22-10-25 13:00",
          "22-10-25 17:00",
          "22-10-25 21:00",
          "22-10-26 01:00",
          "22-10-26 05:00",
          "22-10-26 09:00",
          "22-10-26 13:00",
          "22-10-26 17:00",
          "22-10-26 21:00",
          "22-10-27 01:00",
          "22-10-27 05:00",
          "22-10-27 09:00",
          "22-10-27 13:00",
          "22-10-27 17:00",
          "22-10-27 21:00",
          "22-10-28 01:00",
          "22-10-28 05:00",
          "22-10-28 09:00",
          "22-10-28 13:00",
          "22-10-28 17:00",
          "22-10-30 21:00",
          "22-10-31 01:00",
          "22-10-31 05:00",
          "22-10-31 09:00",
          "22-10-31 13:00",
          "22-10-31 17:00",
          "22-10-31 21:00",
          "22-11-01 01:00",
          "22-11-01 05:00",
          "22-11-01 09:00",
          "22-11-01 13:00",
          "22-11-01 17:00",
          "22-11-01 21:00",
          "22-11-02 01:00",
          "22-11-02 05:00",
          "22-11-02 09:00",
          "22-11-02 13:00",
          "22-11-02 17:00",
          "22-11-02 21:00",
          "22-11-03 01:00",
          "22-11-03 05:00",
          "22-11-03 09:00",
          "22-11-03 13:00",
          "22-11-03 17:00",
          "22-11-03 21:00",
          "22-11-04 01:00",
          "22-11-04 05:00",
          "22-11-04 09:00",
          "22-11-04 13:00",
          "22-11-04 17:00",
          "22-11-06 22:00",
          "22-11-07 02:00",
          "22-11-07 06:00",
          "22-11-07 10:00",
          "22-11-07 14:00",
          "22-11-07 18:00",
          "22-11-07 22:00",
          "22-11-08 02:00",
          "22-11-08 06:00",
          "22-11-08 10:00",
          "22-11-08 14:00",
          "22-11-08 18:00",
          "22-11-08 22:00",
          "22-11-09 02:00",
          "22-11-09 06:00",
          "22-11-09 10:00",
          "22-11-09 14:00",
          "22-11-09 18:00",
          "22-11-09 22:00",
          "22-11-10 02:00",
          "22-11-10 06:00",
          "22-11-10 10:00",
          "22-11-10 14:00",
          "22-11-10 18:00",
          "22-11-10 22:00",
          "22-11-11 02:00",
          "22-11-11 06:00",
          "22-11-11 10:00",
          "22-11-11 14:00",
          "22-11-11 18:00",
          "22-11-13 22:00",
          "22-11-14 02:00",
          "22-11-14 06:00",
          "22-11-14 10:00",
          "22-11-14 14:00",
          "22-11-14 18:00",
          "22-11-14 22:00",
          "22-11-15 02:00",
          "22-11-15 06:00",
          "22-11-15 10:00",
          "22-11-15 14:00",
          "22-11-15 18:00",
          "22-11-15 22:00",
          "22-11-16 02:00",
          "22-11-16 06:00",
          "22-11-16 10:00",
          "22-11-16 14:00",
          "22-11-16 18:00",
          "22-11-16 22:00",
          "22-11-17 02:00",
          "22-11-17 06:00",
          "22-11-17 10:00",
          "22-11-17 14:00",
          "22-11-17 18:00",
          "22-11-17 22:00",
          "22-11-18 02:00",
          "22-11-18 06:00",
          "22-11-18 10:00",
          "22-11-18 14:00",
          "22-11-18 18:00",
          "22-11-20 22:00",
          "22-11-21 02:00",
          "22-11-21 06:00",
          "22-11-21 10:00",
          "22-11-21 14:00",
          "22-11-21 18:00",
          "22-11-21 22:00",
          "22-11-22 02:00",
          "22-11-22 06:00",
          "22-11-22 10:00",
          "22-11-22 14:00",
          "22-11-22 18:00",
          "22-11-22 22:00",
          "22-11-23 02:00",
          "22-11-23 06:00",
          "22-11-23 10:00",
          "22-11-23 14:00",
          "22-11-23 18:00",
          "22-11-23 22:00",
          "22-11-24 02:00",
          "22-11-24 06:00",
          "22-11-24 10:00",
          "22-11-24 14:00",
          "22-11-24 18:00",
          "22-11-24 22:00",
          "22-11-25 02:00",
          "22-11-25 06:00",
          "22-11-25 10:00",
          "22-11-25 14:00",
          "22-11-25 18:00",
          "22-11-27 22:00",
          "22-11-28 02:00",
          "22-11-28 06:00",
          "22-11-28 10:00",
          "22-11-28 14:00",
          "22-11-28 18:00",
          "22-11-28 22:00",
          "22-11-29 02:00",
          "22-11-29 06:00",
          "22-11-29 10:00",
          "22-11-29 14:00",
          "22-11-29 18:00",
          "22-11-29 22:00",
          "22-11-30 02:00",
          "22-11-30 06:00",
          "22-11-30 10:00",
          "22-11-30 14:00",
          "22-11-30 18:00",
          "22-11-30 22:00",
          "22-12-01 02:00",
          "22-12-01 06:00",
          "22-12-01 10:00",
          "22-12-01 14:00",
          "22-12-01 18:00",
          "22-12-01 22:00",
          "22-12-02 02:00",
          "22-12-02 06:00",
          "22-12-02 10:00",
          "22-12-02 14:00",
          "22-12-02 18:00",
          "22-12-04 22:00",
          "22-12-05 02:00",
          "22-12-05 06:00",
          "22-12-05 10:00",
          "22-12-05 14:00",
          "22-12-05 18:00",
          "22-12-05 22:00",
          "22-12-06 02:00",
          "22-12-06 06:00",
          "22-12-06 10:00",
          "22-12-06 14:00",
          "22-12-06 18:00",
          "22-12-06 22:00",
          "22-12-07 02:00",
          "22-12-07 06:00",
          "22-12-07 10:00",
          "22-12-07 14:00",
          "22-12-07 18:00",
          "22-12-07 22:00",
          "22-12-08 02:00",
          "22-12-08 06:00",
          "22-12-08 10:00",
          "22-12-08 14:00",
          "22-12-08 18:00",
          "22-12-08 22:00",
          "22-12-09 02:00",
          "22-12-09 06:00",
          "22-12-09 10:00",
          "22-12-09 14:00",
          "22-12-09 18:00",
          "22-12-11 22:00",
          "22-12-12 02:00",
          "22-12-12 06:00",
          "22-12-12 10:00",
          "22-12-12 14:00",
          "22-12-12 18:00",
          "22-12-12 22:00",
          "22-12-13 02:00",
          "22-12-13 06:00",
          "22-12-13 10:00",
          "22-12-13 14:00",
          "22-12-13 18:00",
          "22-12-13 22:00",
          "22-12-14 02:00",
          "22-12-14 06:00",
          "22-12-14 10:00",
          "22-12-14 14:00",
          "22-12-14 18:00",
          "22-12-14 22:00",
          "22-12-15 02:00",
          "22-12-15 06:00",
          "22-12-15 10:00",
          "22-12-15 14:00",
          "22-12-15 18:00",
          "22-12-15 22:00",
          "22-12-16 02:00",
          "22-12-16 06:00",
          "22-12-16 10:00",
          "22-12-16 14:00",
          "22-12-16 18:00",
          "22-12-18 22:00",
          "22-12-19 02:00",
          "22-12-19 06:00",
          "22-12-19 10:00",
          "22-12-19 14:00",
          "22-12-19 18:00",
          "22-12-19 22:00",
          "22-12-20 02:00",
          "22-12-20 06:00",
          "22-12-20 10:00",
          "22-12-20 14:00",
          "22-12-20 18:00",
          "22-12-20 22:00",
          "22-12-21 02:00",
          "22-12-21 06:00",
          "22-12-21 10:00",
          "22-12-21 14:00",
          "22-12-21 18:00",
          "22-12-21 22:00",
          "22-12-22 02:00",
          "22-12-22 06:00",
          "22-12-22 10:00",
          "22-12-22 14:00",
          "22-12-22 18:00",
          "22-12-22 22:00",
          "22-12-23 02:00",
          "22-12-23 06:00",
          "22-12-23 10:00",
          "22-12-23 14:00",
          "22-12-23 18:00",
          "22-12-26 22:00",
          "22-12-27 02:00",
          "22-12-27 06:00",
          "22-12-27 10:00",
          "22-12-27 14:00",
          "22-12-27 18:00",
          "22-12-27 22:00",
          "22-12-28 02:00",
          "22-12-28 06:00",
          "22-12-28 10:00",
          "22-12-28 14:00",
          "22-12-28 18:00",
          "22-12-28 22:00",
          "22-12-29 02:00",
          "22-12-29 06:00",
          "22-12-29 10:00",
          "22-12-29 14:00",
          "22-12-29 18:00",
          "22-12-29 22:00",
          "22-12-30 02:00",
          "22-12-30 06:00",
          "22-12-30 10:00",
          "22-12-30 14:00",
          "22-12-30 18:00",
          "23-01-01 22:00",
          "23-01-02 02:00",
          "23-01-02 06:00",
          "23-01-02 10:00",
          "23-01-02 14:00",
          "23-01-02 18:00",
          "23-01-02 22:00",
          "23-01-03 02:00",
          "23-01-03 06:00",
          "23-01-03 10:00",
          "23-01-03 14:00",
          "23-01-03 18:00",
          "23-01-03 22:00",
          "23-01-04 02:00",
          "23-01-04 06:00",
          "23-01-04 10:00",
          "23-01-04 14:00",
          "23-01-04 18:00",
          "23-01-04 22:00",
          "23-01-05 02:00",
          "23-01-05 06:00",
          "23-01-05 10:00",
          "23-01-05 14:00",
          "23-01-05 18:00",
          "23-01-05 22:00",
          "23-01-06 02:00",
          "23-01-06 06:00",
          "23-01-06 10:00",
          "23-01-06 14:00",
          "23-01-06 18:00",
          "23-01-08 22:00",
          "23-01-09 02:00",
          "23-01-09 06:00",
          "23-01-09 10:00",
          "23-01-09 14:00",
          "23-01-09 18:00",
          "23-01-09 22:00",
          "23-01-10 02:00",
          "23-01-10 06:00",
          "23-01-10 10:00",
          "23-01-10 14:00",
          "23-01-10 18:00",
          "23-01-10 22:00",
          "23-01-11 02:00",
          "23-01-11 06:00",
          "23-01-11 10:00",
          "23-01-11 14:00",
          "23-01-11 18:00",
          "23-01-11 22:00",
          "23-01-12 02:00",
          "23-01-12 06:00",
          "23-01-12 10:00",
          "23-01-12 14:00",
          "23-01-12 18:00",
          "23-01-12 22:00",
          "23-01-13 02:00",
          "23-01-13 06:00",
          "23-01-13 10:00",
          "23-01-13 14:00",
          "23-01-13 18:00",
          "23-01-15 22:00",
          "23-01-16 02:00",
          "23-01-16 06:00",
          "23-01-16 10:00",
          "23-01-16 14:00",
          "23-01-16 18:00",
          "23-01-16 22:00",
          "23-01-17 02:00",
          "23-01-17 06:00",
          "23-01-17 10:00",
          "23-01-17 14:00",
          "23-01-17 18:00",
          "23-01-17 22:00",
          "23-01-18 02:00",
          "23-01-18 06:00",
          "23-01-18 10:00",
          "23-01-18 14:00",
          "23-01-18 18:00",
          "23-01-18 22:00",
          "23-01-19 02:00",
          "23-01-19 06:00",
          "23-01-19 10:00",
          "23-01-19 14:00",
          "23-01-19 18:00",
          "23-01-19 22:00",
          "23-01-20 02:00",
          "23-01-20 06:00",
          "23-01-20 10:00",
          "23-01-20 14:00",
          "23-01-20 18:00",
          "23-01-22 22:00",
          "23-01-23 02:00",
          "23-01-23 06:00",
          "23-01-23 10:00",
          "23-01-23 14:00",
          "23-01-23 18:00",
          "23-01-23 22:00",
          "23-01-24 02:00",
          "23-01-24 06:00",
          "23-01-24 10:00",
          "23-01-24 14:00",
          "23-01-24 18:00",
          "23-01-24 22:00",
          "23-01-25 02:00",
          "23-01-25 06:00",
          "23-01-25 10:00",
          "23-01-25 14:00",
          "23-01-25 18:00",
          "23-01-25 22:00",
          "23-01-26 02:00",
          "23-01-26 06:00",
          "23-01-26 10:00",
          "23-01-26 14:00",
          "23-01-26 18:00",
          "23-01-26 22:00",
          "23-01-27 02:00",
          "23-01-27 06:00",
          "23-01-27 10:00",
          "23-01-27 14:00",
          "23-01-27 18:00",
          "23-01-29 22:00",
          "23-01-30 02:00",
          "23-01-30 06:00",
          "23-01-30 10:00",
          "23-01-30 14:00",
          "23-01-30 18:00",
          "23-01-30 22:00",
          "23-01-31 02:00",
          "23-01-31 06:00",
          "23-01-31 10:00",
          "23-01-31 14:00",
          "23-01-31 18:00",
          "23-01-31 22:00",
          "23-02-01 02:00",
          "23-02-01 06:00",
          "23-02-01 10:00",
          "23-02-01 14:00",
          "23-02-01 18:00",
          "23-02-01 22:00",
          "23-02-02 02:00",
          "23-02-02 06:00",
          "23-02-02 10:00",
          "23-02-02 14:00",
          "23-02-02 18:00",
          "23-02-02 22:00",
          "23-02-03 02:00",
          "23-02-03 06:00",
          "23-02-03 10:00",
          "23-02-03 14:00",
          "23-02-03 18:00",
          "23-02-05 22:00",
          "23-02-06 02:00",
          "23-02-06 06:00",
          "23-02-06 10:00",
          "23-02-06 14:00",
          "23-02-06 18:00",
          "23-02-06 22:00",
          "23-02-07 02:00",
          "23-02-07 06:00",
          "23-02-07 10:00",
          "23-02-07 14:00",
          "23-02-07 18:00",
          "23-02-07 22:00",
          "23-02-08 02:00",
          "23-02-08 06:00",
          "23-02-08 10:00",
          "23-02-08 14:00",
          "23-02-08 18:00",
          "23-02-08 22:00",
          "23-02-09 02:00",
          "23-02-09 06:00",
          "23-02-09 10:00",
          "23-02-09 14:00",
          "23-02-09 18:00",
          "23-02-09 22:00",
          "23-02-10 02:00",
          "23-02-10 06:00",
          "23-02-10 10:00",
          "23-02-10 14:00",
          "23-02-10 18:00",
          "23-02-12 22:00",
          "23-02-13 02:00",
          "23-02-13 06:00",
          "23-02-13 10:00",
          "23-02-13 14:00",
          "23-02-13 18:00",
          "23-02-13 22:00",
          "23-02-14 02:00",
          "23-02-14 06:00",
          "23-02-14 10:00",
          "23-02-14 14:00",
          "23-02-14 18:00",
          "23-02-14 22:00",
          "23-02-15 02:00",
          "23-02-15 06:00",
          "23-02-15 10:00",
          "23-02-15 14:00",
          "23-02-15 18:00",
          "23-02-15 22:00",
          "23-02-16 02:00",
          "23-02-16 06:00",
          "23-02-16 10:00",
          "23-02-16 14:00",
          "23-02-16 18:00",
          "23-02-16 22:00",
          "23-02-17 02:00",
          "23-02-17 06:00",
          "23-02-17 10:00",
          "23-02-17 14:00",
          "23-02-17 18:00",
          "23-02-19 22:00",
          "23-02-20 02:00",
          "23-02-20 06:00",
          "23-02-20 10:00",
          "23-02-20 14:00",
          "23-02-20 18:00",
          "23-02-20 22:00",
          "23-02-21 02:00",
          "23-02-21 06:00",
          "23-02-21 10:00",
          "23-02-21 14:00",
          "23-02-21 18:00",
          "23-02-21 22:00",
          "23-02-22 02:00",
          "23-02-22 06:00",
          "23-02-22 10:00",
          "23-02-22 14:00",
          "23-02-22 18:00",
          "23-02-22 22:00",
          "23-02-23 02:00",
          "23-02-23 06:00",
          "23-02-23 10:00",
          "23-02-23 14:00",
          "23-02-23 18:00",
          "23-02-23 22:00",
          "23-02-24 02:00",
          "23-02-24 06:00",
          "23-02-24 10:00",
          "23-02-24 14:00",
          "23-02-24 18:00",
          "23-02-26 22:00",
          "23-02-27 02:00",
          "23-02-27 06:00",
          "23-02-27 10:00",
          "23-02-27 14:00",
          "23-02-27 18:00",
          "23-02-27 22:00",
          "23-02-28 02:00",
          "23-02-28 06:00",
          "23-02-28 10:00",
          "23-02-28 14:00",
          "23-02-28 18:00",
          "23-02-28 22:00",
          "23-03-01 02:00",
          "23-03-01 06:00",
          "23-03-01 10:00",
          "23-03-01 14:00",
          "23-03-01 18:00",
          "23-03-01 22:00",
          "23-03-02 02:00",
          "23-03-02 06:00",
          "23-03-02 10:00",
          "23-03-02 14:00",
          "23-03-02 18:00",
          "23-03-02 22:00",
          "23-03-03 02:00",
          "23-03-03 06:00",
          "23-03-03 10:00",
          "23-03-03 14:00",
          "23-03-03 18:00",
          "23-03-05 22:00",
          "23-03-06 02:00",
          "23-03-06 06:00",
          "23-03-06 10:00",
          "23-03-06 14:00",
          "23-03-06 18:00",
          "23-03-06 22:00",
          "23-03-07 02:00",
          "23-03-07 06:00",
          "23-03-07 10:00",
          "23-03-07 14:00",
          "23-03-07 18:00",
          "23-03-07 22:00",
          "23-03-08 02:00",
          "23-03-08 06:00",
          "23-03-08 10:00",
          "23-03-08 14:00",
          "23-03-08 18:00",
          "23-03-08 22:00",
          "23-03-09 02:00",
          "23-03-09 06:00",
          "23-03-09 10:00",
          "23-03-09 14:00",
          "23-03-09 18:00",
          "23-03-09 22:00",
          "23-03-10 02:00",
          "23-03-10 06:00",
          "23-03-10 10:00",
          "23-03-10 14:00",
          "23-03-10 18:00",
          "23-03-12 21:00",
          "23-03-13 01:00",
          "23-03-13 05:00",
          "23-03-13 09:00",
          "23-03-13 13:00",
          "23-03-13 17:00",
          "23-03-13 21:00",
          "23-03-14 01:00",
          "23-03-14 05:00",
          "23-03-14 09:00",
          "23-03-14 13:00",
          "23-03-14 17:00",
          "23-03-14 21:00",
          "23-03-15 01:00",
          "23-03-15 05:00",
          "23-03-15 09:00",
          "23-03-15 13:00",
          "23-03-15 17:00",
          "23-03-15 21:00",
          "23-03-16 01:00",
          "23-03-16 05:00",
          "23-03-16 09:00",
          "23-03-16 13:00",
          "23-03-16 17:00",
          "23-03-16 21:00",
          "23-03-17 01:00",
          "23-03-17 05:00",
          "23-03-17 09:00",
          "23-03-17 13:00",
          "23-03-17 17:00",
          "23-03-19 21:00",
          "23-03-20 01:00",
          "23-03-20 05:00",
          "23-03-20 09:00",
          "23-03-20 13:00",
          "23-03-20 17:00",
          "23-03-20 21:00",
          "23-03-21 01:00",
          "23-03-21 05:00",
          "23-03-21 09:00",
          "23-03-21 13:00",
          "23-03-21 17:00",
          "23-03-21 21:00",
          "23-03-22 01:00",
          "23-03-22 05:00",
          "23-03-22 09:00",
          "23-03-22 13:00",
          "23-03-22 17:00",
          "23-03-22 21:00",
          "23-03-23 01:00",
          "23-03-23 05:00",
          "23-03-23 09:00",
          "23-03-23 13:00",
          "23-03-23 17:00",
          "23-03-23 21:00",
          "23-03-24 01:00",
          "23-03-24 05:00",
          "23-03-24 09:00",
          "23-03-24 13:00",
          "23-03-24 17:00",
          "23-03-26 21:00",
          "23-03-27 01:00",
          "23-03-27 05:00",
          "23-03-27 09:00",
          "23-03-27 13:00",
          "23-03-27 17:00",
          "23-03-27 21:00",
          "23-03-28 01:00",
          "23-03-28 05:00",
          "23-03-28 09:00",
          "23-03-28 13:00",
          "23-03-28 17:00",
          "23-03-28 21:00",
          "23-03-29 01:00",
          "23-03-29 05:00",
          "23-03-29 09:00",
          "23-03-29 13:00",
          "23-03-29 17:00",
          "23-03-29 21:00",
          "23-03-30 01:00",
          "23-03-30 05:00",
          "23-03-30 09:00",
          "23-03-30 13:00",
          "23-03-30 17:00",
          "23-03-30 21:00",
          "23-03-31 01:00",
          "23-03-31 05:00",
          "23-03-31 09:00",
          "23-03-31 13:00",
          "23-03-31 17:00",
          "23-04-02 21:00",
          "23-04-03 01:00",
          "23-04-03 05:00",
          "23-04-03 09:00",
          "23-04-03 13:00",
          "23-04-03 17:00",
          "23-04-03 21:00",
          "23-04-04 01:00",
          "23-04-04 05:00",
          "23-04-04 09:00",
          "23-04-04 13:00",
          "23-04-04 17:00",
          "23-04-04 21:00",
          "23-04-05 01:00",
          "23-04-05 05:00",
          "23-04-05 09:00",
          "23-04-05 13:00",
          "23-04-05 17:00",
          "23-04-05 21:00",
          "23-04-06 01:00",
          "23-04-06 05:00",
          "23-04-06 09:00",
          "23-04-06 13:00",
          "23-04-06 17:00",
          "23-04-06 21:00",
          "23-04-07 01:00",
          "23-04-07 05:00",
          "23-04-07 09:00",
          "23-04-07 13:00",
          "23-04-07 17:00",
          "23-04-09 21:00",
          "23-04-10 01:00",
          "23-04-10 05:00",
          "23-04-10 09:00",
          "23-04-10 13:00",
          "23-04-10 17:00",
          "23-04-10 21:00",
          "23-04-11 01:00",
          "23-04-11 05:00",
          "23-04-11 09:00",
          "23-04-11 13:00",
          "23-04-11 17:00",
          "23-04-11 21:00",
          "23-04-12 01:00",
          "23-04-12 05:00",
          "23-04-12 09:00",
          "23-04-12 13:00",
          "23-04-12 17:00",
          "23-04-12 21:00",
          "23-04-13 01:00",
          "23-04-13 05:00",
          "23-04-13 09:00",
          "23-04-13 13:00",
          "23-04-13 17:00",
          "23-04-13 21:00",
          "23-04-14 01:00",
          "23-04-14 05:00",
          "23-04-14 09:00",
          "23-04-14 13:00",
          "23-04-14 17:00",
          "23-04-16 21:00",
          "23-04-17 01:00",
          "23-04-17 05:00",
          "23-04-17 09:00",
          "23-04-17 13:00",
          "23-04-17 17:00",
          "23-04-17 21:00",
          "23-04-18 01:00",
          "23-04-18 05:00",
          "23-04-18 09:00",
          "23-04-18 13:00",
          "23-04-18 17:00",
          "23-04-18 21:00",
          "23-04-19 01:00",
          "23-04-19 05:00",
          "23-04-19 09:00",
          "23-04-19 13:00",
          "23-04-19 17:00",
          "23-04-19 21:00",
          "23-04-20 01:00",
          "23-04-20 05:00",
          "23-04-20 09:00",
          "23-04-20 13:00",
          "23-04-20 17:00",
          "23-04-20 21:00",
          "23-04-21 01:00",
          "23-04-21 05:00",
          "23-04-21 09:00",
          "23-04-21 13:00",
          "23-04-21 17:00",
          "23-04-23 21:00",
          "23-04-24 01:00",
          "23-04-24 05:00",
          "23-04-24 09:00",
          "23-04-24 13:00",
          "23-04-24 17:00",
          "23-04-24 21:00",
          "23-04-25 01:00",
          "23-04-25 05:00",
          "23-04-25 09:00",
          "23-04-25 13:00",
          "23-04-25 17:00",
          "23-04-25 21:00",
          "23-04-26 01:00",
          "23-04-26 05:00",
          "23-04-26 09:00",
          "23-04-26 13:00",
          "23-04-26 17:00",
          "23-04-26 21:00",
          "23-04-27 01:00",
          "23-04-27 05:00",
          "23-04-27 09:00",
          "23-04-27 13:00",
          "23-04-27 17:00",
          "23-04-27 21:00",
          "23-04-28 01:00",
          "23-04-28 05:00",
          "23-04-28 09:00",
          "23-04-28 13:00",
          "23-04-28 17:00",
          "23-04-30 21:00",
          "23-05-01 01:00",
          "23-05-01 05:00",
          "23-05-01 09:00",
          "23-05-01 13:00",
          "23-05-01 17:00",
          "23-05-01 21:00",
          "23-05-02 01:00",
          "23-05-02 05:00",
          "23-05-02 09:00",
          "23-05-02 13:00",
          "23-05-02 17:00",
          "23-05-02 21:00",
          "23-05-03 01:00",
          "23-05-03 05:00",
          "23-05-03 09:00",
          "23-05-03 13:00",
          "23-05-03 17:00",
          "23-05-03 21:00",
          "23-05-04 01:00",
          "23-05-04 05:00",
          "23-05-04 09:00",
          "23-05-04 13:00",
          "23-05-04 17:00",
          "23-05-04 21:00",
          "23-05-05 01:00",
          "23-05-05 05:00",
          "23-05-05 09:00",
          "23-05-05 13:00",
          "23-05-05 17:00",
          "23-05-07 21:00",
          "23-05-08 01:00",
          "23-05-08 05:00",
          "23-05-08 09:00",
          "23-05-08 13:00",
          "23-05-08 17:00",
          "23-05-08 21:00",
          "23-05-09 01:00",
          "23-05-09 05:00",
          "23-05-09 09:00",
          "23-05-09 13:00",
          "23-05-09 17:00",
          "23-05-09 21:00",
          "23-05-10 01:00",
          "23-05-10 05:00",
          "23-05-10 09:00",
          "23-05-10 13:00",
          "23-05-10 17:00",
          "23-05-10 21:00",
          "23-05-11 01:00",
          "23-05-11 05:00",
          "23-05-11 09:00",
          "23-05-11 13:00",
          "23-05-11 17:00",
          "23-05-11 21:00",
          "23-05-12 01:00",
          "23-05-12 05:00",
          "23-05-12 09:00",
          "23-05-12 13:00",
          "23-05-12 17:00",
          "23-05-14 21:00",
          "23-05-15 01:00",
          "23-05-15 05:00",
          "23-05-15 09:00",
          "23-05-15 13:00",
          "23-05-15 17:00",
          "23-05-15 21:00",
          "23-05-16 01:00",
          "23-05-16 05:00",
          "23-05-16 09:00",
          "23-05-16 13:00",
          "23-05-16 17:00",
          "23-05-16 21:00",
          "23-05-17 01:00",
          "23-05-17 05:00",
          "23-05-17 09:00",
          "23-05-17 13:00",
          "23-05-17 17:00",
          "23-05-17 21:00",
          "23-05-18 01:00",
          "23-05-18 05:00",
          "23-05-18 09:00",
          "23-05-18 13:00",
          "23-05-18 17:00",
          "23-05-18 21:00",
          "23-05-19 01:00",
          "23-05-19 05:00",
          "23-05-19 09:00",
          "23-05-19 13:00",
          "23-05-19 17:00",
          "23-05-21 21:00",
          "23-05-22 01:00",
          "23-05-22 05:00",
          "23-05-22 09:00",
          "23-05-22 13:00",
          "23-05-22 17:00",
          "23-05-22 21:00",
          "23-05-23 01:00",
          "23-05-23 05:00",
          "23-05-23 09:00",
          "23-05-23 13:00",
          "23-05-23 17:00",
          "23-05-23 21:00",
          "23-05-24 01:00",
          "23-05-24 05:00",
          "23-05-24 09:00",
          "23-05-24 13:00",
          "23-05-24 17:00",
          "23-05-24 21:00",
          "23-05-25 01:00",
          "23-05-25 05:00",
          "23-05-25 09:00",
          "23-05-25 13:00",
          "23-05-25 17:00",
          "23-05-25 21:00",
          "23-05-26 01:00",
          "23-05-26 05:00",
          "23-05-26 09:00",
          "23-05-26 13:00",
          "23-05-26 17:00",
          "23-05-28 21:00",
          "23-05-29 01:00",
          "23-05-29 05:00",
          "23-05-29 09:00",
          "23-05-29 13:00",
          "23-05-29 17:00",
          "23-05-29 21:00",
          "23-05-30 01:00",
          "23-05-30 05:00",
          "23-05-30 09:00",
          "23-05-30 13:00",
          "23-05-30 17:00",
          "23-05-30 21:00",
          "23-05-31 01:00",
          "23-05-31 05:00",
          "23-05-31 09:00",
          "23-05-31 13:00",
          "23-05-31 17:00",
          "23-05-31 21:00",
          "23-06-01 01:00",
          "23-06-01 05:00",
          "23-06-01 09:00",
          "23-06-01 13:00",
          "23-06-01 17:00",
          "23-06-01 21:00",
          "23-06-02 01:00",
          "23-06-02 05:00",
          "23-06-02 09:00",
          "23-06-02 13:00",
          "23-06-02 17:00",
          "23-06-04 21:00",
          "23-06-05 01:00",
          "23-06-05 05:00",
          "23-06-05 09:00",
          "23-06-05 13:00",
          "23-06-05 17:00",
          "23-06-05 21:00",
          "23-06-06 01:00",
          "23-06-06 05:00",
          "23-06-06 09:00",
          "23-06-06 13:00",
          "23-06-06 17:00",
          "23-06-06 21:00",
          "23-06-07 01:00",
          "23-06-07 05:00",
          "23-06-07 09:00",
          "23-06-07 13:00",
          "23-06-07 17:00",
          "23-06-07 21:00",
          "23-06-08 01:00",
          "23-06-08 05:00",
          "23-06-08 09:00",
          "23-06-08 13:00",
          "23-06-08 17:00",
          "23-06-08 21:00",
          "23-06-09 01:00",
          "23-06-09 05:00",
          "23-06-09 09:00",
          "23-06-09 13:00",
          "23-06-09 17:00",
          "23-06-11 21:00",
          "23-06-12 01:00",
          "23-06-12 05:00",
          "23-06-12 09:00",
          "23-06-12 13:00",
          "23-06-12 17:00",
          "23-06-12 21:00",
          "23-06-13 01:00",
          "23-06-13 05:00",
          "23-06-13 09:00",
          "23-06-13 13:00",
          "23-06-13 17:00",
          "23-06-13 21:00",
          "23-06-14 01:00",
          "23-06-14 05:00",
          "23-06-14 09:00",
          "23-06-14 13:00",
          "23-06-14 17:00",
          "23-06-14 21:00",
          "23-06-15 01:00",
          "23-06-15 05:00",
          "23-06-15 09:00",
          "23-06-15 13:00",
          "23-06-15 17:00",
          "23-06-15 21:00",
          "23-06-16 01:00",
          "23-06-16 05:00",
          "23-06-16 09:00",
          "23-06-16 13:00",
          "23-06-16 17:00",
          "23-06-18 21:00",
          "23-06-19 01:00",
          "23-06-19 05:00",
          "23-06-19 09:00",
          "23-06-19 13:00",
          "23-06-19 17:00",
          "23-06-19 21:00",
          "23-06-20 01:00",
          "23-06-20 05:00",
          "23-06-20 09:00",
          "23-06-20 13:00",
          "23-06-20 17:00",
          "23-06-20 21:00",
          "23-06-21 01:00",
          "23-06-21 05:00",
          "23-06-21 09:00",
          "23-06-21 13:00",
          "23-06-21 17:00",
          "23-06-21 21:00",
          "23-06-22 01:00",
          "23-06-22 05:00",
          "23-06-22 09:00",
          "23-06-22 13:00",
          "23-06-22 17:00",
          "23-06-22 21:00",
          "23-06-23 01:00",
          "23-06-23 05:00",
          "23-06-23 09:00",
          "23-06-23 13:00",
          "23-06-23 17:00",
          "23-06-25 21:00",
          "23-06-26 01:00",
          "23-06-26 05:00",
          "23-06-26 09:00",
          "23-06-26 13:00",
          "23-06-26 17:00",
          "23-06-26 21:00",
          "23-06-27 01:00",
          "23-06-27 05:00",
          "23-06-27 09:00",
          "23-06-27 13:00",
          "23-06-27 17:00",
          "23-06-27 21:00",
          "23-06-28 01:00",
          "23-06-28 05:00",
          "23-06-28 09:00",
          "23-06-28 13:00",
          "23-06-28 17:00",
          "23-06-28 21:00",
          "23-06-29 01:00",
          "23-06-29 05:00",
          "23-06-29 09:00",
          "23-06-29 13:00",
          "23-06-29 17:00",
          "23-06-29 21:00",
          "23-06-30 01:00",
          "23-06-30 05:00",
          "23-06-30 09:00",
          "23-06-30 13:00",
          "23-06-30 17:00",
          "23-07-02 21:00",
          "23-07-03 01:00",
          "23-07-03 05:00",
          "23-07-03 09:00",
          "23-07-03 13:00",
          "23-07-03 17:00",
          "23-07-03 21:00",
          "23-07-04 01:00",
          "23-07-04 05:00",
          "23-07-04 09:00",
          "23-07-04 13:00",
          "23-07-04 17:00",
          "23-07-04 21:00",
          "23-07-05 01:00",
          "23-07-05 05:00",
          "23-07-05 09:00",
          "23-07-05 13:00",
          "23-07-05 17:00",
          "23-07-05 21:00",
          "23-07-06 01:00",
          "23-07-06 05:00",
          "23-07-06 09:00",
          "23-07-06 13:00",
          "23-07-06 17:00",
          "23-07-06 21:00",
          "23-07-07 01:00",
          "23-07-07 05:00",
          "23-07-07 09:00",
          "23-07-07 13:00",
          "23-07-07 17:00",
          "23-07-09 21:00",
          "23-07-10 01:00",
          "23-07-10 05:00",
          "23-07-10 09:00",
          "23-07-10 13:00",
          "23-07-10 17:00",
          "23-07-10 21:00",
          "23-07-11 01:00",
          "23-07-11 05:00",
          "23-07-11 09:00",
          "23-07-11 13:00",
          "23-07-11 17:00",
          "23-07-11 21:00",
          "23-07-12 01:00",
          "23-07-12 05:00",
          "23-07-12 09:00",
          "23-07-12 13:00",
          "23-07-12 17:00",
          "23-07-12 21:00",
          "23-07-13 01:00",
          "23-07-13 05:00",
          "23-07-13 09:00",
          "23-07-13 13:00",
          "23-07-13 17:00",
          "23-07-13 21:00",
          "23-07-14 01:00",
          "23-07-14 05:00",
          "23-07-14 09:00",
          "23-07-14 13:00",
          "23-07-14 17:00",
          "23-07-16 21:00",
          "23-07-17 01:00",
          "23-07-17 05:00",
          "23-07-17 09:00",
          "23-07-17 13:00",
          "23-07-17 17:00",
          "23-07-17 21:00",
          "23-07-18 01:00",
          "23-07-18 05:00",
          "23-07-18 09:00",
          "23-07-18 13:00",
          "23-07-18 17:00",
          "23-07-18 21:00",
          "23-07-19 01:00",
          "23-07-19 05:00",
          "23-07-19 09:00",
          "23-07-19 13:00",
          "23-07-19 17:00",
          "23-07-19 21:00",
          "23-07-20 01:00",
          "23-07-20 05:00",
          "23-07-20 09:00",
          "23-07-20 13:00",
          "23-07-20 17:00",
          "23-07-20 21:00",
          "23-07-21 01:00",
          "23-07-21 05:00",
          "23-07-21 09:00",
          "23-07-21 13:00",
          "23-07-21 17:00",
          "23-07-23 21:00",
          "23-07-24 01:00",
          "23-07-24 05:00",
          "23-07-24 09:00",
          "23-07-24 13:00",
          "23-07-24 17:00",
          "23-07-24 21:00",
          "23-07-25 01:00",
          "23-07-25 05:00",
          "23-07-25 09:00",
          "23-07-25 13:00",
          "23-07-25 17:00",
          "23-07-25 21:00",
          "23-07-26 01:00",
          "23-07-26 05:00",
          "23-07-26 09:00",
          "23-07-26 13:00",
          "23-07-26 17:00",
          "23-07-26 21:00",
          "23-07-27 01:00",
          "23-07-27 05:00",
          "23-07-27 09:00",
          "23-07-27 13:00",
          "23-07-27 17:00",
          "23-07-27 21:00",
          "23-07-28 01:00",
          "23-07-28 05:00",
          "23-07-28 09:00",
          "23-07-28 13:00",
          "23-07-28 17:00",
          "23-07-30 21:00",
          "23-07-31 01:00",
          "23-07-31 05:00",
          "23-07-31 09:00",
          "23-07-31 13:00",
          "23-07-31 17:00",
          "23-07-31 21:00",
          "23-08-01 01:00",
          "23-08-01 05:00",
          "23-08-01 09:00",
          "23-08-01 13:00",
          "23-08-01 17:00",
          "23-08-01 21:00",
          "23-08-02 01:00",
          "23-08-02 05:00",
          "23-08-02 09:00",
          "23-08-02 13:00",
          "23-08-02 17:00",
          "23-08-02 21:00",
          "23-08-03 01:00",
          "23-08-03 05:00",
          "23-08-03 09:00",
          "23-08-03 13:00",
          "23-08-03 17:00",
          "23-08-03 21:00",
          "23-08-04 01:00",
          "23-08-04 05:00",
          "23-08-04 09:00",
          "23-08-04 13:00",
          "23-08-04 17:00",
          "23-08-06 21:00",
          "23-08-07 01:00",
          "23-08-07 05:00",
          "23-08-07 09:00",
          "23-08-07 13:00",
          "23-08-07 17:00",
          "23-08-07 21:00",
          "23-08-08 01:00",
          "23-08-08 05:00",
          "23-08-08 09:00",
          "23-08-08 13:00",
          "23-08-08 17:00",
          "23-08-08 21:00",
          "23-08-09 01:00",
          "23-08-09 05:00",
          "23-08-09 09:00",
          "23-08-09 13:00",
          "23-08-09 17:00",
          "23-08-09 21:00",
          "23-08-10 01:00",
          "23-08-10 05:00",
          "23-08-10 09:00",
          "23-08-10 13:00",
          "23-08-10 17:00",
          "23-08-10 21:00",
          "23-08-11 01:00",
          "23-08-11 05:00",
          "23-08-11 09:00",
          "23-08-11 13:00",
          "23-08-11 17:00",
          "23-08-13 21:00",
          "23-08-14 01:00",
          "23-08-14 05:00",
          "23-08-14 09:00",
          "23-08-14 13:00",
          "23-08-14 17:00",
          "23-08-14 21:00",
          "23-08-15 01:00",
          "23-08-15 05:00",
          "23-08-15 09:00",
          "23-08-15 13:00",
          "23-08-15 17:00",
          "23-08-15 21:00",
          "23-08-16 01:00",
          "23-08-16 05:00",
          "23-08-16 09:00",
          "23-08-16 13:00",
          "23-08-16 17:00",
          "23-08-16 21:00",
          "23-08-17 01:00",
          "23-08-17 05:00",
          "23-08-17 09:00",
          "23-08-17 13:00",
          "23-08-17 17:00",
          "23-08-17 21:00"
         ],
         "y": {
          "bdata": "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",
          "dtype": "f8"
         }
        }
       ],
       "layout": {
        "font": {
         "color": "#e1e1e1",
         "size": 8
        },
        "height": 400,
        "margin": {
         "b": 10,
         "l": 10,
         "r": 10,
         "t": 10
        },
        "paper_bgcolor": "#2c303c",
        "plot_bgcolor": "#2c303c",
        "template": {
         "data": {
          "bar": [
           {
            "error_x": {
             "color": "#2a3f5f"
            },
            "error_y": {
             "color": "#2a3f5f"
            },
            "marker": {
             "line": {
              "color": "#E5ECF6",
              "width": 0.5
             },
             "pattern": {
              "fillmode": "overlay",
              "size": 10,
              "solidity": 0.2
             }
            },
            "type": "bar"
           }
          ],
          "barpolar": [
           {
            "marker": {
             "line": {
              "color": "#E5ECF6",
              "width": 0.5
             },
             "pattern": {
              "fillmode": "overlay",
              "size": 10,
              "solidity": 0.2
             }
            },
            "type": "barpolar"
           }
          ],
          "carpet": [
           {
            "aaxis": {
             "endlinecolor": "#2a3f5f",
             "gridcolor": "white",
             "linecolor": "white",
             "minorgridcolor": "white",
             "startlinecolor": "#2a3f5f"
            },
            "baxis": {
             "endlinecolor": "#2a3f5f",
             "gridcolor": "white",
             "linecolor": "white",
             "minorgridcolor": "white",
             "startlinecolor": "#2a3f5f"
            },
            "type": "carpet"
           }
          ],
          "choropleth": [
           {
            "colorbar": {
             "outlinewidth": 0,
             "ticks": ""
            },
            "type": "choropleth"
           }
          ],
          "contour": [
           {
            "colorbar": {
             "outlinewidth": 0,
             "ticks": ""
            },
            "colorscale": [
             [
              0,
              "#0d0887"
             ],
             [
              0.1111111111111111,
              "#46039f"
             ],
             [
              0.2222222222222222,
              "#7201a8"
             ],
             [
              0.3333333333333333,
              "#9c179e"
             ],
             [
              0.4444444444444444,
              "#bd3786"
             ],
             [
              0.5555555555555556,
              "#d8576b"
             ],
             [
              0.6666666666666666,
              "#ed7953"
             ],
             [
              0.7777777777777778,
              "#fb9f3a"
             ],
             [
              0.8888888888888888,
              "#fdca26"
             ],
             [
              1,
              "#f0f921"
             ]
            ],
            "type": "contour"
           }
          ],
          "contourcarpet": [
           {
            "colorbar": {
             "outlinewidth": 0,
             "ticks": ""
            },
            "type": "contourcarpet"
           }
          ],
          "heatmap": [
           {
            "colorbar": {
             "outlinewidth": 0,
             "ticks": ""
            },
            "colorscale": [
             [
              0,
              "#0d0887"
             ],
             [
              0.1111111111111111,
              "#46039f"
             ],
             [
              0.2222222222222222,
              "#7201a8"
             ],
             [
              0.3333333333333333,
              "#9c179e"
             ],
             [
              0.4444444444444444,
              "#bd3786"
             ],
             [
              0.5555555555555556,
              "#d8576b"
             ],
             [
              0.6666666666666666,
              "#ed7953"
             ],
             [
              0.7777777777777778,
              "#fb9f3a"
             ],
             [
              0.8888888888888888,
              "#fdca26"
             ],
             [
              1,
              "#f0f921"
             ]
            ],
            "type": "heatmap"
           }
          ],
          "histogram": [
           {
            "marker": {
             "pattern": {
              "fillmode": "overlay",
              "size": 10,
              "solidity": 0.2
             }
            },
            "type": "histogram"
           }
          ],
          "histogram2d": [
           {
            "colorbar": {
             "outlinewidth": 0,
             "ticks": ""
            },
            "colorscale": [
             [
              0,
              "#0d0887"
             ],
             [
              0.1111111111111111,
              "#46039f"
             ],
             [
              0.2222222222222222,
              "#7201a8"
             ],
             [
              0.3333333333333333,
              "#9c179e"
             ],
             [
              0.4444444444444444,
              "#bd3786"
             ],
             [
              0.5555555555555556,
              "#d8576b"
             ],
             [
              0.6666666666666666,
              "#ed7953"
             ],
             [
              0.7777777777777778,
              "#fb9f3a"
             ],
             [
              0.8888888888888888,
              "#fdca26"
             ],
             [
              1,
              "#f0f921"
             ]
            ],
            "type": "histogram2d"
           }
          ],
          "histogram2dcontour": [
           {
            "colorbar": {
             "outlinewidth": 0,
             "ticks": ""
            },
            "colorscale": [
             [
              0,
              "#0d0887"
             ],
             [
              0.1111111111111111,
              "#46039f"
             ],
             [
              0.2222222222222222,
              "#7201a8"
             ],
             [
              0.3333333333333333,
              "#9c179e"
             ],
             [
              0.4444444444444444,
              "#bd3786"
             ],
             [
              0.5555555555555556,
              "#d8576b"
             ],
             [
              0.6666666666666666,
              "#ed7953"
             ],
             [
              0.7777777777777778,
              "#fb9f3a"
             ],
             [
              0.8888888888888888,
              "#fdca26"
             ],
             [
              1,
              "#f0f921"
             ]
            ],
            "type": "histogram2dcontour"
           }
          ],
          "mesh3d": [
           {
            "colorbar": {
             "outlinewidth": 0,
             "ticks": ""
            },
            "type": "mesh3d"
           }
          ],
          "parcoords": [
           {
            "line": {
             "colorbar": {
              "outlinewidth": 0,
              "ticks": ""
             }
            },
            "type": "parcoords"
           }
          ],
          "pie": [
           {
            "automargin": true,
            "type": "pie"
           }
          ],
          "scatter": [
           {
            "fillpattern": {
             "fillmode": "overlay",
             "size": 10,
             "solidity": 0.2
            },
            "type": "scatter"
           }
          ],
          "scatter3d": [
           {
            "line": {
             "colorbar": {
              "outlinewidth": 0,
              "ticks": ""
             }
            },
            "marker": {
             "colorbar": {
              "outlinewidth": 0,
              "ticks": ""
             }
            },
            "type": "scatter3d"
           }
          ],
          "scattercarpet": [
           {
            "marker": {
             "colorbar": {
              "outlinewidth": 0,
              "ticks": ""
             }
            },
            "type": "scattercarpet"
           }
          ],
          "scattergeo": [
           {
            "marker": {
             "colorbar": {
              "outlinewidth": 0,
              "ticks": ""
             }
            },
            "type": "scattergeo"
           }
          ],
          "scattergl": [
           {
            "marker": {
             "colorbar": {
              "outlinewidth": 0,
              "ticks": ""
             }
            },
            "type": "scattergl"
           }
          ],
          "scattermap": [
           {
            "marker": {
             "colorbar": {
              "outlinewidth": 0,
              "ticks": ""
             }
            },
            "type": "scattermap"
           }
          ],
          "scattermapbox": [
           {
            "marker": {
             "colorbar": {
              "outlinewidth": 0,
              "ticks": ""
             }
            },
            "type": "scattermapbox"
           }
          ],
          "scatterpolar": [
           {
            "marker": {
             "colorbar": {
              "outlinewidth": 0,
              "ticks": ""
             }
            },
            "type": "scatterpolar"
           }
          ],
          "scatterpolargl": [
           {
            "marker": {
             "colorbar": {
              "outlinewidth": 0,
              "ticks": ""
             }
            },
            "type": "scatterpolargl"
           }
          ],
          "scatterternary": [
           {
            "marker": {
             "colorbar": {
              "outlinewidth": 0,
              "ticks": ""
             }
            },
            "type": "scatterternary"
           }
          ],
          "surface": [
           {
            "colorbar": {
             "outlinewidth": 0,
             "ticks": ""
            },
            "colorscale": [
             [
              0,
              "#0d0887"
             ],
             [
              0.1111111111111111,
              "#46039f"
             ],
             [
              0.2222222222222222,
              "#7201a8"
             ],
             [
              0.3333333333333333,
              "#9c179e"
             ],
             [
              0.4444444444444444,
              "#bd3786"
             ],
             [
              0.5555555555555556,
              "#d8576b"
             ],
             [
              0.6666666666666666,
              "#ed7953"
             ],
             [
              0.7777777777777778,
              "#fb9f3a"
             ],
             [
              0.8888888888888888,
              "#fdca26"
             ],
             [
              1,
              "#f0f921"
             ]
            ],
            "type": "surface"
           }
          ],
          "table": [
           {
            "cells": {
             "fill": {
              "color": "#EBF0F8"
             },
             "line": {
              "color": "white"
             }
            },
            "header": {
             "fill": {
              "color": "#C8D4E3"
             },
             "line": {
              "color": "white"
             }
            },
            "type": "table"
           }
          ]
         },
         "layout": {
          "annotationdefaults": {
           "arrowcolor": "#2a3f5f",
           "arrowhead": 0,
           "arrowwidth": 1
          },
          "autotypenumbers": "strict",
          "coloraxis": {
           "colorbar": {
            "outlinewidth": 0,
            "ticks": ""
           }
          },
          "colorscale": {
           "diverging": [
            [
             0,
             "#8e0152"
            ],
            [
             0.1,
             "#c51b7d"
            ],
            [
             0.2,
             "#de77ae"
            ],
            [
             0.3,
             "#f1b6da"
            ],
            [
             0.4,
             "#fde0ef"
            ],
            [
             0.5,
             "#f7f7f7"
            ],
            [
             0.6,
             "#e6f5d0"
            ],
            [
             0.7,
             "#b8e186"
            ],
            [
             0.8,
             "#7fbc41"
            ],
            [
             0.9,
             "#4d9221"
            ],
            [
             1,
             "#276419"
            ]
           ],
           "sequential": [
            [
             0,
             "#0d0887"
            ],
            [
             0.1111111111111111,
             "#46039f"
            ],
            [
             0.2222222222222222,
             "#7201a8"
            ],
            [
             0.3333333333333333,
             "#9c179e"
            ],
            [
             0.4444444444444444,
             "#bd3786"
            ],
            [
             0.5555555555555556,
             "#d8576b"
            ],
            [
             0.6666666666666666,
             "#ed7953"
            ],
            [
             0.7777777777777778,
             "#fb9f3a"
            ],
            [
             0.8888888888888888,
             "#fdca26"
            ],
            [
             1,
             "#f0f921"
            ]
           ],
           "sequentialminus": [
            [
             0,
             "#0d0887"
            ],
            [
             0.1111111111111111,
             "#46039f"
            ],
            [
             0.2222222222222222,
             "#7201a8"
            ],
            [
             0.3333333333333333,
             "#9c179e"
            ],
            [
             0.4444444444444444,
             "#bd3786"
            ],
            [
             0.5555555555555556,
             "#d8576b"
            ],
            [
             0.6666666666666666,
             "#ed7953"
            ],
            [
             0.7777777777777778,
             "#fb9f3a"
            ],
            [
             0.8888888888888888,
             "#fdca26"
            ],
            [
             1,
             "#f0f921"
            ]
           ]
          },
          "colorway": [
           "#636efa",
           "#EF553B",
           "#00cc96",
           "#ab63fa",
           "#FFA15A",
           "#19d3f3",
           "#FF6692",
           "#B6E880",
           "#FF97FF",
           "#FECB52"
          ],
          "font": {
           "color": "#2a3f5f"
          },
          "geo": {
           "bgcolor": "white",
           "lakecolor": "white",
           "landcolor": "#E5ECF6",
           "showlakes": true,
           "showland": true,
           "subunitcolor": "white"
          },
          "hoverlabel": {
           "align": "left"
          },
          "hovermode": "closest",
          "mapbox": {
           "style": "light"
          },
          "paper_bgcolor": "white",
          "plot_bgcolor": "#E5ECF6",
          "polar": {
           "angularaxis": {
            "gridcolor": "white",
            "linecolor": "white",
            "ticks": ""
           },
           "bgcolor": "#E5ECF6",
           "radialaxis": {
            "gridcolor": "white",
            "linecolor": "white",
            "ticks": ""
           }
          },
          "scene": {
           "xaxis": {
            "backgroundcolor": "#E5ECF6",
            "gridcolor": "white",
            "gridwidth": 2,
            "linecolor": "white",
            "showbackground": true,
            "ticks": "",
            "zerolinecolor": "white"
           },
           "yaxis": {
            "backgroundcolor": "#E5ECF6",
            "gridcolor": "white",
            "gridwidth": 2,
            "linecolor": "white",
            "showbackground": true,
            "ticks": "",
            "zerolinecolor": "white"
           },
           "zaxis": {
            "backgroundcolor": "#E5ECF6",
            "gridcolor": "white",
            "gridwidth": 2,
            "linecolor": "white",
            "showbackground": true,
            "ticks": "",
            "zerolinecolor": "white"
           }
          },
          "shapedefaults": {
           "line": {
            "color": "#2a3f5f"
           }
          },
          "ternary": {
           "aaxis": {
            "gridcolor": "white",
            "linecolor": "white",
            "ticks": ""
           },
           "baxis": {
            "gridcolor": "white",
            "linecolor": "white",
            "ticks": ""
           },
           "bgcolor": "#E5ECF6",
           "caxis": {
            "gridcolor": "white",
            "linecolor": "white",
            "ticks": ""
           }
          },
          "title": {
           "x": 0.05
          },
          "xaxis": {
           "automargin": true,
           "gridcolor": "white",
           "linecolor": "white",
           "ticks": "",
           "title": {
            "standoff": 15
           },
           "zerolinecolor": "white",
           "zerolinewidth": 2
          },
          "yaxis": {
           "automargin": true,
           "gridcolor": "white",
           "linecolor": "white",
           "ticks": "",
           "title": {
            "standoff": 15
           },
           "zerolinecolor": "white",
           "zerolinewidth": 2
          }
         }
        },
        "width": 900,
        "xaxis": {
         "gridcolor": "#1F292F",
         "nticks": 5,
         "rangeslider": {
          "visible": false
         }
        },
        "yaxis": {
         "gridcolor": "#1f292f"
        }
       }
      }
     },
     "metadata": {},
     "output_type": "display_data"
    }
   ],
   "source": [
    "cp = CandlePlot(df_an.iloc[100:1500])\n",
    "cp.show_plot(line_traces=[MA_S, MA_L])"
   ]
  },
  {
   "cell_type": "code",
   "execution_count": 50,
   "metadata": {},
   "outputs": [],
   "source": [
    "ic.LoadInstruments(\"../data\")   "
   ]
  },
  {
   "cell_type": "code",
   "execution_count": 51,
   "metadata": {},
   "outputs": [
    {
     "data": {
      "text/plain": [
       "{'name': 'EUR_USD', 'ins_type': 'CURRENCY', 'displayName': 'EUR/USD', 'pipLocation': 0.0001, 'tradeUnitsPrecision': 0, 'marginRate': 0.03333333333333}"
      ]
     },
     "execution_count": 51,
     "metadata": {},
     "output_type": "execute_result"
    }
   ],
   "source": [
    "ic.instruments_dict[pair]"
   ]
  },
  {
   "cell_type": "code",
   "execution_count": 77,
   "metadata": {},
   "outputs": [],
   "source": [
    "ins_data = ic.instruments_dict[pair] "
   ]
  },
  {
   "cell_type": "code",
   "execution_count": 78,
   "metadata": {},
   "outputs": [
    {
     "data": {
      "text/html": [
       "<div>\n",
       "<style scoped>\n",
       "    .dataframe tbody tr th:only-of-type {\n",
       "        vertical-align: middle;\n",
       "    }\n",
       "\n",
       "    .dataframe tbody tr th {\n",
       "        vertical-align: top;\n",
       "    }\n",
       "\n",
       "    .dataframe thead th {\n",
       "        text-align: right;\n",
       "    }\n",
       "</style>\n",
       "<table border=\"1\" class=\"dataframe\">\n",
       "  <thead>\n",
       "    <tr style=\"text-align: right;\">\n",
       "      <th></th>\n",
       "      <th>time</th>\n",
       "      <th>mid_o</th>\n",
       "      <th>mid_h</th>\n",
       "      <th>mid_l</th>\n",
       "      <th>mid_c</th>\n",
       "      <th>MA_50</th>\n",
       "      <th>MA_200</th>\n",
       "      <th>DELTA</th>\n",
       "      <th>DELTA_PREV</th>\n",
       "      <th>TRADE</th>\n",
       "    </tr>\n",
       "  </thead>\n",
       "  <tbody>\n",
       "    <tr>\n",
       "      <th>238</th>\n",
       "      <td>2022-10-26 17:00:00+00:00</td>\n",
       "      <td>1.00765</td>\n",
       "      <td>1.00888</td>\n",
       "      <td>1.00670</td>\n",
       "      <td>1.00852</td>\n",
       "      <td>0.984370</td>\n",
       "      <td>0.984238</td>\n",
       "      <td>0.000132</td>\n",
       "      <td>-0.000472</td>\n",
       "      <td>1</td>\n",
       "    </tr>\n",
       "    <tr>\n",
       "      <th>702</th>\n",
       "      <td>2023-02-14 02:00:00+00:00</td>\n",
       "      <td>1.07286</td>\n",
       "      <td>1.07400</td>\n",
       "      <td>1.07255</td>\n",
       "      <td>1.07384</td>\n",
       "      <td>1.077191</td>\n",
       "      <td>1.077214</td>\n",
       "      <td>-0.000023</td>\n",
       "      <td>0.000543</td>\n",
       "      <td>-1</td>\n",
       "    </tr>\n",
       "    <tr>\n",
       "      <th>856</th>\n",
       "      <td>2023-03-21 17:00:00+00:00</td>\n",
       "      <td>1.07680</td>\n",
       "      <td>1.07745</td>\n",
       "      <td>1.07564</td>\n",
       "      <td>1.07694</td>\n",
       "      <td>1.066944</td>\n",
       "      <td>1.066899</td>\n",
       "      <td>0.000045</td>\n",
       "      <td>-0.000433</td>\n",
       "      <td>1</td>\n",
       "    </tr>\n",
       "    <tr>\n",
       "      <th>1093</th>\n",
       "      <td>2023-05-16 05:00:00+00:00</td>\n",
       "      <td>1.08830</td>\n",
       "      <td>1.08978</td>\n",
       "      <td>1.08629</td>\n",
       "      <td>1.08914</td>\n",
       "      <td>1.096063</td>\n",
       "      <td>1.096156</td>\n",
       "      <td>-0.000093</td>\n",
       "      <td>0.000303</td>\n",
       "      <td>-1</td>\n",
       "    </tr>\n",
       "    <tr>\n",
       "      <th>1241</th>\n",
       "      <td>2023-06-19 21:00:00+00:00</td>\n",
       "      <td>1.09226</td>\n",
       "      <td>1.09264</td>\n",
       "      <td>1.09170</td>\n",
       "      <td>1.09204</td>\n",
       "      <td>1.082657</td>\n",
       "      <td>1.082548</td>\n",
       "      <td>0.000109</td>\n",
       "      <td>-0.000409</td>\n",
       "      <td>1</td>\n",
       "    </tr>\n",
       "  </tbody>\n",
       "</table>\n",
       "</div>"
      ],
      "text/plain": [
       "                          time    mid_o    mid_h    mid_l    mid_c     MA_50  \\\n",
       "238  2022-10-26 17:00:00+00:00  1.00765  1.00888  1.00670  1.00852  0.984370   \n",
       "702  2023-02-14 02:00:00+00:00  1.07286  1.07400  1.07255  1.07384  1.077191   \n",
       "856  2023-03-21 17:00:00+00:00  1.07680  1.07745  1.07564  1.07694  1.066944   \n",
       "1093 2023-05-16 05:00:00+00:00  1.08830  1.08978  1.08629  1.08914  1.096063   \n",
       "1241 2023-06-19 21:00:00+00:00  1.09226  1.09264  1.09170  1.09204  1.082657   \n",
       "\n",
       "        MA_200     DELTA  DELTA_PREV  TRADE  \n",
       "238   0.984238  0.000132   -0.000472      1  \n",
       "702   1.077214 -0.000023    0.000543     -1  \n",
       "856   1.066899  0.000045   -0.000433      1  \n",
       "1093  1.096156 -0.000093    0.000303     -1  \n",
       "1241  1.082548  0.000109   -0.000409      1  "
      ]
     },
     "execution_count": 78,
     "metadata": {},
     "output_type": "execute_result"
    }
   ],
   "source": [
    "df_trades.head()"
   ]
  },
  {
   "cell_type": "code",
   "execution_count": 80,
   "metadata": {},
   "outputs": [],
   "source": [
    "df_trades['DIFF'] = df_trades.mid_c.diff().shift(-1)\n",
    "df_trades.fillna(0, inplace=True)"
   ]
  },
  {
   "cell_type": "code",
   "execution_count": 81,
   "metadata": {},
   "outputs": [],
   "source": [
    "df_trades['GAIN'] = df_trades['DIFF'] / ins_data.pipLocation\n",
    "df_trades['GAIN'] = df_trades['GAIN'] * df_trades['TRADE']"
   ]
  },
  {
   "cell_type": "code",
   "execution_count": 82,
   "metadata": {},
   "outputs": [
    {
     "data": {
      "text/plain": [
       "np.float64(1680.600000000003)"
      ]
     },
     "execution_count": 82,
     "metadata": {},
     "output_type": "execute_result"
    }
   ],
   "source": [
    "df_trades.GAIN.sum()"
   ]
  },
  {
   "cell_type": "code",
   "execution_count": 83,
   "metadata": {},
   "outputs": [],
   "source": [
    "df_trades['GAIN_C'] = df_trades['GAIN'].cumsum()"
   ]
  },
  {
   "cell_type": "code",
   "execution_count": 84,
   "metadata": {},
   "outputs": [
    {
     "data": {
      "application/vnd.plotly.v1+json": {
       "config": {
        "plotlyServerURL": "https://plot.ly"
       },
       "data": [],
       "layout": {
        "font": {
         "color": "#e1e1e1",
         "size": 8
        },
        "height": 400,
        "margin": {
         "b": 10,
         "l": 10,
         "r": 10,
         "t": 10
        },
        "paper_bgcolor": "#2c303c",
        "plot_bgcolor": "#2c303c",
        "template": {
         "data": {
          "bar": [
           {
            "error_x": {
             "color": "#2a3f5f"
            },
            "error_y": {
             "color": "#2a3f5f"
            },
            "marker": {
             "line": {
              "color": "#E5ECF6",
              "width": 0.5
             },
             "pattern": {
              "fillmode": "overlay",
              "size": 10,
              "solidity": 0.2
             }
            },
            "type": "bar"
           }
          ],
          "barpolar": [
           {
            "marker": {
             "line": {
              "color": "#E5ECF6",
              "width": 0.5
             },
             "pattern": {
              "fillmode": "overlay",
              "size": 10,
              "solidity": 0.2
             }
            },
            "type": "barpolar"
           }
          ],
          "carpet": [
           {
            "aaxis": {
             "endlinecolor": "#2a3f5f",
             "gridcolor": "white",
             "linecolor": "white",
             "minorgridcolor": "white",
             "startlinecolor": "#2a3f5f"
            },
            "baxis": {
             "endlinecolor": "#2a3f5f",
             "gridcolor": "white",
             "linecolor": "white",
             "minorgridcolor": "white",
             "startlinecolor": "#2a3f5f"
            },
            "type": "carpet"
           }
          ],
          "choropleth": [
           {
            "colorbar": {
             "outlinewidth": 0,
             "ticks": ""
            },
            "type": "choropleth"
           }
          ],
          "contour": [
           {
            "colorbar": {
             "outlinewidth": 0,
             "ticks": ""
            },
            "colorscale": [
             [
              0,
              "#0d0887"
             ],
             [
              0.1111111111111111,
              "#46039f"
             ],
             [
              0.2222222222222222,
              "#7201a8"
             ],
             [
              0.3333333333333333,
              "#9c179e"
             ],
             [
              0.4444444444444444,
              "#bd3786"
             ],
             [
              0.5555555555555556,
              "#d8576b"
             ],
             [
              0.6666666666666666,
              "#ed7953"
             ],
             [
              0.7777777777777778,
              "#fb9f3a"
             ],
             [
              0.8888888888888888,
              "#fdca26"
             ],
             [
              1,
              "#f0f921"
             ]
            ],
            "type": "contour"
           }
          ],
          "contourcarpet": [
           {
            "colorbar": {
             "outlinewidth": 0,
             "ticks": ""
            },
            "type": "contourcarpet"
           }
          ],
          "heatmap": [
           {
            "colorbar": {
             "outlinewidth": 0,
             "ticks": ""
            },
            "colorscale": [
             [
              0,
              "#0d0887"
             ],
             [
              0.1111111111111111,
              "#46039f"
             ],
             [
              0.2222222222222222,
              "#7201a8"
             ],
             [
              0.3333333333333333,
              "#9c179e"
             ],
             [
              0.4444444444444444,
              "#bd3786"
             ],
             [
              0.5555555555555556,
              "#d8576b"
             ],
             [
              0.6666666666666666,
              "#ed7953"
             ],
             [
              0.7777777777777778,
              "#fb9f3a"
             ],
             [
              0.8888888888888888,
              "#fdca26"
             ],
             [
              1,
              "#f0f921"
             ]
            ],
            "type": "heatmap"
           }
          ],
          "histogram": [
           {
            "marker": {
             "pattern": {
              "fillmode": "overlay",
              "size": 10,
              "solidity": 0.2
             }
            },
            "type": "histogram"
           }
          ],
          "histogram2d": [
           {
            "colorbar": {
             "outlinewidth": 0,
             "ticks": ""
            },
            "colorscale": [
             [
              0,
              "#0d0887"
             ],
             [
              0.1111111111111111,
              "#46039f"
             ],
             [
              0.2222222222222222,
              "#7201a8"
             ],
             [
              0.3333333333333333,
              "#9c179e"
             ],
             [
              0.4444444444444444,
              "#bd3786"
             ],
             [
              0.5555555555555556,
              "#d8576b"
             ],
             [
              0.6666666666666666,
              "#ed7953"
             ],
             [
              0.7777777777777778,
              "#fb9f3a"
             ],
             [
              0.8888888888888888,
              "#fdca26"
             ],
             [
              1,
              "#f0f921"
             ]
            ],
            "type": "histogram2d"
           }
          ],
          "histogram2dcontour": [
           {
            "colorbar": {
             "outlinewidth": 0,
             "ticks": ""
            },
            "colorscale": [
             [
              0,
              "#0d0887"
             ],
             [
              0.1111111111111111,
              "#46039f"
             ],
             [
              0.2222222222222222,
              "#7201a8"
             ],
             [
              0.3333333333333333,
              "#9c179e"
             ],
             [
              0.4444444444444444,
              "#bd3786"
             ],
             [
              0.5555555555555556,
              "#d8576b"
             ],
             [
              0.6666666666666666,
              "#ed7953"
             ],
             [
              0.7777777777777778,
              "#fb9f3a"
             ],
             [
              0.8888888888888888,
              "#fdca26"
             ],
             [
              1,
              "#f0f921"
             ]
            ],
            "type": "histogram2dcontour"
           }
          ],
          "mesh3d": [
           {
            "colorbar": {
             "outlinewidth": 0,
             "ticks": ""
            },
            "type": "mesh3d"
           }
          ],
          "parcoords": [
           {
            "line": {
             "colorbar": {
              "outlinewidth": 0,
              "ticks": ""
             }
            },
            "type": "parcoords"
           }
          ],
          "pie": [
           {
            "automargin": true,
            "type": "pie"
           }
          ],
          "scatter": [
           {
            "fillpattern": {
             "fillmode": "overlay",
             "size": 10,
             "solidity": 0.2
            },
            "type": "scatter"
           }
          ],
          "scatter3d": [
           {
            "line": {
             "colorbar": {
              "outlinewidth": 0,
              "ticks": ""
             }
            },
            "marker": {
             "colorbar": {
              "outlinewidth": 0,
              "ticks": ""
             }
            },
            "type": "scatter3d"
           }
          ],
          "scattercarpet": [
           {
            "marker": {
             "colorbar": {
              "outlinewidth": 0,
              "ticks": ""
             }
            },
            "type": "scattercarpet"
           }
          ],
          "scattergeo": [
           {
            "marker": {
             "colorbar": {
              "outlinewidth": 0,
              "ticks": ""
             }
            },
            "type": "scattergeo"
           }
          ],
          "scattergl": [
           {
            "marker": {
             "colorbar": {
              "outlinewidth": 0,
              "ticks": ""
             }
            },
            "type": "scattergl"
           }
          ],
          "scattermap": [
           {
            "marker": {
             "colorbar": {
              "outlinewidth": 0,
              "ticks": ""
             }
            },
            "type": "scattermap"
           }
          ],
          "scattermapbox": [
           {
            "marker": {
             "colorbar": {
              "outlinewidth": 0,
              "ticks": ""
             }
            },
            "type": "scattermapbox"
           }
          ],
          "scatterpolar": [
           {
            "marker": {
             "colorbar": {
              "outlinewidth": 0,
              "ticks": ""
             }
            },
            "type": "scatterpolar"
           }
          ],
          "scatterpolargl": [
           {
            "marker": {
             "colorbar": {
              "outlinewidth": 0,
              "ticks": ""
             }
            },
            "type": "scatterpolargl"
           }
          ],
          "scatterternary": [
           {
            "marker": {
             "colorbar": {
              "outlinewidth": 0,
              "ticks": ""
             }
            },
            "type": "scatterternary"
           }
          ],
          "surface": [
           {
            "colorbar": {
             "outlinewidth": 0,
             "ticks": ""
            },
            "colorscale": [
             [
              0,
              "#0d0887"
             ],
             [
              0.1111111111111111,
              "#46039f"
             ],
             [
              0.2222222222222222,
              "#7201a8"
             ],
             [
              0.3333333333333333,
              "#9c179e"
             ],
             [
              0.4444444444444444,
              "#bd3786"
             ],
             [
              0.5555555555555556,
              "#d8576b"
             ],
             [
              0.6666666666666666,
              "#ed7953"
             ],
             [
              0.7777777777777778,
              "#fb9f3a"
             ],
             [
              0.8888888888888888,
              "#fdca26"
             ],
             [
              1,
              "#f0f921"
             ]
            ],
            "type": "surface"
           }
          ],
          "table": [
           {
            "cells": {
             "fill": {
              "color": "#EBF0F8"
             },
             "line": {
              "color": "white"
             }
            },
            "header": {
             "fill": {
              "color": "#C8D4E3"
             },
             "line": {
              "color": "white"
             }
            },
            "type": "table"
           }
          ]
         },
         "layout": {
          "annotationdefaults": {
           "arrowcolor": "#2a3f5f",
           "arrowhead": 0,
           "arrowwidth": 1
          },
          "autotypenumbers": "strict",
          "coloraxis": {
           "colorbar": {
            "outlinewidth": 0,
            "ticks": ""
           }
          },
          "colorscale": {
           "diverging": [
            [
             0,
             "#8e0152"
            ],
            [
             0.1,
             "#c51b7d"
            ],
            [
             0.2,
             "#de77ae"
            ],
            [
             0.3,
             "#f1b6da"
            ],
            [
             0.4,
             "#fde0ef"
            ],
            [
             0.5,
             "#f7f7f7"
            ],
            [
             0.6,
             "#e6f5d0"
            ],
            [
             0.7,
             "#b8e186"
            ],
            [
             0.8,
             "#7fbc41"
            ],
            [
             0.9,
             "#4d9221"
            ],
            [
             1,
             "#276419"
            ]
           ],
           "sequential": [
            [
             0,
             "#0d0887"
            ],
            [
             0.1111111111111111,
             "#46039f"
            ],
            [
             0.2222222222222222,
             "#7201a8"
            ],
            [
             0.3333333333333333,
             "#9c179e"
            ],
            [
             0.4444444444444444,
             "#bd3786"
            ],
            [
             0.5555555555555556,
             "#d8576b"
            ],
            [
             0.6666666666666666,
             "#ed7953"
            ],
            [
             0.7777777777777778,
             "#fb9f3a"
            ],
            [
             0.8888888888888888,
             "#fdca26"
            ],
            [
             1,
             "#f0f921"
            ]
           ],
           "sequentialminus": [
            [
             0,
             "#0d0887"
            ],
            [
             0.1111111111111111,
             "#46039f"
            ],
            [
             0.2222222222222222,
             "#7201a8"
            ],
            [
             0.3333333333333333,
             "#9c179e"
            ],
            [
             0.4444444444444444,
             "#bd3786"
            ],
            [
             0.5555555555555556,
             "#d8576b"
            ],
            [
             0.6666666666666666,
             "#ed7953"
            ],
            [
             0.7777777777777778,
             "#fb9f3a"
            ],
            [
             0.8888888888888888,
             "#fdca26"
            ],
            [
             1,
             "#f0f921"
            ]
           ]
          },
          "colorway": [
           "#636efa",
           "#EF553B",
           "#00cc96",
           "#ab63fa",
           "#FFA15A",
           "#19d3f3",
           "#FF6692",
           "#B6E880",
           "#FF97FF",
           "#FECB52"
          ],
          "font": {
           "color": "#2a3f5f"
          },
          "geo": {
           "bgcolor": "white",
           "lakecolor": "white",
           "landcolor": "#E5ECF6",
           "showlakes": true,
           "showland": true,
           "subunitcolor": "white"
          },
          "hoverlabel": {
           "align": "left"
          },
          "hovermode": "closest",
          "mapbox": {
           "style": "light"
          },
          "paper_bgcolor": "white",
          "plot_bgcolor": "#E5ECF6",
          "polar": {
           "angularaxis": {
            "gridcolor": "white",
            "linecolor": "white",
            "ticks": ""
           },
           "bgcolor": "#E5ECF6",
           "radialaxis": {
            "gridcolor": "white",
            "linecolor": "white",
            "ticks": ""
           }
          },
          "scene": {
           "xaxis": {
            "backgroundcolor": "#E5ECF6",
            "gridcolor": "white",
            "gridwidth": 2,
            "linecolor": "white",
            "showbackground": true,
            "ticks": "",
            "zerolinecolor": "white"
           },
           "yaxis": {
            "backgroundcolor": "#E5ECF6",
            "gridcolor": "white",
            "gridwidth": 2,
            "linecolor": "white",
            "showbackground": true,
            "ticks": "",
            "zerolinecolor": "white"
           },
           "zaxis": {
            "backgroundcolor": "#E5ECF6",
            "gridcolor": "white",
            "gridwidth": 2,
            "linecolor": "white",
            "showbackground": true,
            "ticks": "",
            "zerolinecolor": "white"
           }
          },
          "shapedefaults": {
           "line": {
            "color": "#2a3f5f"
           }
          },
          "ternary": {
           "aaxis": {
            "gridcolor": "white",
            "linecolor": "white",
            "ticks": ""
           },
           "baxis": {
            "gridcolor": "white",
            "linecolor": "white",
            "ticks": ""
           },
           "bgcolor": "#E5ECF6",
           "caxis": {
            "gridcolor": "white",
            "linecolor": "white",
            "ticks": ""
           }
          },
          "title": {
           "x": 0.05
          },
          "xaxis": {
           "automargin": true,
           "gridcolor": "white",
           "linecolor": "white",
           "ticks": "",
           "title": {
            "standoff": 15
           },
           "zerolinecolor": "white",
           "zerolinewidth": 2
          },
          "yaxis": {
           "automargin": true,
           "gridcolor": "white",
           "linecolor": "white",
           "ticks": "",
           "title": {
            "standoff": 15
           },
           "zerolinecolor": "white",
           "zerolinewidth": 2
          }
         }
        },
        "width": 900,
        "xaxis": {
         "gridcolor": "#1F292F",
         "nticks": 5,
         "rangeslider": {
          "visible": false
         }
        },
        "yaxis": {
         "gridcolor": "#1f292f"
        }
       }
      }
     },
     "metadata": {},
     "output_type": "display_data"
    },
    {
     "data": {
      "application/vnd.plotly.v1+json": {
       "config": {
        "plotlyServerURL": "https://plot.ly"
       },
       "data": [
        {
         "line": {
          "shape": "spline",
          "width": 2
         },
         "name": "GAIN_C",
         "type": "scatter",
         "x": [
          "22-10-26 17:00",
          "23-02-14 02:00",
          "23-03-21 17:00",
          "23-05-16 05:00",
          "23-06-19 21:00",
          "23-08-03 21:00",
          "23-10-31 05:00",
          "24-01-21 22:00",
          "24-02-29 10:00",
          "24-03-28 21:00",
          "24-05-10 13:00",
          "24-06-14 13:00",
          "24-07-10 09:00",
          "24-10-07 01:00",
          "25-01-28 06:00",
          "25-02-10 18:00"
         ],
         "y": {
          "bdata": "ipmZmZlphECBmZmZmXGDQICZmZmZQYdAiZmZmZlZhkAzMzMzM3OHQGhmZmZmkpBAz8zMzMyUlEA3MzMzM5WVQDgzMzMzv5RAOTMzMzPhlEA7MzMzM7OTQHBmZmZmuJFACwAAAADuk0BCMzMzM0OcQHNmZmZmQppAc2ZmZmZCmkA=",
          "dtype": "f8"
         }
        }
       ],
       "layout": {
        "font": {
         "color": "#e1e1e1",
         "size": 8
        },
        "height": 400,
        "margin": {
         "b": 10,
         "l": 10,
         "r": 10,
         "t": 10
        },
        "paper_bgcolor": "#2c303c",
        "plot_bgcolor": "#2c303c",
        "template": {
         "data": {
          "bar": [
           {
            "error_x": {
             "color": "#2a3f5f"
            },
            "error_y": {
             "color": "#2a3f5f"
            },
            "marker": {
             "line": {
              "color": "#E5ECF6",
              "width": 0.5
             },
             "pattern": {
              "fillmode": "overlay",
              "size": 10,
              "solidity": 0.2
             }
            },
            "type": "bar"
           }
          ],
          "barpolar": [
           {
            "marker": {
             "line": {
              "color": "#E5ECF6",
              "width": 0.5
             },
             "pattern": {
              "fillmode": "overlay",
              "size": 10,
              "solidity": 0.2
             }
            },
            "type": "barpolar"
           }
          ],
          "carpet": [
           {
            "aaxis": {
             "endlinecolor": "#2a3f5f",
             "gridcolor": "white",
             "linecolor": "white",
             "minorgridcolor": "white",
             "startlinecolor": "#2a3f5f"
            },
            "baxis": {
             "endlinecolor": "#2a3f5f",
             "gridcolor": "white",
             "linecolor": "white",
             "minorgridcolor": "white",
             "startlinecolor": "#2a3f5f"
            },
            "type": "carpet"
           }
          ],
          "choropleth": [
           {
            "colorbar": {
             "outlinewidth": 0,
             "ticks": ""
            },
            "type": "choropleth"
           }
          ],
          "contour": [
           {
            "colorbar": {
             "outlinewidth": 0,
             "ticks": ""
            },
            "colorscale": [
             [
              0,
              "#0d0887"
             ],
             [
              0.1111111111111111,
              "#46039f"
             ],
             [
              0.2222222222222222,
              "#7201a8"
             ],
             [
              0.3333333333333333,
              "#9c179e"
             ],
             [
              0.4444444444444444,
              "#bd3786"
             ],
             [
              0.5555555555555556,
              "#d8576b"
             ],
             [
              0.6666666666666666,
              "#ed7953"
             ],
             [
              0.7777777777777778,
              "#fb9f3a"
             ],
             [
              0.8888888888888888,
              "#fdca26"
             ],
             [
              1,
              "#f0f921"
             ]
            ],
            "type": "contour"
           }
          ],
          "contourcarpet": [
           {
            "colorbar": {
             "outlinewidth": 0,
             "ticks": ""
            },
            "type": "contourcarpet"
           }
          ],
          "heatmap": [
           {
            "colorbar": {
             "outlinewidth": 0,
             "ticks": ""
            },
            "colorscale": [
             [
              0,
              "#0d0887"
             ],
             [
              0.1111111111111111,
              "#46039f"
             ],
             [
              0.2222222222222222,
              "#7201a8"
             ],
             [
              0.3333333333333333,
              "#9c179e"
             ],
             [
              0.4444444444444444,
              "#bd3786"
             ],
             [
              0.5555555555555556,
              "#d8576b"
             ],
             [
              0.6666666666666666,
              "#ed7953"
             ],
             [
              0.7777777777777778,
              "#fb9f3a"
             ],
             [
              0.8888888888888888,
              "#fdca26"
             ],
             [
              1,
              "#f0f921"
             ]
            ],
            "type": "heatmap"
           }
          ],
          "histogram": [
           {
            "marker": {
             "pattern": {
              "fillmode": "overlay",
              "size": 10,
              "solidity": 0.2
             }
            },
            "type": "histogram"
           }
          ],
          "histogram2d": [
           {
            "colorbar": {
             "outlinewidth": 0,
             "ticks": ""
            },
            "colorscale": [
             [
              0,
              "#0d0887"
             ],
             [
              0.1111111111111111,
              "#46039f"
             ],
             [
              0.2222222222222222,
              "#7201a8"
             ],
             [
              0.3333333333333333,
              "#9c179e"
             ],
             [
              0.4444444444444444,
              "#bd3786"
             ],
             [
              0.5555555555555556,
              "#d8576b"
             ],
             [
              0.6666666666666666,
              "#ed7953"
             ],
             [
              0.7777777777777778,
              "#fb9f3a"
             ],
             [
              0.8888888888888888,
              "#fdca26"
             ],
             [
              1,
              "#f0f921"
             ]
            ],
            "type": "histogram2d"
           }
          ],
          "histogram2dcontour": [
           {
            "colorbar": {
             "outlinewidth": 0,
             "ticks": ""
            },
            "colorscale": [
             [
              0,
              "#0d0887"
             ],
             [
              0.1111111111111111,
              "#46039f"
             ],
             [
              0.2222222222222222,
              "#7201a8"
             ],
             [
              0.3333333333333333,
              "#9c179e"
             ],
             [
              0.4444444444444444,
              "#bd3786"
             ],
             [
              0.5555555555555556,
              "#d8576b"
             ],
             [
              0.6666666666666666,
              "#ed7953"
             ],
             [
              0.7777777777777778,
              "#fb9f3a"
             ],
             [
              0.8888888888888888,
              "#fdca26"
             ],
             [
              1,
              "#f0f921"
             ]
            ],
            "type": "histogram2dcontour"
           }
          ],
          "mesh3d": [
           {
            "colorbar": {
             "outlinewidth": 0,
             "ticks": ""
            },
            "type": "mesh3d"
           }
          ],
          "parcoords": [
           {
            "line": {
             "colorbar": {
              "outlinewidth": 0,
              "ticks": ""
             }
            },
            "type": "parcoords"
           }
          ],
          "pie": [
           {
            "automargin": true,
            "type": "pie"
           }
          ],
          "scatter": [
           {
            "fillpattern": {
             "fillmode": "overlay",
             "size": 10,
             "solidity": 0.2
            },
            "type": "scatter"
           }
          ],
          "scatter3d": [
           {
            "line": {
             "colorbar": {
              "outlinewidth": 0,
              "ticks": ""
             }
            },
            "marker": {
             "colorbar": {
              "outlinewidth": 0,
              "ticks": ""
             }
            },
            "type": "scatter3d"
           }
          ],
          "scattercarpet": [
           {
            "marker": {
             "colorbar": {
              "outlinewidth": 0,
              "ticks": ""
             }
            },
            "type": "scattercarpet"
           }
          ],
          "scattergeo": [
           {
            "marker": {
             "colorbar": {
              "outlinewidth": 0,
              "ticks": ""
             }
            },
            "type": "scattergeo"
           }
          ],
          "scattergl": [
           {
            "marker": {
             "colorbar": {
              "outlinewidth": 0,
              "ticks": ""
             }
            },
            "type": "scattergl"
           }
          ],
          "scattermap": [
           {
            "marker": {
             "colorbar": {
              "outlinewidth": 0,
              "ticks": ""
             }
            },
            "type": "scattermap"
           }
          ],
          "scattermapbox": [
           {
            "marker": {
             "colorbar": {
              "outlinewidth": 0,
              "ticks": ""
             }
            },
            "type": "scattermapbox"
           }
          ],
          "scatterpolar": [
           {
            "marker": {
             "colorbar": {
              "outlinewidth": 0,
              "ticks": ""
             }
            },
            "type": "scatterpolar"
           }
          ],
          "scatterpolargl": [
           {
            "marker": {
             "colorbar": {
              "outlinewidth": 0,
              "ticks": ""
             }
            },
            "type": "scatterpolargl"
           }
          ],
          "scatterternary": [
           {
            "marker": {
             "colorbar": {
              "outlinewidth": 0,
              "ticks": ""
             }
            },
            "type": "scatterternary"
           }
          ],
          "surface": [
           {
            "colorbar": {
             "outlinewidth": 0,
             "ticks": ""
            },
            "colorscale": [
             [
              0,
              "#0d0887"
             ],
             [
              0.1111111111111111,
              "#46039f"
             ],
             [
              0.2222222222222222,
              "#7201a8"
             ],
             [
              0.3333333333333333,
              "#9c179e"
             ],
             [
              0.4444444444444444,
              "#bd3786"
             ],
             [
              0.5555555555555556,
              "#d8576b"
             ],
             [
              0.6666666666666666,
              "#ed7953"
             ],
             [
              0.7777777777777778,
              "#fb9f3a"
             ],
             [
              0.8888888888888888,
              "#fdca26"
             ],
             [
              1,
              "#f0f921"
             ]
            ],
            "type": "surface"
           }
          ],
          "table": [
           {
            "cells": {
             "fill": {
              "color": "#EBF0F8"
             },
             "line": {
              "color": "white"
             }
            },
            "header": {
             "fill": {
              "color": "#C8D4E3"
             },
             "line": {
              "color": "white"
             }
            },
            "type": "table"
           }
          ]
         },
         "layout": {
          "annotationdefaults": {
           "arrowcolor": "#2a3f5f",
           "arrowhead": 0,
           "arrowwidth": 1
          },
          "autotypenumbers": "strict",
          "coloraxis": {
           "colorbar": {
            "outlinewidth": 0,
            "ticks": ""
           }
          },
          "colorscale": {
           "diverging": [
            [
             0,
             "#8e0152"
            ],
            [
             0.1,
             "#c51b7d"
            ],
            [
             0.2,
             "#de77ae"
            ],
            [
             0.3,
             "#f1b6da"
            ],
            [
             0.4,
             "#fde0ef"
            ],
            [
             0.5,
             "#f7f7f7"
            ],
            [
             0.6,
             "#e6f5d0"
            ],
            [
             0.7,
             "#b8e186"
            ],
            [
             0.8,
             "#7fbc41"
            ],
            [
             0.9,
             "#4d9221"
            ],
            [
             1,
             "#276419"
            ]
           ],
           "sequential": [
            [
             0,
             "#0d0887"
            ],
            [
             0.1111111111111111,
             "#46039f"
            ],
            [
             0.2222222222222222,
             "#7201a8"
            ],
            [
             0.3333333333333333,
             "#9c179e"
            ],
            [
             0.4444444444444444,
             "#bd3786"
            ],
            [
             0.5555555555555556,
             "#d8576b"
            ],
            [
             0.6666666666666666,
             "#ed7953"
            ],
            [
             0.7777777777777778,
             "#fb9f3a"
            ],
            [
             0.8888888888888888,
             "#fdca26"
            ],
            [
             1,
             "#f0f921"
            ]
           ],
           "sequentialminus": [
            [
             0,
             "#0d0887"
            ],
            [
             0.1111111111111111,
             "#46039f"
            ],
            [
             0.2222222222222222,
             "#7201a8"
            ],
            [
             0.3333333333333333,
             "#9c179e"
            ],
            [
             0.4444444444444444,
             "#bd3786"
            ],
            [
             0.5555555555555556,
             "#d8576b"
            ],
            [
             0.6666666666666666,
             "#ed7953"
            ],
            [
             0.7777777777777778,
             "#fb9f3a"
            ],
            [
             0.8888888888888888,
             "#fdca26"
            ],
            [
             1,
             "#f0f921"
            ]
           ]
          },
          "colorway": [
           "#636efa",
           "#EF553B",
           "#00cc96",
           "#ab63fa",
           "#FFA15A",
           "#19d3f3",
           "#FF6692",
           "#B6E880",
           "#FF97FF",
           "#FECB52"
          ],
          "font": {
           "color": "#2a3f5f"
          },
          "geo": {
           "bgcolor": "white",
           "lakecolor": "white",
           "landcolor": "#E5ECF6",
           "showlakes": true,
           "showland": true,
           "subunitcolor": "white"
          },
          "hoverlabel": {
           "align": "left"
          },
          "hovermode": "closest",
          "mapbox": {
           "style": "light"
          },
          "paper_bgcolor": "white",
          "plot_bgcolor": "#E5ECF6",
          "polar": {
           "angularaxis": {
            "gridcolor": "white",
            "linecolor": "white",
            "ticks": ""
           },
           "bgcolor": "#E5ECF6",
           "radialaxis": {
            "gridcolor": "white",
            "linecolor": "white",
            "ticks": ""
           }
          },
          "scene": {
           "xaxis": {
            "backgroundcolor": "#E5ECF6",
            "gridcolor": "white",
            "gridwidth": 2,
            "linecolor": "white",
            "showbackground": true,
            "ticks": "",
            "zerolinecolor": "white"
           },
           "yaxis": {
            "backgroundcolor": "#E5ECF6",
            "gridcolor": "white",
            "gridwidth": 2,
            "linecolor": "white",
            "showbackground": true,
            "ticks": "",
            "zerolinecolor": "white"
           },
           "zaxis": {
            "backgroundcolor": "#E5ECF6",
            "gridcolor": "white",
            "gridwidth": 2,
            "linecolor": "white",
            "showbackground": true,
            "ticks": "",
            "zerolinecolor": "white"
           }
          },
          "shapedefaults": {
           "line": {
            "color": "#2a3f5f"
           }
          },
          "ternary": {
           "aaxis": {
            "gridcolor": "white",
            "linecolor": "white",
            "ticks": ""
           },
           "baxis": {
            "gridcolor": "white",
            "linecolor": "white",
            "ticks": ""
           },
           "bgcolor": "#E5ECF6",
           "caxis": {
            "gridcolor": "white",
            "linecolor": "white",
            "ticks": ""
           }
          },
          "title": {
           "x": 0.05
          },
          "xaxis": {
           "automargin": true,
           "gridcolor": "white",
           "linecolor": "white",
           "ticks": "",
           "title": {
            "standoff": 15
           },
           "zerolinecolor": "white",
           "zerolinewidth": 2
          },
          "yaxis": {
           "automargin": true,
           "gridcolor": "white",
           "linecolor": "white",
           "ticks": "",
           "title": {
            "standoff": 15
           },
           "zerolinecolor": "white",
           "zerolinewidth": 2
          }
         }
        },
        "width": 900,
        "xaxis": {
         "gridcolor": "#1F292F",
         "nticks": 5,
         "rangeslider": {
          "visible": false
         }
        },
        "yaxis": {
         "gridcolor": "#1f292f"
        }
       }
      }
     },
     "metadata": {},
     "output_type": "display_data"
    }
   ],
   "source": [
    "cp = CandlePlot(df_trades, candles=False)\n",
    "cp.show_plot(line_traces=['GAIN_C'])"
   ]
  },
  {
   "cell_type": "code",
   "execution_count": null,
   "metadata": {},
   "outputs": [],
   "source": []
  },
  {
   "cell_type": "code",
   "execution_count": null,
   "metadata": {},
   "outputs": [],
   "source": []
  },
  {
   "cell_type": "code",
   "execution_count": null,
   "metadata": {},
   "outputs": [],
   "source": []
  }
 ],
 "metadata": {
  "kernelspec": {
   "display_name": "venv",
   "language": "python",
   "name": "python3"
  },
  "language_info": {
   "codemirror_mode": {
    "name": "ipython",
    "version": 3
   },
   "file_extension": ".py",
   "mimetype": "text/x-python",
   "name": "python",
   "nbconvert_exporter": "python",
   "pygments_lexer": "ipython3",
   "version": "3.11.9"
  }
 },
 "nbformat": 4,
 "nbformat_minor": 2
}
