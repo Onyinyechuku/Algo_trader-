{
 "cells": [
  {
   "cell_type": "code",
   "execution_count": 27,
   "metadata": {},
   "outputs": [],
   "source": [
    "import requests\n",
    "import pandas as pd \n",
    "import json\n",
    "from dateutil import parser"
   ]
  },
  {
   "cell_type": "code",
   "execution_count": 4,
   "metadata": {},
   "outputs": [],
   "source": [
    "API_KEY = \"00d239aeae8ecbaf50a4c1352c1837eb-73fbde84df7b82be7a15845f729b3abe\"\n",
    "ACCOUNT_ID = \"101-004-30986958-001\"\n",
    "OANDA_URL= \"https://api-fxpractice.oanda.com/v3\"                                                                   "
   ]
  },
  {
   "cell_type": "code",
   "execution_count": 7,
   "metadata": {},
   "outputs": [],
   "source": [
    "session.headers.update({\n",
    "\"Authorization\": f\"Bearer {API_KEY}\",\n",
    "\"Content-Type\": \"application/json\"\n",
    "})"
   ]
  },
  {
   "cell_type": "code",
   "execution_count": 6,
   "metadata": {},
   "outputs": [],
   "source": [
    "session = requests.Session()"
   ]
  },
  {
   "cell_type": "code",
   "execution_count": 8,
   "metadata": {},
   "outputs": [],
   "source": [
    "def fetch_candles(pair_name, count=10, granularity=\"H1\"):\n",
    "    url = f\"{OANDA_URL}/instruments/{pair_name}/candles\"\n",
    "    params = dict(\n",
    "        count = count,\n",
    "        granularity = granularity,\n",
    "        price = \"MBA\"\n",
    "    )  \n",
    "    \n",
    "    response = session.get(url, params = params, data = None, headers = None)\n",
    "    data = response.json()\n",
    "\n",
    "    if response.status_code == 200:\n",
    "        if 'candles' not in data:\n",
    "            data = []\n",
    "        else:\n",
    "            data = data['candles']\n",
    "    return response.status_code, data     "
   ]
  },
  {
   "cell_type": "code",
   "execution_count": 9,
   "metadata": {},
   "outputs": [],
   "source": [
    "code, data = fetch_candles(\"EUR_USD\", count=20)"
   ]
  },
  {
   "cell_type": "code",
   "execution_count": 10,
   "metadata": {},
   "outputs": [
    {
     "data": {
      "text/plain": [
       "200"
      ]
     },
     "execution_count": 10,
     "metadata": {},
     "output_type": "execute_result"
    }
   ],
   "source": [
    "code  "
   ]
  },
  {
   "cell_type": "code",
   "execution_count": 11,
   "metadata": {},
   "outputs": [
    {
     "data": {
      "text/plain": [
       "20"
      ]
     },
     "execution_count": 11,
     "metadata": {},
     "output_type": "execute_result"
    }
   ],
   "source": [
    "len(data)"
   ]
  },
  {
   "cell_type": "code",
   "execution_count": 12,
   "metadata": {},
   "outputs": [
    {
     "data": {
      "text/plain": [
       "[{'complete': True,\n",
       "  'volume': 23917,\n",
       "  'time': '2025-02-07T13:00:00.000000000Z',\n",
       "  'bid': {'o': '1.03736', 'h': '1.04123', 'l': '1.03484', 'c': '1.03629'},\n",
       "  'mid': {'o': '1.03744', 'h': '1.04134', 'l': '1.03493', 'c': '1.03636'},\n",
       "  'ask': {'o': '1.03753', 'h': '1.04146', 'l': '1.03500', 'c': '1.03644'}},\n",
       " {'complete': True,\n",
       "  'volume': 13554,\n",
       "  'time': '2025-02-07T14:00:00.000000000Z',\n",
       "  'bid': {'o': '1.03629', 'h': '1.03882', 'l': '1.03601', 'c': '1.03849'},\n",
       "  'mid': {'o': '1.03637', 'h': '1.03890', 'l': '1.03609', 'c': '1.03858'},\n",
       "  'ask': {'o': '1.03645', 'h': '1.03897', 'l': '1.03617', 'c': '1.03867'}},\n",
       " {'complete': True,\n",
       "  'volume': 21503,\n",
       "  'time': '2025-02-07T15:00:00.000000000Z',\n",
       "  'bid': {'o': '1.03847', 'h': '1.03871', 'l': '1.03266', 'c': '1.03546'},\n",
       "  'mid': {'o': '1.03857', 'h': '1.03878', 'l': '1.03274', 'c': '1.03554'},\n",
       "  'ask': {'o': '1.03867', 'h': '1.03886', 'l': '1.03282', 'c': '1.03561'}},\n",
       " {'complete': True,\n",
       "  'volume': 23928,\n",
       "  'time': '2025-02-07T16:00:00.000000000Z',\n",
       "  'bid': {'o': '1.03546', 'h': '1.03546', 'l': '1.03214', 'c': '1.03272'},\n",
       "  'mid': {'o': '1.03554', 'h': '1.03554', 'l': '1.03221', 'c': '1.03280'},\n",
       "  'ask': {'o': '1.03562', 'h': '1.03562', 'l': '1.03228', 'c': '1.03287'}},\n",
       " {'complete': True,\n",
       "  'volume': 22432,\n",
       "  'time': '2025-02-07T17:00:00.000000000Z',\n",
       "  'bid': {'o': '1.03273', 'h': '1.03602', 'l': '1.03044', 'c': '1.03211'},\n",
       "  'mid': {'o': '1.03281', 'h': '1.03612', 'l': '1.03052', 'c': '1.03218'},\n",
       "  'ask': {'o': '1.03289', 'h': '1.03622', 'l': '1.03061', 'c': '1.03225'}},\n",
       " {'complete': True,\n",
       "  'volume': 5945,\n",
       "  'time': '2025-02-07T18:00:00.000000000Z',\n",
       "  'bid': {'o': '1.03210', 'h': '1.03352', 'l': '1.03202', 'c': '1.03245'},\n",
       "  'mid': {'o': '1.03218', 'h': '1.03360', 'l': '1.03210', 'c': '1.03252'},\n",
       "  'ask': {'o': '1.03225', 'h': '1.03368', 'l': '1.03218', 'c': '1.03260'}},\n",
       " {'complete': True,\n",
       "  'volume': 5321,\n",
       "  'time': '2025-02-07T19:00:00.000000000Z',\n",
       "  'bid': {'o': '1.03245', 'h': '1.03363', 'l': '1.03231', 'c': '1.03316'},\n",
       "  'mid': {'o': '1.03253', 'h': '1.03371', 'l': '1.03239', 'c': '1.03324'},\n",
       "  'ask': {'o': '1.03261', 'h': '1.03379', 'l': '1.03247', 'c': '1.03333'}},\n",
       " {'complete': True,\n",
       "  'volume': 4538,\n",
       "  'time': '2025-02-07T20:00:00.000000000Z',\n",
       "  'bid': {'o': '1.03318', 'h': '1.03378', 'l': '1.03207', 'c': '1.03271'},\n",
       "  'mid': {'o': '1.03326', 'h': '1.03385', 'l': '1.03214', 'c': '1.03278'},\n",
       "  'ask': {'o': '1.03334', 'h': '1.03392', 'l': '1.03221', 'c': '1.03286'}},\n",
       " {'complete': True,\n",
       "  'volume': 3871,\n",
       "  'time': '2025-02-07T21:00:00.000000000Z',\n",
       "  'bid': {'o': '1.03271', 'h': '1.03319', 'l': '1.03243', 'c': '1.03261'},\n",
       "  'mid': {'o': '1.03279', 'h': '1.03326', 'l': '1.03252', 'c': '1.03270'},\n",
       "  'ask': {'o': '1.03287', 'h': '1.03333', 'l': '1.03262', 'c': '1.03280'}},\n",
       " {'complete': True,\n",
       "  'volume': 2230,\n",
       "  'time': '2025-02-09T22:00:00.000000000Z',\n",
       "  'bid': {'o': '1.02875', 'h': '1.03013', 'l': '1.02788', 'c': '1.02900'},\n",
       "  'mid': {'o': '1.02925', 'h': '1.03029', 'l': '1.02838', 'c': '1.02914'},\n",
       "  'ask': {'o': '1.02975', 'h': '1.03045', 'l': '1.02888', 'c': '1.02928'}},\n",
       " {'complete': True,\n",
       "  'volume': 3843,\n",
       "  'time': '2025-02-09T23:00:00.000000000Z',\n",
       "  'bid': {'o': '1.02904', 'h': '1.03128', 'l': '1.02904', 'c': '1.03089'},\n",
       "  'mid': {'o': '1.02916', 'h': '1.03136', 'l': '1.02916', 'c': '1.03096'},\n",
       "  'ask': {'o': '1.02928', 'h': '1.03145', 'l': '1.02927', 'c': '1.03104'}},\n",
       " {'complete': True,\n",
       "  'volume': 4103,\n",
       "  'time': '2025-02-10T00:00:00.000000000Z',\n",
       "  'bid': {'o': '1.03088', 'h': '1.03176', 'l': '1.03086', 'c': '1.03094'},\n",
       "  'mid': {'o': '1.03096', 'h': '1.03185', 'l': '1.03093', 'c': '1.03102'},\n",
       "  'ask': {'o': '1.03104', 'h': '1.03194', 'l': '1.03100', 'c': '1.03111'}},\n",
       " {'complete': True,\n",
       "  'volume': 5448,\n",
       "  'time': '2025-02-10T01:00:00.000000000Z',\n",
       "  'bid': {'o': '1.03094', 'h': '1.03140', 'l': '1.02993', 'c': '1.03025'},\n",
       "  'mid': {'o': '1.03102', 'h': '1.03148', 'l': '1.03000', 'c': '1.03032'},\n",
       "  'ask': {'o': '1.03110', 'h': '1.03155', 'l': '1.03008', 'c': '1.03040'}},\n",
       " {'complete': True,\n",
       "  'volume': 3566,\n",
       "  'time': '2025-02-10T02:00:00.000000000Z',\n",
       "  'bid': {'o': '1.03025', 'h': '1.03062', 'l': '1.02979', 'c': '1.02990'},\n",
       "  'mid': {'o': '1.03032', 'h': '1.03070', 'l': '1.02988', 'c': '1.02998'},\n",
       "  'ask': {'o': '1.03039', 'h': '1.03078', 'l': '1.02995', 'c': '1.03005'}},\n",
       " {'complete': True,\n",
       "  'volume': 2673,\n",
       "  'time': '2025-02-10T03:00:00.000000000Z',\n",
       "  'bid': {'o': '1.02991', 'h': '1.03109', 'l': '1.02990', 'c': '1.03108'},\n",
       "  'mid': {'o': '1.02998', 'h': '1.03117', 'l': '1.02998', 'c': '1.03116'},\n",
       "  'ask': {'o': '1.03005', 'h': '1.03125', 'l': '1.03005', 'c': '1.03124'}},\n",
       " {'complete': True,\n",
       "  'volume': 2048,\n",
       "  'time': '2025-02-10T04:00:00.000000000Z',\n",
       "  'bid': {'o': '1.03109', 'h': '1.03152', 'l': '1.03105', 'c': '1.03125'},\n",
       "  'mid': {'o': '1.03116', 'h': '1.03160', 'l': '1.03112', 'c': '1.03133'},\n",
       "  'ask': {'o': '1.03124', 'h': '1.03168', 'l': '1.03120', 'c': '1.03141'}},\n",
       " {'complete': True,\n",
       "  'volume': 2198,\n",
       "  'time': '2025-02-10T05:00:00.000000000Z',\n",
       "  'bid': {'o': '1.03124', 'h': '1.03208', 'l': '1.03124', 'c': '1.03154'},\n",
       "  'mid': {'o': '1.03132', 'h': '1.03216', 'l': '1.03132', 'c': '1.03162'},\n",
       "  'ask': {'o': '1.03141', 'h': '1.03224', 'l': '1.03140', 'c': '1.03170'}},\n",
       " {'complete': True,\n",
       "  'volume': 3277,\n",
       "  'time': '2025-02-10T06:00:00.000000000Z',\n",
       "  'bid': {'o': '1.03154', 'h': '1.03193', 'l': '1.03113', 'c': '1.03182'},\n",
       "  'mid': {'o': '1.03163', 'h': '1.03200', 'l': '1.03121', 'c': '1.03190'},\n",
       "  'ask': {'o': '1.03172', 'h': '1.03208', 'l': '1.03129', 'c': '1.03198'}},\n",
       " {'complete': True,\n",
       "  'volume': 6686,\n",
       "  'time': '2025-02-10T07:00:00.000000000Z',\n",
       "  'bid': {'o': '1.03182', 'h': '1.03249', 'l': '1.03091', 'c': '1.03121'},\n",
       "  'mid': {'o': '1.03189', 'h': '1.03258', 'l': '1.03100', 'c': '1.03129'},\n",
       "  'ask': {'o': '1.03196', 'h': '1.03266', 'l': '1.03108', 'c': '1.03137'}},\n",
       " {'complete': False,\n",
       "  'volume': 6959,\n",
       "  'time': '2025-02-10T08:00:00.000000000Z',\n",
       "  'bid': {'o': '1.03122', 'h': '1.03191', 'l': '1.03059', 'c': '1.03180'},\n",
       "  'mid': {'o': '1.03130', 'h': '1.03199', 'l': '1.03068', 'c': '1.03188'},\n",
       "  'ask': {'o': '1.03137', 'h': '1.03207', 'l': '1.03076', 'c': '1.03195'}}]"
      ]
     },
     "execution_count": 12,
     "metadata": {},
     "output_type": "execute_result"
    }
   ],
   "source": [
    "data"
   ]
  },
  {
   "cell_type": "code",
   "execution_count": null,
   "metadata": {},
   "outputs": [],
   "source": []
  }
 ],
 "metadata": {
  "kernelspec": {
   "display_name": "venv",
   "language": "python",
   "name": "python3"
  },
  "language_info": {
   "codemirror_mode": {
    "name": "ipython",
    "version": 3
   },
   "file_extension": ".py",
   "mimetype": "text/x-python",
   "name": "python",
   "nbconvert_exporter": "python",
   "pygments_lexer": "ipython3",
   "version": "3.11.9"
  }
 },
 "nbformat": 4,
 "nbformat_minor": 2
}
