{
 "cells": [
  {
   "cell_type": "code",
   "execution_count": 1,
   "metadata": {},
   "outputs": [],
   "source": [
    "\n",
    "import pandas as pd \n",
    "import plotly.graph_objects as go \n",
    "import datetime as dt \n",
    "from plotting import CandlePlot"
   ]
  },
  {
   "cell_type": "code",
   "execution_count": 2,
   "metadata": {},
   "outputs": [],
   "source": [
    "pair =\"EUR_USD\" \n",
    "granularity = \"H4\"\n",
    "df = pd.read_pickle(f\"../data/{pair}_{granularity}.pkl\") "
   ]
  },
  {
   "cell_type": "code",
   "execution_count": 3,
   "metadata": {},
   "outputs": [],
   "source": [
    "df_plot = df.copy()"
   ]
  },
  {
   "cell_type": "code",
   "execution_count": 4,
   "metadata": {},
   "outputs": [],
   "source": [
    "df_plot = df.iloc[:100] "
   ]
  },
  {
   "cell_type": "code",
   "execution_count": 5,
   "metadata": {},
   "outputs": [
    {
     "data": {
      "text/plain": [
       "(100, 14)"
      ]
     },
     "execution_count": 5,
     "metadata": {},
     "output_type": "execute_result"
    }
   ],
   "source": [
    "df_plot.shape"
   ]
  },
  {
   "cell_type": "code",
   "execution_count": 18,
   "metadata": {},
   "outputs": [
    {
     "name": "stderr",
     "output_type": "stream",
     "text": [
      "c:\\Users\\Dell\\Documents\\Teaching\\forex_Algo\\code\\Exploration\\plotting.py:13: SettingWithCopyWarning:\n",
      "\n",
      "\n",
      "A value is trying to be set on a copy of a slice from a DataFrame.\n",
      "Try using .loc[row_indexer,col_indexer] = value instead\n",
      "\n",
      "See the caveats in the documentation: https://pandas.pydata.org/pandas-docs/stable/user_guide/indexing.html#returning-a-view-versus-a-copy\n",
      "\n"
     ]
    },
    {
     "data": {
      "application/vnd.plotly.v1+json": {
       "config": {
        "plotlyServerURL": "https://plot.ly"
       },
       "data": [
        {
         "close": {
          "bdata": "2ubG9IQl8D/a5sb0hCXwPxMsDmd+NfA/nL8JhQg48D+/fR04Z0TwP14R/G8lO/A/9+RhodY08D9qwYu+gjTwPzIge737Y/A/Pbg7a7dd8D/Du1zEd2LwP+qymNh8XPA/hj3t8Ndk8D/d0mpI3GPwPztwzojSXvA/LSEf9GxW8D8DWyVYHE7wP+7rwDkjSvA/lPYGX5hM8D/s+gW7YVvwP671RUJbTvA/BoGVQ4ts8D+1/SsrTUrwP1j/5zBfXvA/wARu3c1T8D/u68A5I0rwP+ZciqvKPvA/eH+8V61M8D/lCu9yEV/wP2OXqN4aWPA/Jqq3BrZK8D8wgVt381TwP+wS1VsDW/A/26LMBplk8D9f7/54r1rwP9CbilQYW/A/dXYyOEpe8D8GKuPfZ1zwP9obfGEyVfA/IsMq3sg88D/5FADjGTTwP3LhQEgWMPA/ml/NAYI58D/LLa2GxD3wP9IdxM4UOvA/JlMFo5I68D8FxY8xdy3wP4ums5PBUfA/6lvmdFlM8D+JXkax3FLwP37GhQMhWfA/FytqMA1D8D/GbTSAt0DwP1UYWwhyUPA/cF8HzhlR8D8vUb01sFXwP1/v/nivWvA/f4eiQJ9I8D/iOzHrxVDwP3fWbrvQXPA/XwfOGVFa8D9dp5GWylvwPw1xrIvbaPA/G4F4Xb9g8D8AkX77OnDwP7SrkPKTavA/9kArMGR18D+QFJFhFW/wP4rNx7WhYvA/LQlQU8tW8D8A4xk09E/wP07RkVz+Q/A/qfbpeMxA8D8jSnuDL0zwP3dn7bYLTfA/B9MwfERM8D+vzjEgez3wP4Vf6udNRfA/wa27eapD8D9QATCeQUPwP3QHsTOFTvA/d2fttgtN8D/FG5lH/mDwPzDYDdsWZfA/Olj/5zBf8D/HSzeJQWDwPwhagSGrW/A/ODKP/MFA8D/QRNjw9ErwP7X9KytNSvA/FeP8TShE8D/O/GoOEEzwP8pUwaikTvA/jL6CNGNR8D//ykqTUlDwP+WbbW5MT/A/A0NWt3pO8D+PNo5Yi0/wP1IP0egOYvA/4XoUrkdh8D8=",
          "dtype": "f8"
         },
         "decreasing": {
          "fillcolor": "#CC2E3C",
          "line": {
           "color": "#FF3A4C"
          }
         },
         "high": {
          "bdata": "RuuoaoIo8D8e3J212y7wP5NvtrkxPfA/DvPlBdhH8D+KdhVSflLwP9TUsrW+SPA/sOYAwRw98D/Q7SWN0TrwP4B9dOrKZ/A/kUQvo1hu8D8j+N9KdmzwPzIge737Y/A/EjElkuhl8D9olgSoqWXwP1X2XRH8b/A/umsJ+aBn8D+ojH+fcWHwPx6KAn0iT/A/5ZttbkxP8D+VZYhjXVzwPx8RUyKJXvA/NQcI5uhx8D/iAWVTrnDwP3ReY5eoXvA/PIidKXRe8D+hLedSXFXwP7oUV5V9V/A/4jsx68VQ8D9i1ouhnGjwP8UDyqZcYfA/7lpCPuhZ8D+BPpEnSVfwP3am0HmNXfA/fQVpxqJp8D8qAMYzaGjwPyBB8WPMXfA/yHvVyoRf8D9K7xtfe2bwPxuBeF2/YPA/vqQxWkdV8D+RD3o2qz7wP9gN2xZlNvA/e4hGdxA78D8D7KNTVz7wP3AIVWr2QPA/9dvXgXNG8D/mdFlMbD7wPyYZOQt7WvA/Zd8Vwf9W8D9dv2A3bFvwPwA6zJcXYPA/8KKvIM1Y8D9JERlW8UbwP/1qDhDMUfA/F4IclDBT8D9cj8L1KFzwP4BlpUkpaPA/vyuC/61k8D8QejarPlfwPz7o2az6XPA/IoleRrFc8D+lLEMc62LwP3b9gt2wbfA/H2gFhqxu8D83T3XIzXDwP8ai6exkcPA/1QloImx48D/ayeAoeXXwP/5IERlWcfA/26LMBplk8D84+MJkqmDwP3GPpQ9dUPA/gv+tZMdG8D+srdhfdk/wPx+6oL5lTvA/g4b+CS5W8D8/kSdJ10zwP9c07zhFR/A/gy9MpgpG8D+cFrzoK0jwP482jliLT/A/cF8HzhlR8D81mIbhI2LwP0eP39v0Z/A/ngyOkldn8D+nXOFdLmLwP26GG/D5YfA/p3Sw/s9h8D+wVYLF4UzwPzsBTYQNT/A/C3va4a9J8D8jSnuDL0zwP9VbA1slWPA/+yKhLedS8D8Jih9j7lrwPzGx+bg2VPA/w2SqYFRS8D+M1lHVBFHwP05/9iNFZPA/2nIuxVVl8D8=",
          "dtype": "f8"
         },
         "increasing": {
          "fillcolor": "#24A06B",
          "line": {
           "color": "#2EC886"
          }
         },
         "line": {
          "width": 1
         },
         "low": {
          "bdata": "jukJSzwg8D9rmnecoiPwP6gY529CIfA/VDpY/+cw8D+mD11Q3zLwP0T67evAOfA/MdP2r6w08D83ww34/DDwP2rZWl8kNPA/Crq9pDFa8D9aL4Zyol3wP+0qpPykWvA/BhIUP8Zc8D/mIr4Ts17wP5kNMsnIWfA/LJrOTgZH8D+zzY3pCUvwPzp6/N6mP/A/RrHc0mpI8D+YhuEjYkrwP6Cmlq31RfA/TtGRXP5D8D87qpog6j7wP/J7m/7sR/A/bM8sCVBT8D+1FfvL7knwP4UIOIQqNfA/JlMFo5I68D+atn9lpUnwPz1JumbyTfA/QiECDqFK8D9gsBu2LUrwP0WBPpEnSfA/K8HicOZX8D9szywJUFPwP52dDI6SV/A/KpFEL6NY8D9dv2A3bFvwPxea6zTSUvA/Haz/c5gv8D/rrYGtEizwP1jKMsSxLvA/ATW1bK0v8D8OhGQBEzjwP8Ama9RDNPA/uAa2SrA48D/yzTY3pifwP3kB9tGpK/A/RFGgT+RJ8D9eaK7TSEvwP5YmpaDbS/A/WMoyxLEu8D+k374OnDPwP8i1oWKcP/A/dk8eFmpN8D88MevFUE7wP6W9wRcmU/A/nUZaKm9H8D95WKg1zTvwP1dgyOpWT/A/MbH5uDZU8D9/9iNFZFjwP/MC7KNTV/A/QBh47j1c8D931m670FzwP9uizAaZZPA/8PlhhPBo8D+0k8FR8mrwP9VbA1slWPA/+KqVCb9U8D/RdHYyOErwP6VmD7QCQ/A/PQrXo3A98D9xOPOrOUDwP+VEuwopP/A/t0WZDTJJ8D9uUWaDTDLwPwZM4NbdPPA/5US7Cik/8D/9E1ysqEHwP46vPbMkQPA/b9i2KLNB8D+71XPS+0bwPzyInSl0XvA/rTQpBd1e8D/L2xFOC17wP5olAWpqWfA/5US7Cik/8D/ulA7W/znwP0op6PaSRvA/GqN1VDVB8D8ziuWWVkPwP2e4AZ8fRvA/ZohjXdxG8D9YqDXNO07wP3mvWpnwS/A/BYvDmV9N8D8hAg6hSk3wP8k88gcDT/A/DkqYaftX8D8=",
          "dtype": "f8"
         },
         "opacity": 1,
         "open": {
          "bdata": "3o5wWvAi8D9LqyFxjyXwP0urIXGPJfA/EywOZ3418D+ASL99HTjwPzFCeLRxRPA/JlMFo5I68D/35GGh1jTwP9uF5jqNNPA/h22LMhtk8D9aL4Zyol3wPzSAt0CCYvA/d76fGi9d8D8w2A3bFmXwP2sOEMzRY/A/O3DOiNJe8D9KmGn7V1bwPyDSb18HTvA/YviImBJJ8D9bCHJQwkzwPwhyUMJMW/A/H7qgvmVO8D8/bypSYWzwP3wPlxx3SvA/Pbg7a7dd8D9PQBNhw1PwP3wnZr0YSvA/dJgvL8A+8D94f7xXrUzwP1fPSe8bX/A/ufyH9NtX8D8mqrcGtkrwP034pX7eVPA/7BLVWwNb8D9q3nGKjmTwP3tmSYCaWvA/7lpCPuhZ8D91djI4Sl7wP+qymNh8XPA/TODW3TxV8D8/OnXlszzwPzIDlfHvM/A/ATW1bK0v8D/TTWIQWDnwP8strYbEPfA/7pQO1v858D+YF2AfnTrwP+hNRSqMLfA/4QuTqYJR8D9cIEHxY0zwP23n+6nxUvA/8KKvIM1Y8D+J78SsF0PwP+LkfoeiQPA/GyrG+ZtQ8D/+mqxRD1HwP6AVGLK6VfA/Qni0ccRa8D8Nw0fElEjwP43uIHamUPA/DAIrhxZZ8D/uQnOdRlrwPyTRyyiWW/A/8PlhhPBo8D8bgXhdv2DwP+MZNPRPcPA/JVgczvxq8D/ayeAoeXXwPx5QNuUKb/A/w7tcxHdi8D+fzarP1VbwPznRrkLKT/A/+YOB595D8D/+Q/rt60DwPyNKe4MvTPA/BaOSOgFN8D8jSnuDL0zwPz0K16NwPfA/TtGRXP5D8D9rYKsEi0PwP9481SE3Q/A/A0NWt3pO8D9a8KKvIE3wP3DOiNLeYPA/aK7TSEtl8D86WP/nMF/wP8dLN4lBYPA/CFqBIatb8D9UqdkDrUDwP+27IvjfSvA/gLdAguJH8D+jHqLRHUTwP0DBxYoaTPA/ylTBqKRO8D/9gt2wbVHwP3GPpQ9dUPA/V3iXi/hO8D/mywuwj07wP6yt2F92T/A/w9MrZRli8D8=",
          "dtype": "f8"
         },
         "type": "candlestick",
         "x": [
          "s22-07-17 21 : 00",
          "s22-07-18 01 : 00",
          "s22-07-18 05 : 00",
          "s22-07-18 09 : 00",
          "s22-07-18 13 : 00",
          "s22-07-18 17 : 00",
          "s22-07-18 21 : 00",
          "s22-07-19 01 : 00",
          "s22-07-19 05 : 00",
          "s22-07-19 09 : 00",
          "s22-07-19 13 : 00",
          "s22-07-19 17 : 00",
          "s22-07-19 21 : 00",
          "s22-07-20 01 : 00",
          "s22-07-20 05 : 00",
          "s22-07-20 09 : 00",
          "s22-07-20 13 : 00",
          "s22-07-20 17 : 00",
          "s22-07-20 21 : 00",
          "s22-07-21 01 : 00",
          "s22-07-21 05 : 00",
          "s22-07-21 09 : 00",
          "s22-07-21 13 : 00",
          "s22-07-21 17 : 00",
          "s22-07-21 21 : 00",
          "s22-07-22 01 : 00",
          "s22-07-22 05 : 00",
          "s22-07-22 09 : 00",
          "s22-07-22 13 : 00",
          "s22-07-22 17 : 00",
          "s22-07-24 21 : 00",
          "s22-07-25 01 : 00",
          "s22-07-25 05 : 00",
          "s22-07-25 09 : 00",
          "s22-07-25 13 : 00",
          "s22-07-25 17 : 00",
          "s22-07-25 21 : 00",
          "s22-07-26 01 : 00",
          "s22-07-26 05 : 00",
          "s22-07-26 09 : 00",
          "s22-07-26 13 : 00",
          "s22-07-26 17 : 00",
          "s22-07-26 21 : 00",
          "s22-07-27 01 : 00",
          "s22-07-27 05 : 00",
          "s22-07-27 09 : 00",
          "s22-07-27 13 : 00",
          "s22-07-27 17 : 00",
          "s22-07-27 21 : 00",
          "s22-07-28 01 : 00",
          "s22-07-28 05 : 00",
          "s22-07-28 09 : 00",
          "s22-07-28 13 : 00",
          "s22-07-28 17 : 00",
          "s22-07-28 21 : 00",
          "s22-07-29 01 : 00",
          "s22-07-29 05 : 00",
          "s22-07-29 09 : 00",
          "s22-07-29 13 : 00",
          "s22-07-29 17 : 00",
          "s22-07-31 21 : 00",
          "s22-08-01 01 : 00",
          "s22-08-01 05 : 00",
          "s22-08-01 09 : 00",
          "s22-08-01 13 : 00",
          "s22-08-01 17 : 00",
          "s22-08-01 21 : 00",
          "s22-08-02 01 : 00",
          "s22-08-02 05 : 00",
          "s22-08-02 09 : 00",
          "s22-08-02 13 : 00",
          "s22-08-02 17 : 00",
          "s22-08-02 21 : 00",
          "s22-08-03 01 : 00",
          "s22-08-03 05 : 00",
          "s22-08-03 09 : 00",
          "s22-08-03 13 : 00",
          "s22-08-03 17 : 00",
          "s22-08-03 21 : 00",
          "s22-08-04 01 : 00",
          "s22-08-04 05 : 00",
          "s22-08-04 09 : 00",
          "s22-08-04 13 : 00",
          "s22-08-04 17 : 00",
          "s22-08-04 21 : 00",
          "s22-08-05 01 : 00",
          "s22-08-05 05 : 00",
          "s22-08-05 09 : 00",
          "s22-08-05 13 : 00",
          "s22-08-05 17 : 00",
          "s22-08-07 21 : 00",
          "s22-08-08 01 : 00",
          "s22-08-08 05 : 00",
          "s22-08-08 09 : 00",
          "s22-08-08 13 : 00",
          "s22-08-08 17 : 00",
          "s22-08-08 21 : 00",
          "s22-08-09 01 : 00",
          "s22-08-09 05 : 00",
          "s22-08-09 09 : 00"
         ]
        }
       ],
       "layout": {
        "font": {
         "color": "#e1e1e1",
         "size": 8
        },
        "height": 400,
        "margin": {
         "b": 10,
         "l": 10,
         "r": 10,
         "t": 10
        },
        "paper_bgcolor": "#2c303c",
        "plot_bgcolor": "#2c303c",
        "template": {
         "data": {
          "bar": [
           {
            "error_x": {
             "color": "#2a3f5f"
            },
            "error_y": {
             "color": "#2a3f5f"
            },
            "marker": {
             "line": {
              "color": "#E5ECF6",
              "width": 0.5
             },
             "pattern": {
              "fillmode": "overlay",
              "size": 10,
              "solidity": 0.2
             }
            },
            "type": "bar"
           }
          ],
          "barpolar": [
           {
            "marker": {
             "line": {
              "color": "#E5ECF6",
              "width": 0.5
             },
             "pattern": {
              "fillmode": "overlay",
              "size": 10,
              "solidity": 0.2
             }
            },
            "type": "barpolar"
           }
          ],
          "carpet": [
           {
            "aaxis": {
             "endlinecolor": "#2a3f5f",
             "gridcolor": "white",
             "linecolor": "white",
             "minorgridcolor": "white",
             "startlinecolor": "#2a3f5f"
            },
            "baxis": {
             "endlinecolor": "#2a3f5f",
             "gridcolor": "white",
             "linecolor": "white",
             "minorgridcolor": "white",
             "startlinecolor": "#2a3f5f"
            },
            "type": "carpet"
           }
          ],
          "choropleth": [
           {
            "colorbar": {
             "outlinewidth": 0,
             "ticks": ""
            },
            "type": "choropleth"
           }
          ],
          "contour": [
           {
            "colorbar": {
             "outlinewidth": 0,
             "ticks": ""
            },
            "colorscale": [
             [
              0,
              "#0d0887"
             ],
             [
              0.1111111111111111,
              "#46039f"
             ],
             [
              0.2222222222222222,
              "#7201a8"
             ],
             [
              0.3333333333333333,
              "#9c179e"
             ],
             [
              0.4444444444444444,
              "#bd3786"
             ],
             [
              0.5555555555555556,
              "#d8576b"
             ],
             [
              0.6666666666666666,
              "#ed7953"
             ],
             [
              0.7777777777777778,
              "#fb9f3a"
             ],
             [
              0.8888888888888888,
              "#fdca26"
             ],
             [
              1,
              "#f0f921"
             ]
            ],
            "type": "contour"
           }
          ],
          "contourcarpet": [
           {
            "colorbar": {
             "outlinewidth": 0,
             "ticks": ""
            },
            "type": "contourcarpet"
           }
          ],
          "heatmap": [
           {
            "colorbar": {
             "outlinewidth": 0,
             "ticks": ""
            },
            "colorscale": [
             [
              0,
              "#0d0887"
             ],
             [
              0.1111111111111111,
              "#46039f"
             ],
             [
              0.2222222222222222,
              "#7201a8"
             ],
             [
              0.3333333333333333,
              "#9c179e"
             ],
             [
              0.4444444444444444,
              "#bd3786"
             ],
             [
              0.5555555555555556,
              "#d8576b"
             ],
             [
              0.6666666666666666,
              "#ed7953"
             ],
             [
              0.7777777777777778,
              "#fb9f3a"
             ],
             [
              0.8888888888888888,
              "#fdca26"
             ],
             [
              1,
              "#f0f921"
             ]
            ],
            "type": "heatmap"
           }
          ],
          "histogram": [
           {
            "marker": {
             "pattern": {
              "fillmode": "overlay",
              "size": 10,
              "solidity": 0.2
             }
            },
            "type": "histogram"
           }
          ],
          "histogram2d": [
           {
            "colorbar": {
             "outlinewidth": 0,
             "ticks": ""
            },
            "colorscale": [
             [
              0,
              "#0d0887"
             ],
             [
              0.1111111111111111,
              "#46039f"
             ],
             [
              0.2222222222222222,
              "#7201a8"
             ],
             [
              0.3333333333333333,
              "#9c179e"
             ],
             [
              0.4444444444444444,
              "#bd3786"
             ],
             [
              0.5555555555555556,
              "#d8576b"
             ],
             [
              0.6666666666666666,
              "#ed7953"
             ],
             [
              0.7777777777777778,
              "#fb9f3a"
             ],
             [
              0.8888888888888888,
              "#fdca26"
             ],
             [
              1,
              "#f0f921"
             ]
            ],
            "type": "histogram2d"
           }
          ],
          "histogram2dcontour": [
           {
            "colorbar": {
             "outlinewidth": 0,
             "ticks": ""
            },
            "colorscale": [
             [
              0,
              "#0d0887"
             ],
             [
              0.1111111111111111,
              "#46039f"
             ],
             [
              0.2222222222222222,
              "#7201a8"
             ],
             [
              0.3333333333333333,
              "#9c179e"
             ],
             [
              0.4444444444444444,
              "#bd3786"
             ],
             [
              0.5555555555555556,
              "#d8576b"
             ],
             [
              0.6666666666666666,
              "#ed7953"
             ],
             [
              0.7777777777777778,
              "#fb9f3a"
             ],
             [
              0.8888888888888888,
              "#fdca26"
             ],
             [
              1,
              "#f0f921"
             ]
            ],
            "type": "histogram2dcontour"
           }
          ],
          "mesh3d": [
           {
            "colorbar": {
             "outlinewidth": 0,
             "ticks": ""
            },
            "type": "mesh3d"
           }
          ],
          "parcoords": [
           {
            "line": {
             "colorbar": {
              "outlinewidth": 0,
              "ticks": ""
             }
            },
            "type": "parcoords"
           }
          ],
          "pie": [
           {
            "automargin": true,
            "type": "pie"
           }
          ],
          "scatter": [
           {
            "fillpattern": {
             "fillmode": "overlay",
             "size": 10,
             "solidity": 0.2
            },
            "type": "scatter"
           }
          ],
          "scatter3d": [
           {
            "line": {
             "colorbar": {
              "outlinewidth": 0,
              "ticks": ""
             }
            },
            "marker": {
             "colorbar": {
              "outlinewidth": 0,
              "ticks": ""
             }
            },
            "type": "scatter3d"
           }
          ],
          "scattercarpet": [
           {
            "marker": {
             "colorbar": {
              "outlinewidth": 0,
              "ticks": ""
             }
            },
            "type": "scattercarpet"
           }
          ],
          "scattergeo": [
           {
            "marker": {
             "colorbar": {
              "outlinewidth": 0,
              "ticks": ""
             }
            },
            "type": "scattergeo"
           }
          ],
          "scattergl": [
           {
            "marker": {
             "colorbar": {
              "outlinewidth": 0,
              "ticks": ""
             }
            },
            "type": "scattergl"
           }
          ],
          "scattermap": [
           {
            "marker": {
             "colorbar": {
              "outlinewidth": 0,
              "ticks": ""
             }
            },
            "type": "scattermap"
           }
          ],
          "scattermapbox": [
           {
            "marker": {
             "colorbar": {
              "outlinewidth": 0,
              "ticks": ""
             }
            },
            "type": "scattermapbox"
           }
          ],
          "scatterpolar": [
           {
            "marker": {
             "colorbar": {
              "outlinewidth": 0,
              "ticks": ""
             }
            },
            "type": "scatterpolar"
           }
          ],
          "scatterpolargl": [
           {
            "marker": {
             "colorbar": {
              "outlinewidth": 0,
              "ticks": ""
             }
            },
            "type": "scatterpolargl"
           }
          ],
          "scatterternary": [
           {
            "marker": {
             "colorbar": {
              "outlinewidth": 0,
              "ticks": ""
             }
            },
            "type": "scatterternary"
           }
          ],
          "surface": [
           {
            "colorbar": {
             "outlinewidth": 0,
             "ticks": ""
            },
            "colorscale": [
             [
              0,
              "#0d0887"
             ],
             [
              0.1111111111111111,
              "#46039f"
             ],
             [
              0.2222222222222222,
              "#7201a8"
             ],
             [
              0.3333333333333333,
              "#9c179e"
             ],
             [
              0.4444444444444444,
              "#bd3786"
             ],
             [
              0.5555555555555556,
              "#d8576b"
             ],
             [
              0.6666666666666666,
              "#ed7953"
             ],
             [
              0.7777777777777778,
              "#fb9f3a"
             ],
             [
              0.8888888888888888,
              "#fdca26"
             ],
             [
              1,
              "#f0f921"
             ]
            ],
            "type": "surface"
           }
          ],
          "table": [
           {
            "cells": {
             "fill": {
              "color": "#EBF0F8"
             },
             "line": {
              "color": "white"
             }
            },
            "header": {
             "fill": {
              "color": "#C8D4E3"
             },
             "line": {
              "color": "white"
             }
            },
            "type": "table"
           }
          ]
         },
         "layout": {
          "annotationdefaults": {
           "arrowcolor": "#2a3f5f",
           "arrowhead": 0,
           "arrowwidth": 1
          },
          "autotypenumbers": "strict",
          "coloraxis": {
           "colorbar": {
            "outlinewidth": 0,
            "ticks": ""
           }
          },
          "colorscale": {
           "diverging": [
            [
             0,
             "#8e0152"
            ],
            [
             0.1,
             "#c51b7d"
            ],
            [
             0.2,
             "#de77ae"
            ],
            [
             0.3,
             "#f1b6da"
            ],
            [
             0.4,
             "#fde0ef"
            ],
            [
             0.5,
             "#f7f7f7"
            ],
            [
             0.6,
             "#e6f5d0"
            ],
            [
             0.7,
             "#b8e186"
            ],
            [
             0.8,
             "#7fbc41"
            ],
            [
             0.9,
             "#4d9221"
            ],
            [
             1,
             "#276419"
            ]
           ],
           "sequential": [
            [
             0,
             "#0d0887"
            ],
            [
             0.1111111111111111,
             "#46039f"
            ],
            [
             0.2222222222222222,
             "#7201a8"
            ],
            [
             0.3333333333333333,
             "#9c179e"
            ],
            [
             0.4444444444444444,
             "#bd3786"
            ],
            [
             0.5555555555555556,
             "#d8576b"
            ],
            [
             0.6666666666666666,
             "#ed7953"
            ],
            [
             0.7777777777777778,
             "#fb9f3a"
            ],
            [
             0.8888888888888888,
             "#fdca26"
            ],
            [
             1,
             "#f0f921"
            ]
           ],
           "sequentialminus": [
            [
             0,
             "#0d0887"
            ],
            [
             0.1111111111111111,
             "#46039f"
            ],
            [
             0.2222222222222222,
             "#7201a8"
            ],
            [
             0.3333333333333333,
             "#9c179e"
            ],
            [
             0.4444444444444444,
             "#bd3786"
            ],
            [
             0.5555555555555556,
             "#d8576b"
            ],
            [
             0.6666666666666666,
             "#ed7953"
            ],
            [
             0.7777777777777778,
             "#fb9f3a"
            ],
            [
             0.8888888888888888,
             "#fdca26"
            ],
            [
             1,
             "#f0f921"
            ]
           ]
          },
          "colorway": [
           "#636efa",
           "#EF553B",
           "#00cc96",
           "#ab63fa",
           "#FFA15A",
           "#19d3f3",
           "#FF6692",
           "#B6E880",
           "#FF97FF",
           "#FECB52"
          ],
          "font": {
           "color": "#2a3f5f"
          },
          "geo": {
           "bgcolor": "white",
           "lakecolor": "white",
           "landcolor": "#E5ECF6",
           "showlakes": true,
           "showland": true,
           "subunitcolor": "white"
          },
          "hoverlabel": {
           "align": "left"
          },
          "hovermode": "closest",
          "mapbox": {
           "style": "light"
          },
          "paper_bgcolor": "white",
          "plot_bgcolor": "#E5ECF6",
          "polar": {
           "angularaxis": {
            "gridcolor": "white",
            "linecolor": "white",
            "ticks": ""
           },
           "bgcolor": "#E5ECF6",
           "radialaxis": {
            "gridcolor": "white",
            "linecolor": "white",
            "ticks": ""
           }
          },
          "scene": {
           "xaxis": {
            "backgroundcolor": "#E5ECF6",
            "gridcolor": "white",
            "gridwidth": 2,
            "linecolor": "white",
            "showbackground": true,
            "ticks": "",
            "zerolinecolor": "white"
           },
           "yaxis": {
            "backgroundcolor": "#E5ECF6",
            "gridcolor": "white",
            "gridwidth": 2,
            "linecolor": "white",
            "showbackground": true,
            "ticks": "",
            "zerolinecolor": "white"
           },
           "zaxis": {
            "backgroundcolor": "#E5ECF6",
            "gridcolor": "white",
            "gridwidth": 2,
            "linecolor": "white",
            "showbackground": true,
            "ticks": "",
            "zerolinecolor": "white"
           }
          },
          "shapedefaults": {
           "line": {
            "color": "#2a3f5f"
           }
          },
          "ternary": {
           "aaxis": {
            "gridcolor": "white",
            "linecolor": "white",
            "ticks": ""
           },
           "baxis": {
            "gridcolor": "white",
            "linecolor": "white",
            "ticks": ""
           },
           "bgcolor": "#E5ECF6",
           "caxis": {
            "gridcolor": "white",
            "linecolor": "white",
            "ticks": ""
           }
          },
          "title": {
           "x": 0.05
          },
          "xaxis": {
           "automargin": true,
           "gridcolor": "white",
           "linecolor": "white",
           "ticks": "",
           "title": {
            "standoff": 15
           },
           "zerolinecolor": "white",
           "zerolinewidth": 2
          },
          "yaxis": {
           "automargin": true,
           "gridcolor": "white",
           "linecolor": "white",
           "ticks": "",
           "title": {
            "standoff": 15
           },
           "zerolinecolor": "white",
           "zerolinewidth": 2
          }
         }
        },
        "width": 900,
        "xaxis": {
         "gridcolor": "#1F292F",
         "nticks": 5,
         "rangeslider": {
          "visible": false
         }
        },
        "yaxis": {
         "gridcolor": "#1f292f"
        }
       }
      }
     },
     "metadata": {},
     "output_type": "display_data"
    }
   ],
   "source": [
    "cp = CandlePlot(df_plot)"
   ]
  },
  {
   "cell_type": "code",
   "execution_count": 19,
   "metadata": {},
   "outputs": [
    {
     "data": {
      "application/vnd.plotly.v1+json": {
       "config": {
        "plotlyServerURL": "https://plot.ly"
       },
       "data": [
        {
         "close": {
          "bdata": "2ubG9IQl8D/a5sb0hCXwPxMsDmd+NfA/nL8JhQg48D+/fR04Z0TwP14R/G8lO/A/9+RhodY08D9qwYu+gjTwPzIge737Y/A/Pbg7a7dd8D/Du1zEd2LwP+qymNh8XPA/hj3t8Ndk8D/d0mpI3GPwPztwzojSXvA/LSEf9GxW8D8DWyVYHE7wP+7rwDkjSvA/lPYGX5hM8D/s+gW7YVvwP671RUJbTvA/BoGVQ4ts8D+1/SsrTUrwP1j/5zBfXvA/wARu3c1T8D/u68A5I0rwP+ZciqvKPvA/eH+8V61M8D/lCu9yEV/wP2OXqN4aWPA/Jqq3BrZK8D8wgVt381TwP+wS1VsDW/A/26LMBplk8D9f7/54r1rwP9CbilQYW/A/dXYyOEpe8D8GKuPfZ1zwP9obfGEyVfA/IsMq3sg88D/5FADjGTTwP3LhQEgWMPA/ml/NAYI58D/LLa2GxD3wP9IdxM4UOvA/JlMFo5I68D8FxY8xdy3wP4ums5PBUfA/6lvmdFlM8D+JXkax3FLwP37GhQMhWfA/FytqMA1D8D/GbTSAt0DwP1UYWwhyUPA/cF8HzhlR8D8vUb01sFXwP1/v/nivWvA/f4eiQJ9I8D/iOzHrxVDwP3fWbrvQXPA/XwfOGVFa8D9dp5GWylvwPw1xrIvbaPA/G4F4Xb9g8D8AkX77OnDwP7SrkPKTavA/9kArMGR18D+QFJFhFW/wP4rNx7WhYvA/LQlQU8tW8D8A4xk09E/wP07RkVz+Q/A/qfbpeMxA8D8jSnuDL0zwP3dn7bYLTfA/B9MwfERM8D+vzjEgez3wP4Vf6udNRfA/wa27eapD8D9QATCeQUPwP3QHsTOFTvA/d2fttgtN8D/FG5lH/mDwPzDYDdsWZfA/Olj/5zBf8D/HSzeJQWDwPwhagSGrW/A/ODKP/MFA8D/QRNjw9ErwP7X9KytNSvA/FeP8TShE8D/O/GoOEEzwP8pUwaikTvA/jL6CNGNR8D//ykqTUlDwP+WbbW5MT/A/A0NWt3pO8D+PNo5Yi0/wP1IP0egOYvA/4XoUrkdh8D8=",
          "dtype": "f8"
         },
         "decreasing": {
          "fillcolor": "#CC2E3C",
          "line": {
           "color": "#FF3A4C"
          }
         },
         "high": {
          "bdata": "RuuoaoIo8D8e3J212y7wP5NvtrkxPfA/DvPlBdhH8D+KdhVSflLwP9TUsrW+SPA/sOYAwRw98D/Q7SWN0TrwP4B9dOrKZ/A/kUQvo1hu8D8j+N9KdmzwPzIge737Y/A/EjElkuhl8D9olgSoqWXwP1X2XRH8b/A/umsJ+aBn8D+ojH+fcWHwPx6KAn0iT/A/5ZttbkxP8D+VZYhjXVzwPx8RUyKJXvA/NQcI5uhx8D/iAWVTrnDwP3ReY5eoXvA/PIidKXRe8D+hLedSXFXwP7oUV5V9V/A/4jsx68VQ8D9i1ouhnGjwP8UDyqZcYfA/7lpCPuhZ8D+BPpEnSVfwP3am0HmNXfA/fQVpxqJp8D8qAMYzaGjwPyBB8WPMXfA/yHvVyoRf8D9K7xtfe2bwPxuBeF2/YPA/vqQxWkdV8D+RD3o2qz7wP9gN2xZlNvA/e4hGdxA78D8D7KNTVz7wP3AIVWr2QPA/9dvXgXNG8D/mdFlMbD7wPyYZOQt7WvA/Zd8Vwf9W8D9dv2A3bFvwPwA6zJcXYPA/8KKvIM1Y8D9JERlW8UbwP/1qDhDMUfA/F4IclDBT8D9cj8L1KFzwP4BlpUkpaPA/vyuC/61k8D8QejarPlfwPz7o2az6XPA/IoleRrFc8D+lLEMc62LwP3b9gt2wbfA/H2gFhqxu8D83T3XIzXDwP8ai6exkcPA/1QloImx48D/ayeAoeXXwP/5IERlWcfA/26LMBplk8D84+MJkqmDwP3GPpQ9dUPA/gv+tZMdG8D+srdhfdk/wPx+6oL5lTvA/g4b+CS5W8D8/kSdJ10zwP9c07zhFR/A/gy9MpgpG8D+cFrzoK0jwP482jliLT/A/cF8HzhlR8D81mIbhI2LwP0eP39v0Z/A/ngyOkldn8D+nXOFdLmLwP26GG/D5YfA/p3Sw/s9h8D+wVYLF4UzwPzsBTYQNT/A/C3va4a9J8D8jSnuDL0zwP9VbA1slWPA/+yKhLedS8D8Jih9j7lrwPzGx+bg2VPA/w2SqYFRS8D+M1lHVBFHwP05/9iNFZPA/2nIuxVVl8D8=",
          "dtype": "f8"
         },
         "increasing": {
          "fillcolor": "#24A06B",
          "line": {
           "color": "#2EC886"
          }
         },
         "line": {
          "width": 1
         },
         "low": {
          "bdata": "jukJSzwg8D9rmnecoiPwP6gY529CIfA/VDpY/+cw8D+mD11Q3zLwP0T67evAOfA/MdP2r6w08D83ww34/DDwP2rZWl8kNPA/Crq9pDFa8D9aL4Zyol3wP+0qpPykWvA/BhIUP8Zc8D/mIr4Ts17wP5kNMsnIWfA/LJrOTgZH8D+zzY3pCUvwPzp6/N6mP/A/RrHc0mpI8D+YhuEjYkrwP6Cmlq31RfA/TtGRXP5D8D87qpog6j7wP/J7m/7sR/A/bM8sCVBT8D+1FfvL7knwP4UIOIQqNfA/JlMFo5I68D+atn9lpUnwPz1JumbyTfA/QiECDqFK8D9gsBu2LUrwP0WBPpEnSfA/K8HicOZX8D9szywJUFPwP52dDI6SV/A/KpFEL6NY8D9dv2A3bFvwPxea6zTSUvA/Haz/c5gv8D/rrYGtEizwP1jKMsSxLvA/ATW1bK0v8D8OhGQBEzjwP8Ama9RDNPA/uAa2SrA48D/yzTY3pifwP3kB9tGpK/A/RFGgT+RJ8D9eaK7TSEvwP5YmpaDbS/A/WMoyxLEu8D+k374OnDPwP8i1oWKcP/A/dk8eFmpN8D88MevFUE7wP6W9wRcmU/A/nUZaKm9H8D95WKg1zTvwP1dgyOpWT/A/MbH5uDZU8D9/9iNFZFjwP/MC7KNTV/A/QBh47j1c8D931m670FzwP9uizAaZZPA/8PlhhPBo8D+0k8FR8mrwP9VbA1slWPA/+KqVCb9U8D/RdHYyOErwP6VmD7QCQ/A/PQrXo3A98D9xOPOrOUDwP+VEuwopP/A/t0WZDTJJ8D9uUWaDTDLwPwZM4NbdPPA/5US7Cik/8D/9E1ysqEHwP46vPbMkQPA/b9i2KLNB8D+71XPS+0bwPzyInSl0XvA/rTQpBd1e8D/L2xFOC17wP5olAWpqWfA/5US7Cik/8D/ulA7W/znwP0op6PaSRvA/GqN1VDVB8D8ziuWWVkPwP2e4AZ8fRvA/ZohjXdxG8D9YqDXNO07wP3mvWpnwS/A/BYvDmV9N8D8hAg6hSk3wP8k88gcDT/A/DkqYaftX8D8=",
          "dtype": "f8"
         },
         "opacity": 1,
         "open": {
          "bdata": "3o5wWvAi8D9LqyFxjyXwP0urIXGPJfA/EywOZ3418D+ASL99HTjwPzFCeLRxRPA/JlMFo5I68D/35GGh1jTwP9uF5jqNNPA/h22LMhtk8D9aL4Zyol3wPzSAt0CCYvA/d76fGi9d8D8w2A3bFmXwP2sOEMzRY/A/O3DOiNJe8D9KmGn7V1bwPyDSb18HTvA/YviImBJJ8D9bCHJQwkzwPwhyUMJMW/A/H7qgvmVO8D8/bypSYWzwP3wPlxx3SvA/Pbg7a7dd8D9PQBNhw1PwP3wnZr0YSvA/dJgvL8A+8D94f7xXrUzwP1fPSe8bX/A/ufyH9NtX8D8mqrcGtkrwP034pX7eVPA/7BLVWwNb8D9q3nGKjmTwP3tmSYCaWvA/7lpCPuhZ8D91djI4Sl7wP+qymNh8XPA/TODW3TxV8D8/OnXlszzwPzIDlfHvM/A/ATW1bK0v8D/TTWIQWDnwP8strYbEPfA/7pQO1v858D+YF2AfnTrwP+hNRSqMLfA/4QuTqYJR8D9cIEHxY0zwP23n+6nxUvA/8KKvIM1Y8D+J78SsF0PwP+LkfoeiQPA/GyrG+ZtQ8D/+mqxRD1HwP6AVGLK6VfA/Qni0ccRa8D8Nw0fElEjwP43uIHamUPA/DAIrhxZZ8D/uQnOdRlrwPyTRyyiWW/A/8PlhhPBo8D8bgXhdv2DwP+MZNPRPcPA/JVgczvxq8D/ayeAoeXXwPx5QNuUKb/A/w7tcxHdi8D+fzarP1VbwPznRrkLKT/A/+YOB595D8D/+Q/rt60DwPyNKe4MvTPA/BaOSOgFN8D8jSnuDL0zwPz0K16NwPfA/TtGRXP5D8D9rYKsEi0PwP9481SE3Q/A/A0NWt3pO8D9a8KKvIE3wP3DOiNLeYPA/aK7TSEtl8D86WP/nMF/wP8dLN4lBYPA/CFqBIatb8D9UqdkDrUDwP+27IvjfSvA/gLdAguJH8D+jHqLRHUTwP0DBxYoaTPA/ylTBqKRO8D/9gt2wbVHwP3GPpQ9dUPA/V3iXi/hO8D/mywuwj07wP6yt2F92T/A/w9MrZRli8D8=",
          "dtype": "f8"
         },
         "type": "candlestick",
         "x": [
          "s22-07-17 21 : 00",
          "s22-07-18 01 : 00",
          "s22-07-18 05 : 00",
          "s22-07-18 09 : 00",
          "s22-07-18 13 : 00",
          "s22-07-18 17 : 00",
          "s22-07-18 21 : 00",
          "s22-07-19 01 : 00",
          "s22-07-19 05 : 00",
          "s22-07-19 09 : 00",
          "s22-07-19 13 : 00",
          "s22-07-19 17 : 00",
          "s22-07-19 21 : 00",
          "s22-07-20 01 : 00",
          "s22-07-20 05 : 00",
          "s22-07-20 09 : 00",
          "s22-07-20 13 : 00",
          "s22-07-20 17 : 00",
          "s22-07-20 21 : 00",
          "s22-07-21 01 : 00",
          "s22-07-21 05 : 00",
          "s22-07-21 09 : 00",
          "s22-07-21 13 : 00",
          "s22-07-21 17 : 00",
          "s22-07-21 21 : 00",
          "s22-07-22 01 : 00",
          "s22-07-22 05 : 00",
          "s22-07-22 09 : 00",
          "s22-07-22 13 : 00",
          "s22-07-22 17 : 00",
          "s22-07-24 21 : 00",
          "s22-07-25 01 : 00",
          "s22-07-25 05 : 00",
          "s22-07-25 09 : 00",
          "s22-07-25 13 : 00",
          "s22-07-25 17 : 00",
          "s22-07-25 21 : 00",
          "s22-07-26 01 : 00",
          "s22-07-26 05 : 00",
          "s22-07-26 09 : 00",
          "s22-07-26 13 : 00",
          "s22-07-26 17 : 00",
          "s22-07-26 21 : 00",
          "s22-07-27 01 : 00",
          "s22-07-27 05 : 00",
          "s22-07-27 09 : 00",
          "s22-07-27 13 : 00",
          "s22-07-27 17 : 00",
          "s22-07-27 21 : 00",
          "s22-07-28 01 : 00",
          "s22-07-28 05 : 00",
          "s22-07-28 09 : 00",
          "s22-07-28 13 : 00",
          "s22-07-28 17 : 00",
          "s22-07-28 21 : 00",
          "s22-07-29 01 : 00",
          "s22-07-29 05 : 00",
          "s22-07-29 09 : 00",
          "s22-07-29 13 : 00",
          "s22-07-29 17 : 00",
          "s22-07-31 21 : 00",
          "s22-08-01 01 : 00",
          "s22-08-01 05 : 00",
          "s22-08-01 09 : 00",
          "s22-08-01 13 : 00",
          "s22-08-01 17 : 00",
          "s22-08-01 21 : 00",
          "s22-08-02 01 : 00",
          "s22-08-02 05 : 00",
          "s22-08-02 09 : 00",
          "s22-08-02 13 : 00",
          "s22-08-02 17 : 00",
          "s22-08-02 21 : 00",
          "s22-08-03 01 : 00",
          "s22-08-03 05 : 00",
          "s22-08-03 09 : 00",
          "s22-08-03 13 : 00",
          "s22-08-03 17 : 00",
          "s22-08-03 21 : 00",
          "s22-08-04 01 : 00",
          "s22-08-04 05 : 00",
          "s22-08-04 09 : 00",
          "s22-08-04 13 : 00",
          "s22-08-04 17 : 00",
          "s22-08-04 21 : 00",
          "s22-08-05 01 : 00",
          "s22-08-05 05 : 00",
          "s22-08-05 09 : 00",
          "s22-08-05 13 : 00",
          "s22-08-05 17 : 00",
          "s22-08-07 21 : 00",
          "s22-08-08 01 : 00",
          "s22-08-08 05 : 00",
          "s22-08-08 09 : 00",
          "s22-08-08 13 : 00",
          "s22-08-08 17 : 00",
          "s22-08-08 21 : 00",
          "s22-08-09 01 : 00",
          "s22-08-09 05 : 00",
          "s22-08-09 09 : 00"
         ]
        }
       ],
       "layout": {
        "font": {
         "color": "#e1e1e1",
         "size": 8
        },
        "height": 400,
        "margin": {
         "b": 10,
         "l": 10,
         "r": 10,
         "t": 10
        },
        "paper_bgcolor": "#2c303c",
        "plot_bgcolor": "#2c303c",
        "template": {
         "data": {
          "bar": [
           {
            "error_x": {
             "color": "#2a3f5f"
            },
            "error_y": {
             "color": "#2a3f5f"
            },
            "marker": {
             "line": {
              "color": "#E5ECF6",
              "width": 0.5
             },
             "pattern": {
              "fillmode": "overlay",
              "size": 10,
              "solidity": 0.2
             }
            },
            "type": "bar"
           }
          ],
          "barpolar": [
           {
            "marker": {
             "line": {
              "color": "#E5ECF6",
              "width": 0.5
             },
             "pattern": {
              "fillmode": "overlay",
              "size": 10,
              "solidity": 0.2
             }
            },
            "type": "barpolar"
           }
          ],
          "carpet": [
           {
            "aaxis": {
             "endlinecolor": "#2a3f5f",
             "gridcolor": "white",
             "linecolor": "white",
             "minorgridcolor": "white",
             "startlinecolor": "#2a3f5f"
            },
            "baxis": {
             "endlinecolor": "#2a3f5f",
             "gridcolor": "white",
             "linecolor": "white",
             "minorgridcolor": "white",
             "startlinecolor": "#2a3f5f"
            },
            "type": "carpet"
           }
          ],
          "choropleth": [
           {
            "colorbar": {
             "outlinewidth": 0,
             "ticks": ""
            },
            "type": "choropleth"
           }
          ],
          "contour": [
           {
            "colorbar": {
             "outlinewidth": 0,
             "ticks": ""
            },
            "colorscale": [
             [
              0,
              "#0d0887"
             ],
             [
              0.1111111111111111,
              "#46039f"
             ],
             [
              0.2222222222222222,
              "#7201a8"
             ],
             [
              0.3333333333333333,
              "#9c179e"
             ],
             [
              0.4444444444444444,
              "#bd3786"
             ],
             [
              0.5555555555555556,
              "#d8576b"
             ],
             [
              0.6666666666666666,
              "#ed7953"
             ],
             [
              0.7777777777777778,
              "#fb9f3a"
             ],
             [
              0.8888888888888888,
              "#fdca26"
             ],
             [
              1,
              "#f0f921"
             ]
            ],
            "type": "contour"
           }
          ],
          "contourcarpet": [
           {
            "colorbar": {
             "outlinewidth": 0,
             "ticks": ""
            },
            "type": "contourcarpet"
           }
          ],
          "heatmap": [
           {
            "colorbar": {
             "outlinewidth": 0,
             "ticks": ""
            },
            "colorscale": [
             [
              0,
              "#0d0887"
             ],
             [
              0.1111111111111111,
              "#46039f"
             ],
             [
              0.2222222222222222,
              "#7201a8"
             ],
             [
              0.3333333333333333,
              "#9c179e"
             ],
             [
              0.4444444444444444,
              "#bd3786"
             ],
             [
              0.5555555555555556,
              "#d8576b"
             ],
             [
              0.6666666666666666,
              "#ed7953"
             ],
             [
              0.7777777777777778,
              "#fb9f3a"
             ],
             [
              0.8888888888888888,
              "#fdca26"
             ],
             [
              1,
              "#f0f921"
             ]
            ],
            "type": "heatmap"
           }
          ],
          "histogram": [
           {
            "marker": {
             "pattern": {
              "fillmode": "overlay",
              "size": 10,
              "solidity": 0.2
             }
            },
            "type": "histogram"
           }
          ],
          "histogram2d": [
           {
            "colorbar": {
             "outlinewidth": 0,
             "ticks": ""
            },
            "colorscale": [
             [
              0,
              "#0d0887"
             ],
             [
              0.1111111111111111,
              "#46039f"
             ],
             [
              0.2222222222222222,
              "#7201a8"
             ],
             [
              0.3333333333333333,
              "#9c179e"
             ],
             [
              0.4444444444444444,
              "#bd3786"
             ],
             [
              0.5555555555555556,
              "#d8576b"
             ],
             [
              0.6666666666666666,
              "#ed7953"
             ],
             [
              0.7777777777777778,
              "#fb9f3a"
             ],
             [
              0.8888888888888888,
              "#fdca26"
             ],
             [
              1,
              "#f0f921"
             ]
            ],
            "type": "histogram2d"
           }
          ],
          "histogram2dcontour": [
           {
            "colorbar": {
             "outlinewidth": 0,
             "ticks": ""
            },
            "colorscale": [
             [
              0,
              "#0d0887"
             ],
             [
              0.1111111111111111,
              "#46039f"
             ],
             [
              0.2222222222222222,
              "#7201a8"
             ],
             [
              0.3333333333333333,
              "#9c179e"
             ],
             [
              0.4444444444444444,
              "#bd3786"
             ],
             [
              0.5555555555555556,
              "#d8576b"
             ],
             [
              0.6666666666666666,
              "#ed7953"
             ],
             [
              0.7777777777777778,
              "#fb9f3a"
             ],
             [
              0.8888888888888888,
              "#fdca26"
             ],
             [
              1,
              "#f0f921"
             ]
            ],
            "type": "histogram2dcontour"
           }
          ],
          "mesh3d": [
           {
            "colorbar": {
             "outlinewidth": 0,
             "ticks": ""
            },
            "type": "mesh3d"
           }
          ],
          "parcoords": [
           {
            "line": {
             "colorbar": {
              "outlinewidth": 0,
              "ticks": ""
             }
            },
            "type": "parcoords"
           }
          ],
          "pie": [
           {
            "automargin": true,
            "type": "pie"
           }
          ],
          "scatter": [
           {
            "fillpattern": {
             "fillmode": "overlay",
             "size": 10,
             "solidity": 0.2
            },
            "type": "scatter"
           }
          ],
          "scatter3d": [
           {
            "line": {
             "colorbar": {
              "outlinewidth": 0,
              "ticks": ""
             }
            },
            "marker": {
             "colorbar": {
              "outlinewidth": 0,
              "ticks": ""
             }
            },
            "type": "scatter3d"
           }
          ],
          "scattercarpet": [
           {
            "marker": {
             "colorbar": {
              "outlinewidth": 0,
              "ticks": ""
             }
            },
            "type": "scattercarpet"
           }
          ],
          "scattergeo": [
           {
            "marker": {
             "colorbar": {
              "outlinewidth": 0,
              "ticks": ""
             }
            },
            "type": "scattergeo"
           }
          ],
          "scattergl": [
           {
            "marker": {
             "colorbar": {
              "outlinewidth": 0,
              "ticks": ""
             }
            },
            "type": "scattergl"
           }
          ],
          "scattermap": [
           {
            "marker": {
             "colorbar": {
              "outlinewidth": 0,
              "ticks": ""
             }
            },
            "type": "scattermap"
           }
          ],
          "scattermapbox": [
           {
            "marker": {
             "colorbar": {
              "outlinewidth": 0,
              "ticks": ""
             }
            },
            "type": "scattermapbox"
           }
          ],
          "scatterpolar": [
           {
            "marker": {
             "colorbar": {
              "outlinewidth": 0,
              "ticks": ""
             }
            },
            "type": "scatterpolar"
           }
          ],
          "scatterpolargl": [
           {
            "marker": {
             "colorbar": {
              "outlinewidth": 0,
              "ticks": ""
             }
            },
            "type": "scatterpolargl"
           }
          ],
          "scatterternary": [
           {
            "marker": {
             "colorbar": {
              "outlinewidth": 0,
              "ticks": ""
             }
            },
            "type": "scatterternary"
           }
          ],
          "surface": [
           {
            "colorbar": {
             "outlinewidth": 0,
             "ticks": ""
            },
            "colorscale": [
             [
              0,
              "#0d0887"
             ],
             [
              0.1111111111111111,
              "#46039f"
             ],
             [
              0.2222222222222222,
              "#7201a8"
             ],
             [
              0.3333333333333333,
              "#9c179e"
             ],
             [
              0.4444444444444444,
              "#bd3786"
             ],
             [
              0.5555555555555556,
              "#d8576b"
             ],
             [
              0.6666666666666666,
              "#ed7953"
             ],
             [
              0.7777777777777778,
              "#fb9f3a"
             ],
             [
              0.8888888888888888,
              "#fdca26"
             ],
             [
              1,
              "#f0f921"
             ]
            ],
            "type": "surface"
           }
          ],
          "table": [
           {
            "cells": {
             "fill": {
              "color": "#EBF0F8"
             },
             "line": {
              "color": "white"
             }
            },
            "header": {
             "fill": {
              "color": "#C8D4E3"
             },
             "line": {
              "color": "white"
             }
            },
            "type": "table"
           }
          ]
         },
         "layout": {
          "annotationdefaults": {
           "arrowcolor": "#2a3f5f",
           "arrowhead": 0,
           "arrowwidth": 1
          },
          "autotypenumbers": "strict",
          "coloraxis": {
           "colorbar": {
            "outlinewidth": 0,
            "ticks": ""
           }
          },
          "colorscale": {
           "diverging": [
            [
             0,
             "#8e0152"
            ],
            [
             0.1,
             "#c51b7d"
            ],
            [
             0.2,
             "#de77ae"
            ],
            [
             0.3,
             "#f1b6da"
            ],
            [
             0.4,
             "#fde0ef"
            ],
            [
             0.5,
             "#f7f7f7"
            ],
            [
             0.6,
             "#e6f5d0"
            ],
            [
             0.7,
             "#b8e186"
            ],
            [
             0.8,
             "#7fbc41"
            ],
            [
             0.9,
             "#4d9221"
            ],
            [
             1,
             "#276419"
            ]
           ],
           "sequential": [
            [
             0,
             "#0d0887"
            ],
            [
             0.1111111111111111,
             "#46039f"
            ],
            [
             0.2222222222222222,
             "#7201a8"
            ],
            [
             0.3333333333333333,
             "#9c179e"
            ],
            [
             0.4444444444444444,
             "#bd3786"
            ],
            [
             0.5555555555555556,
             "#d8576b"
            ],
            [
             0.6666666666666666,
             "#ed7953"
            ],
            [
             0.7777777777777778,
             "#fb9f3a"
            ],
            [
             0.8888888888888888,
             "#fdca26"
            ],
            [
             1,
             "#f0f921"
            ]
           ],
           "sequentialminus": [
            [
             0,
             "#0d0887"
            ],
            [
             0.1111111111111111,
             "#46039f"
            ],
            [
             0.2222222222222222,
             "#7201a8"
            ],
            [
             0.3333333333333333,
             "#9c179e"
            ],
            [
             0.4444444444444444,
             "#bd3786"
            ],
            [
             0.5555555555555556,
             "#d8576b"
            ],
            [
             0.6666666666666666,
             "#ed7953"
            ],
            [
             0.7777777777777778,
             "#fb9f3a"
            ],
            [
             0.8888888888888888,
             "#fdca26"
            ],
            [
             1,
             "#f0f921"
            ]
           ]
          },
          "colorway": [
           "#636efa",
           "#EF553B",
           "#00cc96",
           "#ab63fa",
           "#FFA15A",
           "#19d3f3",
           "#FF6692",
           "#B6E880",
           "#FF97FF",
           "#FECB52"
          ],
          "font": {
           "color": "#2a3f5f"
          },
          "geo": {
           "bgcolor": "white",
           "lakecolor": "white",
           "landcolor": "#E5ECF6",
           "showlakes": true,
           "showland": true,
           "subunitcolor": "white"
          },
          "hoverlabel": {
           "align": "left"
          },
          "hovermode": "closest",
          "mapbox": {
           "style": "light"
          },
          "paper_bgcolor": "white",
          "plot_bgcolor": "#E5ECF6",
          "polar": {
           "angularaxis": {
            "gridcolor": "white",
            "linecolor": "white",
            "ticks": ""
           },
           "bgcolor": "#E5ECF6",
           "radialaxis": {
            "gridcolor": "white",
            "linecolor": "white",
            "ticks": ""
           }
          },
          "scene": {
           "xaxis": {
            "backgroundcolor": "#E5ECF6",
            "gridcolor": "white",
            "gridwidth": 2,
            "linecolor": "white",
            "showbackground": true,
            "ticks": "",
            "zerolinecolor": "white"
           },
           "yaxis": {
            "backgroundcolor": "#E5ECF6",
            "gridcolor": "white",
            "gridwidth": 2,
            "linecolor": "white",
            "showbackground": true,
            "ticks": "",
            "zerolinecolor": "white"
           },
           "zaxis": {
            "backgroundcolor": "#E5ECF6",
            "gridcolor": "white",
            "gridwidth": 2,
            "linecolor": "white",
            "showbackground": true,
            "ticks": "",
            "zerolinecolor": "white"
           }
          },
          "shapedefaults": {
           "line": {
            "color": "#2a3f5f"
           }
          },
          "ternary": {
           "aaxis": {
            "gridcolor": "white",
            "linecolor": "white",
            "ticks": ""
           },
           "baxis": {
            "gridcolor": "white",
            "linecolor": "white",
            "ticks": ""
           },
           "bgcolor": "#E5ECF6",
           "caxis": {
            "gridcolor": "white",
            "linecolor": "white",
            "ticks": ""
           }
          },
          "title": {
           "x": 0.05
          },
          "xaxis": {
           "automargin": true,
           "gridcolor": "white",
           "linecolor": "white",
           "ticks": "",
           "title": {
            "standoff": 15
           },
           "zerolinecolor": "white",
           "zerolinewidth": 2
          },
          "yaxis": {
           "automargin": true,
           "gridcolor": "white",
           "linecolor": "white",
           "ticks": "",
           "title": {
            "standoff": 15
           },
           "zerolinecolor": "white",
           "zerolinewidth": 2
          }
         }
        },
        "width": 900,
        "xaxis": {
         "gridcolor": "#1F292F",
         "nticks": 5,
         "rangeslider": {
          "visible": false
         }
        },
        "yaxis": {
         "gridcolor": "#1f292f"
        }
       }
      }
     },
     "metadata": {},
     "output_type": "display_data"
    }
   ],
   "source": [
    "cp.show_plot()"
   ]
  },
  {
   "cell_type": "code",
   "execution_count": null,
   "metadata": {},
   "outputs": [],
   "source": []
  }
 ],
 "metadata": {
  "kernelspec": {
   "display_name": "venv",
   "language": "python",
   "name": "python3"
  },
  "language_info": {
   "codemirror_mode": {
    "name": "ipython",
    "version": 3
   },
   "file_extension": ".py",
   "mimetype": "text/x-python",
   "name": "python",
   "nbconvert_exporter": "python",
   "pygments_lexer": "ipython3",
   "version": "3.11.9"
  }
 },
 "nbformat": 4,
 "nbformat_minor": 2
}
