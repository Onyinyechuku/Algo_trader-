{
 "cells": [
  {
   "cell_type": "code",
   "execution_count": 1,
   "id": "2727bea3-031e-42ed-9aed-658958c281e1",
   "metadata": {},
   "outputs": [],
   "source": [
    "import sys\n",
    "sys.path.append(\"../\")\n",
    "\n",
    "import pandas as pd\n",
    "import plotly.graph_objects as go"
   ]
  },
  {
   "cell_type": "code",
   "execution_count": 1,
   "id": "a6a15b53-465b-4795-9e02-8858601fec19",
   "metadata": {},
   "outputs": [],
   "source": [
    "from infrastructure.instrument_collection import InstrumentCollection"
   ]
  },
  {
   "cell_type": "code",
   "execution_count": 2,
   "id": "46c927c7-229a-46b0-b5f8-ed9d75eb36df",
   "metadata": {},
   "outputs": [],
   "source": [
    "def load_results(ic):\n",
    "    res = []\n",
    "    trades = []\n",
    "    our_curr = ['USD', 'GBP', 'JPY', 'NZD']\n",
    "    for p1 in our_curr:\n",
    "        for p2 in our_curr:\n",
    "            pair = f\"{p1}_{p2}\"\n",
    "            if pair in ic.instruments_dict.keys():\n",
    "                res.append(pd.read_pickle(f\"./macd_ema/macd_ema_res_{pair}.pkl\"))\n",
    "                trades.append(pd.read_pickle(f\"./macd_ema/trades/macd_ema_trades_{pair}.pkl\"))\n",
    "    return pd.concat(res), pd.concat(trades)"
   ]
  },
  {
   "cell_type": "code",
   "execution_count": null,
   "id": "b3a9d90d-1ae2-4d6c-8b15-5ca84283a60d",
   "metadata": {},
   "outputs": [],
   "source": [
    "df_results, df_trades = load_results(instrumentCollection)\n",
    "df_results.reset_index(drop=True, inplace=True)\n",
    "df_trades.reset_index(drop=True, inplace=True)"
   ]
  },
  {
   "cell_type": "code",
   "execution_count": null,
   "id": "2b694d30-89c5-4f98-b9b2-530c2eb0c4d4",
   "metadata": {},
   "outputs": [],
   "source": [
    "df_results.head()"
   ]
  },
  {
   "cell_type": "code",
   "execution_count": null,
   "id": "7fe7861b-863c-495c-ba01-6f53de8bfc8a",
   "metadata": {},
   "outputs": [],
   "source": [
    "df_trades.head()"
   ]
  },
  {
   "cell_type": "code",
   "execution_count": null,
   "id": "22a76037-efdc-4c89-977a-917f086a776a",
   "metadata": {},
   "outputs": [],
   "source": [
    "df_results.columns"
   ]
  },
  {
   "cell_type": "code",
   "execution_count": null,
   "id": "c3e595c6-8fda-4575-a639-13a3f0e22e92",
   "metadata": {},
   "outputs": [],
   "source": [
    "# look at the results grouped by setting\n",
    "gr = df_results.groupby(by=['slow', 'fast', 'ema', 'signal'], as_index=False).sum()"
   ]
  },
  {
   "cell_type": "code",
   "execution_count": null,
   "id": "fd1f0aad-9580-4b25-9adc-240c196ae910",
   "metadata": {},
   "outputs": [],
   "source": [
    "# sort descending, best result at the top\n",
    "gr.sort_values(by='result', ascending=False, inplace=True)"
   ]
  },
  {
   "cell_type": "code",
   "execution_count": null,
   "id": "f42669ea-762f-43fe-8cf6-daa3c659c0fe",
   "metadata": {},
   "outputs": [],
   "source": [
    "gr.head()"
   ]
  },
  {
   "cell_type": "code",
   "execution_count": null,
   "id": "ad323f7d-bd54-435e-acf0-42097e83c464",
   "metadata": {},
   "outputs": [],
   "source": [
    "# for the top setting, let's see what we have in terms of individual currency pairs\n",
    "df_results_best = df_results[(df_results.ema==50)&(df_results.fast==18)&(df_results.slow==52)&(df_results.signal==9)]"
   ]
  },
  {
   "cell_type": "code",
   "execution_count": null,
   "id": "8c9c2e93-61a5-4e62-9eaf-53d8a6ffbe25",
   "metadata": {},
   "outputs": [],
   "source": [
    "df_results_best"
   ]
  },
  {
   "cell_type": "code",
   "execution_count": null,
   "id": "a664f863-769b-4d9f-b653-80d87bfe2382",
   "metadata": {},
   "outputs": [],
   "source": [
    "# let's see the individual trades for the top setting\n",
    "df_trades_best = df_trades[(df_trades.ema==50)&(df_trades.fast==18)&(df_trades.slow==52)&(df_trades.signal==9)].copy()"
   ]
  },
  {
   "cell_type": "code",
   "execution_count": null,
   "id": "bcd9bc47-ae46-4c60-b946-762aacb4e514",
   "metadata": {},
   "outputs": [],
   "source": [
    "df_trades_best.columns"
   ]
  },
  {
   "cell_type": "code",
   "execution_count": null,
   "id": "a3b14aa5-e987-4129-8168-9c4199d7ab7b",
   "metadata": {},
   "outputs": [],
   "source": [
    "# let's see how long trades last\n",
    "df_trades_best['duration_h'] = (df_trades_best.end_time - df_trades_best.start_time).dt.total_seconds() / 3600"
   ]
  },
  {
   "cell_type": "code",
   "execution_count": null,
   "id": "dd7efb53-ddaa-464c-8292-5f9c850e731d",
   "metadata": {},
   "outputs": [],
   "source": [
    "df_trades_best['duration_h'].describe()"
   ]
  },
  {
   "cell_type": "code",
   "execution_count": null,
   "id": "98de08bd-ae14-4013-a545-8746e817a813",
   "metadata": {},
   "outputs": [],
   "source": [
    "# win percentage\n",
    "wp = (df_trades_best[df_trades_best.result>0].shape[0] / df_trades_best.shape[0]) * 100\n",
    "print(\"Win percentage\", wp)"
   ]
  },
  {
   "cell_type": "code",
   "execution_count": null,
   "id": "ce0e45cc-fe4c-4ae0-977c-5cc78562ab1b",
   "metadata": {},
   "outputs": [],
   "source": [
    "# we will take a look at the cumulative gains, so sort by end_time\n",
    "df_trades_best.sort_values(by='end_time', inplace=True)"
   ]
  },
  {
   "cell_type": "code",
   "execution_count": null,
   "id": "9326c877-eecc-4456-8117-fb2d533b7d62",
   "metadata": {},
   "outputs": [],
   "source": [
    "df_trades_best['CUM_RES'] = df_trades_best.result.cumsum()"
   ]
  },
  {
   "cell_type": "code",
   "execution_count": null,
   "id": "3743660d-8d48-4052-9ab3-c721c0f925bf",
   "metadata": {},
   "outputs": [],
   "source": [
    "fig = go.Figure()\n",
    "\n",
    "fig.add_trace(go.Scatter(\n",
    "    x=df_trades_best.end_time,\n",
    "    y=df_trades_best['CUM_RES'],\n",
    "    line=dict(width=2)\n",
    "))\n",
    "\n",
    "fig.update_yaxes(\n",
    "    gridcolor=\"#1f292f\"\n",
    ")\n",
    "fig.update_xaxes(\n",
    "    gridcolor=\"#1f292f\"\n",
    ")\n",
    "\n",
    "fig.update_layout(\n",
    "    margin=dict(l=10,r=10,b=10,t=10),\n",
    "    paper_bgcolor=\"#2c303c\",\n",
    "    plot_bgcolor=\"#2c303c\",\n",
    "    font=dict(size=8, color=\"#e1e1e1\"),\n",
    "    height=400\n",
    ")\n",
    "\n",
    "fig.show()"
   ]
  },
  {
   "cell_type": "code",
   "execution_count": null,
   "id": "5ee4f469-ca4f-4066-9e8d-661549b573a0",
   "metadata": {},
   "outputs": [],
   "source": []
  },
  {
   "cell_type": "code",
   "execution_count": null,
   "id": "0b3c86bd-d86e-4c87-8617-2d8c73a2b6e6",
   "metadata": {},
   "outputs": [],
   "source": []
  },
  {
   "cell_type": "code",
   "execution_count": 6,
   "id": "080110df-5ee4-48b8-aea1-cb988a2b2b0f",
   "metadata": {},
   "outputs": [
    {
     "name": "stdout",
     "output_type": "stream",
     "text": [
      "C:\\Users\\Dell\\Documents\\Learning_Algo\\code\n"
     ]
    }
   ],
   "source": [
    "import os\n",
    "print(os.getcwd())\n"
   ]
  },
  {
   "cell_type": "code",
   "execution_count": null,
   "id": "ef2469c0-0fd2-4e53-a27f-eb83f7beb375",
   "metadata": {},
   "outputs": [],
   "source": []
  },
  {
   "cell_type": "code",
   "execution_count": null,
   "id": "71419596-8c74-4fa3-b167-e1103c5531a8",
   "metadata": {},
   "outputs": [],
   "source": []
  }
 ],
 "metadata": {
  "kernelspec": {
   "display_name": "Python 3 (ipykernel)",
   "language": "python",
   "name": "python3"
  },
  "language_info": {
   "codemirror_mode": {
    "name": "ipython",
    "version": 3
   },
   "file_extension": ".py",
   "mimetype": "text/x-python",
   "name": "python",
   "nbconvert_exporter": "python",
   "pygments_lexer": "ipython3",
   "version": "3.11.9"
  }
 },
 "nbformat": 4,
 "nbformat_minor": 5
}
