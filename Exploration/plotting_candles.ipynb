{
 "cells": [
  {
   "cell_type": "code",
   "execution_count": 2,
   "metadata": {},
   "outputs": [],
   "source": [
    "pair =\"EUR_USD\" \n",
    "granularity = \"H4\"\n",
    "df = pd.read_pickle(f\"../data/{pair}_{granularity}.pkl\") "
   ]
  },
  {
   "cell_type": "code",
   "execution_count": 3,
   "metadata": {},
   "outputs": [
    {
     "data": {
      "text/html": [
       "<div>\n",
       "<style scoped>\n",
       "    .dataframe tbody tr th:only-of-type {\n",
       "        vertical-align: middle;\n",
       "    }\n",
       "\n",
       "    .dataframe tbody tr th {\n",
       "        vertical-align: top;\n",
       "    }\n",
       "\n",
       "    .dataframe thead th {\n",
       "        text-align: right;\n",
       "    }\n",
       "</style>\n",
       "<table border=\"1\" class=\"dataframe\">\n",
       "  <thead>\n",
       "    <tr style=\"text-align: right;\">\n",
       "      <th></th>\n",
       "      <th>time</th>\n",
       "      <th>volume</th>\n",
       "      <th>mid_o</th>\n",
       "      <th>mid_h</th>\n",
       "      <th>mid_l</th>\n",
       "      <th>mid_c</th>\n",
       "      <th>bid_o</th>\n",
       "      <th>bid_h</th>\n",
       "      <th>bid_l</th>\n",
       "      <th>bid_c</th>\n",
       "      <th>ask_o</th>\n",
       "      <th>ask_h</th>\n",
       "      <th>ask_l</th>\n",
       "      <th>ask_c</th>\n",
       "    </tr>\n",
       "  </thead>\n",
       "  <tbody>\n",
       "    <tr>\n",
       "      <th>3995</th>\n",
       "      <td>2025-02-10 18:00:00+00:00</td>\n",
       "      <td>10091</td>\n",
       "      <td>1.03124</td>\n",
       "      <td>1.03162</td>\n",
       "      <td>1.03050</td>\n",
       "      <td>1.03070</td>\n",
       "      <td>1.03116</td>\n",
       "      <td>1.03155</td>\n",
       "      <td>1.03043</td>\n",
       "      <td>1.03062</td>\n",
       "      <td>1.03131</td>\n",
       "      <td>1.03169</td>\n",
       "      <td>1.03058</td>\n",
       "      <td>1.03079</td>\n",
       "    </tr>\n",
       "    <tr>\n",
       "      <th>3996</th>\n",
       "      <td>2025-02-10 22:00:00+00:00</td>\n",
       "      <td>9642</td>\n",
       "      <td>1.03092</td>\n",
       "      <td>1.03103</td>\n",
       "      <td>1.02984</td>\n",
       "      <td>1.03020</td>\n",
       "      <td>1.03073</td>\n",
       "      <td>1.03086</td>\n",
       "      <td>1.02976</td>\n",
       "      <td>1.03013</td>\n",
       "      <td>1.03111</td>\n",
       "      <td>1.03122</td>\n",
       "      <td>1.02992</td>\n",
       "      <td>1.03028</td>\n",
       "    </tr>\n",
       "    <tr>\n",
       "      <th>3997</th>\n",
       "      <td>2025-02-11 02:00:00+00:00</td>\n",
       "      <td>12474</td>\n",
       "      <td>1.03020</td>\n",
       "      <td>1.03060</td>\n",
       "      <td>1.02922</td>\n",
       "      <td>1.03047</td>\n",
       "      <td>1.03012</td>\n",
       "      <td>1.03052</td>\n",
       "      <td>1.02914</td>\n",
       "      <td>1.03038</td>\n",
       "      <td>1.03028</td>\n",
       "      <td>1.03069</td>\n",
       "      <td>1.02929</td>\n",
       "      <td>1.03056</td>\n",
       "    </tr>\n",
       "    <tr>\n",
       "      <th>3998</th>\n",
       "      <td>2025-02-11 06:00:00+00:00</td>\n",
       "      <td>24376</td>\n",
       "      <td>1.03047</td>\n",
       "      <td>1.03221</td>\n",
       "      <td>1.02998</td>\n",
       "      <td>1.03180</td>\n",
       "      <td>1.03039</td>\n",
       "      <td>1.03214</td>\n",
       "      <td>1.02989</td>\n",
       "      <td>1.03172</td>\n",
       "      <td>1.03055</td>\n",
       "      <td>1.03229</td>\n",
       "      <td>1.03006</td>\n",
       "      <td>1.03187</td>\n",
       "    </tr>\n",
       "    <tr>\n",
       "      <th>3999</th>\n",
       "      <td>2025-02-11 10:00:00+00:00</td>\n",
       "      <td>22832</td>\n",
       "      <td>1.03180</td>\n",
       "      <td>1.03288</td>\n",
       "      <td>1.03144</td>\n",
       "      <td>1.03225</td>\n",
       "      <td>1.03173</td>\n",
       "      <td>1.03281</td>\n",
       "      <td>1.03137</td>\n",
       "      <td>1.03217</td>\n",
       "      <td>1.03187</td>\n",
       "      <td>1.03296</td>\n",
       "      <td>1.03151</td>\n",
       "      <td>1.03233</td>\n",
       "    </tr>\n",
       "  </tbody>\n",
       "</table>\n",
       "</div>"
      ],
      "text/plain": [
       "                          time  volume    mid_o    mid_h    mid_l    mid_c  \\\n",
       "3995 2025-02-10 18:00:00+00:00   10091  1.03124  1.03162  1.03050  1.03070   \n",
       "3996 2025-02-10 22:00:00+00:00    9642  1.03092  1.03103  1.02984  1.03020   \n",
       "3997 2025-02-11 02:00:00+00:00   12474  1.03020  1.03060  1.02922  1.03047   \n",
       "3998 2025-02-11 06:00:00+00:00   24376  1.03047  1.03221  1.02998  1.03180   \n",
       "3999 2025-02-11 10:00:00+00:00   22832  1.03180  1.03288  1.03144  1.03225   \n",
       "\n",
       "        bid_o    bid_h    bid_l    bid_c    ask_o    ask_h    ask_l    ask_c  \n",
       "3995  1.03116  1.03155  1.03043  1.03062  1.03131  1.03169  1.03058  1.03079  \n",
       "3996  1.03073  1.03086  1.02976  1.03013  1.03111  1.03122  1.02992  1.03028  \n",
       "3997  1.03012  1.03052  1.02914  1.03038  1.03028  1.03069  1.02929  1.03056  \n",
       "3998  1.03039  1.03214  1.02989  1.03172  1.03055  1.03229  1.03006  1.03187  \n",
       "3999  1.03173  1.03281  1.03137  1.03217  1.03187  1.03296  1.03151  1.03233  "
      ]
     },
     "execution_count": 3,
     "metadata": {},
     "output_type": "execute_result"
    }
   ],
   "source": [
    "df.tail()\n"
   ]
  },
  {
   "cell_type": "code",
   "execution_count": 4,
   "metadata": {},
   "outputs": [],
   "source": [
    "df_plot = df.iloc[:100] "
   ]
  },
  {
   "cell_type": "code",
   "execution_count": 5,
   "metadata": {},
   "outputs": [
    {
     "data": {
      "application/vnd.plotly.v1+json": {
       "config": {
        "plotlyServerURL": "https://plot.ly"
       },
       "data": [
        {
         "close": {
          "bdata": "2ubG9IQl8D/a5sb0hCXwPxMsDmd+NfA/nL8JhQg48D+/fR04Z0TwP14R/G8lO/A/9+RhodY08D9qwYu+gjTwPzIge737Y/A/Pbg7a7dd8D/Du1zEd2LwP+qymNh8XPA/hj3t8Ndk8D/d0mpI3GPwPztwzojSXvA/LSEf9GxW8D8DWyVYHE7wP+7rwDkjSvA/lPYGX5hM8D/s+gW7YVvwP671RUJbTvA/BoGVQ4ts8D+1/SsrTUrwP1j/5zBfXvA/wARu3c1T8D/u68A5I0rwP+ZciqvKPvA/eH+8V61M8D/lCu9yEV/wP2OXqN4aWPA/Jqq3BrZK8D8wgVt381TwP+wS1VsDW/A/26LMBplk8D9f7/54r1rwP9CbilQYW/A/dXYyOEpe8D8GKuPfZ1zwP9obfGEyVfA/IsMq3sg88D/5FADjGTTwP3LhQEgWMPA/ml/NAYI58D/LLa2GxD3wP9IdxM4UOvA/JlMFo5I68D8FxY8xdy3wP4ums5PBUfA/6lvmdFlM8D+JXkax3FLwP37GhQMhWfA/FytqMA1D8D/GbTSAt0DwP1UYWwhyUPA/cF8HzhlR8D8vUb01sFXwP1/v/nivWvA/f4eiQJ9I8D/iOzHrxVDwP3fWbrvQXPA/XwfOGVFa8D9dp5GWylvwPw1xrIvbaPA/G4F4Xb9g8D8AkX77OnDwP7SrkPKTavA/9kArMGR18D+QFJFhFW/wP4rNx7WhYvA/LQlQU8tW8D8A4xk09E/wP07RkVz+Q/A/qfbpeMxA8D8jSnuDL0zwP3dn7bYLTfA/B9MwfERM8D+vzjEgez3wP4Vf6udNRfA/wa27eapD8D9QATCeQUPwP3QHsTOFTvA/d2fttgtN8D/FG5lH/mDwPzDYDdsWZfA/Olj/5zBf8D/HSzeJQWDwPwhagSGrW/A/ODKP/MFA8D/QRNjw9ErwP7X9KytNSvA/FeP8TShE8D/O/GoOEEzwP8pUwaikTvA/jL6CNGNR8D//ykqTUlDwP+WbbW5MT/A/A0NWt3pO8D+PNo5Yi0/wP1IP0egOYvA/4XoUrkdh8D8=",
          "dtype": "f8"
         },
         "high": {
          "bdata": "RuuoaoIo8D8e3J212y7wP5NvtrkxPfA/DvPlBdhH8D+KdhVSflLwP9TUsrW+SPA/sOYAwRw98D/Q7SWN0TrwP4B9dOrKZ/A/kUQvo1hu8D8j+N9KdmzwPzIge737Y/A/EjElkuhl8D9olgSoqWXwP1X2XRH8b/A/umsJ+aBn8D+ojH+fcWHwPx6KAn0iT/A/5ZttbkxP8D+VZYhjXVzwPx8RUyKJXvA/NQcI5uhx8D/iAWVTrnDwP3ReY5eoXvA/PIidKXRe8D+hLedSXFXwP7oUV5V9V/A/4jsx68VQ8D9i1ouhnGjwP8UDyqZcYfA/7lpCPuhZ8D+BPpEnSVfwP3am0HmNXfA/fQVpxqJp8D8qAMYzaGjwPyBB8WPMXfA/yHvVyoRf8D9K7xtfe2bwPxuBeF2/YPA/vqQxWkdV8D+RD3o2qz7wP9gN2xZlNvA/e4hGdxA78D8D7KNTVz7wP3AIVWr2QPA/9dvXgXNG8D/mdFlMbD7wPyYZOQt7WvA/Zd8Vwf9W8D9dv2A3bFvwPwA6zJcXYPA/8KKvIM1Y8D9JERlW8UbwP/1qDhDMUfA/F4IclDBT8D9cj8L1KFzwP4BlpUkpaPA/vyuC/61k8D8QejarPlfwPz7o2az6XPA/IoleRrFc8D+lLEMc62LwP3b9gt2wbfA/H2gFhqxu8D83T3XIzXDwP8ai6exkcPA/1QloImx48D/ayeAoeXXwP/5IERlWcfA/26LMBplk8D84+MJkqmDwP3GPpQ9dUPA/gv+tZMdG8D+srdhfdk/wPx+6oL5lTvA/g4b+CS5W8D8/kSdJ10zwP9c07zhFR/A/gy9MpgpG8D+cFrzoK0jwP482jliLT/A/cF8HzhlR8D81mIbhI2LwP0eP39v0Z/A/ngyOkldn8D+nXOFdLmLwP26GG/D5YfA/p3Sw/s9h8D+wVYLF4UzwPzsBTYQNT/A/C3va4a9J8D8jSnuDL0zwP9VbA1slWPA/+yKhLedS8D8Jih9j7lrwPzGx+bg2VPA/w2SqYFRS8D+M1lHVBFHwP05/9iNFZPA/2nIuxVVl8D8=",
          "dtype": "f8"
         },
         "line": {
          "width": 1
         },
         "low": {
          "bdata": "jukJSzwg8D9rmnecoiPwP6gY529CIfA/VDpY/+cw8D+mD11Q3zLwP0T67evAOfA/MdP2r6w08D83ww34/DDwP2rZWl8kNPA/Crq9pDFa8D9aL4Zyol3wP+0qpPykWvA/BhIUP8Zc8D/mIr4Ts17wP5kNMsnIWfA/LJrOTgZH8D+zzY3pCUvwPzp6/N6mP/A/RrHc0mpI8D+YhuEjYkrwP6Cmlq31RfA/TtGRXP5D8D87qpog6j7wP/J7m/7sR/A/bM8sCVBT8D+1FfvL7knwP4UIOIQqNfA/JlMFo5I68D+atn9lpUnwPz1JumbyTfA/QiECDqFK8D9gsBu2LUrwP0WBPpEnSfA/K8HicOZX8D9szywJUFPwP52dDI6SV/A/KpFEL6NY8D9dv2A3bFvwPxea6zTSUvA/Haz/c5gv8D/rrYGtEizwP1jKMsSxLvA/ATW1bK0v8D8OhGQBEzjwP8Ama9RDNPA/uAa2SrA48D/yzTY3pifwP3kB9tGpK/A/RFGgT+RJ8D9eaK7TSEvwP5YmpaDbS/A/WMoyxLEu8D+k374OnDPwP8i1oWKcP/A/dk8eFmpN8D88MevFUE7wP6W9wRcmU/A/nUZaKm9H8D95WKg1zTvwP1dgyOpWT/A/MbH5uDZU8D9/9iNFZFjwP/MC7KNTV/A/QBh47j1c8D931m670FzwP9uizAaZZPA/8PlhhPBo8D+0k8FR8mrwP9VbA1slWPA/+KqVCb9U8D/RdHYyOErwP6VmD7QCQ/A/PQrXo3A98D9xOPOrOUDwP+VEuwopP/A/t0WZDTJJ8D9uUWaDTDLwPwZM4NbdPPA/5US7Cik/8D/9E1ysqEHwP46vPbMkQPA/b9i2KLNB8D+71XPS+0bwPzyInSl0XvA/rTQpBd1e8D/L2xFOC17wP5olAWpqWfA/5US7Cik/8D/ulA7W/znwP0op6PaSRvA/GqN1VDVB8D8ziuWWVkPwP2e4AZ8fRvA/ZohjXdxG8D9YqDXNO07wP3mvWpnwS/A/BYvDmV9N8D8hAg6hSk3wP8k88gcDT/A/DkqYaftX8D8=",
          "dtype": "f8"
         },
         "opacity": 1,
         "open": {
          "bdata": "3o5wWvAi8D9LqyFxjyXwP0urIXGPJfA/EywOZ3418D+ASL99HTjwPzFCeLRxRPA/JlMFo5I68D/35GGh1jTwP9uF5jqNNPA/h22LMhtk8D9aL4Zyol3wPzSAt0CCYvA/d76fGi9d8D8w2A3bFmXwP2sOEMzRY/A/O3DOiNJe8D9KmGn7V1bwPyDSb18HTvA/YviImBJJ8D9bCHJQwkzwPwhyUMJMW/A/H7qgvmVO8D8/bypSYWzwP3wPlxx3SvA/Pbg7a7dd8D9PQBNhw1PwP3wnZr0YSvA/dJgvL8A+8D94f7xXrUzwP1fPSe8bX/A/ufyH9NtX8D8mqrcGtkrwP034pX7eVPA/7BLVWwNb8D9q3nGKjmTwP3tmSYCaWvA/7lpCPuhZ8D91djI4Sl7wP+qymNh8XPA/TODW3TxV8D8/OnXlszzwPzIDlfHvM/A/ATW1bK0v8D/TTWIQWDnwP8strYbEPfA/7pQO1v858D+YF2AfnTrwP+hNRSqMLfA/4QuTqYJR8D9cIEHxY0zwP23n+6nxUvA/8KKvIM1Y8D+J78SsF0PwP+LkfoeiQPA/GyrG+ZtQ8D/+mqxRD1HwP6AVGLK6VfA/Qni0ccRa8D8Nw0fElEjwP43uIHamUPA/DAIrhxZZ8D/uQnOdRlrwPyTRyyiWW/A/8PlhhPBo8D8bgXhdv2DwP+MZNPRPcPA/JVgczvxq8D/ayeAoeXXwPx5QNuUKb/A/w7tcxHdi8D+fzarP1VbwPznRrkLKT/A/+YOB595D8D/+Q/rt60DwPyNKe4MvTPA/BaOSOgFN8D8jSnuDL0zwPz0K16NwPfA/TtGRXP5D8D9rYKsEi0PwP9481SE3Q/A/A0NWt3pO8D9a8KKvIE3wP3DOiNLeYPA/aK7TSEtl8D86WP/nMF/wP8dLN4lBYPA/CFqBIatb8D9UqdkDrUDwP+27IvjfSvA/gLdAguJH8D+jHqLRHUTwP0DBxYoaTPA/ylTBqKRO8D/9gt2wbVHwP3GPpQ9dUPA/V3iXi/hO8D/mywuwj07wP6yt2F92T/A/w9MrZRli8D8=",
          "dtype": "f8"
         },
         "type": "candlestick",
         "x": [
          "2022-07-17T21:00:00+00:00",
          "2022-07-18T01:00:00+00:00",
          "2022-07-18T05:00:00+00:00",
          "2022-07-18T09:00:00+00:00",
          "2022-07-18T13:00:00+00:00",
          "2022-07-18T17:00:00+00:00",
          "2022-07-18T21:00:00+00:00",
          "2022-07-19T01:00:00+00:00",
          "2022-07-19T05:00:00+00:00",
          "2022-07-19T09:00:00+00:00",
          "2022-07-19T13:00:00+00:00",
          "2022-07-19T17:00:00+00:00",
          "2022-07-19T21:00:00+00:00",
          "2022-07-20T01:00:00+00:00",
          "2022-07-20T05:00:00+00:00",
          "2022-07-20T09:00:00+00:00",
          "2022-07-20T13:00:00+00:00",
          "2022-07-20T17:00:00+00:00",
          "2022-07-20T21:00:00+00:00",
          "2022-07-21T01:00:00+00:00",
          "2022-07-21T05:00:00+00:00",
          "2022-07-21T09:00:00+00:00",
          "2022-07-21T13:00:00+00:00",
          "2022-07-21T17:00:00+00:00",
          "2022-07-21T21:00:00+00:00",
          "2022-07-22T01:00:00+00:00",
          "2022-07-22T05:00:00+00:00",
          "2022-07-22T09:00:00+00:00",
          "2022-07-22T13:00:00+00:00",
          "2022-07-22T17:00:00+00:00",
          "2022-07-24T21:00:00+00:00",
          "2022-07-25T01:00:00+00:00",
          "2022-07-25T05:00:00+00:00",
          "2022-07-25T09:00:00+00:00",
          "2022-07-25T13:00:00+00:00",
          "2022-07-25T17:00:00+00:00",
          "2022-07-25T21:00:00+00:00",
          "2022-07-26T01:00:00+00:00",
          "2022-07-26T05:00:00+00:00",
          "2022-07-26T09:00:00+00:00",
          "2022-07-26T13:00:00+00:00",
          "2022-07-26T17:00:00+00:00",
          "2022-07-26T21:00:00+00:00",
          "2022-07-27T01:00:00+00:00",
          "2022-07-27T05:00:00+00:00",
          "2022-07-27T09:00:00+00:00",
          "2022-07-27T13:00:00+00:00",
          "2022-07-27T17:00:00+00:00",
          "2022-07-27T21:00:00+00:00",
          "2022-07-28T01:00:00+00:00",
          "2022-07-28T05:00:00+00:00",
          "2022-07-28T09:00:00+00:00",
          "2022-07-28T13:00:00+00:00",
          "2022-07-28T17:00:00+00:00",
          "2022-07-28T21:00:00+00:00",
          "2022-07-29T01:00:00+00:00",
          "2022-07-29T05:00:00+00:00",
          "2022-07-29T09:00:00+00:00",
          "2022-07-29T13:00:00+00:00",
          "2022-07-29T17:00:00+00:00",
          "2022-07-31T21:00:00+00:00",
          "2022-08-01T01:00:00+00:00",
          "2022-08-01T05:00:00+00:00",
          "2022-08-01T09:00:00+00:00",
          "2022-08-01T13:00:00+00:00",
          "2022-08-01T17:00:00+00:00",
          "2022-08-01T21:00:00+00:00",
          "2022-08-02T01:00:00+00:00",
          "2022-08-02T05:00:00+00:00",
          "2022-08-02T09:00:00+00:00",
          "2022-08-02T13:00:00+00:00",
          "2022-08-02T17:00:00+00:00",
          "2022-08-02T21:00:00+00:00",
          "2022-08-03T01:00:00+00:00",
          "2022-08-03T05:00:00+00:00",
          "2022-08-03T09:00:00+00:00",
          "2022-08-03T13:00:00+00:00",
          "2022-08-03T17:00:00+00:00",
          "2022-08-03T21:00:00+00:00",
          "2022-08-04T01:00:00+00:00",
          "2022-08-04T05:00:00+00:00",
          "2022-08-04T09:00:00+00:00",
          "2022-08-04T13:00:00+00:00",
          "2022-08-04T17:00:00+00:00",
          "2022-08-04T21:00:00+00:00",
          "2022-08-05T01:00:00+00:00",
          "2022-08-05T05:00:00+00:00",
          "2022-08-05T09:00:00+00:00",
          "2022-08-05T13:00:00+00:00",
          "2022-08-05T17:00:00+00:00",
          "2022-08-07T21:00:00+00:00",
          "2022-08-08T01:00:00+00:00",
          "2022-08-08T05:00:00+00:00",
          "2022-08-08T09:00:00+00:00",
          "2022-08-08T13:00:00+00:00",
          "2022-08-08T17:00:00+00:00",
          "2022-08-08T21:00:00+00:00",
          "2022-08-09T01:00:00+00:00",
          "2022-08-09T05:00:00+00:00",
          "2022-08-09T09:00:00+00:00"
         ]
        }
       ],
       "layout": {
        "font": {
         "color": "#e1e1e1",
         "size": 8
        },
        "height": 400,
        "margin": {
         "b": 10,
         "l": 10,
         "r": 10,
         "t": 10
        },
        "paper_bgcolor": "#2c303c",
        "plot_bgcolor": "#2c303c",
        "template": {
         "data": {
          "bar": [
           {
            "error_x": {
             "color": "#2a3f5f"
            },
            "error_y": {
             "color": "#2a3f5f"
            },
            "marker": {
             "line": {
              "color": "#E5ECF6",
              "width": 0.5
             },
             "pattern": {
              "fillmode": "overlay",
              "size": 10,
              "solidity": 0.2
             }
            },
            "type": "bar"
           }
          ],
          "barpolar": [
           {
            "marker": {
             "line": {
              "color": "#E5ECF6",
              "width": 0.5
             },
             "pattern": {
              "fillmode": "overlay",
              "size": 10,
              "solidity": 0.2
             }
            },
            "type": "barpolar"
           }
          ],
          "carpet": [
           {
            "aaxis": {
             "endlinecolor": "#2a3f5f",
             "gridcolor": "white",
             "linecolor": "white",
             "minorgridcolor": "white",
             "startlinecolor": "#2a3f5f"
            },
            "baxis": {
             "endlinecolor": "#2a3f5f",
             "gridcolor": "white",
             "linecolor": "white",
             "minorgridcolor": "white",
             "startlinecolor": "#2a3f5f"
            },
            "type": "carpet"
           }
          ],
          "choropleth": [
           {
            "colorbar": {
             "outlinewidth": 0,
             "ticks": ""
            },
            "type": "choropleth"
           }
          ],
          "contour": [
           {
            "colorbar": {
             "outlinewidth": 0,
             "ticks": ""
            },
            "colorscale": [
             [
              0,
              "#0d0887"
             ],
             [
              0.1111111111111111,
              "#46039f"
             ],
             [
              0.2222222222222222,
              "#7201a8"
             ],
             [
              0.3333333333333333,
              "#9c179e"
             ],
             [
              0.4444444444444444,
              "#bd3786"
             ],
             [
              0.5555555555555556,
              "#d8576b"
             ],
             [
              0.6666666666666666,
              "#ed7953"
             ],
             [
              0.7777777777777778,
              "#fb9f3a"
             ],
             [
              0.8888888888888888,
              "#fdca26"
             ],
             [
              1,
              "#f0f921"
             ]
            ],
            "type": "contour"
           }
          ],
          "contourcarpet": [
           {
            "colorbar": {
             "outlinewidth": 0,
             "ticks": ""
            },
            "type": "contourcarpet"
           }
          ],
          "heatmap": [
           {
            "colorbar": {
             "outlinewidth": 0,
             "ticks": ""
            },
            "colorscale": [
             [
              0,
              "#0d0887"
             ],
             [
              0.1111111111111111,
              "#46039f"
             ],
             [
              0.2222222222222222,
              "#7201a8"
             ],
             [
              0.3333333333333333,
              "#9c179e"
             ],
             [
              0.4444444444444444,
              "#bd3786"
             ],
             [
              0.5555555555555556,
              "#d8576b"
             ],
             [
              0.6666666666666666,
              "#ed7953"
             ],
             [
              0.7777777777777778,
              "#fb9f3a"
             ],
             [
              0.8888888888888888,
              "#fdca26"
             ],
             [
              1,
              "#f0f921"
             ]
            ],
            "type": "heatmap"
           }
          ],
          "histogram": [
           {
            "marker": {
             "pattern": {
              "fillmode": "overlay",
              "size": 10,
              "solidity": 0.2
             }
            },
            "type": "histogram"
           }
          ],
          "histogram2d": [
           {
            "colorbar": {
             "outlinewidth": 0,
             "ticks": ""
            },
            "colorscale": [
             [
              0,
              "#0d0887"
             ],
             [
              0.1111111111111111,
              "#46039f"
             ],
             [
              0.2222222222222222,
              "#7201a8"
             ],
             [
              0.3333333333333333,
              "#9c179e"
             ],
             [
              0.4444444444444444,
              "#bd3786"
             ],
             [
              0.5555555555555556,
              "#d8576b"
             ],
             [
              0.6666666666666666,
              "#ed7953"
             ],
             [
              0.7777777777777778,
              "#fb9f3a"
             ],
             [
              0.8888888888888888,
              "#fdca26"
             ],
             [
              1,
              "#f0f921"
             ]
            ],
            "type": "histogram2d"
           }
          ],
          "histogram2dcontour": [
           {
            "colorbar": {
             "outlinewidth": 0,
             "ticks": ""
            },
            "colorscale": [
             [
              0,
              "#0d0887"
             ],
             [
              0.1111111111111111,
              "#46039f"
             ],
             [
              0.2222222222222222,
              "#7201a8"
             ],
             [
              0.3333333333333333,
              "#9c179e"
             ],
             [
              0.4444444444444444,
              "#bd3786"
             ],
             [
              0.5555555555555556,
              "#d8576b"
             ],
             [
              0.6666666666666666,
              "#ed7953"
             ],
             [
              0.7777777777777778,
              "#fb9f3a"
             ],
             [
              0.8888888888888888,
              "#fdca26"
             ],
             [
              1,
              "#f0f921"
             ]
            ],
            "type": "histogram2dcontour"
           }
          ],
          "mesh3d": [
           {
            "colorbar": {
             "outlinewidth": 0,
             "ticks": ""
            },
            "type": "mesh3d"
           }
          ],
          "parcoords": [
           {
            "line": {
             "colorbar": {
              "outlinewidth": 0,
              "ticks": ""
             }
            },
            "type": "parcoords"
           }
          ],
          "pie": [
           {
            "automargin": true,
            "type": "pie"
           }
          ],
          "scatter": [
           {
            "fillpattern": {
             "fillmode": "overlay",
             "size": 10,
             "solidity": 0.2
            },
            "type": "scatter"
           }
          ],
          "scatter3d": [
           {
            "line": {
             "colorbar": {
              "outlinewidth": 0,
              "ticks": ""
             }
            },
            "marker": {
             "colorbar": {
              "outlinewidth": 0,
              "ticks": ""
             }
            },
            "type": "scatter3d"
           }
          ],
          "scattercarpet": [
           {
            "marker": {
             "colorbar": {
              "outlinewidth": 0,
              "ticks": ""
             }
            },
            "type": "scattercarpet"
           }
          ],
          "scattergeo": [
           {
            "marker": {
             "colorbar": {
              "outlinewidth": 0,
              "ticks": ""
             }
            },
            "type": "scattergeo"
           }
          ],
          "scattergl": [
           {
            "marker": {
             "colorbar": {
              "outlinewidth": 0,
              "ticks": ""
             }
            },
            "type": "scattergl"
           }
          ],
          "scattermap": [
           {
            "marker": {
             "colorbar": {
              "outlinewidth": 0,
              "ticks": ""
             }
            },
            "type": "scattermap"
           }
          ],
          "scattermapbox": [
           {
            "marker": {
             "colorbar": {
              "outlinewidth": 0,
              "ticks": ""
             }
            },
            "type": "scattermapbox"
           }
          ],
          "scatterpolar": [
           {
            "marker": {
             "colorbar": {
              "outlinewidth": 0,
              "ticks": ""
             }
            },
            "type": "scatterpolar"
           }
          ],
          "scatterpolargl": [
           {
            "marker": {
             "colorbar": {
              "outlinewidth": 0,
              "ticks": ""
             }
            },
            "type": "scatterpolargl"
           }
          ],
          "scatterternary": [
           {
            "marker": {
             "colorbar": {
              "outlinewidth": 0,
              "ticks": ""
             }
            },
            "type": "scatterternary"
           }
          ],
          "surface": [
           {
            "colorbar": {
             "outlinewidth": 0,
             "ticks": ""
            },
            "colorscale": [
             [
              0,
              "#0d0887"
             ],
             [
              0.1111111111111111,
              "#46039f"
             ],
             [
              0.2222222222222222,
              "#7201a8"
             ],
             [
              0.3333333333333333,
              "#9c179e"
             ],
             [
              0.4444444444444444,
              "#bd3786"
             ],
             [
              0.5555555555555556,
              "#d8576b"
             ],
             [
              0.6666666666666666,
              "#ed7953"
             ],
             [
              0.7777777777777778,
              "#fb9f3a"
             ],
             [
              0.8888888888888888,
              "#fdca26"
             ],
             [
              1,
              "#f0f921"
             ]
            ],
            "type": "surface"
           }
          ],
          "table": [
           {
            "cells": {
             "fill": {
              "color": "#EBF0F8"
             },
             "line": {
              "color": "white"
             }
            },
            "header": {
             "fill": {
              "color": "#C8D4E3"
             },
             "line": {
              "color": "white"
             }
            },
            "type": "table"
           }
          ]
         },
         "layout": {
          "annotationdefaults": {
           "arrowcolor": "#2a3f5f",
           "arrowhead": 0,
           "arrowwidth": 1
          },
          "autotypenumbers": "strict",
          "coloraxis": {
           "colorbar": {
            "outlinewidth": 0,
            "ticks": ""
           }
          },
          "colorscale": {
           "diverging": [
            [
             0,
             "#8e0152"
            ],
            [
             0.1,
             "#c51b7d"
            ],
            [
             0.2,
             "#de77ae"
            ],
            [
             0.3,
             "#f1b6da"
            ],
            [
             0.4,
             "#fde0ef"
            ],
            [
             0.5,
             "#f7f7f7"
            ],
            [
             0.6,
             "#e6f5d0"
            ],
            [
             0.7,
             "#b8e186"
            ],
            [
             0.8,
             "#7fbc41"
            ],
            [
             0.9,
             "#4d9221"
            ],
            [
             1,
             "#276419"
            ]
           ],
           "sequential": [
            [
             0,
             "#0d0887"
            ],
            [
             0.1111111111111111,
             "#46039f"
            ],
            [
             0.2222222222222222,
             "#7201a8"
            ],
            [
             0.3333333333333333,
             "#9c179e"
            ],
            [
             0.4444444444444444,
             "#bd3786"
            ],
            [
             0.5555555555555556,
             "#d8576b"
            ],
            [
             0.6666666666666666,
             "#ed7953"
            ],
            [
             0.7777777777777778,
             "#fb9f3a"
            ],
            [
             0.8888888888888888,
             "#fdca26"
            ],
            [
             1,
             "#f0f921"
            ]
           ],
           "sequentialminus": [
            [
             0,
             "#0d0887"
            ],
            [
             0.1111111111111111,
             "#46039f"
            ],
            [
             0.2222222222222222,
             "#7201a8"
            ],
            [
             0.3333333333333333,
             "#9c179e"
            ],
            [
             0.4444444444444444,
             "#bd3786"
            ],
            [
             0.5555555555555556,
             "#d8576b"
            ],
            [
             0.6666666666666666,
             "#ed7953"
            ],
            [
             0.7777777777777778,
             "#fb9f3a"
            ],
            [
             0.8888888888888888,
             "#fdca26"
            ],
            [
             1,
             "#f0f921"
            ]
           ]
          },
          "colorway": [
           "#636efa",
           "#EF553B",
           "#00cc96",
           "#ab63fa",
           "#FFA15A",
           "#19d3f3",
           "#FF6692",
           "#B6E880",
           "#FF97FF",
           "#FECB52"
          ],
          "font": {
           "color": "#2a3f5f"
          },
          "geo": {
           "bgcolor": "white",
           "lakecolor": "white",
           "landcolor": "#E5ECF6",
           "showlakes": true,
           "showland": true,
           "subunitcolor": "white"
          },
          "hoverlabel": {
           "align": "left"
          },
          "hovermode": "closest",
          "mapbox": {
           "style": "light"
          },
          "paper_bgcolor": "white",
          "plot_bgcolor": "#E5ECF6",
          "polar": {
           "angularaxis": {
            "gridcolor": "white",
            "linecolor": "white",
            "ticks": ""
           },
           "bgcolor": "#E5ECF6",
           "radialaxis": {
            "gridcolor": "white",
            "linecolor": "white",
            "ticks": ""
           }
          },
          "scene": {
           "xaxis": {
            "backgroundcolor": "#E5ECF6",
            "gridcolor": "white",
            "gridwidth": 2,
            "linecolor": "white",
            "showbackground": true,
            "ticks": "",
            "zerolinecolor": "white"
           },
           "yaxis": {
            "backgroundcolor": "#E5ECF6",
            "gridcolor": "white",
            "gridwidth": 2,
            "linecolor": "white",
            "showbackground": true,
            "ticks": "",
            "zerolinecolor": "white"
           },
           "zaxis": {
            "backgroundcolor": "#E5ECF6",
            "gridcolor": "white",
            "gridwidth": 2,
            "linecolor": "white",
            "showbackground": true,
            "ticks": "",
            "zerolinecolor": "white"
           }
          },
          "shapedefaults": {
           "line": {
            "color": "#2a3f5f"
           }
          },
          "ternary": {
           "aaxis": {
            "gridcolor": "white",
            "linecolor": "white",
            "ticks": ""
           },
           "baxis": {
            "gridcolor": "white",
            "linecolor": "white",
            "ticks": ""
           },
           "bgcolor": "#E5ECF6",
           "caxis": {
            "gridcolor": "white",
            "linecolor": "white",
            "ticks": ""
           }
          },
          "title": {
           "x": 0.05
          },
          "xaxis": {
           "automargin": true,
           "gridcolor": "white",
           "linecolor": "white",
           "ticks": "",
           "title": {
            "standoff": 15
           },
           "zerolinecolor": "white",
           "zerolinewidth": 2
          },
          "yaxis": {
           "automargin": true,
           "gridcolor": "white",
           "linecolor": "white",
           "ticks": "",
           "title": {
            "standoff": 15
           },
           "zerolinecolor": "white",
           "zerolinewidth": 2
          }
         }
        },
        "width": 900,
        "yaxis": {
         "gridcolor": "#1f292f"
        }
       }
      }
     },
     "metadata": {},
     "output_type": "display_data"
    }
   ],
   "source": [
    "fig = go.Figure()\n",
    "fig.add_trace(go.Candlestick(\n",
    "    x=df_plot.time,\n",
    "    open=df_plot.mid_o,\n",
    "    high=df_plot.mid_h,\n",
    "    low=df_plot.mid_l,\n",
    "    close=df_plot.mid_c,\n",
    "    line=dict(width=1), opacity=1\n",
    "))\n",
    "\n",
    "fig.update_yaxes(\n",
    "    gridcolor=\"#1f292f\",\n",
    ")\n",
    "\n",
    "\n",
    "fig.update_layout(\n",
    "    width=900,\n",
    "    height=400,\n",
    "    margin=dict(l=10,r=10,b=10,t=10),\n",
    "    paper_bgcolor=\"#2c303c\",\n",
    "    plot_bgcolor=\"#2c303c\",\n",
    "    font=dict(size=8, color=\"#e1e1e1\")\n",
    ")\n",
    "\n",
    "fig.show()\n"
   ]
  },
  {
   "cell_type": "code",
   "execution_count": null,
   "metadata": {},
   "outputs": [],
   "source": []
  },
  {
   "cell_type": "code",
   "execution_count": null,
   "metadata": {},
   "outputs": [],
   "source": []
  }
 ],
 "metadata": {
  "kernelspec": {
   "display_name": "venv",
   "language": "python",
   "name": "python3"
  },
  "language_info": {
   "codemirror_mode": {
    "name": "ipython",
    "version": 3
   },
   "file_extension": ".py",
   "mimetype": "text/x-python",
   "name": "python",
   "nbconvert_exporter": "python",
   "pygments_lexer": "ipython3",
   "version": "3.11.9"
  }
 },
 "nbformat": 4,
 "nbformat_minor": 2
}
